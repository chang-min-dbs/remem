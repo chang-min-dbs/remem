{
  "nbformat": 4,
  "nbformat_minor": 0,
  "metadata": {
    "colab": {
      "provenance": [],
      "authorship_tag": "ABX9TyOQAlJ9VQ9xCNaAxnvZCuV/",
      "include_colab_link": true
    },
    "kernelspec": {
      "name": "python3",
      "display_name": "Python 3"
    },
    "language_info": {
      "name": "python"
    }
  },
  "cells": [
    {
      "cell_type": "markdown",
      "metadata": {
        "id": "view-in-github",
        "colab_type": "text"
      },
      "source": [
        "<a href=\"https://colab.research.google.com/github/chang-min-dbs/remem/blob/python_summer/day08.ipynb\" target=\"_parent\"><img src=\"https://colab.research.google.com/assets/colab-badge.svg\" alt=\"Open In Colab\"/></a>"
      ]
    },
    {
      "cell_type": "code",
      "execution_count": null,
      "metadata": {
        "colab": {
          "base_uri": "https://localhost:8080/",
          "height": 273
        },
        "id": "T4SIZRfMBheN",
        "outputId": "d41056ac-d049-4c91-e179-e697e16b5a12"
      },
      "outputs": [
        {
          "output_type": "stream",
          "name": "stdout",
          "text": [
            "pygame 2.6.0 (SDL 2.28.4, Python 3.10.12)\n",
            "Hello from the pygame community. https://www.pygame.org/contribute.html\n"
          ]
        },
        {
          "output_type": "error",
          "ename": "AttributeError",
          "evalue": "module 'pygame' has no attribute 'set_mode'",
          "traceback": [
            "\u001b[0;31m---------------------------------------------------------------------------\u001b[0m",
            "\u001b[0;31mAttributeError\u001b[0m                            Traceback (most recent call last)",
            "\u001b[0;32m<ipython-input-2-6bf5ca222b0e>\u001b[0m in \u001b[0;36m<cell line: 14>\u001b[0;34m()\u001b[0m\n\u001b[1;32m     12\u001b[0m \u001b[0;31m#화면 설정\u001b[0m\u001b[0;34m\u001b[0m\u001b[0;34m\u001b[0m\u001b[0m\n\u001b[1;32m     13\u001b[0m \u001b[0;34m\u001b[0m\u001b[0m\n\u001b[0;32m---> 14\u001b[0;31m \u001b[0mscreen\u001b[0m \u001b[0;34m=\u001b[0m \u001b[0mpygame\u001b[0m\u001b[0;34m.\u001b[0m\u001b[0mset_mode\u001b[0m\u001b[0;34m(\u001b[0m\u001b[0;34m(\u001b[0m\u001b[0mSCREEN_WIDTH\u001b[0m\u001b[0;34m,\u001b[0m \u001b[0mSCREEN_HEIGHT\u001b[0m\u001b[0;34m)\u001b[0m\u001b[0;34m)\u001b[0m  \u001b[0;31m#괄호 두개 있는 코드, 함수()안에 (,)가 있는 것 = 튜플로서 매개변수 역할을한다\u001b[0m\u001b[0;34m\u001b[0m\u001b[0;34m\u001b[0m\u001b[0m\n\u001b[0m\u001b[1;32m     15\u001b[0m \u001b[0mpygame\u001b[0m\u001b[0;34m.\u001b[0m\u001b[0mdisplay\u001b[0m\u001b[0;34m.\u001b[0m\u001b[0mset_caption\u001b[0m\u001b[0;34m(\u001b[0m\u001b[0;34m'To do list'\u001b[0m\u001b[0;34m)\u001b[0m\u001b[0;34m\u001b[0m\u001b[0;34m\u001b[0m\u001b[0m\n\u001b[1;32m     16\u001b[0m \u001b[0mclock\u001b[0m \u001b[0;34m=\u001b[0m \u001b[0mpygame\u001b[0m\u001b[0;34m.\u001b[0m\u001b[0mtime\u001b[0m\u001b[0;34m.\u001b[0m\u001b[0mclock\u001b[0m\u001b[0;34m(\u001b[0m\u001b[0;34m)\u001b[0m \u001b[0;31m#프레임 초기 설정\u001b[0m\u001b[0;34m\u001b[0m\u001b[0;34m\u001b[0m\u001b[0m\n",
            "\u001b[0;31mAttributeError\u001b[0m: module 'pygame' has no attribute 'set_mode'"
          ]
        }
      ],
      "source": [
        "import pygame\n",
        "import os  #컴퓨터에 저장된 디렉터리에 접근해서 현재 경로 혹은 특정 경로에 파일이 있는지 없는지를 검사한다.\n",
        "\n",
        "pygame.init()  #pygame 모듈 초기화  많진않지만 특수하게 인잇을 해야 클래스들을 뽑아 사용할 수 있다.\n",
        "\n",
        "SCREEN_WIDTH = 1000\n",
        "SCREEN_HEIGHT = 600\n",
        "\n",
        "WHITE = (255, 255, 255)\n",
        "BLACK = (0,0,0)\n",
        "\n",
        "#화면 설정\n",
        "\n",
        "screen = pygame.set_mode((SCREEN_WIDTH, SCREEN_HEIGHT))  #괄호 두개 있는 코드, 함수()안에 (,)가 있는 것 = 튜플로서 매개변수 역할을한다\n",
        "pygame.display.set_caption('To do list')\n",
        "clock = pygame.time.clock() #프레임 초기 설정\n",
        "font = pygmae.font.SysFont(\"malgungotic\", 48) #폰트 설정\n",
        "\n",
        "FILE_NAME = \"todolist.txt\" #파일명 상수\n",
        "\n",
        "class TaskManager:\n",
        "  def __init__(self):\n",
        "    self.tasks = self.load_tasks()  #인스턴스 변수, 오른쪽에 함수를 호출시켜 리턴값을 생성자함수에 담는것\n",
        "\n",
        " #load.tasks정의 하기\n",
        "  def load_tasks(self):\n",
        "    if not os.path.exists(FILE_NAME):  #os --> path모듈안에 익시스튼라는 함수가 있다. 보통은 현파일(투두리스트파일)에 위치하는 파일이 있는지를 검사, 있다면 트루가 리턴///하지만 앞에not이있으므로 False가 된다.\n",
        "      return {}                #즉 파일이 없을 때 true이니 이때 빈자료형을 리턴, 이 자료형은 딕셔너리 또는 세트이다. 보통 이렇게 중괄호만 쓰면 딕셔너리가 많이 사용되서 딕셔너리로 인식된다.\n",
        "    with open(FILE_NAME, 'r') as file:   #파일이 있다면 여기로 넘어간다.(ㅃ?)#'r'은 읽기 전용모드를 뜻함# 이 모드로 context를 유지하며 = 현재 작업을 한다는 내용\n",
        "      tasks = {}                #먼저 빈 딕셔너리를 만든 후 한줄씩 읽어오는 것//1: 할일1, 2: 할일2 이렇게 저장됨\n",
        "      for line in file:        #라인 하나는 1: 할일1 이다.\n",
        "        task_id, task_desc = line.strip().split(':', 1)  # 스플릿함수로 : 문자열로 자르는데 1을 넣으면 한번만 자른다 ex) ['봄','여름:가을']/두개로 잘라지니깐 한번에 2개로 넣게 만들었다.\n",
        "        tasks[int(task_id)] = task_desc    #새로운 아이디가 오면 추가가 되게 수정하도록 만\n",
        "      return tasks\n",
        "# 생성자에 할 때 tasks에 담기는 변수가 함수의 리턴값 즉, 비거나 담긴 딕셔너리 값\n"
      ]
    },
    {
      "cell_type": "code",
      "source": [
        "\n",
        "  def save_tasks(self):\n",
        "    with open(FILE_NAME, 'w') as file:              #'w' : 쓰기모드 #파일이 없으면 생성, 파일이 있다면 덮어쓰기\n",
        "      for task_id, task_desc in self.tasks.items():\n",
        "        file.write(f'{task_id}:{task_desc}\\n')\n",
        "#추가\n",
        "  def add_task(self, task_desc):                    #self.tasks.key()는 키들만 리턴함# 새로운 딕셔너리 키를 생성해서\n",
        "    task_id = max(self.tasks.key(), default=0 + 1)  #max함수도 파이썬 기본 값 # max(구조체[,기본])#구조체:리스트나 튜플같은 여러요소 중 특이법?을찾음, 기본값:들어가도되고 안들어가도 되서 디폴트 파라미터로 넣는다.# 구조체 값이 없을경우 0부터 넣어주겠단 소\n",
        "    self.tasks[task_id] = task_desc                 #새 키로 딕셔너리에 추\n",
        "    self.save_tasks()\n",
        "\n",
        "    #삭제와 수정\n",
        "    def delete_task(self,task_id):\n",
        "      if task_id in self.tasks: #딕셔너리에서는 key(만)가 존재하는지 검사\n",
        "        del self.tasks[task_id]\n",
        "        self.save_tasks()\n",
        "\n",
        "    def edit_task(self, task_id, new_desc):\n",
        "      if task_if in self.tasks:\n",
        "        self.tasks[task_id] = new_desc\n",
        "        self.save_tasks()\n",
        "\n",
        "#\n",
        "    def get_task(self, task_id):\n",
        "      return self.tasks.get(task_id) #self.tasks[task_id]와 동일, value만 리턴\n",
        "\n",
        "\n",
        "def draw_text(strr,position=(50,10), color=BLACK):  #blit함수 대신 간편화하기 위한 함 #str로 하면 이미 있는 문자열기능과 겹쳐 에러날 수도\n",
        "  text = font.render(strr, True, color)  #글씨체 객체 만듦\n",
        "  screen.blit(text, position)             #화면에 표시\n",
        "\n",
        "def mainloop():\n",
        "  task_manager = TaskManager()\n",
        "  mode = 'view'\n",
        "\n",
        "  while True:\n",
        "    screen.fill(WHITE)\n",
        "    #mode에 따라 다른 화면 표시\n",
        "    if mode == 'view' : #if문이라 ==두개\n",
        "      draw_text(\"Press 'a' to add, 'd' to delet, 'e' to edit\")       #텍스트 객체 생성 #폰트 설정후 이 문자열로 문자열 객체를 만들고 블릿함수로 스크린에 꽂아줘야하는데 단순화 시킬 것\n",
        "    elif mode == 'add': # 할 일을 추가하는 화면\n",
        "      draw_text(\"Enter new task :\")\n",
        "    elif mode == 'delete': # id로 삭제하는 화면\n",
        "      draw_text(\"Enter ID to delete\")\n",
        "    elif mode == 'edit': #id를 수정하는 화면\n",
        "      pass    #tab으로 구분된 제어문/함수 아래서 아무것도 없어도 에러나는 걸 방지 // 일단은 검사하지말고 지나가달라는 명령어가 없으면 에러가날\n",
        "\n",
        "    # 키보드 이벤트 받기\n",
        "    for event in pygame.event.get():\n",
        "      if event.type == pygame.QUIT:\n",
        "        pygame.quit()\n",
        "\n",
        "      if mode == 'view':  #할 일들을 화면에 띄어놓을 것 그러다 특정한 알파벳을 누르면 모드가 전환되면서 다른창으로 전환되게끔\n",
        "        if event.type == pygame.KEYDOWN: #이벤트 종류\n",
        "          if event.key == pygame.k_a:    #눌린 키보드 키의 종류\n",
        "            mode = 'add'\n",
        "          elif event.key == pygame.k_d:\n",
        "            mode = 'delete'\n",
        "          elif event.key == pygame.k_e:\n",
        "            mode = ' edit'\n",
        "\n",
        "if __name__==\"__main___\":\n",
        "  mainloop()\n",
        "  #48:30"
      ],
      "metadata": {
        "id": "gMNxkN5XnzYx"
      },
      "execution_count": null,
      "outputs": []
    }
  ]
}