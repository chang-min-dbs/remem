{
  "nbformat": 4,
  "nbformat_minor": 0,
  "metadata": {
    "colab": {
      "provenance": [],
      "authorship_tag": "ABX9TyOtbz8QfG6PAUDIn6pnTDXb",
      "include_colab_link": true
    },
    "kernelspec": {
      "name": "python3",
      "display_name": "Python 3"
    },
    "language_info": {
      "name": "python"
    }
  },
  "cells": [
    {
      "cell_type": "markdown",
      "metadata": {
        "id": "view-in-github",
        "colab_type": "text"
      },
      "source": [
        "<a href=\"https://colab.research.google.com/github/chang-min-dbs/remem/blob/python_summer/day07.ipynb\" target=\"_parent\"><img src=\"https://colab.research.google.com/assets/colab-badge.svg\" alt=\"Open In Colab\"/></a>"
      ]
    },
    {
      "cell_type": "code",
      "execution_count": null,
      "metadata": {
        "id": "oZ_VeYHdTixS"
      },
      "outputs": [],
      "source": [
        "#삽입,수정,삭제 ~~~~~~\n",
        "import pygame\n",
        "import os\n",
        "'''\n",
        "pygame.init()\n",
        "\n",
        "SCREEN_WIDTH = 800\n",
        "SCREEN_HEIGHT = 600\n",
        "\n",
        "WHITE = (255, 255, 255)\n",
        "BLACK = (0, 0, 0)\n",
        "\n",
        "font = pygame.font.SysFont('malgungothic', 30)\n",
        "screen = pygame.display.set_mode((SCREEN_WIDTH,SCREEN_HEIGHT))\n",
        "pygame.display.set_caption('To Do List Manager')\n",
        "'''\n",
        "FILE_NAME = \"todo_list.txt\"\n",
        "\n",
        "class TaskManager:\n",
        "    def __init__(self):\n",
        "        self.tasks = {}   #딕셔너리로 tasks관리 할리?들을 불러온다.\n",
        "        self.load_tasks()\n",
        "\n",
        "    def load_tasks(self):\n",
        "        if not os.path.exists(FILE_NAME):    #file_name으로 쓰는걸 상대경로?라고한다.\n",
        "            return {}\n",
        "        with open(FILE_NAME, 'r') as file:      #파일 메소드를 읽기모드로 가져오겠다?\n",
        "            tasks = file.read().splitlines()\n",
        "        for task in tasks:\n",
        "            txt = task.split(':')\n",
        "            self.tasks[txt[0]] = txt[1]      #\n",
        "\n",
        "    def save_tasks(self):\n",
        "        with open(FILE_NAME, 'w') as file:\n",
        "           for key, Value in self.tasks.items():\n",
        "               file.write(f\"{key} : {value}\\n\")  ###############\n",
        "'''\n",
        "    def main_loop():\n",
        "        while True:\n",
        "            for event in pygame.event.get():\n",
        "                if event.type == pygame.QUIT():\n",
        "                    pygame.quit()\n",
        "                elif event.type == pygame.KEYDOWN:\n",
        "                    if event.key == pygame.K_i:\n",
        "                        mode = \"INSERT\"\n",
        "                    elif event.key == pygame.K_u:\n",
        "                        mode = \"UPDATE\"\n",
        "                    elif event.key == pygame.K_d:\n",
        "                        mode = \"DELETE\"\n",
        "'''\n",
        "\n",
        "if __name__ == \"__main__\":                                                     #txet파일 입출력\n",
        "    new_task = \"clean the room\"                                                #파일저장부터\n",
        "    tm = TaskManager()\n",
        "    tm.tasks[1] = new_task\n",
        "    tm.save_tasks()"
      ]
    }
  ]
}