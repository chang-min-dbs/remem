{
  "nbformat": 4,
  "nbformat_minor": 0,
  "metadata": {
    "colab": {
      "provenance": [],
      "authorship_tag": "ABX9TyPU+CoZfb9voGgVqZD3s14K",
      "include_colab_link": true
    },
    "kernelspec": {
      "name": "python3",
      "display_name": "Python 3"
    },
    "language_info": {
      "name": "python"
    }
  },
  "cells": [
    {
      "cell_type": "markdown",
      "metadata": {
        "id": "view-in-github",
        "colab_type": "text"
      },
      "source": [
        "<a href=\"https://colab.research.google.com/github/chang-min-dbs/remem/blob/python_summer/Day02.ipynb\" target=\"_parent\"><img src=\"https://colab.research.google.com/assets/colab-badge.svg\" alt=\"Open In Colab\"/></a>"
      ]
    },
    {
      "cell_type": "code",
      "execution_count": null,
      "metadata": {
        "colab": {
          "base_uri": "https://localhost:8080/"
        },
        "id": "2LIykgynv--0",
        "outputId": "a384d794-f471-4a8d-c830-370af6ab40f0"
      },
      "outputs": [
        {
          "output_type": "stream",
          "name": "stdout",
          "text": [
            "숫자를 입력해주세요!\n",
            "10\n",
            "이 숫자는 10보다 크거나 같습니다\n"
          ]
        }
      ],
      "source": [
        "#if문 예제\n",
        "#입력받은 숫자가 5이상인지, 10 이상인지\n",
        "\n",
        "#여러줄 주석 : '''(작은따옴표 3번)  //밑으로 평행으로 내리며 쓴다 엘리프는 else if와 같은것\n",
        "'''\n",
        "if 조건문 : #괄호도 사용할 수 있음== if()\n",
        "  #\n",
        "elif 조건문 :\n",
        " #\n",
        " else :\n",
        "  #\n",
        "  '''\n",
        "\n",
        "number1 = int(input(\"숫자를 입력해주세요!\\n\"))\n",
        "if number1 >= 10:\n",
        "    print('이 숫자는 10보다 크거나 같습니다')\n",
        "elif number1 >=5:\n",
        "    print('이 숫자는 5보다 크거나 같습니다')\n",
        "else :\n",
        "    print('이 숫자는 5보다 작습니다')"
      ]
    },
    {
      "cell_type": "code",
      "source": [
        "#숫자를 입력받아 2의 배수이거나 5의 배수인 경우 판별해 보기\n",
        "number2 = int(input(\"정수를 입력하세요!\\n\"))\n",
        "\n",
        "if number2 % 5 == 0 or number2 % 2 == 0:   #F가 나온다\n",
        "  print('2의 배수이거나 5의 배수입니다')\n",
        "else:\n",
        "    print('2나 5의 배수가 아닙니다')"
      ],
      "metadata": {
        "colab": {
          "base_uri": "https://localhost:8080/"
        },
        "id": "SE-Fv1nuyKcq",
        "outputId": "682d0eb8-5224-491f-838c-d31c901f7ab0"
      },
      "execution_count": null,
      "outputs": [
        {
          "output_type": "stream",
          "name": "stdout",
          "text": [
            "정수를 입력하세요!\n",
            "7\n",
            "2나 5의 배수가 아닙니다\n"
          ]
        }
      ]
    },
    {
      "cell_type": "code",
      "source": [
        "#number3을 입력받아 짝수인지 판별해 보기\n",
        "number3 = int(input(\"숫자를 입력해주세요!\\n\"))\n",
        "\n",
        "if number3 % 2 ==0:\n",
        "  print(\"짝수입니다\")\n",
        "else\n",
        "print (\"홀수입니다\")"
      ],
      "metadata": {
        "id": "U4QFupHRzAvg"
      },
      "execution_count": null,
      "outputs": []
    },
    {
      "cell_type": "code",
      "source": [
        "#while : 반복문\n",
        "#특정 조건을 만족하는 동안 반복해서 수행\n",
        "#for문과 while문의 차이점은 while문은 조건 수행, for문은 무조건 수행\n",
        "#조건문이 T이기 때문에 계속 돌게 실행된다 --> 무한루프 예시이다\n",
        "\n",
        "while True:\n",
        "# print('Hello!')"
      ],
      "metadata": {
        "colab": {
          "base_uri": "https://localhost:8080/",
          "height": 110
        },
        "id": "ElCMgqNtzfK4",
        "outputId": "7fb2ac7a-05b4-49a1-a1c1-c25a8af9d03a"
      },
      "execution_count": null,
      "outputs": [
        {
          "output_type": "error",
          "ename": "SyntaxError",
          "evalue": "incomplete input (<ipython-input-2-8c34a39a2390>, line 7)",
          "traceback": [
            "\u001b[0;36m  File \u001b[0;32m\"<ipython-input-2-8c34a39a2390>\"\u001b[0;36m, line \u001b[0;32m7\u001b[0m\n\u001b[0;31m    # print('Hello!')\u001b[0m\n\u001b[0m                     ^\u001b[0m\n\u001b[0;31mSyntaxError\u001b[0m\u001b[0;31m:\u001b[0m incomplete input\n"
          ]
        }
      ]
    },
    {
      "cell_type": "code",
      "source": [
        "number4 = 1\n",
        "while number4 <= 10:\n",
        "  print(number4)\n",
        "  number4+= 1 #num4 = num4 + 1"
      ],
      "metadata": {
        "colab": {
          "base_uri": "https://localhost:8080/"
        },
        "id": "zFp373Lrz4gj",
        "outputId": "13a075d5-7036-4811-eb59-b8c2b1ac477d"
      },
      "execution_count": null,
      "outputs": [
        {
          "output_type": "stream",
          "name": "stdout",
          "text": [
            "1\n",
            "2\n",
            "3\n",
            "4\n",
            "5\n",
            "6\n",
            "7\n",
            "8\n",
            "9\n",
            "10\n"
          ]
        }
      ]
    },
    {
      "cell_type": "code",
      "source": [
        "num5 = 10\n",
        "while num5 > 0:\n",
        "  print(num5)\n",
        "  num5 -= 1\n",
        "print('출력 끝!')        #Q. 출력끝이 계속 나온다 A. 마지막 띄어쓰기를 잘못해서 그럼 하지말고 붙여야함"
      ],
      "metadata": {
        "colab": {
          "base_uri": "https://localhost:8080/"
        },
        "id": "3ch8F6Kk0Yur",
        "outputId": "0006990b-21cf-4e2d-95ba-cc8c8d646f7a"
      },
      "execution_count": null,
      "outputs": [
        {
          "output_type": "stream",
          "name": "stdout",
          "text": [
            "10\n",
            "9\n",
            "8\n",
            "7\n",
            "6\n",
            "5\n",
            "4\n",
            "3\n",
            "2\n",
            "1\n",
            "출력 끝!\n"
          ]
        }
      ]
    },
    {
      "cell_type": "code",
      "source": [
        "#홀수만 출력하기\n",
        "oddnum = 33\n",
        "print('홀수 출력하기 시작!')\n",
        "while oddnum >= 0:\n",
        "  print(oddnum)\n",
        "  oddnum -=2\n",
        "\n",
        "print('홀수 출력 끝!')"
      ],
      "metadata": {
        "colab": {
          "base_uri": "https://localhost:8080/"
        },
        "id": "ft-ftW1u016Q",
        "outputId": "33bf7b53-3738-4b6d-fcad-6369d6cb9f1e"
      },
      "execution_count": null,
      "outputs": [
        {
          "output_type": "stream",
          "name": "stdout",
          "text": [
            "홀수 출력하기 시작!\n",
            "33\n",
            "31\n",
            "29\n",
            "27\n",
            "25\n",
            "23\n",
            "21\n",
            "19\n",
            "17\n",
            "15\n",
            "13\n",
            "11\n",
            "9\n",
            "7\n",
            "5\n",
            "3\n",
            "1\n",
            "홀수 출력 끝!\n"
          ]
        }
      ]
    },
    {
      "cell_type": "code",
      "source": [
        "num1 = 0\n",
        "#break문 : 반복문 탈출\n",
        "while True:\n",
        "  print(num1)\n",
        "  break"
      ],
      "metadata": {
        "colab": {
          "base_uri": "https://localhost:8080/"
        },
        "id": "PkaUIPmG1cqH",
        "outputId": "74897132-1561-4753-c2de-9aabd9393686"
      },
      "execution_count": null,
      "outputs": [
        {
          "output_type": "stream",
          "name": "stdout",
          "text": [
            "0\n"
          ]
        }
      ]
    },
    {
      "cell_type": "code",
      "source": [
        "#num2 = 0이 원래 있었는데 안넣어도 실행된다.\n",
        "while True:\n",
        "  num2 = int(input(\"1~10까지 정수를 입력하세요! : \"))\n",
        "  if 1<num2<=10:           #c나 자바에선 넘2>= 1 and 넘2 <= 10 이렇게 적어야 한다.\n",
        "          print(f'입력한 숫자가{num2}입니다. 1과 10 사이 정수가 맞습니다')\n",
        "          break\n",
        "  else:\n",
        "         print(f'입력한 숫자가{num2}입니다. 조건에 맞지 않습니다!')\n",
        "print('while반복문 끝!')"
      ],
      "metadata": {
        "colab": {
          "base_uri": "https://localhost:8080/"
        },
        "id": "8e4lb3KA1zNa",
        "outputId": "d0826fdb-c03b-491f-963f-61c8ace00aec"
      },
      "execution_count": null,
      "outputs": [
        {
          "output_type": "stream",
          "name": "stdout",
          "text": [
            "1~10까지 정수를 입력하세요! : 11\n",
            "입력한 숫자가11입니다. 조건에 맞지 않습니다!\n",
            "1~10까지 정수를 입력하세요! : 15\n",
            "입력한 숫자가15입니다. 조건에 맞지 않습니다!\n",
            "1~10까지 정수를 입력하세요! : 4\n",
            "입력한 숫자가4입니다. 1과 10 사이 정수가 맞습니다\n",
            "while반복문 끝!\n"
          ]
        }
      ]
    },
    {
      "cell_type": "code",
      "source": [
        "#for문 : 반복문 , 와일은 조건중심, 포문은 조건(연속된 값을 출력하는의미)\n",
        "#범위나 횟수가 정해져 있는 동안 반복해서 수행됨 #공백은 탭이나 스페이스 4번\n",
        "#자동으로 그 값을 꺼내가지고 반복을 한다\n",
        "# == str 안에 값들 만큼 i를 반복시켜\n",
        "\n",
        "str1 = '안녕하세요'\n",
        "for i in str1:\n",
        "  print(i)"
      ],
      "metadata": {
        "colab": {
          "base_uri": "https://localhost:8080/"
        },
        "id": "cx_dPhS927pR",
        "outputId": "c3be4b41-c805-4a9a-ecbd-489d8e5f9757"
      },
      "execution_count": null,
      "outputs": [
        {
          "output_type": "stream",
          "name": "stdout",
          "text": [
            "안\n",
            "녕\n",
            "하\n",
            "세\n",
            "요\n"
          ]
        }
      ]
    },
    {
      "cell_type": "code",
      "source": [
        "str2 = ['봄','여름','가을','겨울']\n",
        "for i in str2: #i가 아니라season으로도 할수 있듯 변수이름을 잘 정하면 끝!\n",
        "  print(f\"내가 좋아하는 계절은{i}이야\")\n",
        "print(\"반복문 끝\")"
      ],
      "metadata": {
        "colab": {
          "base_uri": "https://localhost:8080/"
        },
        "id": "DyUgGlNh3h0Q",
        "outputId": "8d76a329-5410-415b-cd8d-500c68498f06"
      },
      "execution_count": null,
      "outputs": [
        {
          "output_type": "stream",
          "name": "stdout",
          "text": [
            "내가 좋아하는 계절은봄이야\n",
            "내가 좋아하는 계절은여름이야\n",
            "내가 좋아하는 계절은가을이야\n",
            "내가 좋아하는 계절은겨울이야\n",
            "반복문 끝\n"
          ]
        }
      ]
    },
    {
      "cell_type": "code",
      "source": [
        "#range()함수\n",
        "# 필요한 만큼 숫자를 반복할 수 있게 도와줌\n",
        "# ranfe(start, stop, step)// stop직전까지출력됨\n",
        "#파이썬은 이런 함수를 통해 반복문을 쉽게 만듬\n",
        "#for문의 기본구조\n",
        "#for 변수 in 그룹 //// 변수가 그룹크기만큼 반복되어 print출력된다.\n",
        "#range(시작점,정지점,간격)\n",
        "for i in range(10):\n",
        "  print(i)"
      ],
      "metadata": {
        "colab": {
          "base_uri": "https://localhost:8080/"
        },
        "id": "JO-3_4yu4NpE",
        "outputId": "27559d59-8f8c-413b-b9fb-de702ad6ee9a"
      },
      "execution_count": null,
      "outputs": [
        {
          "output_type": "stream",
          "name": "stdout",
          "text": [
            "0\n",
            "1\n",
            "2\n",
            "3\n",
            "4\n",
            "5\n",
            "6\n",
            "7\n",
            "8\n",
            "9\n"
          ]
        }
      ]
    },
    {
      "cell_type": "code",
      "source": [
        "for i in range(3,10):\n",
        " print(i)"
      ],
      "metadata": {
        "colab": {
          "base_uri": "https://localhost:8080/"
        },
        "id": "SbBiH_wy4z9B",
        "outputId": "d704850e-c091-4ac0-f1c3-259dcdfbe1bc"
      },
      "execution_count": null,
      "outputs": [
        {
          "output_type": "stream",
          "name": "stdout",
          "text": [
            "3\n",
            "4\n",
            "5\n",
            "6\n",
            "7\n",
            "8\n",
            "9\n"
          ]
        }
      ]
    },
    {
      "cell_type": "code",
      "source": [
        "for i in range(3,10,2):\n",
        "  print(i)"
      ],
      "metadata": {
        "colab": {
          "base_uri": "https://localhost:8080/"
        },
        "id": "gbFffbtX48nw",
        "outputId": "67c24e92-f16b-4f0d-a91c-664ed50f3d1f"
      },
      "execution_count": null,
      "outputs": [
        {
          "output_type": "stream",
          "name": "stdout",
          "text": [
            "3\n",
            "5\n",
            "7\n",
            "9\n"
          ]
        }
      ]
    },
    {
      "cell_type": "code",
      "source": [
        "#20씩끊어서 출력\n",
        "for k in range(0, 100, 20):\n",
        "  print(k)\n",
        "  print(\"+20\")\n",
        "print(\"반복문 끝!\")"
      ],
      "metadata": {
        "colab": {
          "base_uri": "https://localhost:8080/"
        },
        "id": "Cx8ITF_45CkX",
        "outputId": "0dcb3238-8321-4803-835e-96224b4403b8"
      },
      "execution_count": null,
      "outputs": [
        {
          "output_type": "stream",
          "name": "stdout",
          "text": [
            "0\n",
            "+20\n",
            "20\n",
            "+20\n",
            "40\n",
            "+20\n",
            "60\n",
            "+20\n",
            "80\n",
            "+20\n",
            "반복문 끝!\n"
          ]
        }
      ]
    },
    {
      "cell_type": "code",
      "source": [
        "#range문 사용해서 100이하 4의 배수 출력\n",
        "for a in range(4, 101, 4):\n",
        "  print(a, end= \" \") #기본적 프린트함수는\\n형식이지만 한줄로 보기 위해  ,end= \" \"로 표현해 공백으로 했다\n"
      ],
      "metadata": {
        "colab": {
          "base_uri": "https://localhost:8080/"
        },
        "id": "lBd0UBSd5aGE",
        "outputId": "fbf3ba9f-c27b-4b9e-9bea-a69fb5238932"
      },
      "execution_count": null,
      "outputs": [
        {
          "output_type": "stream",
          "name": "stdout",
          "text": [
            "4 8 12 16 20 24 28 32 36 40 44 48 52 56 60 64 68 72 76 80 84 88 92 96 100 "
          ]
        }
      ]
    },
    {
      "cell_type": "code",
      "source": [
        "for i in range(1,6):\n",
        "  print(\"*\"*i)\n",
        "  #1을0으로 바꾸면 첫줄에 공백으로 바뀐다"
      ],
      "metadata": {
        "colab": {
          "base_uri": "https://localhost:8080/"
        },
        "id": "z6vwMO6g8NnY",
        "outputId": "d8c9fd97-0246-4162-dd0b-03ffd4e2e175"
      },
      "execution_count": null,
      "outputs": [
        {
          "output_type": "stream",
          "name": "stdout",
          "text": [
            "*\n",
            "**\n",
            "***\n",
            "****\n",
            "*****\n"
          ]
        }
      ]
    },
    {
      "cell_type": "code",
      "source": [
        "x= 5\n",
        "for i in range(1,10):\n",
        "  print(f\"{x}x{i} = {x*i}\")\n"
      ],
      "metadata": {
        "colab": {
          "base_uri": "https://localhost:8080/"
        },
        "id": "-A859oJ5816Z",
        "outputId": "399181da-411b-46e5-b216-f54d28e5fb23"
      },
      "execution_count": null,
      "outputs": [
        {
          "output_type": "stream",
          "name": "stdout",
          "text": [
            "5x1 = 5\n",
            "5x2 = 10\n",
            "5x3 = 15\n",
            "5x4 = 20\n",
            "5x5 = 25\n",
            "5x6 = 30\n",
            "5x7 = 35\n",
            "5x8 = 40\n",
            "5x9 = 45\n"
          ]
        }
      ]
    },
    {
      "cell_type": "code",
      "source": [
        "for i in range(1,10):\n",
        "  if i%2 ==0:\n",
        "    continue\n",
        "  print(i)\n",
        "\n",
        "    #continue구문은 아래를 이어서 실행하지 않고 바로 조건 검사문으로 넘어감"
      ],
      "metadata": {
        "colab": {
          "base_uri": "https://localhost:8080/"
        },
        "id": "uMh-AgTa9QTE",
        "outputId": "2e7de705-af75-4e99-b0ab-2c1718e2ad6f"
      },
      "execution_count": null,
      "outputs": [
        {
          "output_type": "stream",
          "name": "stdout",
          "text": [
            "1\n",
            "3\n",
            "5\n",
            "7\n",
            "9\n"
          ]
        }
      ]
    },
    {
      "cell_type": "code",
      "source": [
        "for i in range(1, 10):\n",
        "  if i==3:  #for문을 부수고 탈출\n",
        "    break\n",
        "  print(i)"
      ],
      "metadata": {
        "colab": {
          "base_uri": "https://localhost:8080/"
        },
        "id": "PqMOi1ua9yEE",
        "outputId": "5c0d58c5-9a60-481f-bf2d-da4d66330313"
      },
      "execution_count": null,
      "outputs": [
        {
          "output_type": "stream",
          "name": "stdout",
          "text": [
            "1\n",
            "2\n"
          ]
        }
      ]
    },
    {
      "cell_type": "code",
      "source": [
        "#2중for문\n",
        "for i in range(2, 10):\n",
        "  for j in range(1, 10):\n",
        "    print(f\"{i} x {j} = {i*j}\")\n",
        "  print(\"==\")"
      ],
      "metadata": {
        "colab": {
          "base_uri": "https://localhost:8080/"
        },
        "id": "jvzFGPGZ-I6I",
        "outputId": "a3ed81ad-1072-41d1-86e1-dadbcf1178a6"
      },
      "execution_count": null,
      "outputs": [
        {
          "output_type": "stream",
          "name": "stdout",
          "text": [
            "2 x 1 = 2\n",
            "2 x 2 = 4\n",
            "2 x 3 = 6\n",
            "2 x 4 = 8\n",
            "2 x 5 = 10\n",
            "2 x 6 = 12\n",
            "2 x 7 = 14\n",
            "2 x 8 = 16\n",
            "2 x 9 = 18\n",
            "==\n",
            "3 x 1 = 3\n",
            "3 x 2 = 6\n",
            "3 x 3 = 9\n",
            "3 x 4 = 12\n",
            "3 x 5 = 15\n",
            "3 x 6 = 18\n",
            "3 x 7 = 21\n",
            "3 x 8 = 24\n",
            "3 x 9 = 27\n",
            "==\n",
            "4 x 1 = 4\n",
            "4 x 2 = 8\n",
            "4 x 3 = 12\n",
            "4 x 4 = 16\n",
            "4 x 5 = 20\n",
            "4 x 6 = 24\n",
            "4 x 7 = 28\n",
            "4 x 8 = 32\n",
            "4 x 9 = 36\n",
            "==\n",
            "5 x 1 = 5\n",
            "5 x 2 = 10\n",
            "5 x 3 = 15\n",
            "5 x 4 = 20\n",
            "5 x 5 = 25\n",
            "5 x 6 = 30\n",
            "5 x 7 = 35\n",
            "5 x 8 = 40\n",
            "5 x 9 = 45\n",
            "==\n",
            "6 x 1 = 6\n",
            "6 x 2 = 12\n",
            "6 x 3 = 18\n",
            "6 x 4 = 24\n",
            "6 x 5 = 30\n",
            "6 x 6 = 36\n",
            "6 x 7 = 42\n",
            "6 x 8 = 48\n",
            "6 x 9 = 54\n",
            "==\n",
            "7 x 1 = 7\n",
            "7 x 2 = 14\n",
            "7 x 3 = 21\n",
            "7 x 4 = 28\n",
            "7 x 5 = 35\n",
            "7 x 6 = 42\n",
            "7 x 7 = 49\n",
            "7 x 8 = 56\n",
            "7 x 9 = 63\n",
            "==\n",
            "8 x 1 = 8\n",
            "8 x 2 = 16\n",
            "8 x 3 = 24\n",
            "8 x 4 = 32\n",
            "8 x 5 = 40\n",
            "8 x 6 = 48\n",
            "8 x 7 = 56\n",
            "8 x 8 = 64\n",
            "8 x 9 = 72\n",
            "==\n",
            "9 x 1 = 9\n",
            "9 x 2 = 18\n",
            "9 x 3 = 27\n",
            "9 x 4 = 36\n",
            "9 x 5 = 45\n",
            "9 x 6 = 54\n",
            "9 x 7 = 63\n",
            "9 x 8 = 72\n",
            "9 x 9 = 81\n",
            "==\n"
          ]
        }
      ]
    },
    {
      "cell_type": "code",
      "source": [
        "#1 부터 100까지 숫자 중 짝수 누적합을 출력하기\n",
        "#연습문제 : 1~10까지 누적합\n",
        "sum=0\n",
        "for i in range(1,11):\n",
        "   sum += i\n",
        "print(sum)"
      ],
      "metadata": {
        "colab": {
          "base_uri": "https://localhost:8080/"
        },
        "id": "-Zc2D7OH_CYq",
        "outputId": "4eca7205-0075-429c-e240-e0f18d27b970"
      },
      "execution_count": null,
      "outputs": [
        {
          "output_type": "stream",
          "name": "stdout",
          "text": [
            "55\n"
          ]
        }
      ]
    },
    {
      "cell_type": "code",
      "source": [
        "#1~100 짝수 누적합 출력\n",
        "sum = 0\n",
        "for i in range (1,101):\n",
        "  if i%2 ==0:\n",
        "    sum+=i\n",
        "print(sum)"
      ],
      "metadata": {
        "colab": {
          "base_uri": "https://localhost:8080/"
        },
        "id": "C3Fb_T-M_kho",
        "outputId": "0ac2830b-1a65-4ce0-ff4a-02ea9e17236b"
      },
      "execution_count": null,
      "outputs": [
        {
          "output_type": "stream",
          "name": "stdout",
          "text": [
            "2550\n"
          ]
        }
      ]
    },
    {
      "cell_type": "code",
      "source": [
        "#2번째 방법\n",
        "sum=0\n",
        "for i in range (2,101,2):\n",
        "  sum+=i  #복합대입 연산자는 원래 쓰이던 녀석이여야지 특정값을 사칙연산 하는것이므로 sum=0을 넣어줘야함\n",
        "print(sum)"
      ],
      "metadata": {
        "colab": {
          "base_uri": "https://localhost:8080/"
        },
        "id": "rZn2KDj6AGND",
        "outputId": "1d2f6181-e0c0-4657-9661-fd8261a0460b"
      },
      "execution_count": null,
      "outputs": [
        {
          "output_type": "stream",
          "name": "stdout",
          "text": [
            "2550\n"
          ]
        }
      ]
    },
    {
      "cell_type": "code",
      "source": [
        "#1~50 숫자 중 3의 배수이거나 5의 배수인 숫자의 개수 출력\n",
        "#먼저 선언 및 초기화 해줘야함 (count)\n",
        "count=0\n",
        "for i in range(1,51):\n",
        "  if i%3 == 0 or i% 5 == 0:\n",
        "    count+=1   #=+로 해서 1이 출력됐었음\n",
        "print(count)"
      ],
      "metadata": {
        "colab": {
          "base_uri": "https://localhost:8080/"
        },
        "id": "tpHyyEpMATuD",
        "outputId": "87819010-574b-41a9-85ea-8deeddede7c2"
      },
      "execution_count": null,
      "outputs": [
        {
          "output_type": "stream",
          "name": "stdout",
          "text": [
            "23\n"
          ]
        }
      ]
    },
    {
      "cell_type": "code",
      "source": [
        "#소수인지 판별\n",
        "#어떤 수에 루트 씌운 것에서 약수가 판별num ** 0.5 == 루트이다 (1/2승이므로) +1은 정수가 나오게 안전하게(이렇게되면 11까지 나눈수 있게됨)\n",
        "#루트에서 약수를 왜 결정하냐? 거듭제곱 이상의 숫자로 나누게되면 몫이 0이 되므로 나눌 필요가 없게된다.\n",
        "#\n",
        "num = 29\n",
        "\n",
        "isPrime = True\n",
        "if num >1 :\n",
        "  for i in range(2, int(num ** 0.5) + 1):\n",
        "    if num % i == 0:\n",
        "      if num % i == 0:\n",
        "        isPrime = False\n",
        "        break\n",
        "\n",
        "if isPrime:\n",
        "  print(\"소수입니다!\")\n",
        "else:\n",
        "  print(\"소수가 아닙니다\")"
      ],
      "metadata": {
        "colab": {
          "base_uri": "https://localhost:8080/"
        },
        "id": "QbTkPsdtBKzQ",
        "outputId": "c92369b8-cbf3-4b43-a0a0-e16f9a3076dc"
      },
      "execution_count": null,
      "outputs": [
        {
          "output_type": "stream",
          "name": "stdout",
          "text": [
            "소수입니다!\n"
          ]
        }
      ]
    },
    {
      "cell_type": "code",
      "source": [
        "#소수인지 판별\n",
        "## 소수입니다가 안나옴  ---->IsPrime이 while문 안에 있어야함\n",
        "num = 29\n",
        "\n",
        "while True:\n",
        "  isPrime = True      #IsPrime변수는 소수인지 아닌지 판별한 결과를 저장하기 위해 만든 변수\n",
        "  num = int(input(\"정수를 입력해주세요 : \"))\n",
        "  if num >1 :\n",
        "    for i in range(2, int(num ** 0.5) + 1):\n",
        "      if num % i == 0:\n",
        "        if num % i == 0:\n",
        "          isPrime = False\n",
        "          break\n",
        "\n",
        "  if isPrime:\n",
        "    print(\"소수입니다!\")\n",
        "  else:\n",
        "    print(\"소수가 아닙니다\")"
      ],
      "metadata": {
        "colab": {
          "base_uri": "https://localhost:8080/",
          "height": 515
        },
        "id": "65MO-6YTDhpZ",
        "outputId": "f4bd2b5a-f358-450d-d311-f5515d48e46e"
      },
      "execution_count": null,
      "outputs": [
        {
          "output_type": "stream",
          "name": "stdout",
          "text": [
            "정수를 입력해주세요 : 4\n",
            "소수가 아닙니다\n",
            "정수를 입력해주세요 : 2\n",
            "소수입니다!\n",
            "정수를 입력해주세요 : 5\n",
            "소수입니다!\n",
            "정수를 입력해주세요 : 20\n",
            "소수가 아닙니다\n"
          ]
        },
        {
          "output_type": "error",
          "ename": "KeyboardInterrupt",
          "evalue": "Interrupted by user",
          "traceback": [
            "\u001b[0;31m---------------------------------------------------------------------------\u001b[0m",
            "\u001b[0;31mKeyboardInterrupt\u001b[0m                         Traceback (most recent call last)",
            "\u001b[0;32m<ipython-input-20-f3e0375f6b59>\u001b[0m in \u001b[0;36m<cell line: 5>\u001b[0;34m()\u001b[0m\n\u001b[1;32m      5\u001b[0m \u001b[0;32mwhile\u001b[0m \u001b[0;32mTrue\u001b[0m\u001b[0;34m:\u001b[0m\u001b[0;34m\u001b[0m\u001b[0;34m\u001b[0m\u001b[0m\n\u001b[1;32m      6\u001b[0m   \u001b[0misPrime\u001b[0m \u001b[0;34m=\u001b[0m \u001b[0;32mTrue\u001b[0m\u001b[0;34m\u001b[0m\u001b[0;34m\u001b[0m\u001b[0m\n\u001b[0;32m----> 7\u001b[0;31m   \u001b[0mnum\u001b[0m \u001b[0;34m=\u001b[0m \u001b[0mint\u001b[0m\u001b[0;34m(\u001b[0m\u001b[0minput\u001b[0m\u001b[0;34m(\u001b[0m\u001b[0;34m\"정수를 입력해주세요 : \"\u001b[0m\u001b[0;34m)\u001b[0m\u001b[0;34m)\u001b[0m\u001b[0;34m\u001b[0m\u001b[0;34m\u001b[0m\u001b[0m\n\u001b[0m\u001b[1;32m      8\u001b[0m   \u001b[0;32mif\u001b[0m \u001b[0mnum\u001b[0m \u001b[0;34m>\u001b[0m\u001b[0;36m1\u001b[0m \u001b[0;34m:\u001b[0m\u001b[0;34m\u001b[0m\u001b[0;34m\u001b[0m\u001b[0m\n\u001b[1;32m      9\u001b[0m     \u001b[0;32mfor\u001b[0m \u001b[0mi\u001b[0m \u001b[0;32min\u001b[0m \u001b[0mrange\u001b[0m\u001b[0;34m(\u001b[0m\u001b[0;36m2\u001b[0m\u001b[0;34m,\u001b[0m \u001b[0mint\u001b[0m\u001b[0;34m(\u001b[0m\u001b[0mnum\u001b[0m \u001b[0;34m**\u001b[0m \u001b[0;36m0.5\u001b[0m\u001b[0;34m)\u001b[0m \u001b[0;34m+\u001b[0m \u001b[0;36m1\u001b[0m\u001b[0;34m)\u001b[0m\u001b[0;34m:\u001b[0m\u001b[0;34m\u001b[0m\u001b[0;34m\u001b[0m\u001b[0m\n",
            "\u001b[0;32m/usr/local/lib/python3.10/dist-packages/ipykernel/kernelbase.py\u001b[0m in \u001b[0;36mraw_input\u001b[0;34m(self, prompt)\u001b[0m\n\u001b[1;32m    849\u001b[0m                 \u001b[0;34m\"raw_input was called, but this frontend does not support input requests.\"\u001b[0m\u001b[0;34m\u001b[0m\u001b[0;34m\u001b[0m\u001b[0m\n\u001b[1;32m    850\u001b[0m             )\n\u001b[0;32m--> 851\u001b[0;31m         return self._input_request(str(prompt),\n\u001b[0m\u001b[1;32m    852\u001b[0m             \u001b[0mself\u001b[0m\u001b[0;34m.\u001b[0m\u001b[0m_parent_ident\u001b[0m\u001b[0;34m,\u001b[0m\u001b[0;34m\u001b[0m\u001b[0;34m\u001b[0m\u001b[0m\n\u001b[1;32m    853\u001b[0m             \u001b[0mself\u001b[0m\u001b[0;34m.\u001b[0m\u001b[0m_parent_header\u001b[0m\u001b[0;34m,\u001b[0m\u001b[0;34m\u001b[0m\u001b[0;34m\u001b[0m\u001b[0m\n",
            "\u001b[0;32m/usr/local/lib/python3.10/dist-packages/ipykernel/kernelbase.py\u001b[0m in \u001b[0;36m_input_request\u001b[0;34m(self, prompt, ident, parent, password)\u001b[0m\n\u001b[1;32m    893\u001b[0m             \u001b[0;32mexcept\u001b[0m \u001b[0mKeyboardInterrupt\u001b[0m\u001b[0;34m:\u001b[0m\u001b[0;34m\u001b[0m\u001b[0;34m\u001b[0m\u001b[0m\n\u001b[1;32m    894\u001b[0m                 \u001b[0;31m# re-raise KeyboardInterrupt, to truncate traceback\u001b[0m\u001b[0;34m\u001b[0m\u001b[0;34m\u001b[0m\u001b[0m\n\u001b[0;32m--> 895\u001b[0;31m                 \u001b[0;32mraise\u001b[0m \u001b[0mKeyboardInterrupt\u001b[0m\u001b[0;34m(\u001b[0m\u001b[0;34m\"Interrupted by user\"\u001b[0m\u001b[0;34m)\u001b[0m \u001b[0;32mfrom\u001b[0m \u001b[0;32mNone\u001b[0m\u001b[0;34m\u001b[0m\u001b[0;34m\u001b[0m\u001b[0m\n\u001b[0m\u001b[1;32m    896\u001b[0m             \u001b[0;32mexcept\u001b[0m \u001b[0mException\u001b[0m \u001b[0;32mas\u001b[0m \u001b[0me\u001b[0m\u001b[0;34m:\u001b[0m\u001b[0;34m\u001b[0m\u001b[0;34m\u001b[0m\u001b[0m\n\u001b[1;32m    897\u001b[0m                 \u001b[0mself\u001b[0m\u001b[0;34m.\u001b[0m\u001b[0mlog\u001b[0m\u001b[0;34m.\u001b[0m\u001b[0mwarning\u001b[0m\u001b[0;34m(\u001b[0m\u001b[0;34m\"Invalid Message:\"\u001b[0m\u001b[0;34m,\u001b[0m \u001b[0mexc_info\u001b[0m\u001b[0;34m=\u001b[0m\u001b[0;32mTrue\u001b[0m\u001b[0;34m)\u001b[0m\u001b[0;34m\u001b[0m\u001b[0;34m\u001b[0m\u001b[0m\n",
            "\u001b[0;31mKeyboardInterrupt\u001b[0m: Interrupted by user"
          ]
        }
      ]
    },
    {
      "cell_type": "code",
      "source": [
        "num = 29\n",
        "\n",
        "    #isprime이 여기 있으면 초기화가안됨 와일문 밑에 있게해야함\n",
        "while True:\n",
        "  isPrime = True\n",
        "  num = int(input(\"정수를 입력해주세요 : \"))\n",
        "  if num == 0 :\n",
        "      break\n",
        "  elif num > 1:\n",
        "      #???????????\n",
        "      for i in range(2, int(num ** 0.5) + 1):\n",
        "        if num % i == 0:\n",
        "            isPrime = False\n",
        "            break #이 브레이크는 가장 가까운 반복문인 for문을 부수고 나온다\n",
        "\n",
        "  if isPrime:\n",
        "    print(\"소수입니다!\")\n",
        "  else:\n",
        "    print(\"소수가 아닙니다\")"
      ],
      "metadata": {
        "colab": {
          "base_uri": "https://localhost:8080/"
        },
        "id": "JAVbU-BhEA7T",
        "outputId": "e6de1b3a-74fa-4b92-8061-e457e76f5cfa"
      },
      "execution_count": null,
      "outputs": [
        {
          "name": "stdout",
          "output_type": "stream",
          "text": [
            "정수를 입력해주세요 : 23\n",
            "소수입니다!\n",
            "정수를 입력해주세요 : 14\n",
            "소수가 아닙니다\n",
            "정수를 입력해주세요 : 0\n"
          ]
        }
      ]
    },
    {
      "cell_type": "code",
      "source": [
        "inputStr = \"HelloWorld\" #모음이 몇개 있느지 세기위함\n",
        "#모음 개수 세기\n",
        "vowels = \"aeiouAEIOU\" #모음들\n",
        "cnt = 0\n",
        "for a in inputStr:\n",
        "  if a in vowels:  # for의 in은 반복 if의 in 은 요소가 안에 있는지 검사\n",
        "    cnt+=1\n",
        "print(cnt)"
      ],
      "metadata": {
        "colab": {
          "base_uri": "https://localhost:8080/"
        },
        "id": "6uMBLyzcEoST",
        "outputId": "76cab3ab-b656-423a-f96d-3117dd06b9fa"
      },
      "execution_count": null,
      "outputs": [
        {
          "output_type": "stream",
          "name": "stdout",
          "text": [
            "3\n"
          ]
        }
      ]
    },
    {
      "cell_type": "code",
      "source": [
        "#collection :자료구조\n",
        "#iterable(반복이 가능한)자료구조\n",
        "\n",
        "'''\n",
        "집합 : {}\n",
        "리스트 : []\n",
        "튜플 : ()\n",
        "딕셔너리 : {}  ///집합과 다른 자료구조\n",
        "'''\n"
      ],
      "metadata": {
        "colab": {
          "base_uri": "https://localhost:8080/",
          "height": 35
        },
        "id": "uKZhveefHaZ9",
        "outputId": "f356b1f1-d4d0-44f8-eec1-69dd48f7ccdd"
      },
      "execution_count": null,
      "outputs": [
        {
          "output_type": "execute_result",
          "data": {
            "text/plain": [
              "'\\n집합 : {}\\n리스트 : []\\n튜플 : ()\\n딕셔너리 : {}\\n'"
            ],
            "application/vnd.google.colaboratory.intrinsic+json": {
              "type": "string"
            }
          },
          "metadata": {},
          "execution_count": 138
        }
      ]
    },
    {
      "cell_type": "code",
      "source": [
        "#집합 = set\n",
        "#집합은 항목의 중복이 불가능\n",
        "fruit ={'파인애플', '오렌지', '포도', '딸기', '포도'}\n",
        "print(fruit)"
      ],
      "metadata": {
        "colab": {
          "base_uri": "https://localhost:8080/"
        },
        "id": "gMfp2CnpHw8I",
        "outputId": "9c06dd4a-79ea-4567-e322-38c87045c091"
      },
      "execution_count": null,
      "outputs": [
        {
          "output_type": "stream",
          "name": "stdout",
          "text": [
            "{'포도', '딸기', '파인애플', '오렌지'}\n"
          ]
        }
      ]
    },
    {
      "cell_type": "code",
      "source": [
        "#collection에 특정 원소가 있는지 확인하기\n",
        "print('포도'in fruit)\n",
        "print('사과' not in fruit)\n",
        "\n",
        "print('사과' in fruit)"
      ],
      "metadata": {
        "colab": {
          "base_uri": "https://localhost:8080/"
        },
        "id": "qTRmv5mXIGc5",
        "outputId": "0831506f-4690-4ff8-9673-b3aa64db000f"
      },
      "execution_count": null,
      "outputs": [
        {
          "output_type": "stream",
          "name": "stdout",
          "text": [
            "True\n",
            "True\n",
            "False\n"
          ]
        }
      ]
    },
    {
      "cell_type": "code",
      "source": [
        "#집합은 항목의 중복이 불가능"
      ],
      "metadata": {
        "id": "l_YCEM8_H_yQ"
      },
      "execution_count": null,
      "outputs": []
    },
    {
      "cell_type": "code",
      "source": [
        "#원소 추가#.add라는 매개변수 넣으면 된다\n",
        "\n",
        "fruit.add('수박')\n",
        "print(fruit)"
      ],
      "metadata": {
        "colab": {
          "base_uri": "https://localhost:8080/"
        },
        "id": "eSGmN4GzIhpw",
        "outputId": "fa14709e-4fc6-4d06-9a20-184108e1e6ee"
      },
      "execution_count": null,
      "outputs": [
        {
          "output_type": "stream",
          "name": "stdout",
          "text": [
            "{'포도', '파인애플', '딸기', '오렌지', '수박'}\n"
          ]
        }
      ]
    },
    {
      "cell_type": "code",
      "source": [
        "#원소 제거\n",
        "fruit.remove('수박')\n",
        "print(fruit)\n",
        "\n",
        "fruit.discard('수박')\n",
        "print(fruit)\n",
        "\n",
        "#fruit.remove('참외') #값이 없으면 에러 발생"
      ],
      "metadata": {
        "colab": {
          "base_uri": "https://localhost:8080/"
        },
        "id": "1STljMuIIr9Y",
        "outputId": "a2fd0129-24e6-4533-83b3-010b9628102e"
      },
      "execution_count": null,
      "outputs": [
        {
          "output_type": "stream",
          "name": "stdout",
          "text": [
            "{'포도', '파인애플', '딸기', '오렌지'}\n",
            "{'포도', '파인애플', '딸기', '오렌지'}\n"
          ]
        }
      ]
    },
    {
      "cell_type": "code",
      "source": [
        "#함수를 이용해서 set생성\n",
        "set3 = set() # 보통 ~()이면 함수형태.(공백)이니 매개변수가 없는 함수\n",
        "print(set3) #빈 집합을 나타냄\n",
        "set3.add(10)\n",
        "print(set3)#10 추가를 나타냄"
      ],
      "metadata": {
        "colab": {
          "base_uri": "https://localhost:8080/"
        },
        "id": "Ic13GGi4JGVY",
        "outputId": "0554e781-5242-49f0-8406-a8adcddcedc6"
      },
      "execution_count": null,
      "outputs": [
        {
          "output_type": "stream",
          "name": "stdout",
          "text": [
            "set()\n",
            "{10}\n"
          ]
        }
      ]
    },
    {
      "cell_type": "code",
      "source": [
        "setA = {10, 20, 30, 40, 50, 60}\n",
        "setB = {50, 60, 70, 80, 90, 100}\n",
        "\n",
        "#교집합\n",
        "print(setA & setB)\n",
        "\n",
        "#합집합\n",
        "print(setA | setB)\n",
        "\n",
        "#차집합\n",
        "print(setA - setB)\n",
        "print(setB - setA)"
      ],
      "metadata": {
        "colab": {
          "base_uri": "https://localhost:8080/"
        },
        "id": "73-n1jJPJiTx",
        "outputId": "a0e1a4c5-b2e8-4e49-afc7-36f1cc28ccc7"
      },
      "execution_count": null,
      "outputs": [
        {
          "output_type": "stream",
          "name": "stdout",
          "text": [
            "{50, 60}\n",
            "{100, 70, 40, 10, 80, 50, 20, 90, 60, 30}\n",
            "{40, 10, 20, 30}\n",
            "{80, 90, 100, 70}\n"
          ]
        }
      ]
    },
    {
      "cell_type": "code",
      "source": [
        "#비트연산자\n",
        "#정수형 숫자에 대해서 이진수 단위로 바로 접근해서 연산을 수행하는 연산자\n",
        "\n",
        "#and연산(&)\n",
        "#or(|)\n",
        "#xor(^)\n",
        "#not(~)\n",
        "#시프트 연산(<<, >>)"
      ],
      "metadata": {
        "id": "lDeRmvQJKVD5"
      },
      "execution_count": null,
      "outputs": []
    },
    {
      "cell_type": "code",
      "source": [
        "#and\n",
        "#60의 2진수 표현은 나머지를 거꾸로 올라가는것이라 111100이다\n",
        "#1 = T, 0 = F // 1이 나온 자리의 거듭제곱을 더하면 60이된다 32+16+8+4 + 60   2^0 ~ 2^5\n",
        "a = 60\n",
        "b = 13 #이진수로 001101\n",
        "result = a & b\n",
        "#비트연산에서 이진수 한 자리가 1이면 True, 0이면 False              111100\n",
        "# & 연산자는 둘다 1이여야 True                                      001101\n",
        "                                                                   #001100이 된다\n",
        "print(result)"
      ],
      "metadata": {
        "colab": {
          "base_uri": "https://localhost:8080/"
        },
        "id": "FwW6iQJRK0vI",
        "outputId": "cb93bf74-87b3-4663-9f1b-845c5f9ab84f"
      },
      "execution_count": null,
      "outputs": [
        {
          "output_type": "stream",
          "name": "stdout",
          "text": [
            "12\n"
          ]
        }
      ]
    },
    {
      "cell_type": "code",
      "source": [
        "#or\n",
        "#기본적으로 or연산자는 1가지만 T여도 True이다.\n",
        "result= a|b        #111100\n",
        "                   #001101\n",
        "                   #111101\n",
        "print(result)"
      ],
      "metadata": {
        "id": "QGlGzT7BK-qY",
        "colab": {
          "base_uri": "https://localhost:8080/"
        },
        "outputId": "4a41f3ec-02ab-4d15-adfb-aaed4d56bb02"
      },
      "execution_count": null,
      "outputs": [
        {
          "output_type": "stream",
          "name": "stdout",
          "text": [
            "61\n"
          ]
        }
      ]
    },
    {
      "cell_type": "code",
      "source": [
        "#XOR연산자(베타적or)\n",
        "result= a^b        #111100\n",
        "                   #001101\n",
        "                   #110001\n",
        "print(result)\n",
        "#두비트가 서로 같을때0, 서로 다를때 1을 반환"
      ],
      "metadata": {
        "colab": {
          "base_uri": "https://localhost:8080/"
        },
        "id": "ooH7qKOQJu-5",
        "outputId": "c6d88598-4271-4be7-fc01-12fad3931b43"
      },
      "execution_count": null,
      "outputs": [
        {
          "output_type": "stream",
          "name": "stdout",
          "text": [
            "49\n"
          ]
        }
      ]
    },
    {
      "cell_type": "code",
      "source": [
        "#NoT\n",
        "prac = True\n",
        "if not prac:  #not prac: False\n",
        "  print(\"here\")\n",
        "else:\n",
        "  print(\"there\")"
      ],
      "metadata": {
        "colab": {
          "base_uri": "https://localhost:8080/"
        },
        "id": "J2cDfoV8M-kc",
        "outputId": "97910a2e-5c70-4390-bd9f-cd1e77e7e608"
      },
      "execution_count": null,
      "outputs": [
        {
          "output_type": "stream",
          "name": "stdout",
          "text": [
            "there\n"
          ]
        }
      ]
    },
    {
      "cell_type": "code",
      "source": [
        "#not연산자(~)\n",
        "  #비트를 0에서 1로 , 1에서 0으로 반전시킴\n",
        "b = 13                           #000011011인데 11110010으로 반전 그래서 첫번째 자리가 부호인데 0 = +, 1 = -이다\n",
        "result = ~b                      #자리 맞추려고 0000붙여줌 ///보완법이 있는데 거기까진 설명X하겠다.\n",
        "print(result)"
      ],
      "metadata": {
        "colab": {
          "base_uri": "https://localhost:8080/"
        },
        "id": "jS1xT4Y3Nbkl",
        "outputId": "10a91f1e-83e2-491a-9af1-cdccdeb89787"
      },
      "execution_count": null,
      "outputs": [
        {
          "output_type": "stream",
          "name": "stdout",
          "text": [
            "-14\n"
          ]
        }
      ]
    },
    {
      "cell_type": "code",
      "source": [
        "#시프트 연산\n",
        "#비트를 왼쪽이나 오른쪽으로 이동시킴\n",
        "#빈 자리는 0으로 매꿈\n",
        "a = 60\n",
        "result = a<<2     #왼쪽으로 2번 이동 시키겠단 얘기   00111100에서 11110000으로 바뀜\n",
        "print(result)"
      ],
      "metadata": {
        "colab": {
          "base_uri": "https://localhost:8080/"
        },
        "id": "4a-pPpufN6PM",
        "outputId": "adef32b9-3d49-4716-f686-98cfbc69f72a"
      },
      "execution_count": null,
      "outputs": [
        {
          "output_type": "stream",
          "name": "stdout",
          "text": [
            "240\n"
          ]
        }
      ]
    },
    {
      "cell_type": "code",
      "source": [
        "a = 60\n",
        "result = a>>2     #오른쪽으로 2번 이동 시키겠단 얘기 00111100 ---> 00001111\n",
        "print(result)"
      ],
      "metadata": {
        "colab": {
          "base_uri": "https://localhost:8080/"
        },
        "id": "r3FP267rOUMO",
        "outputId": "b0a9e4a2-d0f9-46c9-949f-94782e7f3a6e"
      },
      "execution_count": null,
      "outputs": [
        {
          "output_type": "stream",
          "name": "stdout",
          "text": [
            "15\n"
          ]
        }
      ]
    },
    {
      "cell_type": "code",
      "source": [
        "#비트연산자 활용법\n",
        "#제일 빠르지만 쓰기 번거로워 많이 활용은 안된다\n",
        "num = 5\n",
        "if num & 1 :\n",
        "  print(f\"{num}은 홀수입니다\")\n",
        "else:\n",
        "  print(f\"{num}은 짝수입니다\")"
      ],
      "metadata": {
        "colab": {
          "base_uri": "https://localhost:8080/"
        },
        "id": "QEQKMaMWOey9",
        "outputId": "5a71723a-4c2c-456f-e602-4c2e90396838"
      },
      "execution_count": null,
      "outputs": [
        {
          "output_type": "stream",
          "name": "stdout",
          "text": [
            "5은 홀수입니다\n"
          ]
        }
      ]
    },
    {
      "cell_type": "code",
      "source": [
        "num = 0b1010\n",
        "bit_to_set = 0b0100\n",
        "\n",
        "result = num | bit_to_set\n",
        "print(bin(result))"
      ],
      "metadata": {
        "colab": {
          "base_uri": "https://localhost:8080/"
        },
        "id": "m4mjOH8BPRzq",
        "outputId": "2218731b-f98f-444d-fc1c-b5280c192034"
      },
      "execution_count": null,
      "outputs": [
        {
          "output_type": "stream",
          "name": "stdout",
          "text": [
            "0b1110\n"
          ]
        }
      ]
    },
    {
      "cell_type": "code",
      "source": [
        "num = 0b1010\n",
        "bit_to_set = 0b0010\n",
        "\n",
        "result = num & ~bit_to_set\n",
        "print(bin(result))\n",
        "#not연산자가 &나~보다 우선순위가 높다"
      ],
      "metadata": {
        "colab": {
          "base_uri": "https://localhost:8080/"
        },
        "id": "0B6dicZ8PqSZ",
        "outputId": "19905084-55ed-43df-ddb1-57c38f0ed393"
      },
      "execution_count": null,
      "outputs": [
        {
          "output_type": "stream",
          "name": "stdout",
          "text": [
            "0b1000\n"
          ]
        }
      ]
    }
  ]
}