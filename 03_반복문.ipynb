{
  "nbformat": 4,
  "nbformat_minor": 0,
  "metadata": {
    "colab": {
      "provenance": [],
      "authorship_tag": "ABX9TyPDtHZKH/DOkF1EcEkyUNkS",
      "include_colab_link": true
    },
    "kernelspec": {
      "name": "python3",
      "display_name": "Python 3"
    },
    "language_info": {
      "name": "python"
    }
  },
  "cells": [
    {
      "cell_type": "markdown",
      "metadata": {
        "id": "view-in-github",
        "colab_type": "text"
      },
      "source": [
        "<a href=\"https://colab.research.google.com/github/chang-min-dbs/remem/blob/%EB%B0%B1%EC%A4%80-%EB%8B%A8%EA%B3%84%EB%B3%84/03_%EB%B0%98%EB%B3%B5%EB%AC%B8.ipynb\" target=\"_parent\"><img src=\"https://colab.research.google.com/assets/colab-badge.svg\" alt=\"Open In Colab\"/></a>"
      ]
    },
    {
      "cell_type": "code",
      "execution_count": null,
      "metadata": {
        "colab": {
          "base_uri": "https://localhost:8080/"
        },
        "id": "bZgAgaIWnSOS",
        "outputId": "b36dbaa1-a518-44d2-bcbc-baf97257316a"
      },
      "outputs": [
        {
          "output_type": "stream",
          "name": "stdout",
          "text": [
            "2\n",
            "2 * 1 = 2\n",
            "2 * 2 = 4\n",
            "2 * 3 = 6\n",
            "2 * 4 = 8\n",
            "2 * 5 = 10\n",
            "2 * 6 = 12\n",
            "2 * 7 = 14\n",
            "2 * 8 = 16\n",
            "2 * 9 = 18\n"
          ]
        }
      ],
      "source": [
        "#구구단\n",
        "\n",
        "N = int(input())\n",
        "\n",
        "for i in range(1,10):\n",
        "  print(f\"{N} * {i} = {N*i}\")\n",
        "  #f string 이용하기"
      ]
    },
    {
      "cell_type": "code",
      "source": [
        "#A+B -3\n",
        "\n",
        "T = int(input())\n",
        "\n",
        "for i in range(T):\n",
        "  A,B = map(int, input().split())\n",
        "  print(A+B)\n",
        "\n",
        "'''\n",
        "while문으로 사용하기\n",
        "T = int(input())\n",
        "\n",
        "i = 0\n",
        "while i < T:\n",
        "    A, B = map(int, input().split())\n",
        "    print(A + B)\n",
        "    i += 1\n",
        "'''"
      ],
      "metadata": {
        "colab": {
          "base_uri": "https://localhost:8080/",
          "height": 108
        },
        "id": "DGr5b00_qZdC",
        "outputId": "dc26187c-8ba3-4fab-8ae5-f38804b5e95f"
      },
      "execution_count": null,
      "outputs": [
        {
          "output_type": "stream",
          "name": "stdout",
          "text": [
            "1\n",
            "1 1\n",
            "2\n"
          ]
        },
        {
          "output_type": "execute_result",
          "data": {
            "text/plain": [
              "'\\nwhile문으로 사용하기\\nT = int(input())\\n\\ni = 0\\nwhile i < T:\\n    A, B = map(int, input().split())\\n    print(A + B)\\n    i += 1\\n'"
            ],
            "application/vnd.google.colaboratory.intrinsic+json": {
              "type": "string"
            }
          },
          "metadata": {},
          "execution_count": 11
        }
      ]
    },
    {
      "cell_type": "code",
      "source": [
        "# 합\n",
        "\n",
        "n = int(input())\n",
        "sum = 0\n",
        "\n",
        "for i in range(1,n+1):\n",
        "  sum+=i\n",
        "print(sum)"
      ],
      "metadata": {
        "colab": {
          "base_uri": "https://localhost:8080/"
        },
        "id": "OHIv22a0ruQX",
        "outputId": "745fcf5d-6b52-4298-e05e-796a3cae64b6"
      },
      "execution_count": null,
      "outputs": [
        {
          "output_type": "stream",
          "name": "stdout",
          "text": [
            "1\n",
            "1\n"
          ]
        }
      ]
    },
    {
      "cell_type": "code",
      "source": [
        "#영수증\n",
        "\n",
        "X = int(input())\n",
        "N = int(input())\n",
        "sum=0\n",
        "R_sum=0\n",
        "\n",
        "for i in range(1,N+1):\n",
        "  a,b = map(int, input().split())\n",
        "  sum = a*b\n",
        "  R_sum+=sum\n",
        "\n",
        "if X == R_sum:\n",
        "  print('Yes')\n",
        "\n",
        "else:\n",
        "  print('No')"
      ],
      "metadata": {
        "colab": {
          "base_uri": "https://localhost:8080/"
        },
        "id": "qH-UpA0NslHq",
        "outputId": "28237b1f-3b37-4bc0-a7e1-95bbf5c1bde6"
      },
      "execution_count": null,
      "outputs": [
        {
          "output_type": "stream",
          "name": "stdout",
          "text": [
            "20\n",
            "2\n",
            "1 10\n",
            "2 5\n",
            "Yes\n"
          ]
        }
      ]
    },
    {
      "cell_type": "code",
      "source": [
        "#코딩은 체육과목 입니다\n",
        "\n",
        "N = int(input())\n",
        "D = N//4\n",
        "\n",
        "for i in range(D,D+1):\n",
        "  print(f\"{'long '*i}int\")\n"
      ],
      "metadata": {
        "colab": {
          "base_uri": "https://localhost:8080/"
        },
        "id": "e1sn702cb4U6",
        "outputId": "4ce3f6c6-03a1-4a9b-a597-991de5688162"
      },
      "execution_count": null,
      "outputs": [
        {
          "output_type": "stream",
          "name": "stdout",
          "text": [
            "4\n",
            "long int\n"
          ]
        }
      ]
    },
    {
      "cell_type": "code",
      "source": [
        "# 빠른 A+ B\n",
        "'''\n",
        "Python을 사용하고 있다면, input 대신 sys.stdin.readline을 사용할 수 있다.\n",
        "단, 이때는 맨 끝의 개행문자까지 같이 입력받기 때문에 문자열을 저장하고 싶을 경우 .rstrip()을 추가로 해 주는 것이 좋다.\n",
        "대량의 데이터를 처리할 때는 sys.stdin.readline()과 sys.stdout.write()를 사용하는 것이 좋습니다. 이는 input()과 print()보다 빠릅니다.\n",
        "\n",
        "내가 한 문제인데 실행은 안되는데 답은 맞다고 함\n",
        "import sys\n",
        "T = int(sys.stdin.readline())\n",
        "for i in range(T):\n",
        "  A, B =map(int, sys.stdin.readline().split())\n",
        "  print(A+B)\n",
        "  '''\n",
        "#import sys\n",
        "\n",
        "#input = sys.stdin.readline\n",
        "#output = sys.stdout.write\n",
        "\n",
        "# 첫 번째 줄에서 T를 읽어들임\n",
        "#T = int(input().strip())\n",
        "\n",
        "# 결과를 저장할 리스트\n",
        "#results = []\n",
        "\n",
        "# T개의 줄을 반복\n",
        "#for _ in range(T):\n",
        "#    A, B = map(int, input().split())\n",
        "    # A + B를 계산하여 결과 리스트에 추가\n",
        "#    results.append(A + B)\n",
        "\n",
        "# 모든 결과를 한 번에 출력\n",
        "#output('\\n'.join(map(str, results)) + '\\n')"
      ],
      "metadata": {
        "colab": {
          "base_uri": "https://localhost:8080/",
          "height": 72
        },
        "id": "XRFkdI88fwfa",
        "outputId": "69b2239e-a75b-44d9-a686-52d0e6d622d8"
      },
      "execution_count": null,
      "outputs": [
        {
          "output_type": "execute_result",
          "data": {
            "text/plain": [
              "'\\nPython을 사용하고 있다면, input 대신 sys.stdin.readline을 사용할 수 있다.\\n단, 이때는 맨 끝의 개행문자까지 같이 입력받기 때문에 문자열을 저장하고 싶을 경우 .rstrip()을 추가로 해 주는 것이 좋다.\\n대량의 데이터를 처리할 때는 sys.stdin.readline()과 sys.stdout.write()를 사용하는 것이 좋습니다. 이는 input()과 print()보다 빠릅니다.\\n\\n내가 한 문제인데 실행은 안되는데 답은 맞다고 함\\nimport sys\\nT = int(sys.stdin.readline())\\nfor i in range(T):\\n  A, B =map(int, sys.stdin.readline().split())\\n  print(A+B)\\n  '"
            ],
            "application/vnd.google.colaboratory.intrinsic+json": {
              "type": "string"
            }
          },
          "metadata": {},
          "execution_count": 23
        }
      ]
    },
    {
      "cell_type": "code",
      "source": [
        "# A+B -7\n",
        "'''\n",
        "strip() 함수는 문자열에서 공백이나 특정 문자를 제거하는 데 사용됩니다.\n",
        "이 함수는 Python에서 매우 유용하게 사용되는 문자열 메서드 중 하나입니다. strip() 함수에는 세 가지 변형이 있습니다:\n",
        "strip(), lstrip(), rstrip().\n",
        "'''\n",
        "T = int(input().strip())\n",
        "\n",
        "for i in range(T):\n",
        "  A,B = map(int, input().split())\n",
        "  print(f\"Case #{i}: {A+B}\")"
      ],
      "metadata": {
        "colab": {
          "base_uri": "https://localhost:8080/",
          "height": 478
        },
        "id": "p_YSXAV_q9gf",
        "outputId": "dfece13d-6fc7-44d3-be79-01c1ca1a6053"
      },
      "execution_count": null,
      "outputs": [
        {
          "output_type": "stream",
          "name": "stdout",
          "text": [
            "4\n",
            "1 2\n",
            "Case #0: 3\n",
            "2 3\n",
            "Case #1: 5\n",
            "1 4\n",
            "Case #2: 5\n"
          ]
        },
        {
          "output_type": "error",
          "ename": "KeyboardInterrupt",
          "evalue": "Interrupted by user",
          "traceback": [
            "\u001b[0;31m---------------------------------------------------------------------------\u001b[0m",
            "\u001b[0;31mKeyboardInterrupt\u001b[0m                         Traceback (most recent call last)",
            "\u001b[0;32m<ipython-input-6-81020bf351fd>\u001b[0m in \u001b[0;36m<cell line: 9>\u001b[0;34m()\u001b[0m\n\u001b[1;32m      8\u001b[0m \u001b[0;34m\u001b[0m\u001b[0m\n\u001b[1;32m      9\u001b[0m \u001b[0;32mfor\u001b[0m \u001b[0mi\u001b[0m \u001b[0;32min\u001b[0m \u001b[0mrange\u001b[0m\u001b[0;34m(\u001b[0m\u001b[0mT\u001b[0m\u001b[0;34m)\u001b[0m\u001b[0;34m:\u001b[0m\u001b[0;34m\u001b[0m\u001b[0;34m\u001b[0m\u001b[0m\n\u001b[0;32m---> 10\u001b[0;31m   \u001b[0mA\u001b[0m\u001b[0;34m,\u001b[0m\u001b[0mB\u001b[0m \u001b[0;34m=\u001b[0m \u001b[0mmap\u001b[0m\u001b[0;34m(\u001b[0m\u001b[0mint\u001b[0m\u001b[0;34m,\u001b[0m \u001b[0minput\u001b[0m\u001b[0;34m(\u001b[0m\u001b[0;34m)\u001b[0m\u001b[0;34m.\u001b[0m\u001b[0msplit\u001b[0m\u001b[0;34m(\u001b[0m\u001b[0;34m)\u001b[0m\u001b[0;34m)\u001b[0m\u001b[0;34m\u001b[0m\u001b[0;34m\u001b[0m\u001b[0m\n\u001b[0m\u001b[1;32m     11\u001b[0m   \u001b[0mprint\u001b[0m\u001b[0;34m(\u001b[0m\u001b[0;34mf\"Case #{i}: {A+B}\"\u001b[0m\u001b[0;34m)\u001b[0m\u001b[0;34m\u001b[0m\u001b[0;34m\u001b[0m\u001b[0m\n",
            "\u001b[0;32m/usr/local/lib/python3.10/dist-packages/ipykernel/kernelbase.py\u001b[0m in \u001b[0;36mraw_input\u001b[0;34m(self, prompt)\u001b[0m\n\u001b[1;32m    849\u001b[0m                 \u001b[0;34m\"raw_input was called, but this frontend does not support input requests.\"\u001b[0m\u001b[0;34m\u001b[0m\u001b[0;34m\u001b[0m\u001b[0m\n\u001b[1;32m    850\u001b[0m             )\n\u001b[0;32m--> 851\u001b[0;31m         return self._input_request(str(prompt),\n\u001b[0m\u001b[1;32m    852\u001b[0m             \u001b[0mself\u001b[0m\u001b[0;34m.\u001b[0m\u001b[0m_parent_ident\u001b[0m\u001b[0;34m,\u001b[0m\u001b[0;34m\u001b[0m\u001b[0;34m\u001b[0m\u001b[0m\n\u001b[1;32m    853\u001b[0m             \u001b[0mself\u001b[0m\u001b[0;34m.\u001b[0m\u001b[0m_parent_header\u001b[0m\u001b[0;34m,\u001b[0m\u001b[0;34m\u001b[0m\u001b[0;34m\u001b[0m\u001b[0m\n",
            "\u001b[0;32m/usr/local/lib/python3.10/dist-packages/ipykernel/kernelbase.py\u001b[0m in \u001b[0;36m_input_request\u001b[0;34m(self, prompt, ident, parent, password)\u001b[0m\n\u001b[1;32m    893\u001b[0m             \u001b[0;32mexcept\u001b[0m \u001b[0mKeyboardInterrupt\u001b[0m\u001b[0;34m:\u001b[0m\u001b[0;34m\u001b[0m\u001b[0;34m\u001b[0m\u001b[0m\n\u001b[1;32m    894\u001b[0m                 \u001b[0;31m# re-raise KeyboardInterrupt, to truncate traceback\u001b[0m\u001b[0;34m\u001b[0m\u001b[0;34m\u001b[0m\u001b[0m\n\u001b[0;32m--> 895\u001b[0;31m                 \u001b[0;32mraise\u001b[0m \u001b[0mKeyboardInterrupt\u001b[0m\u001b[0;34m(\u001b[0m\u001b[0;34m\"Interrupted by user\"\u001b[0m\u001b[0;34m)\u001b[0m \u001b[0;32mfrom\u001b[0m \u001b[0;32mNone\u001b[0m\u001b[0;34m\u001b[0m\u001b[0;34m\u001b[0m\u001b[0m\n\u001b[0m\u001b[1;32m    896\u001b[0m             \u001b[0;32mexcept\u001b[0m \u001b[0mException\u001b[0m \u001b[0;32mas\u001b[0m \u001b[0me\u001b[0m\u001b[0;34m:\u001b[0m\u001b[0;34m\u001b[0m\u001b[0;34m\u001b[0m\u001b[0m\n\u001b[1;32m    897\u001b[0m                 \u001b[0mself\u001b[0m\u001b[0;34m.\u001b[0m\u001b[0mlog\u001b[0m\u001b[0;34m.\u001b[0m\u001b[0mwarning\u001b[0m\u001b[0;34m(\u001b[0m\u001b[0;34m\"Invalid Message:\"\u001b[0m\u001b[0;34m,\u001b[0m \u001b[0mexc_info\u001b[0m\u001b[0;34m=\u001b[0m\u001b[0;32mTrue\u001b[0m\u001b[0;34m)\u001b[0m\u001b[0;34m\u001b[0m\u001b[0;34m\u001b[0m\u001b[0m\n",
            "\u001b[0;31mKeyboardInterrupt\u001b[0m: Interrupted by user"
          ]
        }
      ]
    },
    {
      "cell_type": "code",
      "source": [
        "# 첫 줄에서 테스트 케이스의 개수 T를 입력받습니다.\n",
        "T = int(input().strip())\n",
        "\n",
        "# 각 테스트 케이스를 처리합니다.\n",
        "for i in range(1, T + 1):\n",
        "    # 두 정수 A와 B를 입력받습니다.\n",
        "    A, B = map(int, input().split())\n",
        "    # 결과를 출력합니다. 형식에 맞게 출력합니다.\n",
        "    print(f\"Case #{i}: {A + B}\")"
      ],
      "metadata": {
        "colab": {
          "base_uri": "https://localhost:8080/",
          "height": 460
        },
        "id": "8uy-WNj42xBl",
        "outputId": "c8403cde-53e6-47de-e6e4-cb2b8201455e"
      },
      "execution_count": null,
      "outputs": [
        {
          "output_type": "stream",
          "name": "stdout",
          "text": [
            "3\n",
            "1 3\n",
            "Case #1: 4\n",
            "4 5\n",
            "Case #2: 9\n"
          ]
        },
        {
          "output_type": "error",
          "ename": "KeyboardInterrupt",
          "evalue": "Interrupted by user",
          "traceback": [
            "\u001b[0;31m---------------------------------------------------------------------------\u001b[0m",
            "\u001b[0;31mKeyboardInterrupt\u001b[0m                         Traceback (most recent call last)",
            "\u001b[0;32m<ipython-input-7-ce97237f1e77>\u001b[0m in \u001b[0;36m<cell line: 5>\u001b[0;34m()\u001b[0m\n\u001b[1;32m      5\u001b[0m \u001b[0;32mfor\u001b[0m \u001b[0mi\u001b[0m \u001b[0;32min\u001b[0m \u001b[0mrange\u001b[0m\u001b[0;34m(\u001b[0m\u001b[0;36m1\u001b[0m\u001b[0;34m,\u001b[0m \u001b[0mT\u001b[0m \u001b[0;34m+\u001b[0m \u001b[0;36m1\u001b[0m\u001b[0;34m)\u001b[0m\u001b[0;34m:\u001b[0m\u001b[0;34m\u001b[0m\u001b[0;34m\u001b[0m\u001b[0m\n\u001b[1;32m      6\u001b[0m     \u001b[0;31m# 두 정수 A와 B를 입력받습니다.\u001b[0m\u001b[0;34m\u001b[0m\u001b[0;34m\u001b[0m\u001b[0m\n\u001b[0;32m----> 7\u001b[0;31m     \u001b[0mA\u001b[0m\u001b[0;34m,\u001b[0m \u001b[0mB\u001b[0m \u001b[0;34m=\u001b[0m \u001b[0mmap\u001b[0m\u001b[0;34m(\u001b[0m\u001b[0mint\u001b[0m\u001b[0;34m,\u001b[0m \u001b[0minput\u001b[0m\u001b[0;34m(\u001b[0m\u001b[0;34m)\u001b[0m\u001b[0;34m.\u001b[0m\u001b[0msplit\u001b[0m\u001b[0;34m(\u001b[0m\u001b[0;34m)\u001b[0m\u001b[0;34m)\u001b[0m\u001b[0;34m\u001b[0m\u001b[0;34m\u001b[0m\u001b[0m\n\u001b[0m\u001b[1;32m      8\u001b[0m     \u001b[0;31m# 결과를 출력합니다. 형식에 맞게 출력합니다.\u001b[0m\u001b[0;34m\u001b[0m\u001b[0;34m\u001b[0m\u001b[0m\n\u001b[1;32m      9\u001b[0m     \u001b[0mprint\u001b[0m\u001b[0;34m(\u001b[0m\u001b[0;34mf\"Case #{i}: {A + B}\"\u001b[0m\u001b[0;34m)\u001b[0m\u001b[0;34m\u001b[0m\u001b[0;34m\u001b[0m\u001b[0m\n",
            "\u001b[0;32m/usr/local/lib/python3.10/dist-packages/ipykernel/kernelbase.py\u001b[0m in \u001b[0;36mraw_input\u001b[0;34m(self, prompt)\u001b[0m\n\u001b[1;32m    849\u001b[0m                 \u001b[0;34m\"raw_input was called, but this frontend does not support input requests.\"\u001b[0m\u001b[0;34m\u001b[0m\u001b[0;34m\u001b[0m\u001b[0m\n\u001b[1;32m    850\u001b[0m             )\n\u001b[0;32m--> 851\u001b[0;31m         return self._input_request(str(prompt),\n\u001b[0m\u001b[1;32m    852\u001b[0m             \u001b[0mself\u001b[0m\u001b[0;34m.\u001b[0m\u001b[0m_parent_ident\u001b[0m\u001b[0;34m,\u001b[0m\u001b[0;34m\u001b[0m\u001b[0;34m\u001b[0m\u001b[0m\n\u001b[1;32m    853\u001b[0m             \u001b[0mself\u001b[0m\u001b[0;34m.\u001b[0m\u001b[0m_parent_header\u001b[0m\u001b[0;34m,\u001b[0m\u001b[0;34m\u001b[0m\u001b[0;34m\u001b[0m\u001b[0m\n",
            "\u001b[0;32m/usr/local/lib/python3.10/dist-packages/ipykernel/kernelbase.py\u001b[0m in \u001b[0;36m_input_request\u001b[0;34m(self, prompt, ident, parent, password)\u001b[0m\n\u001b[1;32m    893\u001b[0m             \u001b[0;32mexcept\u001b[0m \u001b[0mKeyboardInterrupt\u001b[0m\u001b[0;34m:\u001b[0m\u001b[0;34m\u001b[0m\u001b[0;34m\u001b[0m\u001b[0m\n\u001b[1;32m    894\u001b[0m                 \u001b[0;31m# re-raise KeyboardInterrupt, to truncate traceback\u001b[0m\u001b[0;34m\u001b[0m\u001b[0;34m\u001b[0m\u001b[0m\n\u001b[0;32m--> 895\u001b[0;31m                 \u001b[0;32mraise\u001b[0m \u001b[0mKeyboardInterrupt\u001b[0m\u001b[0;34m(\u001b[0m\u001b[0;34m\"Interrupted by user\"\u001b[0m\u001b[0;34m)\u001b[0m \u001b[0;32mfrom\u001b[0m \u001b[0;32mNone\u001b[0m\u001b[0;34m\u001b[0m\u001b[0;34m\u001b[0m\u001b[0m\n\u001b[0m\u001b[1;32m    896\u001b[0m             \u001b[0;32mexcept\u001b[0m \u001b[0mException\u001b[0m \u001b[0;32mas\u001b[0m \u001b[0me\u001b[0m\u001b[0;34m:\u001b[0m\u001b[0;34m\u001b[0m\u001b[0;34m\u001b[0m\u001b[0m\n\u001b[1;32m    897\u001b[0m                 \u001b[0mself\u001b[0m\u001b[0;34m.\u001b[0m\u001b[0mlog\u001b[0m\u001b[0;34m.\u001b[0m\u001b[0mwarning\u001b[0m\u001b[0;34m(\u001b[0m\u001b[0;34m\"Invalid Message:\"\u001b[0m\u001b[0;34m,\u001b[0m \u001b[0mexc_info\u001b[0m\u001b[0;34m=\u001b[0m\u001b[0;32mTrue\u001b[0m\u001b[0;34m)\u001b[0m\u001b[0;34m\u001b[0m\u001b[0;34m\u001b[0m\u001b[0m\n",
            "\u001b[0;31mKeyboardInterrupt\u001b[0m: Interrupted by user"
          ]
        }
      ]
    },
    {
      "cell_type": "code",
      "source": [
        "#A+B -8\n",
        "\n",
        "T = int(input().strip())\n",
        "\n",
        "for i in range(1,T+1):\n",
        "  A,B = map(int, input().split())\n",
        "  print(f\"Case #{i}:{A} + {B} = {A+B}\")"
      ],
      "metadata": {
        "id": "dV6VPy0P3jgm"
      },
      "execution_count": null,
      "outputs": []
    },
    {
      "cell_type": "code",
      "source": [
        "#별찍기\n",
        "N = int(input())\n",
        "\n",
        "for i in range(1,N+1):\n",
        "  print(\"*\"*i)"
      ],
      "metadata": {
        "id": "yXa22xxx3jhp",
        "colab": {
          "base_uri": "https://localhost:8080/"
        },
        "outputId": "c355a49b-914e-41ff-9fbd-2ec81786a8e5"
      },
      "execution_count": null,
      "outputs": [
        {
          "output_type": "stream",
          "name": "stdout",
          "text": [
            "5\n",
            "*\n",
            "**\n",
            "***\n",
            "****\n",
            "*****\n"
          ]
        }
      ]
    },
    {
      "cell_type": "code",
      "source": [
        "#별찍기-2\n",
        "   # print(f\"{m}*{i}={m*i:2d}\")  #2d: 포멧스트링 안에서 출력할 변수 지정 후 바로 옆에 포멧을 지정한다. d = dight = 십진수를 의미  = 자리를 두자리로 지정하겠단 의미가 된다.\n",
        "'''\n",
        "N = int(input())\n",
        "for i in range(1,N+1):\n",
        "  print(f\"{'*'*i:Nd}\")\n",
        "  '''\n",
        "N = int(input())\n",
        "\n",
        "for i in range(1, N + 1):\n",
        "    # 공백을 (N - i)개 출력하고, 별을 i개 출력합니다.\n",
        "    print(' ' * (N - i) + '*' * i)"
      ],
      "metadata": {
        "colab": {
          "base_uri": "https://localhost:8080/"
        },
        "id": "zrSV9Kp471yT",
        "outputId": "28c1940f-ae0d-4a65-ca45-e238ecc7b577"
      },
      "execution_count": null,
      "outputs": [
        {
          "output_type": "stream",
          "name": "stdout",
          "text": [
            "5\n",
            "    *\n",
            "   **\n",
            "  ***\n",
            " ****\n",
            "*****\n"
          ]
        }
      ]
    },
    {
      "cell_type": "code",
      "source": [
        "N = int(input())\n",
        "for i in range(1,N+1):\n",
        "  print(f\"{'*'*i:Nd}\")"
      ],
      "metadata": {
        "colab": {
          "base_uri": "https://localhost:8080/",
          "height": 200
        },
        "id": "kdq5tCM8Qzti",
        "outputId": "b4e00bce-edc7-48e4-8b79-84c0c983c919"
      },
      "execution_count": null,
      "outputs": [
        {
          "name": "stdout",
          "output_type": "stream",
          "text": [
            "5\n"
          ]
        },
        {
          "output_type": "error",
          "ename": "ValueError",
          "evalue": "Invalid format specifier",
          "traceback": [
            "\u001b[0;31m---------------------------------------------------------------------------\u001b[0m",
            "\u001b[0;31mValueError\u001b[0m                                Traceback (most recent call last)",
            "\u001b[0;32m<ipython-input-2-e89bab18320c>\u001b[0m in \u001b[0;36m<cell line: 2>\u001b[0;34m()\u001b[0m\n\u001b[1;32m      1\u001b[0m \u001b[0mN\u001b[0m \u001b[0;34m=\u001b[0m \u001b[0mint\u001b[0m\u001b[0;34m(\u001b[0m\u001b[0minput\u001b[0m\u001b[0;34m(\u001b[0m\u001b[0;34m)\u001b[0m\u001b[0;34m)\u001b[0m\u001b[0;34m\u001b[0m\u001b[0;34m\u001b[0m\u001b[0m\n\u001b[1;32m      2\u001b[0m \u001b[0;32mfor\u001b[0m \u001b[0mi\u001b[0m \u001b[0;32min\u001b[0m \u001b[0mrange\u001b[0m\u001b[0;34m(\u001b[0m\u001b[0;36m1\u001b[0m\u001b[0;34m,\u001b[0m\u001b[0mN\u001b[0m\u001b[0;34m+\u001b[0m\u001b[0;36m1\u001b[0m\u001b[0;34m)\u001b[0m\u001b[0;34m:\u001b[0m\u001b[0;34m\u001b[0m\u001b[0;34m\u001b[0m\u001b[0m\n\u001b[0;32m----> 3\u001b[0;31m   \u001b[0mprint\u001b[0m\u001b[0;34m(\u001b[0m\u001b[0;34mf\"{'*'*i:Nd}\"\u001b[0m\u001b[0;34m)\u001b[0m\u001b[0;34m\u001b[0m\u001b[0;34m\u001b[0m\u001b[0m\n\u001b[0m",
            "\u001b[0;31mValueError\u001b[0m: Invalid format specifier"
          ]
        }
      ]
    },
    {
      "cell_type": "code",
      "source": [
        "#A+B -5\n",
        "#break문은 while문이나 for문에 사용된다.\n",
        "#객체: 데이터와 그 데이터를 조작하는 메서드를 포함하는 엔티티.\n",
        "#반복 가능한 객체 (Iterable): for 문을 통해 하나씩 항목을 순회할 수 있는 객체. 리스트, 튜플, 문자열, 집합, 딕셔너리, 제너레이터 등이 이에 해당.\n",
        "\n",
        "int2=[]\n",
        "\n",
        "while True:\n",
        "  A, B = map(int, input().split())\n",
        "  if A == 0 and B == 0:\n",
        "    break\n",
        "  int2.append(A+B)\n",
        "\n",
        "for j in int2:\n",
        "  print(j)\n",
        "#int2를 브레이크 밑에다 쓰면 자동으로 0이 안써진다."
      ],
      "metadata": {
        "colab": {
          "base_uri": "https://localhost:8080/"
        },
        "id": "lOpz0ereQ4w1",
        "outputId": "3513b8ca-8c16-42a3-816f-336d44427682"
      },
      "execution_count": null,
      "outputs": [
        {
          "output_type": "stream",
          "name": "stdout",
          "text": [
            "1 1\n",
            "2 2\n",
            "3 3\n",
            "0 0\n",
            "2\n",
            "4\n",
            "6\n"
          ]
        }
      ]
    },
    {
      "cell_type": "code",
      "source": [
        "#A+B -4\n",
        "#테스트 케이스에 얼마나 들어올지 모르는 상황에서 끝나는 시점의 조건도 걸려있지 않다.\n",
        "#이런경우 try, except으로 테스트 케이스가 들어오지 않을 때 except의 break로 종료시킨다\n",
        "#try: 안에 있는 코드를 시도해라 excpet:코드가 안될경우 excpet안의 명령어를 수행해라\n",
        "\n",
        "while True:\n",
        "  try:\n",
        "      A, B = map(int, input().split())\n",
        "      print(A+B)\n",
        "  except:\n",
        "    break"
      ],
      "metadata": {
        "id": "EB64JGLEZbEg"
      },
      "execution_count": null,
      "outputs": []
    }
  ]
}