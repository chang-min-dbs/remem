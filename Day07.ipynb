{
  "nbformat": 4,
  "nbformat_minor": 0,
  "metadata": {
    "colab": {
      "provenance": [],
      "authorship_tag": "ABX9TyNaz5Yv/yYPtt1qNOlo+TQy",
      "include_colab_link": true
    },
    "kernelspec": {
      "name": "python3",
      "display_name": "Python 3"
    },
    "language_info": {
      "name": "python"
    }
  },
  "cells": [
    {
      "cell_type": "markdown",
      "metadata": {
        "id": "view-in-github",
        "colab_type": "text"
      },
      "source": [
        "<a href=\"https://colab.research.google.com/github/chang-min-dbs/remem/blob/python_summer_ZG/Day07.ipynb\" target=\"_parent\"><img src=\"https://colab.research.google.com/assets/colab-badge.svg\" alt=\"Open In Colab\"/></a>"
      ]
    },
    {
      "cell_type": "code",
      "execution_count": null,
      "metadata": {
        "colab": {
          "base_uri": "https://localhost:8080/"
        },
        "id": "RpW6TiF2Dt1J",
        "outputId": "2a9cb97b-b244-4b69-8d95-55d208f86cdb"
      },
      "outputs": [
        {
          "output_type": "stream",
          "name": "stdout",
          "text": [
            "인접한 nodes of A : ['B', 'C']\n",
            "인접한 nodes of B : ['A', 'D', 'E']\n",
            "인접한 nodes of C : ['A', 'F']\n",
            "인접한 nodes of D : ['B']\n",
            "인접한 nodes of E : ['B', 'F']\n",
            "인접한 nodes of F : ['C', 'E']\n"
          ]
        },
        {
          "output_type": "execute_result",
          "data": {
            "text/plain": [
              "['A', 'C', 'F']"
            ]
          },
          "metadata": {},
          "execution_count": 1
        }
      ],
      "source": [
        "# BFS : 최단 경로 찾기\n",
        "from collections import defaultdict, deque\n",
        "\n",
        "# 최단 경로 찾기는 queue를 이용, 인접 노드들부터 방문하므로 BFS(너비우선탐색)\n",
        "def shortest_path(graph, start_node, end_node):\n",
        "    queue = deque([(start_node, [start_node])])\n",
        "    # [] <-- list로 deque 초기화\n",
        "    # (현재 노드, [현재 노드까지의 경로])\n",
        "    visited = set([start_node]) # 중복을 없앤 방문한 노드\n",
        "    while queue:    # 큐가 비어있지 않는다면\n",
        "        node, dist = queue.popleft()\n",
        "        if node == end_node:\n",
        "            return dist\n",
        "        for neighbor in graph[node]:\n",
        "            if neighbor not in visited:\n",
        "                visited.add(neighbor)\n",
        "                queue.append((neighbor, dist + [neighbor]))\n",
        "\n",
        "class Graph:    # 무방향 그래프\n",
        "    def __init__(self):\n",
        "        self.adj_list = defaultdict(list)\n",
        "        # key가 없으면 key를 insert 해주는 dict\n",
        "\n",
        "    def add_edge(self, vertex1, vertex2):   # 정점 두개 이어주는 함수\n",
        "        self.adj_list[vertex1].append(vertex2)\n",
        "        self.adj_list[vertex2].append(vertex1)  # 점 두개 사이에 간선이 추가\n",
        "\n",
        "    def print_adj(self):\n",
        "        for node in self.adj_list:\n",
        "            print(f\"인접한 nodes of {node} : {self.adj_list[node]}\")\n",
        "\n",
        "graph = Graph()\n",
        "graph.add_edge('A', 'B')\n",
        "graph.add_edge('A', 'C')\n",
        "graph.add_edge('B', 'D')\n",
        "graph.add_edge('B', 'E')\n",
        "graph.add_edge('C', 'F')\n",
        "graph.add_edge('E', 'F')\n",
        "graph.print_adj()\n",
        "\n",
        "shortest_path(graph.adj_list, 'A', 'F')"
      ]
    },
    {
      "cell_type": "code",
      "source": [
        "# 사이클 탐지, 경로 존재하는지, 미로 탐색, 모든 노드가 서로 도달 가능한지 검사\n",
        "# dfs -> stack, 재귀함수 구현\n",
        "def has_cycle(graph):\n",
        "    def dfs(node, parent): # 함수 내의 함수\n",
        "        # node : 현재 방문 중인 노드, parent : 현재 노드 방문 직전 노드\n",
        "        visited.add(node)\n",
        "        for neighbor in graph.adj_list[node]:\n",
        "            if neighbor not in visited:\n",
        "                if dfs(neighbor, node): # 재귀함수 호출, 깊숙이 들어감 -> dfs\n",
        "                    return True\n",
        "            elif neighbor != parent: # 이웃 노드가 이미 방문된 상태면 사이클이 존재\n",
        "                return True\n",
        "        return False\n",
        "\n",
        "    visited = set()\n",
        "    for node in graph.adj_list:\n",
        "        if node not in visited:\n",
        "            if dfs(node, None): # 최초 실행일 때는 parent가 비어있음\n",
        "                return True\n",
        "    return False    # True가 return되지 않았다면 최종 False return\n",
        "\n",
        "graph = Graph()\n",
        "graph.add_edge('A', 'B')\n",
        "# graph.add_edge('B', 'C')\n",
        "graph.add_edge('C', 'A')\n",
        "graph.add_edge('C', 'D')\n",
        "\n",
        "print(has_cycle(graph))\n",
        "graph.print_adj()"
      ],
      "metadata": {
        "colab": {
          "base_uri": "https://localhost:8080/"
        },
        "id": "RIEAIBHzDxkm",
        "outputId": "3470c101-a9f9-4be7-b4b8-6e9b3eb49d8c"
      },
      "execution_count": null,
      "outputs": [
        {
          "output_type": "stream",
          "name": "stdout",
          "text": [
            "False\n",
            "인접한 nodes of A : ['B', 'C']\n",
            "인접한 nodes of B : ['A']\n",
            "인접한 nodes of C : ['A', 'D']\n",
            "인접한 nodes of D : ['C']\n"
          ]
        }
      ]
    },
    {
      "cell_type": "code",
      "source": [
        "# 동적 계획법과 메모이제이션 개념\n",
        "'''\n",
        "동적계획법(Dynamic Programming)\n",
        "- 복잡한 문제를 작은 하위 문제로 나누어 해결하고, 하위 문제 결과를 재사용하여 전체 문제를 해결하는 알고리즘\n",
        "- 예를 들어 재귀 함수로 연산할 때, 중복된 계산을 피해서 연산 수행 시간을 최적화할 수 있음\n",
        "\n",
        "- Top-Down 방식 : 재귀와 메모이제이션을 사용하여 큰 문제를 하위 문제로 나눠 푸는 방식\n",
        "- Bottom-Up 방식 : 작은 문제부터 차례대로 풀어가면서 결과를 저장해 큰 문제를 해결하는 방식\n",
        "\n",
        "메모이제이션(Memoization)\n",
        "- 함수의 결과를 저장해두고, 동일한 입력에 대해 이미 저장된 결과를 재상용하여 중복 계산을 피하는 최적한 기법\n",
        "- 주로 동적 계획법의 탑다운 방식과 함께 많이 사용되고, 시간 복잡도를 크게 줄일 수 있음\n",
        "'''"
      ],
      "metadata": {
        "colab": {
          "base_uri": "https://localhost:8080/",
          "height": 90
        },
        "id": "74p4LcepD0l-",
        "outputId": "1d1cfa02-7866-460c-dc3a-ad8d9b09ded7"
      },
      "execution_count": null,
      "outputs": [
        {
          "output_type": "execute_result",
          "data": {
            "text/plain": [
              "'\\n동적계획법(Dynamic Programming)\\n- 복잡한 문제를 작은 하위 문제로 나누어 해결하고, 하위 문제 결과를 재사용하여 전체 문제를 해결하는 알고리즘\\n- 예를 들어 재귀 함수로 연산할 때, 중복된 계산을 피해서 연산 수행 시간을 최적화할 수 있음\\n\\n- Top-Down 방식 : 재귀와 메모이제이션을 사용하여 큰 문제를 하위 문제로 나눠 푸는 방식\\n- Bottom-Up 방식 : 작은 문제부터 차례대로 풀어가면서 결과를 저장해 큰 문제를 해결하는 방식\\n\\n메모이제이션(Memoization)\\n- 함수의 결과를 저장해두고, 동일한 입력에 대해 이미 저장된 결과를 재상용하여 중복 계산을 피하는 최적한 기법\\n- 주로 동적 계획법의 탑다운 방식과 함께 많이 사용되고, 시간 복잡도를 크게 줄일 수 있음\\n'"
            ],
            "application/vnd.google.colaboratory.intrinsic+json": {
              "type": "string"
            }
          },
          "metadata": {},
          "execution_count": 3
        }
      ]
    },
    {
      "cell_type": "code",
      "source": [
        "# 피보나치 수열 - TopDown + 메모이제이션\n",
        "def fibonacci1(n, memo={}):\n",
        "    print(\"called\")\n",
        "    if n in memo:   # 중복 계산을 막기 위해 이미 계산된 결과는 그대로 return\n",
        "        return memo[n]\n",
        "    if n <= 1:\n",
        "        return n    # 1이면 1, 0이면 0 return\n",
        "    memo[n] = fibonacci1(n-1, memo) + fibonacci1(n-2, memo)\n",
        "    return memo[n]\n",
        "\n",
        "print(fibonacci1(10))"
      ],
      "metadata": {
        "colab": {
          "base_uri": "https://localhost:8080/"
        },
        "id": "EaiJz_yfD34l",
        "outputId": "46a8c63c-83eb-4423-e416-cfb837388f03"
      },
      "execution_count": null,
      "outputs": [
        {
          "output_type": "stream",
          "name": "stdout",
          "text": [
            "called\n",
            "called\n",
            "called\n",
            "called\n",
            "called\n",
            "called\n",
            "called\n",
            "called\n",
            "called\n",
            "called\n",
            "called\n",
            "called\n",
            "called\n",
            "called\n",
            "called\n",
            "called\n",
            "called\n",
            "called\n",
            "called\n",
            "55\n"
          ]
        }
      ]
    },
    {
      "cell_type": "code",
      "source": [
        "def fibonacci(n):\n",
        "    print(\"called\")\n",
        "    if n <= 1:\n",
        "        return n\n",
        "    else:\n",
        "        return fibonacci(n-1) + fibonacci(n-2)\n",
        "\n",
        "print(fibonacci(10))"
      ],
      "metadata": {
        "colab": {
          "base_uri": "https://localhost:8080/"
        },
        "id": "bnilDDsAD7EF",
        "outputId": "f6ff84b6-95fd-4ad4-bf3c-8f9fbadd35f5"
      },
      "execution_count": null,
      "outputs": [
        {
          "output_type": "stream",
          "name": "stdout",
          "text": [
            "called\n",
            "called\n",
            "called\n",
            "called\n",
            "called\n",
            "called\n",
            "called\n",
            "called\n",
            "called\n",
            "called\n",
            "called\n",
            "called\n",
            "called\n",
            "called\n",
            "called\n",
            "called\n",
            "called\n",
            "called\n",
            "called\n",
            "called\n",
            "called\n",
            "called\n",
            "called\n",
            "called\n",
            "called\n",
            "called\n",
            "called\n",
            "called\n",
            "called\n",
            "called\n",
            "called\n",
            "called\n",
            "called\n",
            "called\n",
            "called\n",
            "called\n",
            "called\n",
            "called\n",
            "called\n",
            "called\n",
            "called\n",
            "called\n",
            "called\n",
            "called\n",
            "called\n",
            "called\n",
            "called\n",
            "called\n",
            "called\n",
            "called\n",
            "called\n",
            "called\n",
            "called\n",
            "called\n",
            "called\n",
            "called\n",
            "called\n",
            "called\n",
            "called\n",
            "called\n",
            "called\n",
            "called\n",
            "called\n",
            "called\n",
            "called\n",
            "called\n",
            "called\n",
            "called\n",
            "called\n",
            "called\n",
            "called\n",
            "called\n",
            "called\n",
            "called\n",
            "called\n",
            "called\n",
            "called\n",
            "called\n",
            "called\n",
            "called\n",
            "called\n",
            "called\n",
            "called\n",
            "called\n",
            "called\n",
            "called\n",
            "called\n",
            "called\n",
            "called\n",
            "called\n",
            "called\n",
            "called\n",
            "called\n",
            "called\n",
            "called\n",
            "called\n",
            "called\n",
            "called\n",
            "called\n",
            "called\n",
            "called\n",
            "called\n",
            "called\n",
            "called\n",
            "called\n",
            "called\n",
            "called\n",
            "called\n",
            "called\n",
            "called\n",
            "called\n",
            "called\n",
            "called\n",
            "called\n",
            "called\n",
            "called\n",
            "called\n",
            "called\n",
            "called\n",
            "called\n",
            "called\n",
            "called\n",
            "called\n",
            "called\n",
            "called\n",
            "called\n",
            "called\n",
            "called\n",
            "called\n",
            "called\n",
            "called\n",
            "called\n",
            "called\n",
            "called\n",
            "called\n",
            "called\n",
            "called\n",
            "called\n",
            "called\n",
            "called\n",
            "called\n",
            "called\n",
            "called\n",
            "called\n",
            "called\n",
            "called\n",
            "called\n",
            "called\n",
            "called\n",
            "called\n",
            "called\n",
            "called\n",
            "called\n",
            "called\n",
            "called\n",
            "called\n",
            "called\n",
            "called\n",
            "called\n",
            "called\n",
            "called\n",
            "called\n",
            "called\n",
            "called\n",
            "called\n",
            "called\n",
            "called\n",
            "called\n",
            "called\n",
            "called\n",
            "called\n",
            "called\n",
            "called\n",
            "called\n",
            "called\n",
            "called\n",
            "called\n",
            "55\n"
          ]
        }
      ]
    },
    {
      "cell_type": "code",
      "source": [
        "# Bottom-up 동적 계획법(Dynamic Programming)\n",
        "def fibonacci2(n):\n",
        "    if n <= 1:\n",
        "        return n\n",
        "\n",
        "    # 기억하는 테이블 초기화\n",
        "    dp = [0] * (n + 1)\n",
        "    dp[1] = 1           # fi(1) = 1\n",
        "\n",
        "    # 작은 문제부터 큰 문제로 해결\n",
        "    for i in range(2, n+1):\n",
        "        dp[i] = dp[i-1] + dp[i-2]   # 피보나치 수열의 정의\n",
        "\n",
        "    return dp[n]\n",
        "\n",
        "print(fibonacci2(10))"
      ],
      "metadata": {
        "colab": {
          "base_uri": "https://localhost:8080/"
        },
        "id": "CS_aPt_ND9iu",
        "outputId": "84e67a57-80f3-4781-b7e7-3ae9476f584c"
      },
      "execution_count": null,
      "outputs": [
        {
          "output_type": "stream",
          "name": "stdout",
          "text": [
            "55\n"
          ]
        }
      ]
    },
    {
      "cell_type": "code",
      "source": [
        "# 동적 계획법 예제\n",
        "# 배낭 문제 : 주어진 무게 제한 내에서 최대 가치를 계산해내는 문제\n",
        "def knapsack(weights, values, W, n, memo = {}):\n",
        "    if (W, n) in memo:  # 순서쌍이 이미 저장되어 있는 경우 저장된 값 반환\n",
        "        return memo[(W, n)]\n",
        "    if n==0 or W==0:        # 기저 사례 = base case\n",
        "        return 0\n",
        "    if weights[n-1] > W:\n",
        "        memo[(W, n)] = knapsack(weights, values, W, n-1, memo)\n",
        "        # 현재 고려 중인 아이템의 무게(weights[n-1])가 배낭의 무게보다 크면\n",
        "        # 해당 아이템을 제외하고 나머지 아이템들로 문제 해결\n",
        "    else:\n",
        "        # 아이템을 배낭에 담는 경우 : 현재 아이템의 가치와 나머지 아이템들로 계산한 최대 가치\n",
        "        # 아이템을 배낭에 담지 않는 경우 : 현재 아이템을 제외한 나머지 아이템\n",
        "        memo[(W, n)] = max(\n",
        "            values[n-1] + knapsack(weights, values, W - weights[n-1], n-1, memo),\n",
        "            knapsack(weights, values, W, n-1, memo)\n",
        "        )\n",
        "\n",
        "    return memo[(W, n)]\n",
        "\n",
        "weights = [1, 2, 3, 4]\n",
        "values = [10, 20, 30, 40]\n",
        "# 각각 무게가 1, 2, 3, 4이고 가치가 10, 20, 30, 40인 총 4개의 item이 있을 때\n",
        "W = 5               # 배낭의 최대 무게\n",
        "n = len(weights)    # 아이템의 개수\n",
        "# 4개의 아이템 중에서 배낭의 최대 무게 5 이하인 최대의 가치를 가지는 조합 찾기\n",
        "print(knapsack(weights, values, W, n))"
      ],
      "metadata": {
        "colab": {
          "base_uri": "https://localhost:8080/"
        },
        "id": "xku-bN1qEBoO",
        "outputId": "b31f1070-0b62-4ad3-d439-a4f9f0bae763"
      },
      "execution_count": null,
      "outputs": [
        {
          "output_type": "stream",
          "name": "stdout",
          "text": [
            "50\n"
          ]
        }
      ]
    },
    {
      "cell_type": "code",
      "source": [
        "# 탐욕법(Greedy Algorithm)\n",
        "# 각 단계에서 가장 최적이라고 생각되는 선택을 하는 방법\n",
        "# 복잡한 문제를 해결하는 간단하고 직관적인 방법이지만, 항상 최적의 해를 보장하진 않아서\n",
        "# 유형을 잘 보고 전체 최적의 해로 이어질 수 있는지 판단하고 적용하는 것이 중요함\n",
        "\n",
        "# 특정 금액을 주어진 동전들로 최소한의 동전 개수로 만드는 문제\n",
        "def coin_change(coins, amount):\n",
        "    coins.sort(reverse=True)    # 내림차순으로 정렬\n",
        "    # 가장 큰 동전부터 사용하여 남은 금액을 빨리 줄이기 위해\n",
        "    count = 0\n",
        "    for coin in coins:\n",
        "        while amount >= coin:\n",
        "            amount -= coin  # 남은 양에서 coin만큼 줄이기\n",
        "            count+=1\n",
        "    return count if amount == 0 else -1\n",
        "\n",
        "coins = [1, 3, 4]\n",
        "amount = 6         # 주어진 동전을 최소 개수로 써서 금액을 완성\n",
        "print(coin_change(coins, amount))"
      ],
      "metadata": {
        "id": "dPRRhOM-EFW2",
        "outputId": "2b74c60e-ff6e-4383-c40a-2a0bb680b237",
        "colab": {
          "base_uri": "https://localhost:8080/"
        }
      },
      "execution_count": null,
      "outputs": [
        {
          "output_type": "stream",
          "name": "stdout",
          "text": [
            "3\n"
          ]
        }
      ]
    },
    {
      "cell_type": "code",
      "source": [],
      "metadata": {
        "id": "GHnQueQMEIZV"
      },
      "execution_count": null,
      "outputs": []
    }
  ]
}