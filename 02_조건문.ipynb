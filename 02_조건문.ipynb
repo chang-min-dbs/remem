{
  "nbformat": 4,
  "nbformat_minor": 0,
  "metadata": {
    "colab": {
      "provenance": [],
      "authorship_tag": "ABX9TyMS+kRKBslgDiukuJOYobW+",
      "include_colab_link": true
    },
    "kernelspec": {
      "name": "python3",
      "display_name": "Python 3"
    },
    "language_info": {
      "name": "python"
    }
  },
  "cells": [
    {
      "cell_type": "markdown",
      "metadata": {
        "id": "view-in-github",
        "colab_type": "text"
      },
      "source": [
        "<a href=\"https://colab.research.google.com/github/chang-min-dbs/remem/blob/%EB%B0%B1%EC%A4%80-%EB%8B%A8%EA%B3%84%EB%B3%84/02_%EC%A1%B0%EA%B1%B4%EB%AC%B8.ipynb\" target=\"_parent\"><img src=\"https://colab.research.google.com/assets/colab-badge.svg\" alt=\"Open In Colab\"/></a>"
      ]
    },
    {
      "cell_type": "code",
      "execution_count": null,
      "metadata": {
        "id": "FJGJzpQfB8Pv",
        "colab": {
          "base_uri": "https://localhost:8080/"
        },
        "outputId": "8c9d4ded-9c49-458a-a550-182e99ef725b"
      },
      "outputs": [
        {
          "output_type": "stream",
          "name": "stdout",
          "text": [
            "1 2\n",
            "<\n"
          ]
        }
      ],
      "source": [
        "#두 수 비교하기\n",
        "\n",
        "A, B = map(int, input().split())\n",
        "if A > B:\n",
        "  print('>')\n",
        "elif A < B:\n",
        "  print('<')\n",
        "elif A == B:\n",
        "  print('==')"
      ]
    },
    {
      "cell_type": "code",
      "source": [
        "#시험 성적\n",
        "\n",
        "score = int(input())\n",
        "\n",
        "if 90 <= score <= 100:\n",
        "  print('A')\n",
        "elif 80<= score <= 89:\n",
        "  print('B')\n",
        "elif 70<= score <= 79:\n",
        "  print('C')\n",
        "elif 60 <= score <= 69:\n",
        "  print('D')\n",
        "else:\n",
        "  print('F')"
      ],
      "metadata": {
        "colab": {
          "base_uri": "https://localhost:8080/"
        },
        "id": "a4N84l_MGKH3",
        "outputId": "7905ea12-df59-4732-b2d9-80595956e282"
      },
      "execution_count": null,
      "outputs": [
        {
          "output_type": "stream",
          "name": "stdout",
          "text": [
            "30\n",
            "F\n"
          ]
        }
      ]
    },
    {
      "cell_type": "code",
      "source": [
        "# 윤년\n",
        "\n",
        "year = int(input())\n",
        "\n",
        "if year%4==0 and year%100 != 0 or year%400 == 0:\n",
        "  #if year%100 != 0 or year%400 == 0:\n",
        "    print('1')\n",
        "else:\n",
        "  print('0')\n",
        "#  if (year % 4 == 0 and year % 100 != 0) or year % 400 == 0: 이런식으로 괄호도 가능하다!"
      ],
      "metadata": {
        "colab": {
          "base_uri": "https://localhost:8080/"
        },
        "id": "vhVu7KXBegtH",
        "outputId": "649f7f34-bedc-4298-981b-c6791c98551b"
      },
      "execution_count": null,
      "outputs": [
        {
          "output_type": "stream",
          "name": "stdout",
          "text": [
            "2000\n",
            "1\n"
          ]
        }
      ]
    },
    {
      "cell_type": "code",
      "source": [
        "# 사분면 고르기\n",
        "\n",
        "x = int(input())\n",
        "y = int(input())\n",
        "\n",
        "if x>0 and y>0:\n",
        "  print('1')\n",
        "elif x<0 and y>0:\n",
        "  print('2')\n",
        "elif x<0 and y<0:\n",
        "  print('3')\n",
        "elif x>0 and y<0:\n",
        "  print('4')"
      ],
      "metadata": {
        "colab": {
          "base_uri": "https://localhost:8080/"
        },
        "id": "CJcuSw8Rf0c_",
        "outputId": "d1de160d-9aac-4786-b754-e97cf282fded"
      },
      "execution_count": null,
      "outputs": [
        {
          "output_type": "stream",
          "name": "stdout",
          "text": [
            "9\n",
            "-13\n",
            "4\n"
          ]
        }
      ]
    },
    {
      "cell_type": "code",
      "source": [
        "# 알람시계\n",
        "\n",
        "H, M = map(int, input().split())  #입력\n",
        "0 <= H <= 23 and 0 <= M <= 59 # 문제 조건\n",
        "if H-1<0:                         #H=0일 때 23시로 넘어가는 조건 --- 그냥 h==0으로 조건 쓰면 되잖어.\n",
        "  if M-45<0:                       # H-1 이 곧 23시인 조건쓴것\n",
        "    print(23, 60+(M-45))\n",
        "  elif M-45>0:\n",
        "    print(23, M-45)\n",
        "  elif M-45==0:\n",
        "    print(0, 0)\n",
        "\n",
        "elif H-1>=0:\n",
        "  if M-45<0:\n",
        "    print(H-1,60+(M-45))\n",
        "  elif M-45>0:\n",
        "    print(H, M-45)\n",
        "  elif M-45==0:\n",
        "    print(H, 0)\n",
        "\n",
        "  # 1. 분이 0이 될때, 2. 시가 0에서 23으로 넘어갈때 3. 0시0분"
      ],
      "metadata": {
        "colab": {
          "base_uri": "https://localhost:8080/"
        },
        "id": "9_YU2cRAkG0d",
        "outputId": "ddb5d529-ada7-44d5-8f68-a2b1c8700fde"
      },
      "execution_count": null,
      "outputs": [
        {
          "output_type": "stream",
          "name": "stdout",
          "text": [
            "3 5\n",
            "2 20\n"
          ]
        }
      ]
    },
    {
      "cell_type": "code",
      "source": [
        "# 지피티가 알려준 코드\n",
        "\n",
        "\n",
        "H, M = map(int, input().split())  # 입력\n",
        "\n",
        "if M < 45:  # 분이 45분보다 작은 경우\n",
        "    M = 60 - (45 - M)  # 60분에서 45분을 뺀 나머지를 더함\n",
        "    if H == 0:  # 시간이 0인 경우 23시로 넘어감\n",
        "        H = 23\n",
        "    else:  # 그렇지 않으면 시간에서 1을 뺌\n",
        "        H -= 1\n",
        "else:  # 분이 45분 이상인 경우\n",
        "    M -= 45\n",
        "\n",
        "print(H, M)"
      ],
      "metadata": {
        "id": "yhciylkJurLM"
      },
      "execution_count": null,
      "outputs": []
    },
    {
      "cell_type": "code",
      "source": [
        "# 오븐 시계\n",
        "\n",
        "A, B = map(int,input().split())\n",
        "C = int(input())\n",
        "D = B + C\n",
        "if D>59:\n",
        "  A+=D//60\n",
        "  D = D%60\n",
        "  if A>23:\n",
        "    A = A % 24\n",
        "else:\n",
        "  D =\n",
        "\n",
        "print(A, D)\n",
        "#A = 0 + (D//60) - 1 대신 A = A % 24로 변경하여 시간을 24시간 형식으로 변환합니다."
      ],
      "metadata": {
        "colab": {
          "base_uri": "https://localhost:8080/"
        },
        "id": "8cXvUXQ4vyXN",
        "outputId": "57254567-5140-4c01-8cd0-842215f86caf"
      },
      "execution_count": null,
      "outputs": [
        {
          "output_type": "stream",
          "name": "stdout",
          "text": [
            "14 40\n",
            "80\n",
            "16 0\n"
          ]
        }
      ]
    },
    {
      "cell_type": "code",
      "source": [
        "#주사위 세개\n",
        "\n",
        "A,B,C = map(int, input().split())\n",
        "same_num = 0\n",
        "if A == B == C:\n",
        "  print(10000+(A*1000))\n",
        "elif A==B or B==C or A==C:\n",
        "  if A == B:\n",
        "    same_num = A\n",
        "  elif B == C:\n",
        "    same_num = B\n",
        "  elif A == C:\n",
        "    same_num = C\n",
        "  print(1000+(same_num*100))\n",
        "\n",
        "else:\n",
        "  if A>B and A>C:\n",
        "    print(A*100)\n",
        "  elif B>A and B>C:\n",
        "    print(B*100)\n",
        "  elif C>A and C>B:\n",
        "    print(C*100)"
      ],
      "metadata": {
        "id": "nBspUKGGw36N"
      },
      "execution_count": null,
      "outputs": []
    },
    {
      "cell_type": "code",
      "source": [],
      "metadata": {
        "id": "iCkJ8n0nnD4b"
      },
      "execution_count": null,
      "outputs": []
    }
  ]
}