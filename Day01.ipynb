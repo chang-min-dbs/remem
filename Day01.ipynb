{
  "nbformat": 4,
  "nbformat_minor": 0,
  "metadata": {
    "colab": {
      "provenance": [],
      "authorship_tag": "ABX9TyP/TymJedSAOUVqZkpztu8f",
      "include_colab_link": true
    },
    "kernelspec": {
      "name": "python3",
      "display_name": "Python 3"
    },
    "language_info": {
      "name": "python"
    }
  },
  "cells": [
    {
      "cell_type": "markdown",
      "metadata": {
        "id": "view-in-github",
        "colab_type": "text"
      },
      "source": [
        "<a href=\"https://colab.research.google.com/github/chang-min-dbs/remem/blob/python_summer/Day01.ipynb\" target=\"_parent\"><img src=\"https://colab.research.google.com/assets/colab-badge.svg\" alt=\"Open In Colab\"/></a>"
      ]
    },
    {
      "cell_type": "code",
      "execution_count": null,
      "metadata": {
        "colab": {
          "base_uri": "https://localhost:8080/"
        },
        "id": "V-usYSVcnjBU",
        "outputId": "5441f49d-1762-422a-a0c0-3722d9ef25dd"
      },
      "outputs": [
        {
          "output_type": "stream",
          "name": "stdout",
          "text": [
            "Hello World\n"
          ]
        }
      ],
      "source": [
        "print(\"Hello World\")\n"
      ]
    },
    {
      "cell_type": "code",
      "source": [],
      "metadata": {
        "id": "w5OO2bADRZ1t"
      },
      "execution_count": null,
      "outputs": []
    },
    {
      "cell_type": "markdown",
      "source": [
        "자료형:\n",
        " - 정수형(integer): int\n",
        "  크기비교, 일반적인 수학 연산\n",
        "\n",
        "  integer는 정수라는 뜻으로 파이썬에서 \"999\"와 같은 숫자로 된 문자를 정수로 인식하게 해줍니다\n",
        "\n",
        "\n",
        " - 문자형: str\n",
        " (특정한 연산도 가능) 연결 연산, (파이썬에서만) 곱셈 연산 가능 --- 문자 그대로 나오게끔함\n",
        " --->서로 자료형변환을 통해\n"
      ],
      "metadata": {
        "id": "GorweWO0rdwO"
      }
    },
    {
      "cell_type": "code",
      "source": [
        "myinput = input(\"숫자를 입력받습니다\")\n",
        "myinput = int(myinput)\n",
        "\n",
        "if( myinput > 10):\n",
        " print(\"이 숫자는 10보다 큽니다.\")"
      ],
      "metadata": {
        "colab": {
          "base_uri": "https://localhost:8080/"
        },
        "id": "IBcIwxwTsIlI",
        "outputId": "292f3374-3541-4489-9c48-d54166898567"
      },
      "execution_count": null,
      "outputs": [
        {
          "output_type": "stream",
          "name": "stdout",
          "text": [
            "숫자를 입력받습니다11\n",
            "이 숫자는 10보다 큽니다.\n"
          ]
        }
      ]
    },
    {
      "cell_type": "markdown",
      "source": [],
      "metadata": {
        "id": "3UYc_hMixCsm"
      }
    },
    {
      "cell_type": "markdown",
      "source": [
        "다른언어:\n",
        "파이썬: 변수선언에 자료형이 필요없다.\n",
        "예시가 마이 인풋임, 박스가 만들어졌다 생각\n",
        "숫자를 입력받습니다는 매개변수이다.\n",
        "> 연산자는\n",
        "마이인풋인 문자열을 숫자열로 바꿔주자\n",
        "\n",
        "-이거 왜 나 안되냐"
      ],
      "metadata": {
        "id": "RVMiCmUUsi8H"
      }
    },
    {
      "cell_type": "code",
      "source": [
        "print(1)\n",
        "print(1 + 3)\n",
        "print(1 + 3 * 5)"
      ],
      "metadata": {
        "colab": {
          "base_uri": "https://localhost:8080/"
        },
        "id": "M2V1PRVAtdBW",
        "outputId": "669cd28f-60eb-4762-cd0b-e4d848bfdf3c"
      },
      "execution_count": null,
      "outputs": [
        {
          "output_type": "stream",
          "name": "stdout",
          "text": [
            "1\n",
            "4\n",
            "16\n"
          ]
        }
      ]
    },
    {
      "cell_type": "code",
      "source": [
        "#print(1 + '1')\n",
        "print(str(1) + '1')"
      ],
      "metadata": {
        "id": "LOYSRWfitrnx",
        "colab": {
          "base_uri": "https://localhost:8080/"
        },
        "outputId": "18da975d-1b7d-4958-e8ea-0536b6d815fb"
      },
      "execution_count": null,
      "outputs": [
        {
          "output_type": "stream",
          "name": "stdout",
          "text": [
            "11\n"
          ]
        }
      ]
    },
    {
      "cell_type": "markdown",
      "source": [
        "1 = 숫자 `1` = 문자\n",
        "정수 1을 자료형변환str을해서 에러가 안나게끔함\n",
        "```\n",
        "# 코드로 형식 지정됨\n",
        "```\n",
        "\n"
      ],
      "metadata": {
        "id": "K9iGMru9ttIV"
      }
    },
    {
      "cell_type": "code",
      "source": [
        "print(3.36) #실수형\n",
        "print(int(3.36)) #실수형 숫자를 정수형 숫자로 변환 --> 3만나옴\n",
        "print(float(3))  #정수형 숫자를 실수형 숫자로 변환 - 자료형변환 함수인데 실수형태로 표현\n",
        "print(bool(3))   #논리형 : True / False\n",
        "print(bool(0))\n",
        "# True : 0이 아니거나 조건이 맞을 때\n",
        "# False : 0이거나 조건이 아닐 떄\n",
        "#정수형: 소수점 없는 숫자, 실수형: 소수점 있는 숫자"
      ],
      "metadata": {
        "colab": {
          "base_uri": "https://localhost:8080/"
        },
        "id": "2BShwJfSuFp-",
        "outputId": "df0d9879-14ae-425b-91c9-bd3be5d03807"
      },
      "execution_count": null,
      "outputs": [
        {
          "output_type": "stream",
          "name": "stdout",
          "text": [
            "3.36\n",
            "3\n",
            "3.0\n",
            "True\n",
            "False\n"
          ]
        }
      ]
    },
    {
      "cell_type": "markdown",
      "source": [
        ".표시로 소수표시는 완전 다른거임\n",
        "그래서 3.36은 실수형임"
      ],
      "metadata": {
        "id": "97adOmnuucUm"
      }
    },
    {
      "cell_type": "markdown",
      "source": [
        "\n",
        "예약어/자료형 변환\n",
        "- int :정수로 형변환\n",
        "- str : 문자열로 형변환\n",
        "- float : 실수형으로 형변환\n",
        "- bool : 논리형으로 형변환(True/false)\n",
        "예약어는 변수이름으로 쓸 수 있지만 충돌 가능성이 있기에 변수 이름으로는 지양할 것"
      ],
      "metadata": {
        "id": "epRelzM8xE1M"
      }
    },
    {
      "cell_type": "code",
      "source": [
        "a = input(\"숫자1을 입력하세요 : \")\n",
        "print(type(a)) #여기 다시 돌려보기\n",
        "b = input(\"숫자2를 입력하세요 : \")\n",
        "print(type(b))\n",
        "\n",
        "#즉, a,b의 타입은 str이다.\n",
        "#type도 a,b라는 변수의 자료형을 알려주는 함수라 생각하면된"
      ],
      "metadata": {
        "colab": {
          "base_uri": "https://localhost:8080/"
        },
        "id": "P5D_E0Ndx0TE",
        "outputId": "f4c1e133-8dee-40f8-88be-7cf1c14af93c"
      },
      "execution_count": null,
      "outputs": [
        {
          "output_type": "stream",
          "name": "stdout",
          "text": [
            "숫자1을 입력하세요 : 1\n",
            "<class 'str'>\n",
            "숫자2를 입력하세요 : 2\n",
            "<class 'str'>\n"
          ]
        }
      ]
    },
    {
      "cell_type": "code",
      "source": [
        "print(\"실수형 덧셈 : \")\n",
        "print(float(a) + float(b))"
      ],
      "metadata": {
        "colab": {
          "base_uri": "https://localhost:8080/"
        },
        "id": "mz0LTlY-yRy8",
        "outputId": "96a8ebeb-91e1-40f0-a246-bb2864e7bf8c"
      },
      "execution_count": null,
      "outputs": [
        {
          "output_type": "stream",
          "name": "stdout",
          "text": [
            "실수형 덧셈 : \n",
            "12.0\n"
          ]
        }
      ]
    },
    {
      "cell_type": "code",
      "source": [
        "print(\"정수형 덧셈 : \")\n",
        "print(int(a) + int(b))"
      ],
      "metadata": {
        "colab": {
          "base_uri": "https://localhost:8080/"
        },
        "id": "akaRKrruyu1G",
        "outputId": "aeacabd5-4f0e-468c-dd3f-9f7aba816b30"
      },
      "execution_count": null,
      "outputs": [
        {
          "output_type": "stream",
          "name": "stdout",
          "text": [
            "정수형 덧셈 : \n",
            "3\n"
          ]
        }
      ]
    },
    {
      "cell_type": "code",
      "source": [
        "print(\"문자열 덧셈 : \")\n",
        "print(a + b) # 문자열 덧셈은 이렇게 이어지는 성질이 있다."
      ],
      "metadata": {
        "colab": {
          "base_uri": "https://localhost:8080/"
        },
        "id": "ObFUyySUy8FS",
        "outputId": "102728bf-ffe5-40ad-b0fe-7d8be4008f44"
      },
      "execution_count": null,
      "outputs": [
        {
          "output_type": "stream",
          "name": "stdout",
          "text": [
            "문자열 덧셈 : \n",
            "102\n"
          ]
        }
      ]
    },
    {
      "cell_type": "markdown",
      "source": [
        "\n",
        "\n",
        "\n",
        "\n",
        "\n",
        "\n",
        "*   문자열의 slicing\n",
        "\n",
        "파이썬에서만 자유자재 가능한 함수\n",
        "\n",
        "문자열도 리스트의 일종(리스트는 자료구조에서 나옴)\n",
        "\n"
      ],
      "metadata": {
        "id": "nVJb1pl4zN3W"
      }
    },
    {
      "cell_type": "code",
      "source": [
        "slice1 = \"파이썬 수업 중입니다\"\n",
        "print (slice1) #"
      ],
      "metadata": {
        "colab": {
          "base_uri": "https://localhost:8080/"
        },
        "id": "3M0YoIStzWRM",
        "outputId": "0e0662ef-d9e9-48ca-ec11-ed37d46ea5cd"
      },
      "execution_count": null,
      "outputs": [
        {
          "output_type": "stream",
          "name": "stdout",
          "text": [
            "파이썬 수업 중입니다\n"
          ]
        }
      ]
    },
    {
      "cell_type": "code",
      "source": [
        "print(slice1[0])\n",
        "print(slice1[2])\n",
        "print(slice1[4])\n",
        "#0부터 시작하므로 0=파, 1=이, 5=업"
      ],
      "metadata": {
        "colab": {
          "base_uri": "https://localhost:8080/"
        },
        "id": "6ZAOS0KKzoDu",
        "outputId": "93ecbb8f-1a89-4143-defd-94049df68618"
      },
      "execution_count": null,
      "outputs": [
        {
          "output_type": "stream",
          "name": "stdout",
          "text": [
            "파\n",
            "썬\n",
            "수\n"
          ]
        }
      ]
    },
    {
      "cell_type": "code",
      "source": [
        "slice2 = \"파 이 썬 수 업 중 입 니 다\"\n",
        "print(slice2[::2]) #간격만 표시되어 있어 간격없이 나왔다"
      ],
      "metadata": {
        "colab": {
          "base_uri": "https://localhost:8080/"
        },
        "id": "R6mYIwpO0LXf",
        "outputId": "5ba87036-48bb-410d-9010-3c331047f337"
      },
      "execution_count": null,
      "outputs": [
        {
          "output_type": "stream",
          "name": "stdout",
          "text": [
            "파이썬수업중입니다\n"
          ]
        }
      ]
    },
    {
      "cell_type": "code",
      "source": [
        "slice3 = \"안녕하세요여기는파이썬교실입니다\"\n",
        "print(slice3[0:4])\n",
        "print(slice3[1:7])\n",
        "print(slice3[1:7:2])"
      ],
      "metadata": {
        "colab": {
          "base_uri": "https://localhost:8080/"
        },
        "id": "44JgU9bl0YKK",
        "outputId": "ec6757df-15ab-4816-da9a-5baadb32b87c"
      },
      "execution_count": null,
      "outputs": [
        {
          "output_type": "stream",
          "name": "stdout",
          "text": [
            "안녕하세\n",
            "녕하세요여기\n",
            "녕세여\n"
          ]
        }
      ]
    },
    {
      "cell_type": "markdown",
      "source": [
        "slice[시작 : 끝 : 간격]\n",
        "\n",
        "슬라이스는 끝 직전에 멈춘다 -->0:4는 0~3까지 나온다\n",
        "\n",
        "slicing 연산\n",
        "slice[시작 : 끝 : 간격] #\n",
        "- index : 시작부터 끝 직전까지\n",
        "- 생략가능\n"
      ],
      "metadata": {
        "id": "J-1WSKvw0w1U"
      }
    },
    {
      "cell_type": "code",
      "source": [
        "slice3 = \"안녕하세요여기는파이썬교실입니다\"\n",
        "print(slice3[0:3])"
      ],
      "metadata": {
        "colab": {
          "base_uri": "https://localhost:8080/"
        },
        "id": "lntlk_ET0oSi",
        "outputId": "679f7d20-2e7b-4afb-c559-1171689de9d8"
      },
      "execution_count": null,
      "outputs": [
        {
          "output_type": "stream",
          "name": "stdout",
          "text": [
            "안녕하\n"
          ]
        }
      ]
    },
    {
      "cell_type": "code",
      "source": [
        "print(slice3[:5]) #시작 숫자를 생략한 경우 기본값=0"
      ],
      "metadata": {
        "colab": {
          "base_uri": "https://localhost:8080/"
        },
        "id": "PLMHM7GK13YQ",
        "outputId": "56905284-2d7f-473a-fcda-a5994acad46a"
      },
      "execution_count": null,
      "outputs": [
        {
          "output_type": "stream",
          "name": "stdout",
          "text": [
            "안녕하세요\n"
          ]
        }
      ]
    },
    {
      "cell_type": "code",
      "source": [
        "print(slice3[2:]) #끝 숫자를 생략한 경우 끝까지 출력 #간격은 계속 생략된상태 =1 이라 생각"
      ],
      "metadata": {
        "colab": {
          "base_uri": "https://localhost:8080/"
        },
        "id": "M1rhU3Ip2ENq",
        "outputId": "b4b9c9de-d848-4cc1-a3cc-36c1a034bf37"
      },
      "execution_count": null,
      "outputs": [
        {
          "output_type": "stream",
          "name": "stdout",
          "text": [
            "하세요여기는파이썬교실입니다\n"
          ]
        }
      ]
    },
    {
      "cell_type": "code",
      "source": [
        "slice4 = \"다니입민창윤은름이제\"\n",
        "print(slice4[::-1]) #거꾸로 출력"
      ],
      "metadata": {
        "colab": {
          "base_uri": "https://localhost:8080/"
        },
        "id": "brEM18sO2TX7",
        "outputId": "ee7523d0-c3f8-4fc0-9ca7-8afe6c10f798"
      },
      "execution_count": null,
      "outputs": [
        {
          "output_type": "stream",
          "name": "stdout",
          "text": [
            "제이름은윤창민입니다\n"
          ]
        }
      ]
    },
    {
      "cell_type": "markdown",
      "source": [
        "문자열 연결 가능"
      ],
      "metadata": {
        "id": "CiYDMxx92qHu"
      }
    },
    {
      "cell_type": "code",
      "source": [
        "str1 = \"안녕하세요\"\n",
        "str2 = \"반갑습니다\"\n",
        "print(str1 + str2)"
      ],
      "metadata": {
        "colab": {
          "base_uri": "https://localhost:8080/"
        },
        "id": "Hjxxe5h52sr6",
        "outputId": "0234202d-efc3-4aaa-f3d2-caef98314cb3"
      },
      "execution_count": null,
      "outputs": [
        {
          "output_type": "stream",
          "name": "stdout",
          "text": [
            "안녕하세요반갑습니다\n"
          ]
        }
      ]
    },
    {
      "cell_type": "code",
      "source": [
        "print(str1 + \" \" + str2)"
      ],
      "metadata": {
        "colab": {
          "base_uri": "https://localhost:8080/"
        },
        "id": "PEYRb6HK2-7S",
        "outputId": "45797a65-6d16-4eda-81e8-b5c1a580f538"
      },
      "execution_count": null,
      "outputs": [
        {
          "output_type": "stream",
          "name": "stdout",
          "text": [
            "안녕하세요 반갑습니다\n"
          ]
        }
      ]
    },
    {
      "cell_type": "markdown",
      "source": [
        "공백을 줘서 띄어쓰기 가능"
      ],
      "metadata": {
        "id": "V9-fpyimV6Nz"
      }
    },
    {
      "cell_type": "code",
      "source": [
        "print(str1 + \"\\n\" + str2)"
      ],
      "metadata": {
        "colab": {
          "base_uri": "https://localhost:8080/"
        },
        "id": "-RYLTSIw3K5C",
        "outputId": "72487831-da4f-4f91-e072-3a88ad6b7e41"
      },
      "execution_count": null,
      "outputs": [
        {
          "output_type": "stream",
          "name": "stdout",
          "text": [
            "안녕하세요\n",
            "반갑습니다\n"
          ]
        }
      ]
    },
    {
      "cell_type": "code",
      "source": [
        "print(str1 + \"\\t\" + str2) #tab키와 같은 기능"
      ],
      "metadata": {
        "colab": {
          "base_uri": "https://localhost:8080/"
        },
        "id": "r6yrwQce3dui",
        "outputId": "daf46eb7-e398-4a1c-f6c2-be74c9f6c8e0"
      },
      "execution_count": null,
      "outputs": [
        {
          "output_type": "stream",
          "name": "stdout",
          "text": [
            "안녕하세요\t반갑습니다\n"
          ]
        }
      ]
    },
    {
      "cell_type": "code",
      "source": [
        "star = \"*\"\n",
        "print(star*10) #파이썬에서만 가능한것, 이렇게 문자열이 곱하는게 가능"
      ],
      "metadata": {
        "colab": {
          "base_uri": "https://localhost:8080/"
        },
        "id": "PohGf-Tc3nSy",
        "outputId": "3d2c00c9-4309-4a78-83fc-6683247e2ac6"
      },
      "execution_count": null,
      "outputs": [
        {
          "output_type": "stream",
          "name": "stdout",
          "text": [
            "**********\n"
          ]
        }
      ]
    },
    {
      "cell_type": "code",
      "source": [
        "print(\"=\" * 5 + \"*\" * 5 + \"=\" * 3)"
      ],
      "metadata": {
        "colab": {
          "base_uri": "https://localhost:8080/"
        },
        "id": "tEZgQv_B33Ua",
        "outputId": "a8220866-088a-41b8-ea6b-8816f06f414b"
      },
      "execution_count": null,
      "outputs": [
        {
          "output_type": "stream",
          "name": "stdout",
          "text": [
            "=====*****===\n"
          ]
        }
      ]
    },
    {
      "cell_type": "markdown",
      "source": [
        "이스케이프 구문 == \\\n",
        "\n",
        "문자열을 기본적으로' '이나 \" \"로 열고 닫아야한"
      ],
      "metadata": {
        "id": "iIDtDpdI5QEj"
      }
    },
    {
      "cell_type": "code",
      "source": [
        "es1 = \"그냥 \\\"문자\\\" 출력\"  # 이스케이프 문자를 쓰면 1순위로 쓰이는 연산자로 인식이 안되고 문자 그대로 인식\n",
        "print(es1)\n",
        "es2 = \"그냥 문자 출력\"  #'' 이건 상관없음\n",
        "print(es2)\n",
        "es3 = '그냥 \\'문자\\' 출력'  #''에 이스케이프 구문으로 출력해준것\n",
        "print(es3)\n",
        "es4 = \"줄을\\n바꿀 수도\\n있어요\"  #줄바꿈\n",
        "print(es4)"
      ],
      "metadata": {
        "colab": {
          "base_uri": "https://localhost:8080/"
        },
        "id": "bzgEmJvn4H0h",
        "outputId": "b423a682-8ba2-43bb-927b-ffd4a41dfd8a"
      },
      "execution_count": null,
      "outputs": [
        {
          "output_type": "stream",
          "name": "stdout",
          "text": [
            "그냥 \"문자\" 출력\n",
            "그냥 문자 출력\n",
            "그냥 '문자' 출력\n",
            "줄을\n",
            "바꿀 수도\n",
            "있어요\n"
          ]
        }
      ]
    },
    {
      "cell_type": "code",
      "source": [],
      "metadata": {
        "id": "PL5L9RPy4fH_"
      },
      "execution_count": null,
      "outputs": []
    },
    {
      "cell_type": "markdown",
      "source": [
        "연산자\n",
        "\n",
        "산술연산자\n",
        "\n",
        "- 덧셈+\n",
        "- 뺄셈-\n",
        "- 나눗셈/\n",
        "- 곱셈*\n",
        "- 몫 //\n",
        "- 나머지 %\n",
        "- 거듭제곱**\n",
        "- 대입 =  #input = 같은\n"
      ],
      "metadata": {
        "id": "xWxVGLB05TQU"
      }
    },
    {
      "cell_type": "code",
      "source": [
        "num1 = input('num1을 입력하세요\\n')\n",
        "num2 = int(input('num2을 입력하세요\\n'))  # 안쪽에서 문자열을 입력받은 다음 형변환이 바로\n",
        "num1 = int(num1)  # 처음 숫자를 입력 받고나서 형변환을 한 후 다시 자기 자신에게 대\n"
      ],
      "metadata": {
        "colab": {
          "base_uri": "https://localhost:8080/"
        },
        "id": "qaNLXpgk5_ep",
        "outputId": "4092e125-cea4-4f36-e275-994b2e4fbfe3"
      },
      "execution_count": null,
      "outputs": [
        {
          "name": "stdout",
          "output_type": "stream",
          "text": [
            "num1을 입력하세요\n",
            "3\n",
            "num2을 입력하세요\n",
            "4\n"
          ]
        }
      ]
    },
    {
      "cell_type": "code",
      "source": [
        "print(num1 + num2)\n",
        "print(num1 - num2)\n",
        "print(num1 * num2)\n",
        "print(num1 / num2)  #실수 리턴/ 소수점이 끝도없이 작아지면 컴퓨터도 실수할 수 있다. 3.33335처럼나옴\n",
        "print(num1 // num2) #정수 리턴 : 몫\n",
        "print(num1 % num2)  #정수리턴 : 나머지\n",
        "print(num1 ** num2) #파이썬에서만 거듭제곱 이렇게씀\n"
      ],
      "metadata": {
        "colab": {
          "base_uri": "https://localhost:8080/"
        },
        "id": "MYqr4yID6qck",
        "outputId": "4b2c3049-af59-4926-aeaa-95f392be12eb"
      },
      "execution_count": null,
      "outputs": [
        {
          "output_type": "stream",
          "name": "stdout",
          "text": [
            "13\n",
            "7\n",
            "30\n",
            "3.3333333333333335\n",
            "3\n",
            "1\n",
            "1000\n"
          ]
        }
      ]
    },
    {
      "cell_type": "code",
      "source": [],
      "metadata": {
        "id": "anlCkrQb7_Xh"
      },
      "execution_count": null,
      "outputs": []
    },
    {
      "cell_type": "code",
      "source": [
        "# 단순대입\n",
        "num1 = 5\n",
        "num2 = 10\n",
        "num1 = 5 + num2\n",
        "print(num1)"
      ],
      "metadata": {
        "colab": {
          "base_uri": "https://localhost:8080/"
        },
        "id": "grwg_zkj6wVR",
        "outputId": "3ad81716-7650-4fe6-ec84-d914a5203107"
      },
      "execution_count": null,
      "outputs": [
        {
          "output_type": "stream",
          "name": "stdout",
          "text": [
            "15\n"
          ]
        }
      ]
    },
    {
      "cell_type": "code",
      "source": [
        "# 복합대입 연산자\n",
        "#for문의 기본구조\n",
        "#for 변수 in 그룹 //// 변수가 그룹크기만큼 반복되어 print출력된다.\n",
        "#range(시작점,정지점,간격)\n",
        "num1 = num1 + 5  #똑같은 연산자에 계속 대입\n",
        "print(num1)\n",
        "\n",
        "for i in range(1, 5):\n",
        "  num1 = num1 + 5   #--> 약식으로 num1 +=5라쓰면 완전동일\n",
        "print(num1)  #num1에 5씩증가 총 40까지"
      ],
      "metadata": {
        "colab": {
          "base_uri": "https://localhost:8080/"
        },
        "id": "2sBVOg1J8AxZ",
        "outputId": "2a8dcda1-d441-4e7c-fbcf-bd633121765c"
      },
      "execution_count": null,
      "outputs": [
        {
          "output_type": "stream",
          "name": "stdout",
          "text": [
            "20\n",
            "40\n"
          ]
        }
      ]
    },
    {
      "cell_type": "code",
      "source": [
        "num1 -= 7\n",
        "print(num1)\n",
        "num1 *= 11\n",
        "print(num1)"
      ],
      "metadata": {
        "colab": {
          "base_uri": "https://localhost:8080/"
        },
        "id": "xDmTH1wV8rPc",
        "outputId": "490aea10-279b-4173-fc02-4cf6c48ce1a6"
      },
      "execution_count": null,
      "outputs": [
        {
          "output_type": "stream",
          "name": "stdout",
          "text": [
            "33\n",
            "363\n"
          ]
        }
      ]
    },
    {
      "cell_type": "markdown",
      "source": [
        "fomat string\n",
        "숫자에 문자열 작업을 안하도록 하는거가 이것임\n"
      ],
      "metadata": {
        "id": "cPRJvfwe--pc"
      }
    },
    {
      "cell_type": "code",
      "source": [
        "num1 = 10\n",
        "num2 = 3.14\n",
        "str1 = \"파이썬 수업\"\n",
        "\n",
        "print('%d' % num1, type(num1))  # 기본적인 포맷스트링  %d는 이런 형식을 맞춰 변수를 지정하는 방식, %d == 일반 정수형을 뜻함 d=십진수 (특수한문자로 변수를 지정)\n",
        "print(\"이렇게도\", \"출력\", \"가능\")  #콤마로 하면 자동으로 띄어쓰기됨"
      ],
      "metadata": {
        "colab": {
          "base_uri": "https://localhost:8080/"
        },
        "id": "ELYAF_pN_Nnb",
        "outputId": "b7c0670f-3314-4ba0-a4d5-f0a5d968b8a2"
      },
      "execution_count": null,
      "outputs": [
        {
          "output_type": "stream",
          "name": "stdout",
          "text": [
            "10 <class 'int'>\n",
            "이렇게도 출력 가능\n"
          ]
        }
      ]
    },
    {
      "cell_type": "code",
      "source": [
        "print('정수는 %d이고 문자열은 %s입니다' %(num1, str1))"
      ],
      "metadata": {
        "colab": {
          "base_uri": "https://localhost:8080/"
        },
        "id": "E9aV7pwF_-My",
        "outputId": "01d8ca41-10a1-4ba8-cd41-9d7a9e58646f"
      },
      "execution_count": null,
      "outputs": [
        {
          "output_type": "stream",
          "name": "stdout",
          "text": [
            "정수는 10이고 문자열은 파이썬 수업입니다\n"
          ]
        }
      ]
    },
    {
      "cell_type": "code",
      "source": [
        "print('정수는%d이지만 실수는 %f입니다' %(num1, num2))  #2개면 괄호//'',\"\"아무거나 사용 가능"
      ],
      "metadata": {
        "colab": {
          "base_uri": "https://localhost:8080/"
        },
        "id": "rYiIlBwVATCI",
        "outputId": "f3532092-d3d9-46c8-ba78-c26bd05cd488"
      },
      "execution_count": null,
      "outputs": [
        {
          "output_type": "stream",
          "name": "stdout",
          "text": [
            "정수는10이지만 실수는 3.140000입니다\n"
          ]
        }
      ]
    },
    {
      "cell_type": "code",
      "source": [
        "print(\"실수를 특별하게 출력해볼게요 : %.2f\" % num2)  #1개면 그냥 , 소수점 2자리까지는 .2//소수점의 자릿수를 결정할 수 있음"
      ],
      "metadata": {
        "colab": {
          "base_uri": "https://localhost:8080/"
        },
        "id": "hv4ek1swAh8S",
        "outputId": "e5dd823a-01d3-4268-93af-7a6bb520a59f"
      },
      "execution_count": null,
      "outputs": [
        {
          "output_type": "stream",
          "name": "stdout",
          "text": [
            "실수를 특별하게 출력해볼게요 : 3.14\n"
          ]
        }
      ]
    },
    {
      "cell_type": "code",
      "source": [
        "#f-string\n",
        "hour = 1.4\n",
        "print(f'나는 집까지 가는 데 {hour}시간이 걸립니다')  #{hour:.2f}하면 소수점까지 가능"
      ],
      "metadata": {
        "colab": {
          "base_uri": "https://localhost:8080/"
        },
        "id": "VmF9c6aMA725",
        "outputId": "a53f3f02-029b-44ec-dfda-1b62e2b53e8a"
      },
      "execution_count": null,
      "outputs": [
        {
          "output_type": "stream",
          "name": "stdout",
          "text": [
            "나는 집까지 가는 데 1.4시간이 걸립니다\n"
          ]
        }
      ]
    },
    {
      "cell_type": "code",
      "source": [
        "#print('정수는%d이지만 실수는 %f입니다' %(num1, num2))\n",
        "print(f'정수는 {num1}이지만 실수는 {num2}입니다')\n"
      ],
      "metadata": {
        "colab": {
          "base_uri": "https://localhost:8080/"
        },
        "id": "2jVKkgd0BLqo",
        "outputId": "1b5f11fb-4e30-45b5-8ff1-786109929972"
      },
      "execution_count": null,
      "outputs": [
        {
          "output_type": "stream",
          "name": "stdout",
          "text": [
            "정수는 10이지만 실수는 3.14입니다\n"
          ]
        }
      ]
    },
    {
      "cell_type": "code",
      "source": [
        "num1 = 10\n",
        "num2 = 3\n",
        "print(num1 // num2)\n",
        "print(num1 % num2)\n",
        "#아래에\n",
        "#10을 3으로 나눈 몫은 3, 나머지는 1입니다 출력\n",
        "print(f\"{num1}을 {num2}로 나눈 몫은 {num1//num2}, 나머지는 {num1%num2}입니다.\")"
      ],
      "metadata": {
        "colab": {
          "base_uri": "https://localhost:8080/"
        },
        "id": "fR6oGppIBjpA",
        "outputId": "e645bc8b-43fd-48f4-a514-0ec26f5c25f6"
      },
      "execution_count": null,
      "outputs": [
        {
          "output_type": "stream",
          "name": "stdout",
          "text": [
            "3\n",
            "1\n",
            "10을 3로 나눈 몫은 3, 나머지는 1입니다.\n"
          ]
        }
      ]
    },
    {
      "cell_type": "markdown",
      "source": [
        "\n",
        "\n",
        "*   정리\n",
        "\n",
        "%d == 정수\n",
        "\n",
        "%s == 문자열\n",
        "\n",
        "%f == 실수형(인데 자주 쓰이진 않음, 하지만 소수점 지정할 때 자주 쓰임)\n",
        "\n"
      ],
      "metadata": {
        "id": "DDunxpcWZeZw"
      }
    },
    {
      "cell_type": "markdown",
      "source": [
        "논리 연산자\n",
        "\n",
        "- and, or ,not\n",
        "\n",
        "bool형이 논리연산자로 나오는 결과\n",
        "if, for,\n",
        "\n"
      ],
      "metadata": {
        "id": "shi2DAzrCPuT"
      }
    },
    {
      "cell_type": "code",
      "source": [
        "number1 = 10\n",
        "number2 = 0\n",
        "print(f\"{number1}은 0보다 크다 : {number1>0}\")\n",
        "print(f\"{number1}은 0보다 크고,{number2}는 0보다 작다 : {number1>0 and number2 < 0}\")"
      ],
      "metadata": {
        "colab": {
          "base_uri": "https://localhost:8080/"
        },
        "id": "aS-1efuACVNH",
        "outputId": "e35cb25f-aab3-44df-ce9e-c70d5c2ea27e"
      },
      "execution_count": null,
      "outputs": [
        {
          "output_type": "stream",
          "name": "stdout",
          "text": [
            "10은 0보다 크다 : True\n",
            "10은 0보다 크고,0는 0보다 작다 : False\n"
          ]
        }
      ]
    },
    {
      "cell_type": "code",
      "source": [
        "print(10 > 0 and 5 > 0)"
      ],
      "metadata": {
        "colab": {
          "base_uri": "https://localhost:8080/"
        },
        "id": "--etNDYhDLfz",
        "outputId": "728be4bf-ccb6-4712-e86f-365ce7090088"
      },
      "execution_count": null,
      "outputs": [
        {
          "output_type": "stream",
          "name": "stdout",
          "text": [
            "True\n"
          ]
        }
      ]
    },
    {
      "cell_type": "code",
      "source": [],
      "metadata": {
        "id": "0sIS7DKbC32n"
      },
      "execution_count": null,
      "outputs": []
    },
    {
      "cell_type": "markdown",
      "source": [
        "관계 연산자\n",
        "\n",
        "-"
      ],
      "metadata": {
        "id": "UpZ-ecC2DX_y"
      }
    },
    {
      "cell_type": "code",
      "source": [
        "num1 = 10\n",
        "num2 = 20\n",
        "\n",
        "print(num1 > num2)\n",
        "print(num1 >= num2)\n",
        "print(num1 < num2)\n",
        "print(num1 <= num2)\n",
        "print(num1 != num2)  #같지 않다\n",
        "print(num1 == num2)  #같다(대입연산자 = 와 다른것이니 주의)"
      ],
      "metadata": {
        "colab": {
          "base_uri": "https://localhost:8080/"
        },
        "id": "2apMWzuzDcMq",
        "outputId": "72f04d86-b41e-4d3e-9bf0-3ff4ae2652de"
      },
      "execution_count": null,
      "outputs": [
        {
          "output_type": "stream",
          "name": "stdout",
          "text": [
            "False\n",
            "False\n",
            "True\n",
            "True\n",
            "True\n",
            "False\n"
          ]
        }
      ]
    },
    {
      "cell_type": "code",
      "source": [
        "myAge = int(input('본인의 나이를 입력해 주세요!\\n'))\n",
        "\n",
        "if myAge % 2 == 0 :\n",
        "   print('제 나이는 짝수입니다')\n",
        "\n",
        "else :\n",
        "     print('제 나이는 홀수입니다')"
      ],
      "metadata": {
        "id": "Q5K5nUuYEHOj",
        "colab": {
          "base_uri": "https://localhost:8080/"
        },
        "outputId": "cd248004-fedb-4ae0-9db6-cc9e7b0cbc61"
      },
      "execution_count": null,
      "outputs": [
        {
          "output_type": "stream",
          "name": "stdout",
          "text": [
            "본인의 나이를 입력해 주세요!\n",
            "24\n",
            "제 나이는 짝수입니다\n"
          ]
        }
      ]
    },
    {
      "cell_type": "code",
      "source": [
        "#논리연산자  -좀더 복잡한 계산 가능\n",
        "number1 = 10\n",
        "number2 = 20\n",
        "print(number1 > 0 and number2 > 0)  #and연산자는 모든조건이 트루여야 트루\n",
        "print(number1 < 0 and number2 < 0)  #폴스 앤드 폴스여서 거짓\n",
        "print(number1 > 0 or number2 > 0)   #or연산자은 모든 조건이 폴스여야 폴스\n",
        "print(number1 < 0  or number2 < 0)  #\n",
        "print(number1 > 0 and number2 < 0)   # 둘중 하나라도 오답이면 폴스\n",
        "print(number1 > 0 or  number2  < 0) # 둘중 하나만 정답이여도 트루"
      ],
      "metadata": {
        "colab": {
          "base_uri": "https://localhost:8080/"
        },
        "id": "Cmv3yw0YEzri",
        "outputId": "ce292dc2-ff06-4c79-a145-4aebf5d13c0c"
      },
      "execution_count": null,
      "outputs": [
        {
          "output_type": "stream",
          "name": "stdout",
          "text": [
            "True\n",
            "False\n",
            "True\n",
            "False\n",
            "False\n",
            "True\n"
          ]
        }
      ]
    }
  ]
}