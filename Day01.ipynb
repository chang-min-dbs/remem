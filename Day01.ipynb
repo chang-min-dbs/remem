{
  "nbformat": 4,
  "nbformat_minor": 0,
  "metadata": {
    "colab": {
      "provenance": [],
      "authorship_tag": "ABX9TyNq2DaEDVOj/WKPWGylFyL6",
      "include_colab_link": true
    },
    "kernelspec": {
      "name": "python3",
      "display_name": "Python 3"
    },
    "language_info": {
      "name": "python"
    }
  },
  "cells": [
    {
      "cell_type": "markdown",
      "metadata": {
        "id": "view-in-github",
        "colab_type": "text"
      },
      "source": [
        "<a href=\"https://colab.research.google.com/github/chang-min-dbs/remem/blob/python_summer_ZG/Day01.ipynb\" target=\"_parent\"><img src=\"https://colab.research.google.com/assets/colab-badge.svg\" alt=\"Open In Colab\"/></a>"
      ]
    },
    {
      "cell_type": "code",
      "execution_count": null,
      "metadata": {
        "colab": {
          "base_uri": "https://localhost:8080/"
        },
        "id": "bimTZ8HWt6tI",
        "outputId": "ee63ab3f-15d1-445b-a7e4-88537282b870"
      },
      "outputs": [
        {
          "output_type": "stream",
          "name": "stdout",
          "text": [
            "Hello\n"
          ]
        }
      ],
      "source": [
        "print(\"Hello\")"
      ]
    },
    {
      "cell_type": "code",
      "source": [
        "# python 내장 자료구조 연습\n",
        "#딕셔너리  -->리스트로 변환해볼것\n",
        "#키 : 벨류가 한쌍인 구조\n",
        "students = [\n",
        "    {\"name\": \"Alice\", \"scores\": (85, 90, 88)},\n",
        "    {\"name\": \"Bob\", \"scores\": (78, 81, 85)},\n",
        "    {\"name\": \"Charlie\", \"scores\": (92, 89, 95)}\n",
        "]\n",
        "\n",
        "print(students[0])\n",
        "print(students[0][\"name\"])\n",
        "students[0][\"name\"] = 'Anne'\n",
        "print(students)"
      ],
      "metadata": {
        "colab": {
          "base_uri": "https://localhost:8080/"
        },
        "id": "14jQFKbavfJm",
        "outputId": "bf152f62-2ab5-47d7-bdc0-cc86159cca38"
      },
      "execution_count": null,
      "outputs": [
        {
          "output_type": "stream",
          "name": "stdout",
          "text": [
            "{'name': 'Alice', 'scores': (85, 90, 88)}\n",
            "Alice\n",
            "[{'name': 'Anne', 'scores': (85, 90, 88)}, {'name': 'Bob', 'scores': (78, 81, 85)}, {'name': 'Charlie', 'scores': (92, 89, 95)}]\n"
          ]
        }
      ]
    },
    {
      "cell_type": "markdown",
      "source": [
        "**딕셔너리를 반복하는 예제**\n",
        "딕셔너리를 반복할 때는 items() 메서드를 사용하여 키와 값을 동시에 가져올 수 있습니다.\n",
        "\n",
        "print(student) -- 이렇게 해도 키 벨류가 출력이 된다.\n",
        "\n",
        "print(student.items()) -- 이렇게 하면 키와 벨류를 튜플로 묶어서 보여주는 차이점이있다."
      ],
      "metadata": {
        "id": "-1AMeVY8r-2u"
      }
    },
    {
      "cell_type": "code",
      "source": [
        "#students[0][\"scores\"][0] = 100 ##error가 정상\n",
        "#85에서 100으로 수정하는 구문이였는데 위 구문을 보면 튜플이라 수정불가여서 에러가 난 것"
      ],
      "metadata": {
        "colab": {
          "base_uri": "https://localhost:8080/",
          "height": 110
        },
        "id": "KxRa7Lqyw3Co",
        "outputId": "a45ff7d8-4eee-4729-9a90-3ddaf01aebb3"
      },
      "execution_count": null,
      "outputs": [
        {
          "output_type": "error",
          "ename": "SyntaxError",
          "evalue": "invalid decimal literal (<ipython-input-11-e413dec42e1a>, line 1)",
          "traceback": [
            "\u001b[0;36m  File \u001b[0;32m\"<ipython-input-11-e413dec42e1a>\"\u001b[0;36m, line \u001b[0;32m1\u001b[0m\n\u001b[0;31m    3students[0][\"scores\"][0] = 100 ##error가 정상\u001b[0m\n\u001b[0m    ^\u001b[0m\n\u001b[0;31mSyntaxError\u001b[0m\u001b[0;31m:\u001b[0m invalid decimal literal\n"
          ]
        }
      ]
    },
    {
      "cell_type": "code",
      "source": [
        "for student in students:\n",
        "  average = sum(student[\"scores\"]) / len(student[\"scores\"])  #뭐가 딕셔너리?# 이 튜플 값을 suim에 넣으면 합을 자동으로 해줌#len은 개수이므로 나누면 평균\n",
        "  print(student)\n",
        "  print(f\"{student['name']}의 평균점수 : {average:.2f}\") #fomat스트링을 이용하면 중괄호를 이용해 바로 변수를 넣을 수 있다.# :으로 형식까지 넣어준 것 {변수이름:형식}"
      ],
      "metadata": {
        "colab": {
          "base_uri": "https://localhost:8080/"
        },
        "id": "LSUEBB1ExTkB",
        "outputId": "4e0db3dd-6cae-46f5-890c-a6918995fe5e"
      },
      "execution_count": null,
      "outputs": [
        {
          "output_type": "stream",
          "name": "stdout",
          "text": [
            "{'name': 'Anne', 'scores': (85, 90, 88)}\n",
            "Anne의 평균점수 : 87.67\n",
            "{'name': 'Bob', 'scores': (78, 81, 85)}\n",
            "Bob의 평균점수 : 81.33\n",
            "{'name': 'Charlie', 'scores': (92, 89, 95)}\n",
            "Charlie의 평균점수 : 92.00\n"
          ]
        }
      ]
    },
    {
      "cell_type": "code",
      "source": [
        "#2 : 전화번호부 관리\n",
        "phone_book ={\n",
        "    \"Alice\" : \"010-1234-5678\",\n",
        "    \"Bob\" : \"010-2222-2222\",\n",
        "    \"Charlie\" : \"010-3333-3333\"\n",
        "}\n",
        "\n",
        "name = input(\"이름을 입력하세요 : \")\n",
        "\n",
        "if name in phone_book :       #key가 전화번호부에 있는지 검사하는 것\n",
        "  print(f\"{name}의 전화번호는 {phone_book[name]}입니다.\")   #key로 접근을하면 value가 튀어나온다.\n",
        "else :\n",
        "  print(f\"{name}의 전화번호를 찾을 수 없습니다\")"
      ],
      "metadata": {
        "colab": {
          "base_uri": "https://localhost:8080/"
        },
        "id": "iAadNjzPyenh",
        "outputId": "3623a8d7-567d-4bff-9ae5-52873401af7e"
      },
      "execution_count": null,
      "outputs": [
        {
          "output_type": "stream",
          "name": "stdout",
          "text": [
            "이름을 입력하세요 : \n",
            "의 전화번호를 찾을 수 없습니다\n"
          ]
        }
      ]
    },
    {
      "cell_type": "markdown",
      "source": [
        "딕셔너리를 반복하는 예제 딕셔너리를 반복할 때는 items() 메서드를 사용하여 키와 값을 동시에 가져올 수 있습니다.\n",
        "\n",
        "print(phonebook) -- 이렇게 해도 키 벨류가 출력이 된다. 딕셔너리로 출력된다.\n",
        "\n",
        "print(phonebook.items()) -- 이렇게 하면 키와 벨류를 튜플로 묶어서 보여주는 차이점이있다."
      ],
      "metadata": {
        "id": "567X_jT6tRLl"
      }
    },
    {
      "cell_type": "code",
      "source": [
        "#3 : 중복없는 숫자 만들기  -->set 자료구조 이용  // set = {1,2,3} dic = {key : value}\n",
        "numbers = [1,2,2,3,4,4]\n",
        "print(numbers[0])\n",
        "print(numbers[5])\n",
        "print(numbers[-1])\n"
      ],
      "metadata": {
        "colab": {
          "base_uri": "https://localhost:8080/"
        },
        "id": "bGvuDXWszykZ",
        "outputId": "30546fb2-a66e-4e2f-f80e-eaf89c05f7e8"
      },
      "execution_count": null,
      "outputs": [
        {
          "output_type": "stream",
          "name": "stdout",
          "text": [
            "1\n",
            "4\n",
            "4\n"
          ]
        }
      ]
    },
    {
      "cell_type": "code",
      "source": [
        "print(\"변환 전 : \",numbers) #list\n",
        "unique_numbers = set(numbers)\n",
        "print(\"변환 후 : \", unique_numbers) #리스트의 중복되는 숫자를 없애줬다"
      ],
      "metadata": {
        "colab": {
          "base_uri": "https://localhost:8080/"
        },
        "id": "z3r4kQwT0EoA",
        "outputId": "a9430adb-59ee-48f1-9278-4a88e24fbc68"
      },
      "execution_count": null,
      "outputs": [
        {
          "output_type": "stream",
          "name": "stdout",
          "text": [
            "변환 전 :  [1, 2, 2, 3, 4, 4]\n",
            "변환 후 :  {1, 2, 3, 4}\n"
          ]
        }
      ]
    },
    {
      "cell_type": "code",
      "source": [
        "#print(unique_numbers[-1])  #리스트와 튜플 = 중복 허용 -- 그래서 식별하기 위해 인데교ㅡ([1]같은거)로 접근,  세트는 중복 허용을 안해서 인덱싱이 없다.\n",
        "unique_numbers = list(unique_numbers)\n",
        "print(unique_numbers[-1])   # 단순 이 문장만으로 set은 출력이 불가능하다. index에 접근이 불가능하기 때문."
      ],
      "metadata": {
        "colab": {
          "base_uri": "https://localhost:8080/"
        },
        "id": "8tyKyky10uva",
        "outputId": "e63b68e7-2a7e-44ad-e797-f8a801c4f4a3"
      },
      "execution_count": null,
      "outputs": [
        {
          "output_type": "stream",
          "name": "stdout",
          "text": [
            "4\n"
          ]
        }
      ]
    },
    {
      "cell_type": "code",
      "source": [
        "unique_numbers = list(unique_numbers)\n",
        "print(unique_numbers[-1])"
      ],
      "metadata": {
        "colab": {
          "base_uri": "https://localhost:8080/"
        },
        "id": "DvsHARN71APA",
        "outputId": "1134cb50-9770-4dc9-b754-c342a27c43fd"
      },
      "execution_count": null,
      "outputs": [
        {
          "output_type": "stream",
          "name": "stdout",
          "text": [
            "4\n"
          ]
        }
      ]
    },
    {
      "cell_type": "code",
      "source": [
        "#4. 숫자 맞추기 게임\n",
        "import random #임의의 수를 생성하는 모듈\n",
        "\n",
        "number_to_guess = random.randint(1, 100)    #randrange도 있는데 이건 1-99까지이고 randint는 100까지 리턴\n",
        "#1부터 100직전의 수(99)까지의 임의의수 정수를 리턴 ####...\n",
        "\n",
        "attempts =0 #몇번 시도했는지 카운트할 변수 선언\n",
        "\n",
        "while True:\n",
        "  guess = int(input(\"숫자를 맞춰보세요 (1 - 100) : \")) #입력받은 변수는 무조건 문자열이다. 그래서 숫자로 변경해줘야함-->int\n",
        "  attempts+=1 #attempts = attempts + 1\n",
        "\n",
        "  if guess < number_to_guess:\n",
        "    print(\"더 큰 숫자입니다.\")\n",
        "  elif guess > number_to_guess :\n",
        "    print(\"더 작은 숫자입니다.\")\n",
        "  else:\n",
        "    print(f\"축하합니다! {attempts}번 만에 숫자를 맞췄습니다.\")\n",
        "    break #가장 가까운 반복문을 빠져나옴# 조건문은 아니다."
      ],
      "metadata": {
        "colab": {
          "base_uri": "https://localhost:8080/"
        },
        "id": "RPEfCPM11MOA",
        "outputId": "28d37695-6593-413d-d8fd-6fd27fcabc0a"
      },
      "execution_count": null,
      "outputs": [
        {
          "output_type": "stream",
          "name": "stdout",
          "text": [
            "숫자를 맞춰보세요 (1 - 100) : 10\n",
            "더 큰 숫자입니다.\n",
            "숫자를 맞춰보세요 (1 - 100) : 5\n",
            "더 큰 숫자입니다.\n",
            "숫자를 맞춰보세요 (1 - 100) : 50\n",
            "더 작은 숫자입니다.\n",
            "숫자를 맞춰보세요 (1 - 100) : 40\n",
            "축하합니다! 4번 만에 숫자를 맞췄습니다.\n"
          ]
        }
      ]
    },
    {
      "cell_type": "markdown",
      "source": [
        "**주요 차이점:\n",
        "범위 지정 방식:**\n",
        "\n",
        "randrange: 시작 값과 종료 값(포함되지 않음)을 지정하며, 선택할 수 있는 값들의 간격을 조절할 수 있습니다.\n",
        "randint: 두 정수 사이(두 경계값 포함)에서만 선택합니다.\n",
        "사용하는 인자의 개수:\n",
        "\n",
        "randrange: 최소 2개에서 최대 3개의 인자를 사용합니다 (start, stop, step).\n",
        "randint: 정확히 2개의 인자를 사용합니다 (a, b).\n",
        "출력 범위:\n",
        "\n",
        "randrange: 시작 값과 종료 값(포함되지 않음) 사이에서 선택합니다.\n",
        "randint: 주어진 두 정수 사이(두 경계값 포함)에서 선택합니다.\n",
        "따라서, 적절한 상황에 맞게 사용하면 됩니다. 예를 들어, 특정 범위에서 특정 간격으로 값을 랜덤하게 선택해야 할 때는 randrange를 사용하고, 주어진 두 값 사이에서 균등하게 랜덤하게 값을 선택해야 할 때는 randint를 사용하는 것이 좋습니다."
      ],
      "metadata": {
        "id": "lRvaS-VKx_rj"
      }
    },
    {
      "cell_type": "code",
      "source": [],
      "metadata": {
        "id": "vaLTQEVHx-a0"
      },
      "execution_count": null,
      "outputs": []
    },
    {
      "cell_type": "code",
      "source": [
        "#5. 쇼핑 리스트 관리\n",
        "shopping_list = []\n",
        "\n",
        "while True:\n",
        "  item = input(\"쇼핑 리스트에 추가할 아이템을 입력하세요('종료'입력 시 종료)\")\n",
        "\n",
        "  if item == '종료':\n",
        "    break\n",
        "  elif item in shopping_list:\n",
        "    print(f\"{item}은 이미 리스트에 있습니다\")\n",
        "  else:\n",
        "    shopping_list.append(item)\n",
        "    print(f\"{item}이(가) 리스트에 추가되었습니다.\")\n",
        "\n",
        "print(\"최종 쇼핑 리스트 : \")\n",
        "for i, item in enumerate(shopping_list):  #enumerate : 자료구조가 들어왔을 때 인덱스와 벨류값 두개를 동시에 리턴해줌\n",
        "  print(f\"{i}번째 항목 : {item}\")\n"
      ],
      "metadata": {
        "colab": {
          "base_uri": "https://localhost:8080/"
        },
        "id": "zHNGcsKV3Pi5",
        "outputId": "75a09601-8d46-4453-b762-fb828f352752"
      },
      "execution_count": null,
      "outputs": [
        {
          "output_type": "stream",
          "name": "stdout",
          "text": [
            "쇼핑 리스트에 추가할 아이템을 입력하세요('종료'입력 시 종료)hi\n",
            "hi이(가) 리스트에 추가되었습니다.\n",
            "쇼핑 리스트에 추가할 아이템을 입력하세요('종료'입력 시 종료)hi\n",
            "hi은 이미 리스트에 있습니다\n",
            "쇼핑 리스트에 추가할 아이템을 입력하세요('종료'입력 시 종료)\n",
            "이(가) 리스트에 추가되었습니다.\n",
            "쇼핑 리스트에 추가할 아이템을 입력하세요('종료'입력 시 종료)종료\n",
            "최종 쇼핑 리스트 : \n",
            "0번째 항목 : hi\n",
            "1번째 항목 : \n"
          ]
        }
      ]
    },
    {
      "cell_type": "code",
      "source": [
        "#class 예재 : 연산자 오버로딩\n",
        "#오버로딩은 원래 있는걸 새롭게 재정의, 기존 쓰인 연산자의 쓰는 방식을 재정의\n",
        "class Complex:      #오브젝트 설명 다시듣기##\n",
        "  def __init__(self, real, imag):   #복소수 #오버라이딩 : 상속받은 메서드 내용을 재정의\n",
        "    self.real = real    #실수\n",
        "    self.imag = imag    #허수\n",
        "  def __add__(self, other): #instance 단위로 +연산을 쓰게끔해주는 연산자 오버로딩\n",
        "    return Complex(self.real + other.real, self.imag + other.imag) #보통은 두개를 더할 때 ##여기도 다시듣기  #self.real + other.real : 실수범위\n",
        "  def __str__(self):\n",
        "    return f\"{self.real} + {self.imag}i\"\n",
        "\n",
        "c1 = Complex(2,3)\n",
        "c2 = Complex(4, 5)\n",
        "print(c1 + c2)  ##앞쪽 c1이 self 뒤쪽이 ohter로 들어감 + ??"
      ],
      "metadata": {
        "colab": {
          "base_uri": "https://localhost:8080/"
        },
        "id": "WDd1PtNU4V1e",
        "outputId": "600b31cb-ec87-4101-9f96-c07330e94d21"
      },
      "execution_count": null,
      "outputs": [
        {
          "output_type": "stream",
          "name": "stdout",
          "text": [
            "6 + 8i\n"
          ]
        }
      ]
    },
    {
      "cell_type": "markdown",
      "source": [
        "오버라이딩은 : 클래스 단위에서 끊어지느데 예를들어 hi1, hi2로 나누면 같은 기능이여도 나중에 코드가 길어지면 헷갈리게 될 수도 있으니 hi로 통일 시킨 것\n",
        "밑의 코드를 보면 생성자 함수와 같이 여러개를 같은 이름으로 쓸 수 있게 한 것이다.\n"
      ],
      "metadata": {
        "id": "yEim5Bj15M-t"
      }
    },
    {
      "cell_type": "code",
      "source": [
        "#다중 상속 예제\n",
        "class Base1:\n",
        "  def __init__(self):\n",
        "    self.str1 = \"Base1\"     #쓰는동안 설명 못들음\n",
        "  def show_str(self):\n",
        "    return self.str1\n",
        "\n",
        "\n",
        "class Base2:\n",
        "  def __init__(self):\n",
        "    self.str2 = \"Base2\"\n",
        "  def show_str(self):\n",
        "    return self.str2\n",
        "\n",
        "class Derived(Base1, Base2):    #다중상속은 함수 파라미터 넣듯이 넣으면된다..?\n",
        "  def __init__(self):\n",
        "    Base1.__init__(self)    #설명 다시 듣기\n",
        "    Base2.__init__(self)    #단일 상속 시엔 super(.__init)__(self)로 접근했는데 다중상속이므로 클래스 이름? 으로 접근했다\n",
        "  def show_all(self):\n",
        "    return f\"{self.show_str()} and {self.show_str()}\"  #생성자는 위와 같이 접근 생성자도 메소드지만 조금 특별한 애다.\n",
        "\n",
        "dbj = Derived()\n",
        "print(dbj.show_all())"
      ],
      "metadata": {
        "colab": {
          "base_uri": "https://localhost:8080/"
        },
        "id": "Mo7PJ_P-7eMU",
        "outputId": "62ae98dc-996e-4395-a73f-1ecc5075f658"
      },
      "execution_count": null,
      "outputs": [
        {
          "output_type": "stream",
          "name": "stdout",
          "text": [
            "Base1 and Base1\n"
          ]
        }
      ]
    },
    {
      "cell_type": "code",
      "source": [
        "#스택 구현\n",
        "#이그젝션 상속받는 클래스 먼저 연습\n",
        "class StackOverflowError(Exception):\n",
        "  pass    #\n",
        "\n",
        "class StackUnderflowError(Exception):\n",
        "  pass  #\n",
        "#stack : 우물로 표현된다. 첫번째 삽인된게 바닥,그 위에 포개지듯 올려진다. 즉, 입출구가 하나라 꺼낼땐 맨 마지막에 입력된게 꺼내짐(선입후출)\n",
        "class Stack:\n",
        "  def __init__(self, limit=10):\n",
        "    self.stack = []\n",
        "    self.limit = limit\n",
        "  def is_empty(self):\n",
        "    return len(self.stack) == 0 #조건문 그 자체를 리턴 -- 조건문은 T or F둘 중 하나로 리턴된다.    ########## 조건문이 어떤걸 말하는 거임?\n",
        "  def is_full(self):\n",
        "    return len(self.stack) == self.limit#꽉찬 상태를 의미\n",
        "  def push(self, item):\n",
        "    if self.is_full():    #10이 넘으면 T로 되며 레이즈로 넘어가서 오버플로우 에러가 발생하게금 설정\n",
        "      raise StackOverflowError(\"Stack overfloww : cannot push to full stack\")\n",
        "    self.stack.append(item) ##여기 다시  #그게 아니면 스택을 추가\n",
        "  def pop(self): #스택에서 맨 위에 있는걸 리턴 받는 형식## 스택의 맨 위에 있는 요소는 리턴 , 그리고 그 요소를 삭제\n",
        "    if self.is_empty():\n",
        "      raise StackUnderflowError(\"Stack underflow : cannot pop from empty stack\")# 비어있다면 아무것도 가져올 요소가 없다는 뜻의 에러를 발생시킨다는 뜻\n",
        "    return self.stack.pop() #\n",
        "  def __str__(self):          #\n",
        "    return f\"Stack : {self.stack}\"\n",
        "\n",
        "try:      #try except구문//#여기 톡하느라 잘 못봄\n",
        "\n",
        "  s = Stack(limit=5)\n",
        "  s.push(1)\n",
        "  print(s)\n",
        "  s.push(2)\n",
        "  print(s)\n",
        "  s.push(3)\n",
        "  print(s)\n",
        "  s.push(4)\n",
        "  print(s)\n",
        "  s.push(5)\n",
        "  print(s)\n",
        "  s.pop()\n",
        "  print(s)\n",
        "  s.pop()\n",
        "  print(s)\n",
        "  s.pop()\n",
        "  print(s)\n",
        "  s.pop()\n",
        "  print(s)\n",
        "  s.pop()\n",
        "  print(s)\n",
        "except StackOverflowError as e:\n",
        "  print(e)\n",
        "except StackUnderflowError as e:\n",
        "  print(e)\n"
      ],
      "metadata": {
        "colab": {
          "base_uri": "https://localhost:8080/"
        },
        "id": "HHEWsK4r-9tE",
        "outputId": "0938b209-e3f6-4815-d68c-c0185996736c"
      },
      "execution_count": null,
      "outputs": [
        {
          "output_type": "stream",
          "name": "stdout",
          "text": [
            "Stack : [1]\n",
            "Stack : [1, 2]\n",
            "Stack : [1, 2, 3]\n",
            "Stack : [1, 2, 3, 4]\n",
            "Stack : [1, 2, 3, 4, 5]\n",
            "Stack : [1, 2, 3, 4]\n",
            "Stack : [1, 2, 3]\n",
            "Stack : [1, 2]\n",
            "Stack : [1]\n",
            "Stack : []\n"
          ]
        }
      ]
    },
    {
      "cell_type": "markdown",
      "source": [
        "중위 계산식 : (4+5) * 2 이면 일반적인 계산법\n",
        "후위 계산법 : 연산자가 나중에 --> 4 5 + 2* 컴퓨터는 중위를 후위로???"
      ],
      "metadata": {
        "id": "l8dePomlDOWs"
      }
    },
    {
      "cell_type": "code",
      "source": [
        "class PostfixCalcaulator: #후위 계산식 (연산자가 뒤에 있는 계산식)\n",
        "  def __init__(self):\n",
        "    self.stack = []   #이 표현 self.stack = stack과 차이점은?\n",
        "    #이거 계산법 다시 듣기\n",
        "  def calculate(self, expr):\n",
        "    tokens = expr.split() #표현식을 공백을 기준으로 문자열을 나눔\n",
        "\n",
        "    for token in token:\n",
        "      print(\"token : \", token)\n",
        "      print(f\"current   stack : \", self.stack)\n",
        "\n",
        "      if self.is_number(token):\n",
        "        self.stack.append(int(token))   #operator :연산자\n",
        "      else:\n",
        "          operator = token\n",
        "          operand2 = self.tack.pop()\n",
        "          operand1 = self.stack.pop()\n",
        "          result = self.operation(operator, operand1, operand2)\n",
        "          self.stack.append(result)\n",
        "    return self.stack.pop()\n",
        "\n",
        "  def poeration(self, operator, oprand1, operand2):\n",
        "      if operator == '+' :\n",
        "        return operand1 + operand2\n",
        "      elif operator == '-':\n",
        "        return operand1 - operand2\n",
        "      elif operator == '*':\n",
        "        return operand1 * operand2\n",
        "      elif operator == '/':\n",
        "        return operand1 / operand2\n",
        "      else:\n",
        "        raise ValueError(\"Invalid operator\")  #이게 뭔뜻이라고> 뭘 아니면 에러?\n",
        "  def is_number(self, token):\n",
        "      try:\n",
        "        int(token) #숫자형변환 시도\n",
        "        return True #\n",
        "      except ValueError: # 만약 형변환이 안된다면 이 구문으로 내려와서 에러가 발생해도 false로 처리하고 끝나게끔 만들었다.\n",
        "        return False\n",
        "\n",
        "expr = \"8 2 / 3 - 3 2 * +\"  #8/2 -3 + 3*2를 후위계산식으로 바꾼 것// 연산자 높은 순서로 * + 이 된것\n",
        "calc = PostfixCalcaulator()\n",
        "calc.calculate(expr)"
      ],
      "metadata": {
        "colab": {
          "base_uri": "https://localhost:8080/",
          "height": 309
        },
        "id": "wV70A9DpDhw-",
        "outputId": "ff862d6d-b160-42e5-e3f6-2fd5e0f8fbc5"
      },
      "execution_count": null,
      "outputs": [
        {
          "output_type": "error",
          "ename": "UnboundLocalError",
          "evalue": "local variable 'token' referenced before assignment",
          "traceback": [
            "\u001b[0;31m---------------------------------------------------------------------------\u001b[0m",
            "\u001b[0;31mUnboundLocalError\u001b[0m                         Traceback (most recent call last)",
            "\u001b[0;32m<ipython-input-41-58a006fe59d1>\u001b[0m in \u001b[0;36m<cell line: 42>\u001b[0;34m()\u001b[0m\n\u001b[1;32m     40\u001b[0m \u001b[0mexpr\u001b[0m \u001b[0;34m=\u001b[0m \u001b[0;34m\"8 2 / 3 - 3 2 * +\"\u001b[0m  \u001b[0;31m#8/2 -3 + 3*2를 후위계산식으로 바꾼 것// 연산자 높은 순서로 * + 이 된것\u001b[0m\u001b[0;34m\u001b[0m\u001b[0;34m\u001b[0m\u001b[0m\n\u001b[1;32m     41\u001b[0m \u001b[0mcalc\u001b[0m \u001b[0;34m=\u001b[0m \u001b[0mPostfixCalcaulator\u001b[0m\u001b[0;34m(\u001b[0m\u001b[0;34m)\u001b[0m\u001b[0;34m\u001b[0m\u001b[0;34m\u001b[0m\u001b[0m\n\u001b[0;32m---> 42\u001b[0;31m \u001b[0mcalc\u001b[0m\u001b[0;34m.\u001b[0m\u001b[0mcalculate\u001b[0m\u001b[0;34m(\u001b[0m\u001b[0mexpr\u001b[0m\u001b[0;34m)\u001b[0m\u001b[0;34m\u001b[0m\u001b[0;34m\u001b[0m\u001b[0m\n\u001b[0m",
            "\u001b[0;32m<ipython-input-41-58a006fe59d1>\u001b[0m in \u001b[0;36mcalculate\u001b[0;34m(self, expr)\u001b[0m\n\u001b[1;32m      6\u001b[0m     \u001b[0mtokens\u001b[0m \u001b[0;34m=\u001b[0m \u001b[0mexpr\u001b[0m\u001b[0;34m.\u001b[0m\u001b[0msplit\u001b[0m\u001b[0;34m(\u001b[0m\u001b[0;34m)\u001b[0m \u001b[0;31m#표현식을 공백을 기준으로 문자열을 나눔\u001b[0m\u001b[0;34m\u001b[0m\u001b[0;34m\u001b[0m\u001b[0m\n\u001b[1;32m      7\u001b[0m \u001b[0;34m\u001b[0m\u001b[0m\n\u001b[0;32m----> 8\u001b[0;31m     \u001b[0;32mfor\u001b[0m \u001b[0mtoken\u001b[0m \u001b[0;32min\u001b[0m \u001b[0mtoken\u001b[0m\u001b[0;34m:\u001b[0m\u001b[0;34m\u001b[0m\u001b[0;34m\u001b[0m\u001b[0m\n\u001b[0m\u001b[1;32m      9\u001b[0m       \u001b[0mprint\u001b[0m\u001b[0;34m(\u001b[0m\u001b[0;34m\"token : \"\u001b[0m\u001b[0;34m,\u001b[0m \u001b[0mtoken\u001b[0m\u001b[0;34m)\u001b[0m\u001b[0;34m\u001b[0m\u001b[0;34m\u001b[0m\u001b[0m\n\u001b[1;32m     10\u001b[0m       \u001b[0mprint\u001b[0m\u001b[0;34m(\u001b[0m\u001b[0;34mf\"current stack : \"\u001b[0m\u001b[0;34m,\u001b[0m \u001b[0mself\u001b[0m\u001b[0;34m.\u001b[0m\u001b[0mstack\u001b[0m\u001b[0;34m)\u001b[0m\u001b[0;34m\u001b[0m\u001b[0;34m\u001b[0m\u001b[0m\n",
            "\u001b[0;31mUnboundLocalError\u001b[0m: local variable 'token' referenced before assignment"
          ]
        }
      ]
    },
    {
      "cell_type": "code",
      "source": [
        "expr = \"3 5 4 6 - * 2 / +\"\n",
        "clac =PostfixCalcaulator()\n",
        "clac.calculate(expr)"
      ],
      "metadata": {
        "colab": {
          "base_uri": "https://localhost:8080/",
          "height": 182
        },
        "id": "Tbei6nqTEsBQ",
        "outputId": "15243b19-accf-4341-d6fa-8ea03e22b4ab"
      },
      "execution_count": null,
      "outputs": [
        {
          "output_type": "error",
          "ename": "NameError",
          "evalue": "name 'PostfixCalcaulator' is not defined",
          "traceback": [
            "\u001b[0;31m---------------------------------------------------------------------------\u001b[0m",
            "\u001b[0;31mNameError\u001b[0m                                 Traceback (most recent call last)",
            "\u001b[0;32m<ipython-input-17-13290b238bf6>\u001b[0m in \u001b[0;36m<cell line: 2>\u001b[0;34m()\u001b[0m\n\u001b[1;32m      1\u001b[0m \u001b[0mexpr\u001b[0m \u001b[0;34m=\u001b[0m \u001b[0;34m\"3 5 4 6 - * 2 / +\"\u001b[0m\u001b[0;34m\u001b[0m\u001b[0;34m\u001b[0m\u001b[0m\n\u001b[0;32m----> 2\u001b[0;31m \u001b[0mclac\u001b[0m \u001b[0;34m=\u001b[0m\u001b[0mPostfixCalcaulator\u001b[0m\u001b[0;34m(\u001b[0m\u001b[0;34m)\u001b[0m\u001b[0;34m\u001b[0m\u001b[0;34m\u001b[0m\u001b[0m\n\u001b[0m\u001b[1;32m      3\u001b[0m \u001b[0mclac\u001b[0m\u001b[0;34m.\u001b[0m\u001b[0mcalculate\u001b[0m\u001b[0;34m(\u001b[0m\u001b[0mexpr\u001b[0m\u001b[0;34m)\u001b[0m\u001b[0;34m\u001b[0m\u001b[0;34m\u001b[0m\u001b[0m\n",
            "\u001b[0;31mNameError\u001b[0m: name 'PostfixCalcaulator' is not defined"
          ]
        }
      ]
    },
    {
      "cell_type": "code",
      "source": [
        "#노드라는 개념을 이용해 연결리스트를 만들어보기\n",
        "def hello_world():\n",
        "  print(\"hello world\")\n",
        "hello_world()\n",
        "hello_world()\n",
        "hello_world()#3번 실행됐지만 0(1)시간도를 가진다라 말한다.\n",
        "#입력값이 없는 메서드는 당연히 입력값의 영향을 받지 않음\n",
        "#입력값의 영향을 받지 않는 메서드는 시간복잡도를 상수라고 칭한다.\n",
        "#상수 시간 복잡도=0(1)  ##?\n"
      ],
      "metadata": {
        "colab": {
          "base_uri": "https://localhost:8080/"
        },
        "id": "zJ4k63EbI6rA",
        "outputId": "0dd8de3f-bb96-4784-f3f8-dd0e1d6efc81"
      },
      "execution_count": null,
      "outputs": [
        {
          "output_type": "stream",
          "name": "stdout",
          "text": [
            "hello world\n",
            "hello world\n",
            "hello world\n"
          ]
        }
      ]
    },
    {
      "cell_type": "code",
      "source": [
        "li = ['시간', '복잡도', '연습']\n",
        "def print_each(li): #요소가 3개 있으니 for문도 3개가 돈다.\n",
        "  for i in li:\n",
        "    print(i)\n",
        "print_each(li)\n",
        "#입력값의 영향을 받아서 입력값 숫자대로 for문이 돌아감\n",
        "#입력값 개수를 n으로 표현해서0(n)의 시간 복잡도를 가진다 = 선형 시간 복잡도"
      ],
      "metadata": {
        "colab": {
          "base_uri": "https://localhost:8080/"
        },
        "id": "7dKVtrzzJn84",
        "outputId": "24843279-b628-41be-cc19-63bbf038736c"
      },
      "execution_count": null,
      "outputs": [
        {
          "output_type": "stream",
          "name": "stdout",
          "text": [
            "시간\n",
            "복잡도\n",
            "연습\n"
          ]
        }
      ]
    },
    {
      "cell_type": "code",
      "source": [
        "#기존 반복문\n",
        "def print_each2(li):\n",
        "  for i in li:\n",
        "    for j in li:\n",
        "      print(f\"{j}\")\n",
        "\n",
        "print_each2(li)\n",
        "#시간 복잡도 표기법 : 빅 오 표기법 ##다시듣기\n"
      ],
      "metadata": {
        "colab": {
          "base_uri": "https://localhost:8080/"
        },
        "id": "qzWMIEvxKEnY",
        "outputId": "1bb17efb-3fe8-4c28-d0d3-2790cc084a8e"
      },
      "execution_count": null,
      "outputs": [
        {
          "output_type": "stream",
          "name": "stdout",
          "text": [
            "시간\n",
            "복잡도\n",
            "연습\n",
            "시간\n",
            "복잡도\n",
            "연습\n",
            "시간\n",
            "복잡도\n",
            "연습\n"
          ]
        }
      ]
    },
    {
      "cell_type": "code",
      "source": [
        "#배열이라는 개념이 있고 연결 리스트라는 개념이 있는데 파이썬의 리스트 개념과 다르다. c++은 배열이란 개념이 있는데 데이터를 추가할  때\n",
        "#배열은 인덱스로도 접근이 가능\n",
        "#배열과 연결리스트\n",
        "#데이터 탐색에 있어서 배열은 0(1)의 시간 복잡도를 가짐 : 인덱스 번호로 바로 접근\n",
        "#연결리스트는 0(n)의 시간 복잡도를 가짐 : 처음부터 끝까지 타고 타고 가면서 검색 #바로 인덱스 검사를 못하고 하나씩 검사를 하고 찾아야함\n",
        "\n",
        "#데이터 추가\n",
        "#배열은 0(n)의 시가ㅓㄴ 복잡도를 가진다. 모든 데이터들을 한 칸씩 미뤄야 한다.\n",
        "#연결리스트는 데이터를 추가하는 행위 자체는 시간 복잡도가 0(1) = 즉, 상수배라고 얘기를 한다."
      ],
      "metadata": {
        "id": "SQYcI2p3Kd0x"
      },
      "execution_count": null,
      "outputs": []
    }
  ]
}