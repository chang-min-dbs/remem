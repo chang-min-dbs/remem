{
  "nbformat": 4,
  "nbformat_minor": 0,
  "metadata": {
    "colab": {
      "provenance": [],
      "authorship_tag": "ABX9TyNkD37leBIxJJpGLw2uSS81",
      "include_colab_link": true
    },
    "kernelspec": {
      "name": "python3",
      "display_name": "Python 3"
    },
    "language_info": {
      "name": "python"
    }
  },
  "cells": [
    {
      "cell_type": "markdown",
      "metadata": {
        "id": "view-in-github",
        "colab_type": "text"
      },
      "source": [
        "<a href=\"https://colab.research.google.com/github/chang-min-dbs/remem/blob/%EB%B0%B1%EC%A4%80-%EB%8B%A8%EA%B3%84%EB%B3%84/04_1%EC%B0%A8%EC%9B%90%EB%B0%B0%EC%97%B4.ipynb\" target=\"_parent\"><img src=\"https://colab.research.google.com/assets/colab-badge.svg\" alt=\"Open In Colab\"/></a>"
      ]
    },
    {
      "cell_type": "code",
      "execution_count": null,
      "metadata": {
        "colab": {
          "base_uri": "https://localhost:8080/"
        },
        "id": "gz_rtx2g-Jyd",
        "outputId": "a5037837-10ee-4fea-d94d-d902e53c7b75"
      },
      "outputs": [
        {
          "output_type": "stream",
          "name": "stdout",
          "text": [
            "5\n",
            "1 2 2 3 4\n",
            "2\n",
            "2\n"
          ]
        }
      ],
      "source": [
        "#개수 세기\n",
        "#numbers = list(map(int, input().split())) 로 리스트를 여러개 입력해 넣을 수 있다.\n",
        "N = int(input())\n",
        "\n",
        "numbers= list(map(int, input().split()))\n",
        "V= int(input())\n",
        "print(numbers.count(V))"
      ]
    },
    {
      "cell_type": "code",
      "source": [
        "#X보다 작은 수\n",
        "B_list=[]\n",
        "N, X = map(int, input().split())\n",
        "A_list = list(map(int, input().split()))\n",
        "for j in A_list:\n",
        "  if j < X:\n",
        "    B_list.append(j)\n",
        "for i in B_list:\n",
        "  print(i,end=\" \")"
      ],
      "metadata": {
        "id": "TORDR3PsZbje"
      },
      "execution_count": null,
      "outputs": []
    },
    {
      "cell_type": "code",
      "source": [
        "#최소, 최대\n",
        "\n",
        "N = int(input())\n",
        "A_list = list(map(int, input().split()))\n",
        "\n",
        "min_val = min(A_list)\n",
        "max_val = max(A_list)\n",
        "\n",
        "print(min_val, max_val)\n",
        "#위 코드처럼 작성한 방식은 지피티가 알려준 방식, 내가 원래 쓴 코드는 최댓값이 여러개일 경우 중복되어 출력되는 오류가 있었다."
      ],
      "metadata": {
        "colab": {
          "base_uri": "https://localhost:8080/"
        },
        "id": "S8XrQaAwZoTm",
        "outputId": "0dd4d932-08b1-481b-d2ae-7ca3a91678cc"
      },
      "execution_count": null,
      "outputs": [
        {
          "output_type": "stream",
          "name": "stdout",
          "text": [
            "5\n",
            "20 10 35 30 7\n",
            "7 35 "
          ]
        }
      ]
    },
    {
      "cell_type": "code",
      "source": [
        "#최대\n",
        "\n",
        "A_list=[]\n",
        "for i in range(9):\n",
        "  A= int(input())\n",
        "  A_list.append(A)\n",
        "\n",
        "max_val=max(A_list)\n",
        "\n",
        "print(max_val)\n",
        "print(A_list.index(max_val)+1)"
      ],
      "metadata": {
        "colab": {
          "base_uri": "https://localhost:8080/"
        },
        "id": "wTbwZlwTk-0c",
        "outputId": "6ae2c7e3-9204-4255-eb28-3f985fcd3550"
      },
      "execution_count": null,
      "outputs": [
        {
          "output_type": "stream",
          "name": "stdout",
          "text": [
            "3\n",
            "29\n",
            "51\n",
            "27\n",
            "59\n",
            "83\n",
            "85\n",
            "28\n",
            "1\n",
            "85\n",
            "6\n"
          ]
        }
      ]
    }
  ]
}