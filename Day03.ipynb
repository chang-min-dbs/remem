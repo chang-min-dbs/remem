{
  "nbformat": 4,
  "nbformat_minor": 0,
  "metadata": {
    "colab": {
      "provenance": [],
      "authorship_tag": "ABX9TyMcLGihZYPB2YxwV47hTugw",
      "include_colab_link": true
    },
    "kernelspec": {
      "name": "python3",
      "display_name": "Python 3"
    },
    "language_info": {
      "name": "python"
    }
  },
  "cells": [
    {
      "cell_type": "markdown",
      "metadata": {
        "id": "view-in-github",
        "colab_type": "text"
      },
      "source": [
        "<a href=\"https://colab.research.google.com/github/chang-min-dbs/remem/blob/python_summer_ZG/Day03.ipynb\" target=\"_parent\"><img src=\"https://colab.research.google.com/assets/colab-badge.svg\" alt=\"Open In Colab\"/></a>"
      ]
    },
    {
      "cell_type": "code",
      "execution_count": null,
      "metadata": {
        "id": "_6OXTA4kSyv0"
      },
      "outputs": [],
      "source": [
        "#재귀함수 복습\n",
        "#큐 : 큐, 데크, 원형 큐\n",
        "#스택과 큐를 이용해 BFS(너비우선탐색), DFS(깊이우선탐색)"
      ]
    },
    {
      "cell_type": "code",
      "source": [
        "#재귀함수  : 예제1\n",
        "#문자열 뒤집기\n",
        "\n",
        "text = \"Hello\"\n",
        "print(text[::-1]) #슬라이싱 스텝을 이용한 뒤집기 [스타트:스탑:스텝]"
      ],
      "metadata": {
        "colab": {
          "base_uri": "https://localhost:8080/"
        },
        "id": "EI84Grs4TolS",
        "outputId": "4fd5b1d9-7ebe-4cbc-aa1a-32fa68e43a5e"
      },
      "execution_count": null,
      "outputs": [
        {
          "output_type": "stream",
          "name": "stdout",
          "text": [
            "olleH\n"
          ]
        }
      ]
    },
    {
      "cell_type": "code",
      "source": [
        "def reverse_string(s):\n",
        "  if len(s) == 0:\n",
        "    return s\n",
        "  else:\n",
        "    return s[-1] + reverse_string(s[:-1])   #s[-1]이 뭐임? -- 맨 마지막 인덱스 o를 뜻함 [:-1] : 처음부터 맨 마지막 직전까지만 출력하는 슬라이싱\n",
        "\n",
        "print(reverse_string(\"Hello\"))              #어제 보여준 피보나치 수열과 같은 원리\n"
      ],
      "metadata": {
        "colab": {
          "base_uri": "https://localhost:8080/"
        },
        "id": "hVxVqeaOT9YX",
        "outputId": "6329dee4-5c06-4267-82a8-ee58edf4c91e"
      },
      "execution_count": null,
      "outputs": [
        {
          "output_type": "stream",
          "name": "stdout",
          "text": [
            "olleH\n"
          ]
        }
      ]
    },
    {
      "cell_type": "code",
      "source": [
        "text = \"ABC\"\n",
        "print(text[0:2])\n",
        "print(text[1:])"
      ],
      "metadata": {
        "colab": {
          "base_uri": "https://localhost:8080/"
        },
        "id": "Fj47B3oLVCTR",
        "outputId": "51e8c89d-b7cf-4d54-d443-8f77abf83c70"
      },
      "execution_count": null,
      "outputs": [
        {
          "output_type": "stream",
          "name": "stdout",
          "text": [
            "AB\n",
            "BC\n"
          ]
        }
      ]
    },
    {
      "cell_type": "code",
      "source": [
        "#일반적인 순열 생성 함수 예제\n",
        "\n",
        "def permute(s, answer):\n",
        "  if len(s) == 0:\n",
        "    print(answer)           #맨 마지막인데 이게 맨 앞에 출력이 된다고?\n",
        "    return\n",
        "\n",
        "  for i in range(len(s)):   #원랜 range()이렇게 빈 공간이 아니였나?\n",
        "    ch = s[i]               #이걸 뜻하는게 정확히 뭐임? i=0,1,2이렇게 가는데///아 인덱스\n",
        "    left_substr = s[0:i]  #a\n",
        "    right_substr = s[i+1:] #BC\n",
        "    rest = left_substr + right_substr #ABC\n",
        "    permute(rest, answer + ch)  #ABC,\n",
        "\n",
        "text = \"ABC\"\n",
        "permute(text, \"\")\n",
        "\n",
        "#range(n)은 0부터 n-1까지의 정수를 생성하는 함수입니다."
      ],
      "metadata": {
        "colab": {
          "base_uri": "https://localhost:8080/"
        },
        "id": "JuomWTAYVQzu",
        "outputId": "83d450cf-613a-4fd8-e839-ea14360054aa"
      },
      "execution_count": null,
      "outputs": [
        {
          "output_type": "stream",
          "name": "stdout",
          "text": [
            "ABC\n",
            "ACB\n",
            "BAC\n",
            "BCA\n",
            "CAB\n",
            "CBA\n"
          ]
        }
      ]
    },
    {
      "cell_type": "code",
      "source": [
        "#큐 : 선입선출의 방식을 가지는 자료구조\n",
        "class Queue:\n",
        "  def __init__(self):\n",
        "    self.queue = [] #리스트형식으로 만들것이다.\n",
        "\n",
        "  def is_empty(self):\n",
        "    return len(self.queue) == 0  # 리스트의 길이가 0일 때 true 리턴, 0이 아닐 때 false  # 리턴은 값을 반환  # == 가 비교하는 조건문 중하나이므로 true, false\n",
        "\n",
        "  def enqueue(self,item):\n",
        "    self.queue.append(item)\n",
        "    print(f\"Enqueued : {item}\")\n",
        "\n",
        "  def dequeue(self):\n",
        "    if self.is_empty():\n",
        "      print(\"Queue is empty!\")\n",
        "      return None\n",
        "    item = self.queue.pop(0)\n",
        "    print(f\"Dequeued : {item}\")\n",
        "    return item\n",
        "\n",
        "  def print(self):\n",
        "    print(f\"Queue : {self.queue}\")\n",
        "\n",
        "q = Queue()\n",
        "q.enqueue(1)\n",
        "q.print()\n",
        "q.enqueue(2)\n",
        "q.print()\n",
        "q.enqueue(3)\n",
        "q.print()\n",
        "q.dequeue()\n",
        "q.print()\n",
        "q.dequeue()\n",
        "q.print()\n"
      ],
      "metadata": {
        "colab": {
          "base_uri": "https://localhost:8080/"
        },
        "id": "UYz79uXtVrjV",
        "outputId": "83e9b4d7-0b44-4eb0-9122-288c0e6a831c"
      },
      "execution_count": null,
      "outputs": [
        {
          "output_type": "stream",
          "name": "stdout",
          "text": [
            "Enqueued : 1\n",
            "Queue : [1]\n",
            "Enqueued : 2\n",
            "Queue : [1, 2]\n",
            "Enqueued : 3\n",
            "Queue : [1, 2, 3]\n",
            "Dequeued : 1\n",
            "Queue : [2, 3]\n",
            "Dequeued : 2\n",
            "Queue : [3]\n"
          ]
        }
      ]
    },
    {
      "cell_type": "code",
      "source": [
        "#데크 : 큐의 진화형태로, 양쪽끝에서 삽입과 삭제가 가능한 자료구조\n",
        "#front : 앞, rear : 뒤\n",
        "class Deque:\n",
        "  def __init__(self):\n",
        "    self.deque = []\n",
        "\n",
        "  def is_empty(self):\n",
        "    return len(self.deque) == 0\n",
        "\n",
        "  def add_front(self,item):\n",
        "    self.deque.insert(0,item)    #맨처음 인덱스에 추가\n",
        "    print(f\"Added to front : {item}\")\n",
        "\n",
        "  def remove_front(self):\n",
        "    if self.is_empty():\n",
        "      print(\"Deque is empty!\")\n",
        "      return None\n",
        "    item = self.deque.pop(0)\n",
        "    print(f\"Removed from front : {item}\")\n",
        "    return item\n",
        "\n",
        "  def add_rear(self,item):\n",
        "    self.deque.append(item)\n",
        "    print(f\"Added to rear : {item}\")\n",
        "\n",
        "  def remove_rear(self):\n",
        "    if self.is_empty():\n",
        "      print(\"Deque is empty!\")\n",
        "      return None\n",
        "    item = self.deque.pop()             #pop함수는 매개변수가 없으면 무조건 뒤에서 요소를 제거\n",
        "    print(f\"Removed from rear : {item}\")\n",
        "    return item\n",
        "\n",
        "  def print(self):\n",
        "    print(f\"curennt Deque : {self.deque}\")\n",
        "\n",
        "d = Deque()\n",
        "d.add_front(1)   #앞에 1\n",
        "d.print()\n",
        "d.add_rear(2)   #뒤에 2\n",
        "d.print()\n",
        "d.add_front(3)    #앞에 3\n",
        "d.print()\n",
        "d.add_rear(4)     #뒤에 4\n",
        "d.print()\n",
        "d.remove_front()\n",
        "d.print()\n",
        "d.remove_rear()\n",
        "d.print()"
      ],
      "metadata": {
        "colab": {
          "base_uri": "https://localhost:8080/"
        },
        "id": "VtSj2Iuia9V7",
        "outputId": "554f4eda-8653-491b-dc58-b7c08e7a030e"
      },
      "execution_count": null,
      "outputs": [
        {
          "output_type": "stream",
          "name": "stdout",
          "text": [
            "Added to front : 1\n",
            "curennt Deque : [1]\n",
            "Added to rear : 2\n",
            "curennt Deque : [1, 2]\n",
            "Added to front : 3\n",
            "curennt Deque : [3, 1, 2]\n",
            "Added to rear : 4\n",
            "curennt Deque : [3, 1, 2, 4]\n",
            "Removed from front : 3\n",
            "curennt Deque : [1, 2, 4]\n",
            "Removed from rear : 4\n",
            "curennt Deque : [1, 2]\n"
          ]
        }
      ]
    },
    {
      "cell_type": "code",
      "source": [
        "from ast import Return\n",
        "#원형 큐 : queue를 선언할 때 c++에서의 배열은 공간이 정해져있다.그리고 출입문도 정해져있다. 하나가 나갔으면 꼭 당기는 과정이 필요하다.\n",
        "#파이선도 c++로 만든 것이라 이런 과정이 필요해서 당겨주는 작업이 귀찮아서 원형 큐라는 것이 등장했다.\n",
        "class CircularQueue:\n",
        "  def __init__(self,size):\n",
        "    self.size = size    #리스트 사이즈를 의미\n",
        "    self.queue = [None] * size    #queue도 리스트라는 뜻을 가지느데 좀 특별함,\n",
        "    self.front = self.rear = -1   #이렇게 인스턴스변수에서 매개변수로 설정 안한 front,rear를 사용해도 되는거였음? #앞과 뒤의 인덱스를 가르키고 있다.#초깃값이 -1로 설정해놨다.\n",
        "\n",
        "  def is_full(self):\n",
        "    #rear +1이 size로 나눈 나머지가 front랑 같을 때 : 큐가 가득 찬 상태\n",
        "    return(self.rear + 1) % self.size == self.front\n",
        "\n",
        "  def is_empty(self):\n",
        "    return self.front == -1\n",
        "\n",
        "  def enqueue(self,item):\n",
        "    if self.is_full():\n",
        "      print(\"Queue is full!\")\n",
        "      return\n",
        "    if self.is_empty():\n",
        "      self.front = 0\n",
        "    self.rear = (self.rear + 1) % self.size\n",
        "    self.queue[self.rear] = item\n",
        "    print(f\"Enqueued : {item}\")\n",
        "  def dequeue(self):\n",
        "    if self.is_empty():\n",
        "      print(\"Queue is empty!\")\n",
        "      return None         #빈큐를 삭제하려 할 때 ...? 여기 다시듣기\n",
        "    item = self.queue[self.front]\n",
        "    if self.front == self.rear:\n",
        "      self.front = self.rear = -1\n",
        "      #a = b = c = 5    #a,b,c에 동시에 5를 대입      ??\n",
        "    else:\n",
        "      self.front = (self.front + 1) % self.size\n",
        "    print(f\"Dequeued : {item}\")\n",
        "    return item\n",
        "\n",
        "  def print(self):\n",
        "    if self.is_empty():\n",
        "      print(\"Queue is empty!\")\n",
        "      return\n",
        "    if self.rear >= self.front:\n",
        "      print(f\"Current Queue : {self.queue[self.front:self.rear+1]}\")\n",
        "      for i in range(self.front, self.rear + 1):\n",
        "        print(self.queue[i], end=\" \")\n",
        "      print() #줄바꿈\n",
        "    else:\n",
        "      print(\"Queue elements : \", end =\" \")\n",
        "      for i in range(self.front, self.size):\n",
        "        print(self.queue[i], end=\" \")\n",
        "      for i in range(0, self.rear + 1):\n",
        "        print(self.queue[i], end=\" \")\n",
        "      print()\n",
        "\n",
        "\n",
        "cq = CircularQueue(5)\n",
        "cq.enqueue(1)\n",
        "cq.enqueue(2)\n",
        "cq.enqueue(3)\n",
        "cq.enqueue(4)# 5이상을 넣게 되면 에러가날 것임 사이즈가 5라서\n",
        "cq.dequeue()\n",
        "cq.dequeue()\n",
        "cq.print()"
      ],
      "metadata": {
        "colab": {
          "base_uri": "https://localhost:8080/"
        },
        "id": "FHuRwblteEHw",
        "outputId": "a717e5e3-f9d3-4755-fcd6-024da36823b3"
      },
      "execution_count": null,
      "outputs": [
        {
          "output_type": "stream",
          "name": "stdout",
          "text": [
            "Enqueued : 1\n",
            "Enqueued : 2\n",
            "Enqueued : 3\n",
            "Enqueued : 4\n",
            "Dequeued : 1\n",
            "Dequeued : 2\n",
            "Current Queue : [3, 4]\n",
            "3 4 \n"
          ]
        }
      ]
    },
    {
      "cell_type": "code",
      "source": [
        "#stack : 뒤에서 들어오고 뒤로 나가는 형식, 선입후출\n",
        "#Queue : 앞에서 들어오고 뒤로 나가는 형식, 선입선출\n",
        "\n",
        "#DFS : 깊이 수선 탐색\n",
        "#stact,재귀함수로 구현\n",
        "#시작 노드에서 출발해 한 노드의 자식 노드로 깊이 들어가면서 탐색 // 배열의 ???도 노드라 표현한다.\n",
        "#BFS : 너비 우선 탐색\n",
        "#queue를 사용해 구현\n",
        "#시작 노드에서 출발해서 인접한 모든 노드를 먼저 탐색한 후, 다시 반복문으로 돌아오 인접노드의 인접노드들을(?) 탐색하는 방식"
      ],
      "metadata": {
        "id": "2ZwnGB4xqyKE"
      },
      "execution_count": null,
      "outputs": []
    },
    {
      "cell_type": "code",
      "source": [
        "#괄호의 균형 검삭                                         #둘다false나옴 이상\n",
        "def check_parenthesis_balance(expression):\n",
        "  stack = []\n",
        "  for char in expression:\n",
        "    if char in \"({[\":\n",
        "      stack.append(char)  #stack에 push\n",
        "    elif char in \")}]\":\n",
        "      if not stack:\n",
        "        return False\n",
        "      top = stack.pop()   #stack에서 제거하며\n",
        "      if char == ')' and top != '{':\n",
        "        return False\n",
        "      elif char == ']' and top != '[':\n",
        "        return False\n",
        "      elif char == '}' and top != '(':\n",
        "        return False\n",
        "  return not stack\n",
        "#({[]})  #출력 : True\n",
        "#([]      #출력 : False\n",
        "\n",
        "print(check_parenthesis_balance(\"({[]})\"))\n",
        "print(check_parenthesis_balance(\"([]\"))"
      ],
      "metadata": {
        "colab": {
          "base_uri": "https://localhost:8080/"
        },
        "id": "vvwZbUbTrqlv",
        "outputId": "be95d364-a9f8-4907-efac-250819fcf053"
      },
      "execution_count": null,
      "outputs": [
        {
          "output_type": "stream",
          "name": "stdout",
          "text": [
            "False\n",
            "False\n"
          ]
        }
      ]
    }
  ]
}