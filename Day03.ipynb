{
  "nbformat": 4,
  "nbformat_minor": 0,
  "metadata": {
    "colab": {
      "provenance": [],
      "authorship_tag": "ABX9TyOPVZB2XR4umOVx7LJ4Tyc7",
      "include_colab_link": true
    },
    "kernelspec": {
      "name": "python3",
      "display_name": "Python 3"
    },
    "language_info": {
      "name": "python"
    }
  },
  "cells": [
    {
      "cell_type": "markdown",
      "metadata": {
        "id": "view-in-github",
        "colab_type": "text"
      },
      "source": [
        "<a href=\"https://colab.research.google.com/github/chang-min-dbs/remem/blob/python_summer/Day03.ipynb\" target=\"_parent\"><img src=\"https://colab.research.google.com/assets/colab-badge.svg\" alt=\"Open In Colab\"/></a>"
      ]
    },
    {
      "cell_type": "code",
      "execution_count": null,
      "metadata": {
        "id": "Lb0FOflcKzN9"
      },
      "outputs": [],
      "source": [
        "#dictionary,tup"
      ]
    },
    {
      "cell_type": "code",
      "source": [
        "#복습\n",
        "#비트연산자   0b = 2진수를 눈에 보이게끔 만든 것\n",
        "a = 0b0010\n",
        "b = 0b1111\n",
        "print(a&b)  #0010\n"
      ],
      "metadata": {
        "colab": {
          "base_uri": "https://localhost:8080/"
        },
        "id": "5lR6zw2TNC5X",
        "outputId": "f6c6cd7e-608d-42a0-8a52-38ff8d69bf10"
      },
      "execution_count": null,
      "outputs": [
        {
          "output_type": "stream",
          "name": "stdout",
          "text": [
            "2\n"
          ]
        }
      ]
    },
    {
      "cell_type": "code",
      "source": [
        "print(a | b) #1111"
      ],
      "metadata": {
        "colab": {
          "base_uri": "https://localhost:8080/"
        },
        "id": "Gkzbnt5HN7uh",
        "outputId": "aafa83b8-93a1-4b2b-e3de-e0a2f168d32c"
      },
      "execution_count": null,
      "outputs": [
        {
          "output_type": "stream",
          "name": "stdout",
          "text": [
            "15\n"
          ]
        }
      ]
    },
    {
      "cell_type": "code",
      "source": [
        "print(~a)   #0010 ->1101"
      ],
      "metadata": {
        "colab": {
          "base_uri": "https://localhost:8080/"
        },
        "id": "Ho8t1urDN-k4",
        "outputId": "4e531362-706a-42ef-f4c3-6d9759b9d6c7"
      },
      "execution_count": null,
      "outputs": [
        {
          "output_type": "stream",
          "name": "stdout",
          "text": [
            "-3\n"
          ]
        }
      ]
    },
    {
      "cell_type": "code",
      "source": [
        "#자료구조 SET : 집합\n",
        "a = set() #\n",
        "a.add('A')\n",
        "print(a)"
      ],
      "metadata": {
        "colab": {
          "base_uri": "https://localhost:8080/"
        },
        "id": "xVcLJ1LBOGDQ",
        "outputId": "442ef233-0cd9-40f3-e132-35301217c229"
      },
      "execution_count": null,
      "outputs": [
        {
          "output_type": "stream",
          "name": "stdout",
          "text": [
            "{'A'}\n"
          ]
        }
      ]
    },
    {
      "cell_type": "code",
      "source": [
        "a.add('B')\n",
        "b = {'A, \"C'}\n",
        "print(a & b) #교집합 = and\n",
        "print(a | b) #합집합 = or\n",
        "print(a - b) #차집합\n",
        "print(b - a)\n",
        "#딕셔너리와 집합은 순서가 없는 collection임"
      ],
      "metadata": {
        "colab": {
          "base_uri": "https://localhost:8080/"
        },
        "id": "LWX6PMkiOkR6",
        "outputId": "60455d46-ce3d-4838-9b00-e6d271d5ec36"
      },
      "execution_count": null,
      "outputs": [
        {
          "output_type": "stream",
          "name": "stdout",
          "text": [
            "set()\n",
            "{'B', 'A, \"C', 'A'}\n",
            "{'B', 'A'}\n",
            "{'A, \"C'}\n"
          ]
        }
      ]
    },
    {
      "cell_type": "code",
      "source": [
        "#dictionary  -- 키를 포함 시키므로서 더 정확한 값을 표현함\n",
        "#요소들을 하나하나 따로따로 저장하는거에서 진화해서 두쌍으로 요소를 저장\n",
        "#hash table과 비슷함  -->다시듣기\n",
        "#'mana': 334, 이게 키,벨류 한쌍 즉, 4개의 키/벨류가 있는 것이다.\n",
        "lux = {'health': 490,\n",
        "       'mana': 334,\n",
        "       'melee': 550,\n",
        "       'armor': 18.72}\n",
        "        #key  : value\n",
        "print(lux)"
      ],
      "metadata": {
        "colab": {
          "base_uri": "https://localhost:8080/"
        },
        "id": "HnVOeQMXPGVZ",
        "outputId": "f2ea3606-6662-4a88-9d6b-8ba32cffc769"
      },
      "execution_count": null,
      "outputs": [
        {
          "output_type": "stream",
          "name": "stdout",
          "text": [
            "{'health': 490, 'mana': 334, 'melee': 550, 'armor': 18.72}\n"
          ]
        }
      ]
    },
    {
      "cell_type": "code",
      "source": [
        "print(type(lux)) #dictionary라는 뜻\n",
        "#dictionary의 기본형 : {Key1: Value1, Key2: Value2, Key3: Value3, ...} 말그대로 사전이라는 뜻"
      ],
      "metadata": {
        "colab": {
          "base_uri": "https://localhost:8080/"
        },
        "id": "cEToNCfYQM6X",
        "outputId": "01e5b64d-e101-4332-8df0-75ebdf801aa1"
      },
      "execution_count": null,
      "outputs": [
        {
          "output_type": "stream",
          "name": "stdout",
          "text": [
            "<class 'dict'>\n"
          ]
        }
      ]
    },
    {
      "cell_type": "code",
      "source": [
        "#print(lux[0]) --> 문자열 슬라이싱과 같이 인덱스로 접근하는 구문\n",
        "#딕셔너리와 세트는 순서가 없기 때문에 인덱스로 접근이 불가\n",
        "print(lux['health']) #키로는 접근이 가능하다 #key가 유니크한 값으로 식별되기 때문에 키로 벨류에 접근\n",
        "#print(lux[490]) #딕셔너리는 벨류로는 접근 불가"
      ],
      "metadata": {
        "colab": {
          "base_uri": "https://localhost:8080/"
        },
        "id": "dj-gKlgvQUAW",
        "outputId": "748f0660-6580-426e-9049-c339a57804a8"
      },
      "execution_count": null,
      "outputs": [
        {
          "output_type": "stream",
          "name": "stdout",
          "text": [
            "490\n"
          ]
        }
      ]
    },
    {
      "cell_type": "code",
      "source": [
        "cities = {'Seoul':'서울','Incheon':'인천', 'Busan':'부산'}\n",
        "#딕셔너리는 이렇게 키와 벨류가 한쌍으로 요소 하나를 결정짓는다"
      ],
      "metadata": {
        "id": "G3NCt98CRWP3"
      },
      "execution_count": null,
      "outputs": []
    },
    {
      "cell_type": "code",
      "source": [
        "print(cities['Seoul']) #키로 접근해서 벨류를 리턴\n",
        "cities['Seoul'] = '서울특별시' #키로 접근해서 그 키의 벨류를 수정할 수 있다\n",
        "print(cities)\n",
        "                                                                                                 # Q. 'Seoul': '서울' 이게 나오고 추가로 'seoul': '서울특별시'이게 나온다. A. S대소문자 구별하자"
      ],
      "metadata": {
        "colab": {
          "base_uri": "https://localhost:8080/"
        },
        "id": "MsFmgBbERmIO",
        "outputId": "81738b19-196a-46b5-fa7d-382b2784cad4"
      },
      "execution_count": null,
      "outputs": [
        {
          "output_type": "stream",
          "name": "stdout",
          "text": [
            "서울\n",
            "{'Seoul': '서울특별시', 'Incheon': '인천', 'Busan': '부산'}\n"
          ]
        }
      ]
    },
    {
      "cell_type": "code",
      "source": [
        "# 함수 형태로 값을 가져오기\n",
        "print(cities.get('Seoul')) # = cities['seoul']\n",
        "print(cities.get('Busan')) #get"
      ],
      "metadata": {
        "colab": {
          "base_uri": "https://localhost:8080/"
        },
        "id": "1-9NLvlOR5UX",
        "outputId": "fcb02b41-c3d5-4d8b-d306-a9fae0a779e9"
      },
      "execution_count": null,
      "outputs": [
        {
          "output_type": "stream",
          "name": "stdout",
          "text": [
            "서울\n",
            "부산\n"
          ]
        }
      ]
    },
    {
      "cell_type": "code",
      "source": [
        "#key 값에 대한 메서드(=함수) // 함수 = 함수이름 (매개변수)\n",
        "print(cities.keys()) #키만 가져오는 메서드\n",
        "#메서드는 객체와 연관되서 사용된다."
      ],
      "metadata": {
        "colab": {
          "base_uri": "https://localhost:8080/"
        },
        "id": "nehJsZ0OSP9O",
        "outputId": "c27df66f-b886-4399-cf3f-b7edd1d859a3"
      },
      "execution_count": null,
      "outputs": [
        {
          "output_type": "stream",
          "name": "stdout",
          "text": [
            "dict_keys(['Seoul', 'Incheon', 'Busan'])\n"
          ]
        }
      ]
    },
    {
      "cell_type": "code",
      "source": [
        "#value들만 가져오는 메서드\n",
        "print(cities.values())"
      ],
      "metadata": {
        "colab": {
          "base_uri": "https://localhost:8080/"
        },
        "id": "IjFRMiITSVJi",
        "outputId": "da5b22f1-ce8e-4b36-c3ef-79b66750c1b5"
      },
      "execution_count": null,
      "outputs": [
        {
          "output_type": "stream",
          "name": "stdout",
          "text": [
            "dict_values(['서울', '인천', '부산', '서울특별시'])\n"
          ]
        }
      ]
    },
    {
      "cell_type": "code",
      "source": [
        "#반복문\n",
        "str1 = '안녕하세요'\n",
        "\n",
        "for s in str1:\n",
        "  print(s)\n",
        "print(\"--\")\n",
        "str2 = ['봄', '여름', '가을', '겨울']\n",
        "for i in str2:\n",
        "    print(f\"내가 좋아하는 계절은{i}이야\")"
      ],
      "metadata": {
        "colab": {
          "base_uri": "https://localhost:8080/"
        },
        "id": "TDcMO2sOSkGZ",
        "outputId": "d0250012-80d9-4360-d06b-b2124a7d648d"
      },
      "execution_count": null,
      "outputs": [
        {
          "output_type": "stream",
          "name": "stdout",
          "text": [
            "안\n",
            "녕\n",
            "하\n",
            "세\n",
            "요\n",
            "--\n",
            "내가 좋아하는 계절은봄이야\n",
            "내가 좋아하는 계절은여름이야\n",
            "내가 좋아하는 계절은가을이야\n",
            "내가 좋아하는 계절은겨울이야\n"
          ]
        }
      ]
    },
    {
      "cell_type": "code",
      "source": [
        "str3 = {'A', 'B', 'C', 'D'}\n",
        "for i in str3:\n",
        "  print(i)\n",
        "  #집합은 순서가 없는 콜렉션이기 때문에\n",
        "  #출력되는 순서는 보장할 수 없음"
      ],
      "metadata": {
        "colab": {
          "base_uri": "https://localhost:8080/"
        },
        "id": "RZ9xHw-aTadh",
        "outputId": "69790592-a2e1-40fa-c858-e355603c4702"
      },
      "execution_count": null,
      "outputs": [
        {
          "output_type": "stream",
          "name": "stdout",
          "text": [
            "B\n",
            "D\n",
            "A\n",
            "C\n"
          ]
        }
      ]
    },
    {
      "cell_type": "code",
      "source": [
        "#range함수 복습\n",
        "#range(시작, 정지, 간격)\n",
        "for i in range(10):\n",
        "  print(i)\n",
        "  #매개변수가 하나면, 0부터 정지보다 1작은 수까지 반복"
      ],
      "metadata": {
        "colab": {
          "base_uri": "https://localhost:8080/"
        },
        "id": "vU1ZfpCnTvL5",
        "outputId": "b37bad21-ba25-4723-99ad-09d62c1678b9"
      },
      "execution_count": null,
      "outputs": [
        {
          "output_type": "stream",
          "name": "stdout",
          "text": [
            "0\n",
            "1\n",
            "2\n",
            "3\n",
            "4\n",
            "5\n",
            "6\n",
            "7\n",
            "8\n",
            "9\n"
          ]
        }
      ]
    },
    {
      "cell_type": "code",
      "source": [
        "for j in range(3, 10):\n",
        "  print(j)"
      ],
      "metadata": {
        "colab": {
          "base_uri": "https://localhost:8080/"
        },
        "id": "pOL5jkilT8ZF",
        "outputId": "1e00d082-d7dc-4c1a-bd30-759fb88aeb94"
      },
      "execution_count": null,
      "outputs": [
        {
          "output_type": "stream",
          "name": "stdout",
          "text": [
            "3\n",
            "4\n",
            "5\n",
            "6\n",
            "7\n",
            "8\n",
            "9\n"
          ]
        }
      ]
    },
    {
      "cell_type": "code",
      "source": [
        "for k in range(5,0,-1):\n",
        "  print(k) #-1로 하면 거꾸로 간다"
      ],
      "metadata": {
        "colab": {
          "base_uri": "https://localhost:8080/"
        },
        "id": "jamf_dOwUB8t",
        "outputId": "f532e6dd-9654-475c-9371-fcc8bbf8d134"
      },
      "execution_count": null,
      "outputs": [
        {
          "output_type": "stream",
          "name": "stdout",
          "text": [
            "5\n",
            "4\n",
            "3\n",
            "2\n",
            "1\n"
          ]
        }
      ]
    },
    {
      "cell_type": "code",
      "source": [
        "for h in range(2,100,2):\n",
        "  print(h)"
      ],
      "metadata": {
        "colab": {
          "base_uri": "https://localhost:8080/"
        },
        "id": "6qM-6UXLUJ4d",
        "outputId": "84c4d309-b4f9-443e-b7e3-5c27a19233be"
      },
      "execution_count": null,
      "outputs": [
        {
          "output_type": "stream",
          "name": "stdout",
          "text": [
            "2\n",
            "4\n",
            "6\n",
            "8\n",
            "10\n",
            "12\n",
            "14\n",
            "16\n",
            "18\n",
            "20\n",
            "22\n",
            "24\n",
            "26\n",
            "28\n",
            "30\n",
            "32\n",
            "34\n",
            "36\n",
            "38\n",
            "40\n",
            "42\n",
            "44\n",
            "46\n",
            "48\n",
            "50\n",
            "52\n",
            "54\n",
            "56\n",
            "58\n",
            "60\n",
            "62\n",
            "64\n",
            "66\n",
            "68\n",
            "70\n",
            "72\n",
            "74\n",
            "76\n",
            "78\n",
            "80\n",
            "82\n",
            "84\n",
            "86\n",
            "88\n",
            "90\n",
            "92\n",
            "94\n",
            "96\n",
            "98\n"
          ]
        }
      ]
    },
    {
      "cell_type": "code",
      "source": [
        "nations = {'korea':'한국',\n",
        "           'Japan':'일본',\n",
        "           'china':'중국'}\n",
        "for i in nations:\n",
        "  print(i)\n",
        "  #in은 key만 추출"
      ],
      "metadata": {
        "colab": {
          "base_uri": "https://localhost:8080/"
        },
        "id": "AMRPsbiDUYAu",
        "outputId": "5882be77-d1f9-4ad6-9822-2184eac5edfb"
      },
      "execution_count": null,
      "outputs": [
        {
          "output_type": "stream",
          "name": "stdout",
          "text": [
            "korea\n",
            "Japan\n",
            "china\n"
          ]
        }
      ]
    },
    {
      "cell_type": "code",
      "source": [
        "for v in nations.values():\n",
        "  print(v)\n",
        "  #이렇게 하면value들만 출력가능"
      ],
      "metadata": {
        "colab": {
          "base_uri": "https://localhost:8080/"
        },
        "id": "m5SBQrQGU0TV",
        "outputId": "7a121a4d-5223-4bb6-9635-31e985a2cf06"
      },
      "execution_count": null,
      "outputs": [
        {
          "output_type": "stream",
          "name": "stdout",
          "text": [
            "한국\n",
            "일본\n",
            "중국\n"
          ]
        }
      ]
    },
    {
      "cell_type": "code",
      "source": [
        "for k in nations.keys(): #for k in nations: 와 같다\n",
        "  print(k)\n"
      ],
      "metadata": {
        "colab": {
          "base_uri": "https://localhost:8080/"
        },
        "id": "JgSIodlEVE1F",
        "outputId": "d08f4683-2e18-4353-a4c4-f1f831827a62"
      },
      "execution_count": null,
      "outputs": [
        {
          "output_type": "stream",
          "name": "stdout",
          "text": [
            "korea\n",
            "Japan\n",
            "china\n"
          ]
        }
      ]
    },
    {
      "cell_type": "code",
      "source": [
        "#반복문이용해서 키와 벨류를 동시에 접근 --> 키에만 접근하는게 유리\n",
        "for k in nations.keys():\n",
        "  print(f\"{k}는 한국어로{nations[k]}입니다\")  #여기 다시 보기\n",
        "  #key를 이용해 리턴되는 형식을 만든다.\n",
        "  #print(f\"{k}는 한국어로{nations.get(k)}입니다\")이것과 동일한 것이다.\n"
      ],
      "metadata": {
        "colab": {
          "base_uri": "https://localhost:8080/"
        },
        "id": "0LqWF6O6VSL7",
        "outputId": "92ae7011-1ad5-496f-9868-c9e24e65c7bf"
      },
      "execution_count": null,
      "outputs": [
        {
          "output_type": "stream",
          "name": "stdout",
          "text": [
            "korea는 한국어로한국입니다\n",
            "Japan는 한국어로일본입니다\n",
            "china는 한국어로중국입니다\n"
          ]
        }
      ]
    },
    {
      "cell_type": "code",
      "source": [
        "print(nations)\n",
        "nations['USA'] = '미국' #key:value 새로 추가\n",
        "print(nations)"
      ],
      "metadata": {
        "colab": {
          "base_uri": "https://localhost:8080/"
        },
        "id": "Rp4V5hw8Vy5G",
        "outputId": "2c64fa6f-a769-49e7-ea6b-b94409182412"
      },
      "execution_count": null,
      "outputs": [
        {
          "output_type": "stream",
          "name": "stdout",
          "text": [
            "{'korea': '한국', 'china': '중국'}\n",
            "{'korea': '한국', 'china': '중국', 'USA': '미국'}\n"
          ]
        }
      ]
    },
    {
      "cell_type": "code",
      "source": [
        "#중복되는 키값으로 추가가 할 경우\n",
        "nations['korea'] = '대한민국'\n",
        "print(nations)\n",
        "#나중에 추가된 벨류로 수정됨 -->한국에서 대한민국\n",
        "#키는 무조건 중복 불가"
      ],
      "metadata": {
        "colab": {
          "base_uri": "https://localhost:8080/"
        },
        "id": "iwmQRXK9V_Ny",
        "outputId": "b2fb5ec7-5128-46d4-83eb-a85dbc113f2c"
      },
      "execution_count": null,
      "outputs": [
        {
          "output_type": "stream",
          "name": "stdout",
          "text": [
            "{'korea': '대한민국', 'china': '중국', 'USA': '미국'}\n"
          ]
        }
      ]
    },
    {
      "cell_type": "code",
      "source": [
        "a = {'A': 100, 'B': 200, 'A':300} #이렇게 해도 중복이 안된다. 뒤에 추가된 300이 튀어 나온다.\n",
        "print(a)"
      ],
      "metadata": {
        "colab": {
          "base_uri": "https://localhost:8080/"
        },
        "id": "mFTQqEo7WPYE",
        "outputId": "9d0e4412-2170-422e-99a6-3f5f5ff828e6"
      },
      "execution_count": null,
      "outputs": [
        {
          "output_type": "stream",
          "name": "stdout",
          "text": [
            "{'A': 300, 'B': 200}\n"
          ]
        }
      ]
    },
    {
      "cell_type": "code",
      "source": [
        "#pop : 리턴과 동시에 삭제된다(스택에서 팝이라는 것이 등장한다)\n",
        "remove = nations.pop('Japan') #pop메서드는 딕셔너리에 있던 'Japan': '일본' 이란 키:밸류를 remove를 넣게하고 이 한쌍을 삭제시켜버린다\n",
        "print(remove)\n",
        "print(nations)"
      ],
      "metadata": {
        "colab": {
          "base_uri": "https://localhost:8080/"
        },
        "id": "4CKFbKxhWXV0",
        "outputId": "c9f9fef0-c98c-4255-e391-6a9f2c874665"
      },
      "execution_count": null,
      "outputs": [
        {
          "output_type": "stream",
          "name": "stdout",
          "text": [
            "일본\n",
            "{'korea': '한국', 'china': '중국'}\n"
          ]
        }
      ]
    },
    {
      "cell_type": "code",
      "source": [
        "#딕셔너리 초기화\n",
        "nations.clear() #이 표현을 해주면 빈딕셔너리로 가는걸 확인 할 수 있다\n",
        "print(nations)\n",
        "#dict = {}라 표현가능인데 set = {}를 하면 딕셔너리와 헷갈리게 되므로  a = set()으로 초기화 시키는 것이다. /////잘 이해는 안된다.\n",
        "#위의 것을 조심하자"
      ],
      "metadata": {
        "colab": {
          "base_uri": "https://localhost:8080/"
        },
        "id": "6YJZsD7aXIx1",
        "outputId": "b62c21ee-c5ca-4649-eef9-60a224f71715"
      },
      "execution_count": null,
      "outputs": [
        {
          "output_type": "stream",
          "name": "stdout",
          "text": [
            "{}\n"
          ]
        }
      ]
    },
    {
      "cell_type": "code",
      "source": [
        "# 리스트(순서가 있이 출력된다)\n",
        "a = [10,20,30]\n",
        "print(a)\n",
        "print(len(a)) # length의 줄임말로 콜렉션 길이를 반환 #반환 = return\n",
        "for i in a:\n",
        "  print(i)"
      ],
      "metadata": {
        "colab": {
          "base_uri": "https://localhost:8080/"
        },
        "id": "WmbIJPgxXhX2",
        "outputId": "88ef190e-9212-4c42-eeb6-16cf394cea04"
      },
      "execution_count": null,
      "outputs": [
        {
          "output_type": "stream",
          "name": "stdout",
          "text": [
            "[10, 20, 30]\n",
            "3\n",
            "10\n",
            "20\n",
            "30\n"
          ]
        }
      ]
    },
    {
      "cell_type": "code",
      "source": [
        "print(a[0])\n",
        "print(a[1])\n",
        "print(a[2])\n",
        "print(a[-1])\n",
        "#인덱스도 음수를 사용해서 뒤에서부터 접근 가능"
      ],
      "metadata": {
        "colab": {
          "base_uri": "https://localhost:8080/"
        },
        "id": "WALOB0qNX7Br",
        "outputId": "e6b0d613-a845-466d-c1c5-e71dacc01243"
      },
      "execution_count": null,
      "outputs": [
        {
          "output_type": "stream",
          "name": "stdout",
          "text": [
            "10\n",
            "20\n",
            "30\n",
            "30\n"
          ]
        }
      ]
    },
    {
      "cell_type": "code",
      "source": [
        "#리스트 추가 및 확장\n",
        "a.append(40)  #요소하나만 넣어주는거 -->40만 넣어줬다.\n",
        "print(a)\n",
        "b = [50,60,70]\n",
        "a.extend(b)  #리스트 그 자체를 넣어준다 --> 50,60,70을 뒤에 추가해 넣어줬다.\n",
        "print(a)"
      ],
      "metadata": {
        "colab": {
          "base_uri": "https://localhost:8080/"
        },
        "id": "6G36Bd_FYTc1",
        "outputId": "8b7b878b-25dc-44e1-d8aa-bba901b509aa"
      },
      "execution_count": null,
      "outputs": [
        {
          "output_type": "stream",
          "name": "stdout",
          "text": [
            "[10, 20, 30, 40, 50, 60, 70, 40]\n",
            "[10, 20, 30, 40, 50, 60, 70, 40, 50, 60, 70]\n"
          ]
        }
      ]
    },
    {
      "cell_type": "code",
      "source": [
        "arr = ['A',1, ['안녕','반가워']]\n",
        "print(arr[-1])\n",
        "print(arr[0])\n",
        "print(len(arr))"
      ],
      "metadata": {
        "colab": {
          "base_uri": "https://localhost:8080/"
        },
        "id": "SMXp24THYyq9",
        "outputId": "a2afba3c-2e14-477c-f233-2f19fd3127cd"
      },
      "execution_count": null,
      "outputs": [
        {
          "output_type": "stream",
          "name": "stdout",
          "text": [
            "['안녕', '반가워']\n",
            "A\n",
            "3\n"
          ]
        }
      ]
    },
    {
      "cell_type": "code",
      "source": [
        "print(arr[-1][0])\n",
        "print(arr[-1][1]) #리스트안에 리스트로 또 접근 가능하다는 것\n",
        "#이중 리스트에도 인덱스로 접근 가능\n",
        "print(arr[-1][0][0])\n",
        "#'워'에 접근하기\n",
        "print(arr[-1][-1][-1])"
      ],
      "metadata": {
        "colab": {
          "base_uri": "https://localhost:8080/"
        },
        "id": "TAeViN7zZSwm",
        "outputId": "17f5851c-61d6-44fd-e539-95378566d3d1"
      },
      "execution_count": null,
      "outputs": [
        {
          "output_type": "stream",
          "name": "stdout",
          "text": [
            "안녕\n",
            "반가워\n",
            "안\n",
            "워\n"
          ]
        }
      ]
    },
    {
      "cell_type": "code",
      "source": [
        "arr = []\n",
        "for i in range(2, 12, 2):\n",
        "  arr.append(i)\n",
        "print(arr)\n",
        "#리스트이므로 한줄로 나열인듯"
      ],
      "metadata": {
        "colab": {
          "base_uri": "https://localhost:8080/"
        },
        "id": "T_Fv1duQYZYc",
        "outputId": "448e4f2d-75fe-4490-ffd7-79d682f10ec5"
      },
      "execution_count": null,
      "outputs": [
        {
          "output_type": "stream",
          "name": "stdout",
          "text": [
            "[2, 4, 6, 8, 10]\n"
          ]
        }
      ]
    },
    {
      "cell_type": "code",
      "source": [
        "#리스트 누적합\n",
        "sum = 0 #변수선언 및 초기화를 먼저 해주기 가비지 값이 들어갈 수 있기 때문\n",
        "for s in arr:  # in range의 in: 숫자가 리턴  in arr의 in: 콜렉션에 있는 항목들이 리턴되는것\n",
        "  sum+= s\n",
        "print(sum)"
      ],
      "metadata": {
        "colab": {
          "base_uri": "https://localhost:8080/"
        },
        "id": "y1NfhtE-aG5R",
        "outputId": "a0893dcf-adb1-4c74-e796-a3025d79a8af"
      },
      "execution_count": null,
      "outputs": [
        {
          "output_type": "stream",
          "name": "stdout",
          "text": [
            "30\n"
          ]
        }
      ]
    },
    {
      "cell_type": "code",
      "source": [
        "#원하는 index에 추가\n",
        "a = [20,30,40]\n",
        "a.insert(0,10) #삽입할 인덱스, 삽입할 요소\n",
        "               #기본 방식: 변수.insert(자리(인덱스),요소)\n",
        "print(a)\n",
        "a.insert(2,25)  #append는 뒤에다 줄줄이 추가하는 함수이고 insert는 원하는 index를 명시할 수 있는 함수\n",
        "print(a)\n",
        "#"
      ],
      "metadata": {
        "colab": {
          "base_uri": "https://localhost:8080/"
        },
        "id": "IV4uMobUagra",
        "outputId": "518ac539-1c7a-42b4-81ce-b3b35d904665"
      },
      "execution_count": null,
      "outputs": [
        {
          "output_type": "stream",
          "name": "stdout",
          "text": [
            "[10, 20, 30, 40]\n",
            "[10, 20, 25, 30, 40]\n"
          ]
        }
      ]
    },
    {
      "cell_type": "code",
      "source": [
        "#제거하기\n",
        "a.pop(1)#인덱스로 제거\n",
        "print(a)\n"
      ],
      "metadata": {
        "colab": {
          "base_uri": "https://localhost:8080/"
        },
        "id": "2tJObpzAa4mR",
        "outputId": "3e773714-1db6-4e67-f980-ceb9b504a3c0"
      },
      "execution_count": null,
      "outputs": [
        {
          "output_type": "stream",
          "name": "stdout",
          "text": [
            "[10, 25, 30, 40]\n"
          ]
        }
      ]
    },
    {
      "cell_type": "code",
      "source": [
        "num = a.pop(0)\n",
        "print(num)  #팝은 이렇게 반환을 하고 삭제를 하는 함수다\n",
        "print(a)"
      ],
      "metadata": {
        "colab": {
          "base_uri": "https://localhost:8080/"
        },
        "id": "QjvNzm4Ma_9Z",
        "outputId": "5653e3ae-c90c-45b5-f696-28ec721e5b3d"
      },
      "execution_count": null,
      "outputs": [
        {
          "output_type": "stream",
          "name": "stdout",
          "text": [
            "10\n",
            "[25, 30, 40]\n"
          ]
        }
      ]
    },
    {
      "cell_type": "code",
      "source": [
        "a.remove(30) #요소 자체를 검색해서 삭제\n",
        "print(a)"
      ],
      "metadata": {
        "colab": {
          "base_uri": "https://localhost:8080/"
        },
        "id": "1NqnO5EgbSF_",
        "outputId": "3e21272c-cf28-434d-ee9c-4444e8a737aa"
      },
      "execution_count": null,
      "outputs": [
        {
          "output_type": "stream",
          "name": "stdout",
          "text": [
            "[25, 40]\n"
          ]
        }
      ]
    },
    {
      "cell_type": "code",
      "source": [
        "#index검색\n",
        "print(a.index(40))\n",
        "#40의 인덱스(자리)1이 나타나게 되는 것이다\n",
        "#없는요소는 에러남\n"
      ],
      "metadata": {
        "colab": {
          "base_uri": "https://localhost:8080/"
        },
        "id": "Vmkkm8Ttbihv",
        "outputId": "51e3ff0e-7a31-4dbe-e715-34e6941fcacf"
      },
      "execution_count": null,
      "outputs": [
        {
          "output_type": "stream",
          "name": "stdout",
          "text": [
            "1\n"
          ]
        }
      ]
    },
    {
      "cell_type": "code",
      "source": [
        "#요소 개수 세기\n",
        "a = [10,10, 10, 20, 10]\n",
        "print(a.count(10))"
      ],
      "metadata": {
        "colab": {
          "base_uri": "https://localhost:8080/"
        },
        "id": "ai68Gq0lbtuI",
        "outputId": "4b8bb795-9789-42c1-f2b5-2e286371fb2b"
      },
      "execution_count": null,
      "outputs": [
        {
          "output_type": "stream",
          "name": "stdout",
          "text": [
            "4\n"
          ]
        }
      ]
    },
    {
      "cell_type": "code",
      "source": [
        "a = [10, 30, 25, 15, 40]\n",
        "print(a)\n",
        "a.sort() #오름차순으로 정렬 # 이렇게 공백으로 안써져있으면 기본적으로 false임  # 다시듣기# 둘중 어느게 디폴트 파라미터?\n",
        "print(a)\n",
        "a.sort(reverse=True) #내림차순으로 정렬 #이건 디폴트 파라미터라고하는데 예를들어 print는 함수명이고 ()에는 매개변수(=파라미터)이다.\n",
        "print(a)\n",
        "#"
      ],
      "metadata": {
        "colab": {
          "base_uri": "https://localhost:8080/"
        },
        "id": "EWQGkkzRb0w3",
        "outputId": "65fbc591-58cd-4fd7-e52c-544713517d70"
      },
      "execution_count": null,
      "outputs": [
        {
          "output_type": "stream",
          "name": "stdout",
          "text": [
            "[10, 30, 25, 15, 40]\n",
            "[10, 15, 25, 30, 40]\n",
            "[40, 30, 25, 15, 10]\n"
          ]
        }
      ]
    },
    {
      "cell_type": "code",
      "source": [
        "a.clear()\n",
        "print(a)  #리스트 초기화"
      ],
      "metadata": {
        "colab": {
          "base_uri": "https://localhost:8080/"
        },
        "id": "7vofo3tgcV-g",
        "outputId": "e72d4eef-488e-48ca-b90d-31d5606486a7"
      },
      "execution_count": null,
      "outputs": [
        {
          "output_type": "stream",
          "name": "stdout",
          "text": [
            "[]\n"
          ]
        }
      ]
    },
    {
      "cell_type": "code",
      "source": [
        "b = [10,20,30,40]\n",
        "b[0]=50\n",
        "#즉, [0]의 인덱스가 50으로 바뀌었다.\n",
        "#b[5]=70 #추가는 인덱스로 에러 발생 #(아직 있지않는 인덱스는)\n",
        "#수정과 추가\n",
        "print(b)"
      ],
      "metadata": {
        "colab": {
          "base_uri": "https://localhost:8080/"
        },
        "id": "fnoPSLfkeMnw",
        "outputId": "99506cea-fd7d-4f4f-bfde-ae67b7841ba8"
      },
      "execution_count": null,
      "outputs": [
        {
          "output_type": "stream",
          "name": "stdout",
          "text": [
            "[50, 20, 30, 40]\n"
          ]
        }
      ]
    },
    {
      "cell_type": "code",
      "source": [
        "origin= ['A','B','C']\n",
        "copied = origin #얕은 복사\n",
        "print(origin)\n",
        "print(copied) #이렇게 둘다 동시에 바뀜"
      ],
      "metadata": {
        "colab": {
          "base_uri": "https://localhost:8080/"
        },
        "id": "S-Gn38UremMB",
        "outputId": "3709422d-7531-46e2-9986-73933116c9ea"
      },
      "execution_count": null,
      "outputs": [
        {
          "output_type": "stream",
          "name": "stdout",
          "text": [
            "['A', 'B', 'C']\n",
            "['A', 'B', 'C']\n"
          ]
        }
      ]
    },
    {
      "cell_type": "code",
      "source": [
        "copied[2]='D'\n",
        "print(origin)  #카피드에 d로 수정했는데 오리진도 같이 바뀐다 ---> 얕은 복사 때문"
      ],
      "metadata": {
        "colab": {
          "base_uri": "https://localhost:8080/"
        },
        "id": "jZYH0hobe4LN",
        "outputId": "33467a6b-4d94-45c9-c655-528fa94b194d"
      },
      "execution_count": null,
      "outputs": [
        {
          "output_type": "stream",
          "name": "stdout",
          "text": [
            "['A', 'B', 'D']\n"
          ]
        }
      ]
    },
    {
      "cell_type": "code",
      "source": [
        "num1 = 10\n",
        "num2 = num1\n",
        "num2 = 5  #10 -> 5\n",
        "print(num1)  #넘1이 바뀐 넘2의 영향을 받지 않는다.\n",
        "print(num2)\n",
        "#그냥변수랑 리스트같은 컬렉션 자료구조는 다르다. 메모리에 할당되는 방식이 다르기 때문,리스트는 컬렉션 자료구조는 다르다. 오리진이 리스트라고 하는 정수하나 있는 변수보다 조금 더 큰 더 넓은 범위의 메모리를 갖고있고\n",
        "#이걸 바로 카피드를 해버리면 이런 특수한 자료구조 메모리를 참조를 한다. 그래서 카피드가 바뀌면 오리진도 같이 바뀌게 되는 것\n",
        "\n",
        "\n",
        "# 계속 봐보기"
      ],
      "metadata": {
        "colab": {
          "base_uri": "https://localhost:8080/"
        },
        "id": "Wg-PIn8efIi-",
        "outputId": "2e778ae0-752f-4acc-c2c8-88835335018f"
      },
      "execution_count": null,
      "outputs": [
        {
          "output_type": "stream",
          "name": "stdout",
          "text": [
            "10\n",
            "5\n"
          ]
        }
      ]
    },
    {
      "cell_type": "code",
      "source": [
        "copied2 = origin.copy() #깊은 복사  - 오리진과 카피드 2와 아예 영역이 나뉘어 수정되도 별개가 된다. # 아무튼 origin.copy() 이선언을 해줘야 깊은 복사가 되어 카피드만 따로 바뀐다\n",
        "copied2[0] = 'F'\n",
        "print(origin)\n",
        "print(copied2) # 오리진과 카피드2에 따로..?한다\n",
        "#그래서 F로 바꿨다해서 영향을 주진 않는다"
      ],
      "metadata": {
        "colab": {
          "base_uri": "https://localhost:8080/"
        },
        "id": "AwD5JDYIfunm",
        "outputId": "1bbc7674-5f4b-4548-de5a-2999bf838740"
      },
      "execution_count": null,
      "outputs": [
        {
          "output_type": "stream",
          "name": "stdout",
          "text": [
            "['A', 'B', 'D']\n",
            "['F', 'B', 'D']\n"
          ]
        }
      ]
    },
    {
      "cell_type": "markdown",
      "source": [
        "\n",
        "\n",
        "*   리스트와 튜플의 차이점\n",
        " 1. 리스트는[], 튜플은 ()이다\n",
        " 2.리스트는 값을 수정할 수 있지만 튜플은 수정 불가하다\n",
        "\n"
      ],
      "metadata": {
        "id": "ct_eEqvJHO0I"
      }
    },
    {
      "cell_type": "code",
      "source": [
        "# tuple\n",
        "a = (10, 20, 30)    #리스트는 [] 튜플은()이네\n",
        "for i in a:\n",
        "  print(i)\n"
      ],
      "metadata": {
        "colab": {
          "base_uri": "https://localhost:8080/"
        },
        "id": "tL7zerGrgQg-",
        "outputId": "8a3842b0-ec01-481d-a04d-4859db6ca8f9"
      },
      "execution_count": null,
      "outputs": [
        {
          "output_type": "stream",
          "name": "stdout",
          "text": [
            "10\n",
            "20\n",
            "30\n"
          ]
        }
      ]
    },
    {
      "cell_type": "code",
      "source": [
        "#리스트와 비슷한 형태이나 비슷한데 수정이 안되는 컬렉션이다\n",
        "a[0] = 40 #error"
      ],
      "metadata": {
        "colab": {
          "base_uri": "https://localhost:8080/",
          "height": 166
        },
        "id": "k9X6vmkOgaY9",
        "outputId": "fd2cc6b0-e009-4447-83ea-f6b2782ff85e"
      },
      "execution_count": null,
      "outputs": [
        {
          "output_type": "error",
          "ename": "TypeError",
          "evalue": "'tuple' object does not support item assignment",
          "traceback": [
            "\u001b[0;31m---------------------------------------------------------------------------\u001b[0m",
            "\u001b[0;31mTypeError\u001b[0m                                 Traceback (most recent call last)",
            "\u001b[0;32m<ipython-input-126-ef070031928f>\u001b[0m in \u001b[0;36m<cell line: 2>\u001b[0;34m()\u001b[0m\n\u001b[1;32m      1\u001b[0m \u001b[0;31m#리스트와 비슷한 형태이나 비슷한데 수정이 안되는 컬렉션이다\u001b[0m\u001b[0;34m\u001b[0m\u001b[0;34m\u001b[0m\u001b[0m\n\u001b[0;32m----> 2\u001b[0;31m \u001b[0ma\u001b[0m\u001b[0;34m[\u001b[0m\u001b[0;36m0\u001b[0m\u001b[0;34m]\u001b[0m \u001b[0;34m=\u001b[0m \u001b[0;36m40\u001b[0m \u001b[0;31m#error\u001b[0m\u001b[0;34m\u001b[0m\u001b[0;34m\u001b[0m\u001b[0m\n\u001b[0m",
            "\u001b[0;31mTypeError\u001b[0m: 'tuple' object does not support item assignment"
          ]
        }
      ]
    },
    {
      "cell_type": "code",
      "source": [
        "arr = [[10,20],[30,40],[50,60]]\n",
        "print(arr)\n",
        "print(len(arr))#아이템은 3개로 인식이 되는데 아래 콘솔에서 인덱스로 접근을 해보면"
      ],
      "metadata": {
        "colab": {
          "base_uri": "https://localhost:8080/"
        },
        "id": "2H8r2BmbgpZe",
        "outputId": "13110348-05da-43aa-e345-7c772b33bde5"
      },
      "execution_count": null,
      "outputs": [
        {
          "output_type": "stream",
          "name": "stdout",
          "text": [
            "[[10, 20], [30, 40], [50, 60]]\n",
            "3\n"
          ]
        }
      ]
    },
    {
      "cell_type": "code",
      "source": [
        "print(arr[0])\n",
        "print(arr[0][0])\n",
        "print(arr[2][1])#2차원으로도 선언 할 수 있다."
      ],
      "metadata": {
        "colab": {
          "base_uri": "https://localhost:8080/"
        },
        "id": "QfE8QBKMg5BN",
        "outputId": "c928ca63-6183-4da3-80df-fa16dbbfacd9"
      },
      "execution_count": null,
      "outputs": [
        {
          "output_type": "stream",
          "name": "stdout",
          "text": [
            "[10, 20]\n",
            "10\n",
            "60\n"
          ]
        }
      ]
    },
    {
      "cell_type": "code",
      "source": [
        "for x,y in arr:  #파이썬에만 있는 형식으로 리턴되는 형식이 2가지 이상 되게 하는것 이렇게 2개로 반환되게 하는건 파이썬이다. 원칙적으론 [10,20]으로 가는데 2개로 되있음 프린트값처럼 변함\n",
        "  print(x,y)#리스트안에 리스트 개수가 같으면 가져올 수 있다\n",
        "\n",
        "  for b in arr:\n",
        "    print(b)\n",
        "\n",
        "    for a in arr:\n",
        "      print(a[0],a[1])#말고도 따로따로 가져올 수있다는거\n",
        "\n",
        "      #지금 막 섞여서 뜨는데 왜 강의와 같이 안뜨는 이유는?"
      ],
      "metadata": {
        "colab": {
          "base_uri": "https://localhost:8080/"
        },
        "id": "p0c8p7FVhWYV",
        "outputId": "d0a73878-881d-4afb-fb64-0ae2f10b4189"
      },
      "execution_count": null,
      "outputs": [
        {
          "output_type": "stream",
          "name": "stdout",
          "text": [
            "10 20\n",
            "[10, 20]\n",
            "10 20\n",
            "30 40\n",
            "50 60\n",
            "[30, 40]\n",
            "10 20\n",
            "30 40\n",
            "50 60\n",
            "[50, 60]\n",
            "10 20\n",
            "30 40\n",
            "50 60\n",
            "30 40\n",
            "[10, 20]\n",
            "10 20\n",
            "30 40\n",
            "50 60\n",
            "[30, 40]\n",
            "10 20\n",
            "30 40\n",
            "50 60\n",
            "[50, 60]\n",
            "10 20\n",
            "30 40\n",
            "50 60\n",
            "50 60\n",
            "[10, 20]\n",
            "10 20\n",
            "30 40\n",
            "50 60\n",
            "[30, 40]\n",
            "10 20\n",
            "30 40\n",
            "50 60\n",
            "[50, 60]\n",
            "10 20\n",
            "30 40\n",
            "50 60\n"
          ]
        }
      ]
    },
    {
      "cell_type": "code",
      "source": [
        "brr = ['a','b','c']\n",
        "a,b,c = brr #요소 3개니깐 한꺼번에 뿌리는 것도 가능하다.\n",
        "print(a)\n",
        "print(b) #이렇게 바로 리턴이 가능하다\n",
        "print(c)\n",
        "\n",
        "#Q. 이게 근데 튜플임??"
      ],
      "metadata": {
        "colab": {
          "base_uri": "https://localhost:8080/"
        },
        "id": "H_puraUrh1hA",
        "outputId": "d2fd9950-9f22-4c08-ea3d-6d234e7f1cb2"
      },
      "execution_count": null,
      "outputs": [
        {
          "output_type": "stream",
          "name": "stdout",
          "text": [
            "a\n",
            "b\n",
            "c\n"
          ]
        }
      ]
    },
    {
      "cell_type": "code",
      "source": [
        "#문제 1: 리스트 중복 제거\n",
        "lst = [1,2,2,3,4,5,5] #리스트같은 함수명으로 쓰면 충돌땜에 이렇게쓴다\n",
        "lst = list(set(lst)) #리스트를 첫번째로 세트로 변환을 한다\n",
        "#---> set는 중복이 불가능한 함수이므로 알아서 중복을 지워준다. 그리고 이걸 다시 리스트로 변환하면 중복 제거된 채로 인덱스 변경+순서가 있는 리스트가 된다.\n",
        "print(lst)"
      ],
      "metadata": {
        "colab": {
          "base_uri": "https://localhost:8080/"
        },
        "id": "XYlRIuKMiFXs",
        "outputId": "f22f4bce-d42c-430a-c28a-7665191710ad"
      },
      "execution_count": null,
      "outputs": [
        {
          "output_type": "stream",
          "name": "stdout",
          "text": [
            "[1, 2, 3, 4, 5]\n"
          ]
        }
      ]
    },
    {
      "cell_type": "code",
      "source": [
        "#list형태로 반복문\n",
        "a = [i for i in range(10)]  #for앞이 (여기에선 i) 리스트의 원소들이 되는것이다.\n",
        "print(a)"
      ],
      "metadata": {
        "colab": {
          "base_uri": "https://localhost:8080/"
        },
        "id": "AWzZpvpLih3c",
        "outputId": "de6f3051-64c7-44d5-8ef1-c9071b0b1cd5"
      },
      "execution_count": null,
      "outputs": [
        {
          "output_type": "stream",
          "name": "stdout",
          "text": [
            "[0, 1, 2, 3, 4, 5, 6, 7, 8, 9]\n"
          ]
        }
      ]
    },
    {
      "cell_type": "code",
      "source": [
        "b = [i+1 for i in range(1,14,2)]  #1,3,5..로 가는데 b의 진짜 요쇼는i+1이므로 2,4,6,..이다\n",
        "print(b)"
      ],
      "metadata": {
        "colab": {
          "base_uri": "https://localhost:8080/"
        },
        "id": "Bb6nBV-9iZfk",
        "outputId": "3f058321-6071-4b76-c014-e47465ac269f"
      },
      "execution_count": null,
      "outputs": [
        {
          "output_type": "stream",
          "name": "stdout",
          "text": [
            "[2, 4, 6, 8, 10, 12, 14]\n"
          ]
        }
      ]
    },
    {
      "cell_type": "code",
      "source": [
        "c = [i for i in range(2,21) if i%2 == 0]\n",
        "print(c)\n",
        "#리스트 컴프리헨션이다"
      ],
      "metadata": {
        "colab": {
          "base_uri": "https://localhost:8080/"
        },
        "id": "YxH35ykljx9U",
        "outputId": "96879133-b381-48c6-c5ab-a623f9ec2086"
      },
      "execution_count": null,
      "outputs": [
        {
          "output_type": "stream",
          "name": "stdout",
          "text": [
            "[2, 4, 6, 8, 10, 12, 14, 16, 18, 20]\n"
          ]
        }
      ]
    },
    {
      "cell_type": "code",
      "source": [
        "#리스트 컴프리헨션\n",
        "#[요소 for 요소 in range(,) if ~ ]"
      ],
      "metadata": {
        "id": "mjQZ0noJkJBo"
      },
      "execution_count": null,
      "outputs": []
    },
    {
      "cell_type": "code",
      "source": [
        "#1.\n",
        "#1부터 20까지 숫자 중 3의 배수만\n",
        "c = [i for i in range(1,21) if i%3 == 0]\n",
        "print(c)\n",
        "\n",
        "'''\n",
        "c=[]\n",
        "for i in range(1,21):\n",
        "  if i%3 == 0:\n",
        "    c.append(i)  이걸 한줄로 줄인 것이다.  #c.append(i) = 이 뜻은 리스트에 하나씩 조건에 맞는 숫자들을 추가한다?\n",
        "print(c)\n",
        "'''"
      ],
      "metadata": {
        "colab": {
          "base_uri": "https://localhost:8080/",
          "height": 54
        },
        "id": "RZnpslJZkRwb",
        "outputId": "21ee0c41-4ad2-4577-803d-deb5fffc8768"
      },
      "execution_count": null,
      "outputs": [
        {
          "output_type": "stream",
          "name": "stdout",
          "text": [
            "[3, 6, 9, 12, 15, 18]\n"
          ]
        },
        {
          "output_type": "execute_result",
          "data": {
            "text/plain": [
              "'\\nc=[]\\nfor i in range(1,21):\\n  if i%3 == 0:\\n    c.append(i)  이걸 한줄로 줄인 것이다.  #c.append(i)\\nprint(c)\\n'"
            ],
            "application/vnd.google.colaboratory.intrinsic+json": {
              "type": "string"
            }
          },
          "metadata": {},
          "execution_count": 42
        }
      ]
    },
    {
      "cell_type": "code",
      "source": [
        "#2: 1부터 10까지 제곱수\n",
        "squares = [i**2 for i in range(1,11)]\n",
        "print(squares)\n",
        "#"
      ],
      "metadata": {
        "colab": {
          "base_uri": "https://localhost:8080/"
        },
        "id": "lH2eSal0kuo-",
        "outputId": "78718cde-4479-4ff0-a2a5-d5d9e462b3d2"
      },
      "execution_count": null,
      "outputs": [
        {
          "output_type": "stream",
          "name": "stdout",
          "text": [
            "[1, 4, 9, 16, 25, 36, 49, 64, 81, 100]\n"
          ]
        }
      ]
    },
    {
      "cell_type": "code",
      "source": [
        "#3. 리스트에서 양수만 뽑기\n",
        "numbers = [-10,-5,0,5,10]\n",
        "pos = [num for num in numbers if num>0]\n",
        "print(pos)"
      ],
      "metadata": {
        "colab": {
          "base_uri": "https://localhost:8080/"
        },
        "id": "_xqoGagqlBBj",
        "outputId": "6f89d74a-7ecf-48cf-b402-be823ec5aec3"
      },
      "execution_count": null,
      "outputs": [
        {
          "output_type": "stream",
          "name": "stdout",
          "text": [
            "[5, 10]\n"
          ]
        }
      ]
    },
    {
      "cell_type": "code",
      "source": [
        "#4. 1부터 10까지의 숫자 중 홀수의 세제곱 리스트\n",
        "cubes = [i**3 for i in range(1,11) if i%2 == 1]\n",
        "print(cubes)"
      ],
      "metadata": {
        "colab": {
          "base_uri": "https://localhost:8080/"
        },
        "id": "64xaLXbTlgd5",
        "outputId": "3f0d7546-b9ac-4bc4-9dec-48c1aaea7b5f"
      },
      "execution_count": null,
      "outputs": [
        {
          "output_type": "stream",
          "name": "stdout",
          "text": [
            "[1, 27, 125, 343, 729]\n"
          ]
        }
      ]
    },
    {
      "cell_type": "code",
      "source": [
        "#5. 두 리스트의 곱\n",
        "list1 = [1,2,3]\n",
        "list2 = [4,5,6]   #list1,list2가 콜렉션인듯\n",
        "\n",
        "for a,b in zip(list1,list2):  # zip: 두개이상의 콜렉션의 인덱스에 접근해 순서대로 요소를 리턴\n",
        "  print(a,b)"
      ],
      "metadata": {
        "colab": {
          "base_uri": "https://localhost:8080/"
        },
        "id": "-sqHN8XOmILU",
        "outputId": "519af89d-1669-43e9-d47b-3e2aca275848"
      },
      "execution_count": null,
      "outputs": [
        {
          "output_type": "stream",
          "name": "stdout",
          "text": [
            "1 4\n",
            "2 5\n",
            "3 6\n"
          ]
        }
      ]
    },
    {
      "cell_type": "code",
      "source": [
        "#한줄로 바꾸기\n",
        "comp_list = [a*b for a,b in zip(list1,list2)]\n",
        "print(comp_list)"
      ],
      "metadata": {
        "colab": {
          "base_uri": "https://localhost:8080/"
        },
        "id": "CZUznktSmeno",
        "outputId": "9c9ca509-e4c8-47ab-ac56-334f79f2c7e8"
      },
      "execution_count": null,
      "outputs": [
        {
          "output_type": "stream",
          "name": "stdout",
          "text": [
            "[4, 10, 18]\n"
          ]
        }
      ]
    },
    {
      "cell_type": "code",
      "source": [
        "#6. 단어 빈도 수 계산하기  -> dictionary리를 통해 구한다\n",
        "                                                                                                   # 근데 딕셔너리는 키와 벨류가 함께 있는 것 아닌가?\n",
        "input_str = \"this is a test this is only a test\"\n",
        "\n",
        "words = input_str.split()\n",
        "#split함수는 구분자를 기준으로 문자열을 잘라서 리스트로 리턴\n",
        "#원래는 파라미터로 구분자를 넣어줄 수 있는데 파라미터가 없다면 공백으로 잘라서 리턴 해주는 것으로, 띄어쓰기를 말하는 것이 된다.\n",
        "print(words)"
      ],
      "metadata": {
        "colab": {
          "base_uri": "https://localhost:8080/"
        },
        "id": "71hXXxZUmx6K",
        "outputId": "88ce8003-02e4-432e-934c-6e90df8c4691"
      },
      "execution_count": null,
      "outputs": [
        {
          "output_type": "stream",
          "name": "stdout",
          "text": [
            "['this', 'is', 'a', 'test', 'this', 'is', 'only', 'a', 'test']\n"
          ]
        }
      ]
    },
    {
      "cell_type": "code",
      "source": [
        "for word in words:\n",
        "  print(word)"
      ],
      "metadata": {
        "colab": {
          "base_uri": "https://localhost:8080/"
        },
        "id": "kZyE2AQynUlI",
        "outputId": "b4f354ee-8d86-4a6f-e36a-1b806a02322c"
      },
      "execution_count": null,
      "outputs": [
        {
          "output_type": "stream",
          "name": "stdout",
          "text": [
            "this\n",
            "is\n",
            "a\n",
            "test\n",
            "this\n",
            "is\n",
            "only\n",
            "a\n",
            "test\n"
          ]
        }
      ]
    },
    {
      "cell_type": "code",
      "source": [
        "#벨류를 카운트\n",
        "word_freq = {}\n",
        "for word in words:\n",
        "  if word in word_freq:     #this라는 단어가 key로 있느냐 딕셔너리(word_freq)에 키로 있으면 그 키를 찾아서 벨류를 수정을 하고\n",
        "    word_freq[word] += 1\n",
        "  else:\n",
        "    word_freq[word] = 1     #만약 없으면 딕셔너리에 새로운 키로 추가를 해준다.\n",
        "print(word_freq)\n",
        "\n",
        "#디스라는 워드가 키로 있느냐를 묻고 있으면 벨류로 해서 카운트\n",
        "#없으면 새로운 키로 벨류를 추가했다,\n",
        "#딕셔너리는 공백이니 아직 아무것도 없다. 그래서 else가 되서 새로운 키로 'this': 1 인 키와 밸류를 추가를 했다\n",
        "#다시 돌아와서 if에서 this가 있으니 복합연산자로 하나 더 증가 시켜서 'this':2가 되는 것이다.\n",
        "#word_freq[word] = 1\n",
        "#    새로운 key   : value\n",
        "\n",
        "'''\n",
        "그런데\n",
        "word_freq[word] += 1\n",
        "같은 것이 어떻게 벨류로 추가 되는가?\n",
        "[word]가 for word의 word와 같은 지 모르겠다.\n",
        "'''\n"
      ],
      "metadata": {
        "colab": {
          "base_uri": "https://localhost:8080/"
        },
        "id": "zvxFGyvNnaod",
        "outputId": "da705274-ae28-4c55-a7cf-1ee8e149378b"
      },
      "execution_count": null,
      "outputs": [
        {
          "output_type": "stream",
          "name": "stdout",
          "text": [
            "{'this': 2, 'is': 2, 'a': 2, 'test': 2, 'only': 1}\n"
          ]
        }
      ]
    },
    {
      "cell_type": "code",
      "source": [
        "#7. 각 학생들의 성적이 주어졌을 때\n",
        "#각 학생들의 평균 점수를 계산\n",
        "grades = {\n",
        "    'Alice': [85,90,92],\n",
        "    'Bob': [78,81,85],\n",
        "    'Charlie': [92,95,77]\n",
        "}\n",
        "\n",
        "averages = {}\n",
        "\n",
        "for k in grades:\n",
        "  print(f\"{k}의 점수들은 {grades.get(k)}입니다\")\n",
        "\n",
        "  for k, v in grades.items():\n",
        "      print(f\"{k}의 점수들은{v}입니다\")\n"
      ],
      "metadata": {
        "colab": {
          "base_uri": "https://localhost:8080/"
        },
        "id": "kGbLpJxSodsh",
        "outputId": "339a055a-c8a6-485e-aff5-20b45fb03b13"
      },
      "execution_count": null,
      "outputs": [
        {
          "output_type": "stream",
          "name": "stdout",
          "text": [
            "Alice의 점수들은 [85, 90, 92]입니다\n",
            "Alice의 점수들은[85, 90, 92]입니다\n",
            "Bob의 점수들은[78, 81, 85]입니다\n",
            "Charlie의 점수들은[92, 95, 77]입니다\n",
            "Bob의 점수들은 [78, 81, 85]입니다\n",
            "Alice의 점수들은[85, 90, 92]입니다\n",
            "Bob의 점수들은[78, 81, 85]입니다\n",
            "Charlie의 점수들은[92, 95, 77]입니다\n",
            "Charlie의 점수들은 [92, 95, 77]입니다\n",
            "Alice의 점수들은[85, 90, 92]입니다\n",
            "Bob의 점수들은[78, 81, 85]입니다\n",
            "Charlie의 점수들은[92, 95, 77]입니다\n"
          ]
        }
      ]
    },
    {
      "cell_type": "code",
      "source": [
        "for student,scores in grades.items():\n",
        "  averages[student] = sum(scores)/len(scores)\n",
        "\n",
        "  print(averages)\n",
        "  #에러에선 왜 int를 붙이라 할까,"
      ],
      "metadata": {
        "colab": {
          "base_uri": "https://localhost:8080/"
        },
        "id": "4z-vNOPAp1pA",
        "outputId": "76b53514-fa1d-44e1-dc1d-1a5c3bb1ba4b"
      },
      "execution_count": null,
      "outputs": [
        {
          "output_type": "stream",
          "name": "stdout",
          "text": [
            "{'Alice': 89.0}\n",
            "{'Alice': 89.0, 'Bob': 81.33333333333333}\n",
            "{'Alice': 89.0, 'Bob': 81.33333333333333, 'Charlie': 88.0}\n"
          ]
        }
      ]
    },
    {
      "cell_type": "code",
      "source": [
        "from os import ST_MANDLOCK\n",
        "s = \"()[]{}\"\n",
        "\n",
        "lst = []\n",
        "mapping={\")\":\"()\",\"}\":\"{\", \"]\":\"[\"}\n",
        "for char in s:\n",
        "  if char in mapping:\n",
        "    if lst:\n",
        "      top = lst.pop()\n",
        "    else:\n",
        "      top = \"#\"\n",
        "  else:\n",
        "  lst.append(char)\n"
      ],
      "metadata": {
        "id": "Q-rh1E_aq_-K"
      },
      "execution_count": null,
      "outputs": []
    }
  ]
}