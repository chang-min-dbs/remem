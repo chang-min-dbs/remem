{
  "nbformat": 4,
  "nbformat_minor": 0,
  "metadata": {
    "colab": {
      "provenance": [],
      "authorship_tag": "ABX9TyO/5ciRqDrtZtpllWm+4E7V",
      "include_colab_link": true
    },
    "kernelspec": {
      "name": "python3",
      "display_name": "Python 3"
    },
    "language_info": {
      "name": "python"
    }
  },
  "cells": [
    {
      "cell_type": "markdown",
      "metadata": {
        "id": "view-in-github",
        "colab_type": "text"
      },
      "source": [
        "<a href=\"https://colab.research.google.com/github/chang-min-dbs/remem/blob/python_summer/Day05.ipynb\" target=\"_parent\"><img src=\"https://colab.research.google.com/assets/colab-badge.svg\" alt=\"Open In Colab\"/></a>"
      ]
    },
    {
      "cell_type": "code",
      "execution_count": null,
      "metadata": {
        "colab": {
          "base_uri": "https://localhost:8080/"
        },
        "id": "rPOMOdc9d7hx",
        "outputId": "ecf6f1de-cb1a-44e2-95af-032ab34e2f74"
      },
      "outputs": [
        {
          "output_type": "stream",
          "name": "stdout",
          "text": [
            "멍멍!\n",
            "야옹!\n"
          ]
        }
      ],
      "source": [
        "  # 상속과 다형성\n",
        "class Animal :                 #에니멀 클래스를 독과 캣으로 상속시킴, 사운드 클래스를 다시 만들고 있다. --> 오버라이딩이다.\n",
        "  def sound(self):\n",
        "   # raise NotImplementedError(\"subclasses should implement this!\") :\n",
        "     print(\"overriding 전\")\n",
        "class Dog(Animal):\n",
        "  def sound(self):\n",
        "    print(\"멍멍!\")\n",
        "\n",
        "class Cat(Animal):\n",
        "  def sound(self):\n",
        "    print(\"야옹!\")\n",
        "\n",
        "dog = Dog()\n",
        "dog.sound()\n",
        "cat = Cat()\n",
        "cat.sound()\n",
        "#오버라이딩 : 부모 클래스의 메소드를, 자식 클래스가 똑같은 함수명으로 재정의\n",
        "#재정의 해야하는구나.?\n",
        "# pass -> 다른 언어들은 공백은 상관 없지만\n",
        "#나중에 들어갈 클래스에 패스를 써야지만 ~~되서 써야한다"
      ]
    },
    {
      "cell_type": "code",
      "source": [
        "#클래스 메서드\n",
        "class Person:\n",
        "  species = \"Homo sapiens\"\n",
        "                                 #class변수 : 모든 객체가 동일하게 공유\n",
        "  def __init__(self, name, age): #생성자라고 하는 class 내부함수\n",
        "    self.name = name\n",
        "    self.name = age             #인스탠스 변수\n",
        "\n",
        "    @classmethod                 #class매서드는\n",
        "    def get_species(cls):        #cls : class로 관습적으로 들어간다.\n",
        "      return cls.species\n",
        "\n",
        "print(Person.get_species())\n",
        "p = Person(\"길동\")\n",
        "print(p.name)\n",
        "      #뭐가 차고착곡 저장이 된다."
      ],
      "metadata": {
        "colab": {
          "base_uri": "https://localhost:8080/",
          "height": 219
        },
        "id": "Z4uycSYdieyX",
        "outputId": "7eb69b01-a052-4b54-bbd4-6a0f8c71c313"
      },
      "execution_count": null,
      "outputs": [
        {
          "output_type": "error",
          "ename": "AttributeError",
          "evalue": "type object 'Person' has no attribute 'get_species'",
          "traceback": [
            "\u001b[0;31m---------------------------------------------------------------------------\u001b[0m",
            "\u001b[0;31mAttributeError\u001b[0m                            Traceback (most recent call last)",
            "\u001b[0;32m<ipython-input-2-4294bbd35f51>\u001b[0m in \u001b[0;36m<cell line: 13>\u001b[0;34m()\u001b[0m\n\u001b[1;32m     11\u001b[0m       \u001b[0;32mreturn\u001b[0m \u001b[0mcls\u001b[0m\u001b[0;34m.\u001b[0m\u001b[0mspecies\u001b[0m\u001b[0;34m\u001b[0m\u001b[0;34m\u001b[0m\u001b[0m\n\u001b[1;32m     12\u001b[0m \u001b[0;34m\u001b[0m\u001b[0m\n\u001b[0;32m---> 13\u001b[0;31m \u001b[0mprint\u001b[0m\u001b[0;34m(\u001b[0m\u001b[0mPerson\u001b[0m\u001b[0;34m.\u001b[0m\u001b[0mget_species\u001b[0m\u001b[0;34m(\u001b[0m\u001b[0;34m)\u001b[0m\u001b[0;34m)\u001b[0m\u001b[0;34m\u001b[0m\u001b[0;34m\u001b[0m\u001b[0m\n\u001b[0m\u001b[1;32m     14\u001b[0m \u001b[0mp\u001b[0m \u001b[0;34m=\u001b[0m \u001b[0mPerson\u001b[0m\u001b[0;34m(\u001b[0m\u001b[0;34m\"길동\"\u001b[0m\u001b[0;34m)\u001b[0m\u001b[0;34m\u001b[0m\u001b[0;34m\u001b[0m\u001b[0m\n\u001b[1;32m     15\u001b[0m \u001b[0mprint\u001b[0m\u001b[0;34m(\u001b[0m\u001b[0mp\u001b[0m\u001b[0;34m.\u001b[0m\u001b[0mname\u001b[0m\u001b[0;34m)\u001b[0m\u001b[0;34m\u001b[0m\u001b[0;34m\u001b[0m\u001b[0m\n",
            "\u001b[0;31mAttributeError\u001b[0m: type object 'Person' has no attribute 'get_species'"
          ]
        }
      ]
    },
    {
      "cell_type": "code",
      "source": [
        "#캡슐화 : 변수나 일부 기능을 외부에 숨기는 것\n",
        "#다른 언어는 p.변수로 안된다..?-->보안에 취약하고\n",
        "#파이썬은 간단하지만~~~\n",
        "#데이터 머시기~~\n",
        "# 그냥 다시 듣기\n",
        "class Person:\n",
        "  def__init__(self, name):                     # |\n",
        "    self.__name = name   #private 변수           |\n",
        "\n",
        "  #getter, setter\n",
        "  def get_name(self):                 #변수 퍼블릭으로 선언하면 되는 것 아니냐 하는데 현업에서는~~\n",
        "    return self.__name\n",
        "\n",
        "  def set_name(self, name):\n",
        "    self.__name = name\n",
        "\n",
        "p = Person(\"Alice\")\n",
        "#print(p.name)\n",
        "print(p.get_name())"
      ],
      "metadata": {
        "colab": {
          "base_uri": "https://localhost:8080/",
          "height": 110
        },
        "id": "2S3SLmFmjcYS",
        "outputId": "fa91c02f-a5f5-42a8-faae-fb96a0592a39"
      },
      "execution_count": null,
      "outputs": [
        {
          "output_type": "error",
          "ename": "SyntaxError",
          "evalue": "invalid syntax (<ipython-input-7-3f86d9ae0f63>, line 7)",
          "traceback": [
            "\u001b[0;36m  File \u001b[0;32m\"<ipython-input-7-3f86d9ae0f63>\"\u001b[0;36m, line \u001b[0;32m7\u001b[0m\n\u001b[0;31m    def__init__(self, name):                     # |\u001b[0m\n\u001b[0m                           ^\u001b[0m\n\u001b[0;31mSyntaxError\u001b[0m\u001b[0;31m:\u001b[0m invalid syntax\n"
          ]
        }
      ]
    },
    {
      "cell_type": "code",
      "source": [
        "#오버로딩 : 똑같은 이름의 메소드를 다른 쓰임으로 재정의\n",
        "#파이썬에선 오버로딩 기능이 없지만 클래스내부에서 특수한 경우에 가능\n",
        "\n",
        "class Person:\n",
        "  def __init__(self, name, age):\n",
        "    self.name = name\n",
        "    self.age = age\n",
        "                                          #생성자를 다시 만드는 과정도 오버로딩 중 하나이다?\n",
        "  def __str__(self):\n",
        "    return f\"{self.name}, age=({self.age})\"\n",
        "\n",
        "\n",
        "p = Person(\"Alice\", 30)\n",
        "print(p)           #str이란 함수가 클래스에 기본적으로 들어있어 출력이 된다...?"
      ],
      "metadata": {
        "colab": {
          "base_uri": "https://localhost:8080/"
        },
        "id": "R3qX0XfclY2O",
        "outputId": "f5762d66-c33a-4885-dd81-5fbf3fbb9429"
      },
      "execution_count": null,
      "outputs": [
        {
          "output_type": "stream",
          "name": "stdout",
          "text": [
            "Alice, age=(30)\n"
          ]
        }
      ]
    },
    {
      "cell_type": "code",
      "source": [
        "#연산자 오버로딩\n",
        "#\n",
        "class Vector:\n",
        "  def __init__(self, x, y):\n",
        "    self.x = x\n",
        "    self.y = y\n",
        "\n",
        "  def __add_(self,other):\n",
        "    return Vector(self.x + other.x, self.y + other.y)\n",
        "\n",
        "  def __str__(self):\n",
        "    return f\"({self.x},{self.y})\"\n",
        "\n",
        "v1 = Vector(2,3)\n",
        "v2 = Vector(5,7)\n",
        "v3 = v1 + v2\n",
        "print(v3)\n",
        "#add,sub,mul,tur....."
      ],
      "metadata": {
        "colab": {
          "base_uri": "https://localhost:8080/",
          "height": 220
        },
        "id": "0UHUDV1Qm9UX",
        "outputId": "97be140d-cbb7-4eae-aace-beb71f4737b6"
      },
      "execution_count": null,
      "outputs": [
        {
          "output_type": "error",
          "ename": "TypeError",
          "evalue": "unsupported operand type(s) for +: 'Vector' and 'Vector'",
          "traceback": [
            "\u001b[0;31m---------------------------------------------------------------------------\u001b[0m",
            "\u001b[0;31mTypeError\u001b[0m                                 Traceback (most recent call last)",
            "\u001b[0;32m<ipython-input-12-e6316009d570>\u001b[0m in \u001b[0;36m<cell line: 16>\u001b[0;34m()\u001b[0m\n\u001b[1;32m     14\u001b[0m \u001b[0mv1\u001b[0m \u001b[0;34m=\u001b[0m \u001b[0mVector\u001b[0m\u001b[0;34m(\u001b[0m\u001b[0;36m2\u001b[0m\u001b[0;34m,\u001b[0m\u001b[0;36m3\u001b[0m\u001b[0;34m)\u001b[0m\u001b[0;34m\u001b[0m\u001b[0;34m\u001b[0m\u001b[0m\n\u001b[1;32m     15\u001b[0m \u001b[0mv2\u001b[0m \u001b[0;34m=\u001b[0m \u001b[0mVector\u001b[0m\u001b[0;34m(\u001b[0m\u001b[0;36m5\u001b[0m\u001b[0;34m,\u001b[0m\u001b[0;36m7\u001b[0m\u001b[0;34m)\u001b[0m\u001b[0;34m\u001b[0m\u001b[0;34m\u001b[0m\u001b[0m\n\u001b[0;32m---> 16\u001b[0;31m \u001b[0mv3\u001b[0m \u001b[0;34m=\u001b[0m \u001b[0mv1\u001b[0m \u001b[0;34m+\u001b[0m \u001b[0mv2\u001b[0m\u001b[0;34m\u001b[0m\u001b[0;34m\u001b[0m\u001b[0m\n\u001b[0m\u001b[1;32m     17\u001b[0m \u001b[0mprint\u001b[0m\u001b[0;34m(\u001b[0m\u001b[0mv3\u001b[0m\u001b[0;34m)\u001b[0m\u001b[0;34m\u001b[0m\u001b[0;34m\u001b[0m\u001b[0m\n\u001b[1;32m     18\u001b[0m \u001b[0;31m#add,sub,mul,tur.....\u001b[0m\u001b[0;34m\u001b[0m\u001b[0;34m\u001b[0m\u001b[0m\n",
            "\u001b[0;31mTypeError\u001b[0m: unsupported operand type(s) for +: 'Vector' and 'Vector'"
          ]
        }
      ]
    },
    {
      "cell_type": "code",
      "source": [
        "#예외\n",
        "'''\n",
        "\n",
        "try:\n",
        "  #실행\n",
        "except Error 이름 as e:\n",
        "  #에러처리\n",
        "finally:\n",
        "  #무조건 실행되는 부분\n",
        "\n",
        "프로그램 실행하다 오류가 났다. 이따 오류가 날 수있는 부분에 예외를 만들어 놨을 때 예외처리를 하고 실행할 확률이 높아진다..?\n",
        "'''\n",
        "\n",
        "try:\n",
        "  x = 1/0\n",
        "except ZeroDivisionError as e:\n",
        "  print(f\"예외가 발생했습니다 : {e}\")\n",
        "\n",
        "  #트라이 구문에서 에러가 발생하면 이셉 구문에서 예외 종류를 찾는다."
      ],
      "metadata": {
        "colab": {
          "base_uri": "https://localhost:8080/"
        },
        "id": "opo9HGRon4RC",
        "outputId": "09400feb-3645-4ff3-eb8c-43502dd344bf"
      },
      "execution_count": null,
      "outputs": [
        {
          "output_type": "stream",
          "name": "stdout",
          "text": [
            "예외가 발생했습니다 : division by zero\n"
          ]
        }
      ]
    },
    {
      "cell_type": "code",
      "source": [
        "try:\n",
        "  x = int(\"not a number\")\n",
        "except ValueError as e:\n",
        "  print(f\"valueError 발생 : {e}\")\n",
        "except typeError as e:\n",
        "  print(f\"TypeError 발생 : {e}\")\n",
        "finally:\n",
        "  print(\"예외 발생 여부와 상관없이 항상 실행\")\n",
        "  #트라이는 하나 이그젝트는 여러개, 에러에 맞게 익셉을 타는것임\n",
        "  #현재 에러는 벨류 에러\n",
        "  #익셉 1에서 일어났으므로 파이널리 구문은 선택적?"
      ],
      "metadata": {
        "colab": {
          "base_uri": "https://localhost:8080/"
        },
        "id": "DN3Y-mupjXLH",
        "outputId": "dd2fc8b6-468d-43d4-dfec-c1b955ab2b22"
      },
      "execution_count": null,
      "outputs": [
        {
          "output_type": "stream",
          "name": "stdout",
          "text": [
            "valueError 발생 : invalid literal for int() with base 10: 'not a number'\n",
            "예외 발생 여부와 상관없이 항상 실행\n"
          ]
        }
      ]
    },
    {
      "cell_type": "code",
      "source": [
        "#사용자 정의 예외\n",
        "class NegativeNumberError(Exception):\n",
        "  pass\n",
        "\n",
        "def Postive_value_only(value):\n",
        "  if value < 0:\n",
        "    #raise : 에러를 사용자가 발생시키는 구문\n",
        "    raise NegativeNumberError(\"음수는 입력할 수 없습니다.\")\n",
        "\n",
        "# raise가 실행되는 타이밍에는 try~except로 감싸져 있어야 한다.\n",
        "try:\n",
        "  Postive_value_only(-1)\n",
        "except NegativeNumberError as e:  #~가 e로 축약된다.\n",
        "  print(f\"사용자 정의 예외 발생 : {e}\")\n",
        "  #예외는 사용자가 오류를 처리하는 것, 그 나머지는 컴퓨터에서 이그젝션으로 이미 설정 사실"
      ],
      "metadata": {
        "colab": {
          "base_uri": "https://localhost:8080/"
        },
        "id": "Ur3Ugo2rp-2K",
        "outputId": "742e3242-d793-4ac7-b62e-56d9d226770e"
      },
      "execution_count": null,
      "outputs": [
        {
          "output_type": "stream",
          "name": "stdout",
          "text": [
            "사용자 정의 예외 발생 : 음수는 입력할 수 없습니다.\n"
          ]
        }
      ]
    },
    {
      "cell_type": "code",
      "source": [
        "#class 활용 예제\n",
        "class InsufficientFundsException(Exception):\n",
        "  pass\n",
        "\n",
        "class BackAccount:\n",
        " def __init__(self, initial_balance=0):\n",
        "  #이니셜 밸런스=0 : default parameter\n",
        "  #생략할 수 있는 파라미터이다.\n",
        "  self.balance = initial_balance\n",
        "\n",
        "  def deposit(self, amount):\n",
        "    self.balance += amount\n",
        "\n",
        "  def withdraw(self, amount):\n",
        "    if self.balance < amount:\n",
        "      raise InsufficientFundsException(\"잔액이 부족합니다.\")\n",
        "    self.balance -= amount\n",
        "\n",
        "account = BackAccount()\n",
        "try:\n",
        "    account.deposit(50)\n",
        "    print(account.balance)\n",
        "    account.withdraw(200)\n",
        "\n",
        "except InsufficientFundsException as e:\n",
        "   print(e)"
      ],
      "metadata": {
        "colab": {
          "base_uri": "https://localhost:8080/",
          "height": 219
        },
        "id": "l-DjFigFrTG3",
        "outputId": "6a938e9c-ed00-4c1e-93e4-4094a1d083b5"
      },
      "execution_count": null,
      "outputs": [
        {
          "output_type": "error",
          "ename": "AttributeError",
          "evalue": "'BackAccount' object has no attribute 'deposit'",
          "traceback": [
            "\u001b[0;31m---------------------------------------------------------------------------\u001b[0m",
            "\u001b[0;31mAttributeError\u001b[0m                            Traceback (most recent call last)",
            "\u001b[0;32m<ipython-input-1-ec056d94c50d>\u001b[0m in \u001b[0;36m<cell line: 20>\u001b[0;34m()\u001b[0m\n\u001b[1;32m     19\u001b[0m \u001b[0maccount\u001b[0m \u001b[0;34m=\u001b[0m \u001b[0mBackAccount\u001b[0m\u001b[0;34m(\u001b[0m\u001b[0;34m)\u001b[0m\u001b[0;34m\u001b[0m\u001b[0;34m\u001b[0m\u001b[0m\n\u001b[1;32m     20\u001b[0m \u001b[0;32mtry\u001b[0m\u001b[0;34m:\u001b[0m\u001b[0;34m\u001b[0m\u001b[0;34m\u001b[0m\u001b[0m\n\u001b[0;32m---> 21\u001b[0;31m     \u001b[0maccount\u001b[0m\u001b[0;34m.\u001b[0m\u001b[0mdeposit\u001b[0m\u001b[0;34m(\u001b[0m\u001b[0;36m50\u001b[0m\u001b[0;34m)\u001b[0m\u001b[0;34m\u001b[0m\u001b[0;34m\u001b[0m\u001b[0m\n\u001b[0m\u001b[1;32m     22\u001b[0m     \u001b[0mprint\u001b[0m\u001b[0;34m(\u001b[0m\u001b[0maccount\u001b[0m\u001b[0;34m.\u001b[0m\u001b[0mbalance\u001b[0m\u001b[0;34m)\u001b[0m\u001b[0;34m\u001b[0m\u001b[0;34m\u001b[0m\u001b[0m\n\u001b[1;32m     23\u001b[0m     \u001b[0maccount\u001b[0m\u001b[0;34m.\u001b[0m\u001b[0mwithdraw\u001b[0m\u001b[0;34m(\u001b[0m\u001b[0;36m200\u001b[0m\u001b[0;34m)\u001b[0m\u001b[0;34m\u001b[0m\u001b[0;34m\u001b[0m\u001b[0m\n",
            "\u001b[0;31mAttributeError\u001b[0m: 'BackAccount' object has no attribute 'deposit'"
          ]
        }
      ]
    },
    {
      "cell_type": "code",
      "source": [
        "#좌표 정렬하기\n",
        "class Vector:\n",
        "  def __init__(self, x, y):\n",
        "    self.x = x\n",
        "    self.y = y\n",
        "\n",
        "  def __lt__(self, other):  #lt = less than. 즉 < 이다,? lt로 크기비교에 대한 다시 비\n",
        "    if self.x == other.x:\n",
        "      return self.y < other.y\n",
        "    return self.x < other.x\n",
        "\n",
        "  def __str__(self):\n",
        "    return f\"({self.x},{self.y})\"\n",
        "\n",
        "n = int(input())   #5#만큼 입력한다.\n",
        "points = []        #벡터리스??  모두 문자나 숫자면 순서대로 배열,, 하지만 이번엔 벡터라는 클래스들이 들어갔다.\n",
        "for _ in range(n):      #이 언더바를 꼭써줘야하는데 ...~~\n",
        "  x, y = map(int, input().split())  #파라미터 3 4로 받은 인풋을 받고 스플릿함수로 찢어준다.맵함수는 나누어진 두개를 각각 x,y에 앞뒤로 담아준다.\n",
        "  points.append(Vector(x,y))     #??\n",
        "\n",
        "points.sort()          #\n",
        "\n",
        "for p in points:\n",
        "    print(p)"
      ],
      "metadata": {
        "colab": {
          "base_uri": "https://localhost:8080/",
          "height": 372
        },
        "id": "uXiFHPZmwA0b",
        "outputId": "2f1e0868-706a-4aa0-e50d-cd359c08ab1e"
      },
      "execution_count": null,
      "outputs": [
        {
          "output_type": "error",
          "ename": "KeyboardInterrupt",
          "evalue": "Interrupted by user",
          "traceback": [
            "\u001b[0;31m---------------------------------------------------------------------------\u001b[0m",
            "\u001b[0;31mKeyboardInterrupt\u001b[0m                         Traceback (most recent call last)",
            "\u001b[0;32m<ipython-input-32-b7418500203f>\u001b[0m in \u001b[0;36m<cell line: 15>\u001b[0;34m()\u001b[0m\n\u001b[1;32m     13\u001b[0m     \u001b[0;32mreturn\u001b[0m \u001b[0;34mf\"({self.x},{self.y})\"\u001b[0m\u001b[0;34m\u001b[0m\u001b[0;34m\u001b[0m\u001b[0m\n\u001b[1;32m     14\u001b[0m \u001b[0;34m\u001b[0m\u001b[0m\n\u001b[0;32m---> 15\u001b[0;31m \u001b[0mn\u001b[0m \u001b[0;34m=\u001b[0m \u001b[0mint\u001b[0m\u001b[0;34m(\u001b[0m\u001b[0minput\u001b[0m\u001b[0;34m(\u001b[0m\u001b[0;34m)\u001b[0m\u001b[0;34m)\u001b[0m   \u001b[0;31m#5#만큼 입력한다.\u001b[0m\u001b[0;34m\u001b[0m\u001b[0;34m\u001b[0m\u001b[0m\n\u001b[0m\u001b[1;32m     16\u001b[0m \u001b[0mpoints\u001b[0m \u001b[0;34m=\u001b[0m \u001b[0;34m[\u001b[0m\u001b[0;34m]\u001b[0m        \u001b[0;31m#벡터리스??  모두 문자나 숫자면 순서대로 배열,, 하지만 이번엔 벡터라는 클래스들이 들어갔다.\u001b[0m\u001b[0;34m\u001b[0m\u001b[0;34m\u001b[0m\u001b[0m\n\u001b[1;32m     17\u001b[0m \u001b[0;32mfor\u001b[0m \u001b[0m_\u001b[0m \u001b[0;32min\u001b[0m \u001b[0mrange\u001b[0m\u001b[0;34m(\u001b[0m\u001b[0mn\u001b[0m\u001b[0;34m)\u001b[0m\u001b[0;34m:\u001b[0m      \u001b[0;31m#이 언더바를 꼭써줘야하는데 ...~~\u001b[0m\u001b[0;34m\u001b[0m\u001b[0;34m\u001b[0m\u001b[0m\n",
            "\u001b[0;32m/usr/local/lib/python3.10/dist-packages/ipykernel/kernelbase.py\u001b[0m in \u001b[0;36mraw_input\u001b[0;34m(self, prompt)\u001b[0m\n\u001b[1;32m    849\u001b[0m                 \u001b[0;34m\"raw_input was called, but this frontend does not support input requests.\"\u001b[0m\u001b[0;34m\u001b[0m\u001b[0;34m\u001b[0m\u001b[0m\n\u001b[1;32m    850\u001b[0m             )\n\u001b[0;32m--> 851\u001b[0;31m         return self._input_request(str(prompt),\n\u001b[0m\u001b[1;32m    852\u001b[0m             \u001b[0mself\u001b[0m\u001b[0;34m.\u001b[0m\u001b[0m_parent_ident\u001b[0m\u001b[0;34m,\u001b[0m\u001b[0;34m\u001b[0m\u001b[0;34m\u001b[0m\u001b[0m\n\u001b[1;32m    853\u001b[0m             \u001b[0mself\u001b[0m\u001b[0;34m.\u001b[0m\u001b[0m_parent_header\u001b[0m\u001b[0;34m,\u001b[0m\u001b[0;34m\u001b[0m\u001b[0;34m\u001b[0m\u001b[0m\n",
            "\u001b[0;32m/usr/local/lib/python3.10/dist-packages/ipykernel/kernelbase.py\u001b[0m in \u001b[0;36m_input_request\u001b[0;34m(self, prompt, ident, parent, password)\u001b[0m\n\u001b[1;32m    893\u001b[0m             \u001b[0;32mexcept\u001b[0m \u001b[0mKeyboardInterrupt\u001b[0m\u001b[0;34m:\u001b[0m\u001b[0;34m\u001b[0m\u001b[0;34m\u001b[0m\u001b[0m\n\u001b[1;32m    894\u001b[0m                 \u001b[0;31m# re-raise KeyboardInterrupt, to truncate traceback\u001b[0m\u001b[0;34m\u001b[0m\u001b[0;34m\u001b[0m\u001b[0m\n\u001b[0;32m--> 895\u001b[0;31m                 \u001b[0;32mraise\u001b[0m \u001b[0mKeyboardInterrupt\u001b[0m\u001b[0;34m(\u001b[0m\u001b[0;34m\"Interrupted by user\"\u001b[0m\u001b[0;34m)\u001b[0m \u001b[0;32mfrom\u001b[0m \u001b[0;32mNone\u001b[0m\u001b[0;34m\u001b[0m\u001b[0;34m\u001b[0m\u001b[0m\n\u001b[0m\u001b[1;32m    896\u001b[0m             \u001b[0;32mexcept\u001b[0m \u001b[0mException\u001b[0m \u001b[0;32mas\u001b[0m \u001b[0me\u001b[0m\u001b[0;34m:\u001b[0m\u001b[0;34m\u001b[0m\u001b[0;34m\u001b[0m\u001b[0m\n\u001b[1;32m    897\u001b[0m                 \u001b[0mself\u001b[0m\u001b[0;34m.\u001b[0m\u001b[0mlog\u001b[0m\u001b[0;34m.\u001b[0m\u001b[0mwarning\u001b[0m\u001b[0;34m(\u001b[0m\u001b[0;34m\"Invalid Message:\"\u001b[0m\u001b[0;34m,\u001b[0m \u001b[0mexc_info\u001b[0m\u001b[0;34m=\u001b[0m\u001b[0;32mTrue\u001b[0m\u001b[0;34m)\u001b[0m\u001b[0;34m\u001b[0m\u001b[0;34m\u001b[0m\u001b[0m\n",
            "\u001b[0;31mKeyboardInterrupt\u001b[0m: Interrupted by user"
          ]
        }
      ]
    },
    {
      "cell_type": "code",
      "source": [
        "# 성적 관리 클래스 정의\n",
        "#이름을 기준으로 학생 목록 정렬한 다음, 각 학생의 평균을 출력\n",
        "class Student:\n",
        "  def __init__(self,name, *scores):\n",
        "    self.name = name\n",
        "    self.scores = list(scores)   #튜플에서 리스트로 바꿔줘야 수정이 가능해서 바꿔줌\n",
        "\n",
        "    def __lt__(self, other):     #\n",
        "      return self.name < other.name   #부등호를 바꾸면\n",
        "\n",
        "  def __str__(self):\n",
        "    score_str = \" \".join(map(str, self.scores))  #문자열로 만드는 함수, 전부 공백을 기준으로 묶어준다.\n",
        "    avg_score = sum(self.scores) / len(self.scores) if self.scores else 0          #상향 연산자\n",
        "    return f\"{self.name} {score_str} / 평균 : {avg_score:.2f}\"\n",
        "\n",
        "n = int(input())\n",
        "students = []\n",
        "\n",
        "for _ in range(n):\n",
        " data = input().split()\n",
        " name = data[0]\n",
        " scores = map(int, data[1:])\n",
        " students.append(Student(name, *scores))\n",
        "\n",
        "students.sort()\n",
        "\n",
        "for s in students:\n",
        "  print(s)"
      ],
      "metadata": {
        "colab": {
          "base_uri": "https://localhost:8080/",
          "height": 372
        },
        "id": "44zRkwxzzBW4",
        "outputId": "eddd3f3a-a0df-41d5-8a31-e680e5bfcd11"
      },
      "execution_count": null,
      "outputs": [
        {
          "output_type": "error",
          "ename": "KeyboardInterrupt",
          "evalue": "Interrupted by user",
          "traceback": [
            "\u001b[0;31m---------------------------------------------------------------------------\u001b[0m",
            "\u001b[0;31mKeyboardInterrupt\u001b[0m                         Traceback (most recent call last)",
            "\u001b[0;32m<ipython-input-36-03cd3e3db410>\u001b[0m in \u001b[0;36m<cell line: 16>\u001b[0;34m()\u001b[0m\n\u001b[1;32m     14\u001b[0m     \u001b[0;32mreturn\u001b[0m \u001b[0;34mf\"{self.name} {score_str} / 평균 : {avg_score:.2f}\"\u001b[0m\u001b[0;34m\u001b[0m\u001b[0;34m\u001b[0m\u001b[0m\n\u001b[1;32m     15\u001b[0m \u001b[0;34m\u001b[0m\u001b[0m\n\u001b[0;32m---> 16\u001b[0;31m \u001b[0mn\u001b[0m \u001b[0;34m=\u001b[0m \u001b[0mint\u001b[0m\u001b[0;34m(\u001b[0m\u001b[0minput\u001b[0m\u001b[0;34m(\u001b[0m\u001b[0;34m)\u001b[0m\u001b[0;34m)\u001b[0m\u001b[0;34m\u001b[0m\u001b[0;34m\u001b[0m\u001b[0m\n\u001b[0m\u001b[1;32m     17\u001b[0m \u001b[0mstudents\u001b[0m \u001b[0;34m=\u001b[0m \u001b[0;34m[\u001b[0m\u001b[0;34m]\u001b[0m\u001b[0;34m\u001b[0m\u001b[0;34m\u001b[0m\u001b[0m\n\u001b[1;32m     18\u001b[0m \u001b[0;34m\u001b[0m\u001b[0m\n",
            "\u001b[0;32m/usr/local/lib/python3.10/dist-packages/ipykernel/kernelbase.py\u001b[0m in \u001b[0;36mraw_input\u001b[0;34m(self, prompt)\u001b[0m\n\u001b[1;32m    849\u001b[0m                 \u001b[0;34m\"raw_input was called, but this frontend does not support input requests.\"\u001b[0m\u001b[0;34m\u001b[0m\u001b[0;34m\u001b[0m\u001b[0m\n\u001b[1;32m    850\u001b[0m             )\n\u001b[0;32m--> 851\u001b[0;31m         return self._input_request(str(prompt),\n\u001b[0m\u001b[1;32m    852\u001b[0m             \u001b[0mself\u001b[0m\u001b[0;34m.\u001b[0m\u001b[0m_parent_ident\u001b[0m\u001b[0;34m,\u001b[0m\u001b[0;34m\u001b[0m\u001b[0;34m\u001b[0m\u001b[0m\n\u001b[1;32m    853\u001b[0m             \u001b[0mself\u001b[0m\u001b[0;34m.\u001b[0m\u001b[0m_parent_header\u001b[0m\u001b[0;34m,\u001b[0m\u001b[0;34m\u001b[0m\u001b[0;34m\u001b[0m\u001b[0m\n",
            "\u001b[0;32m/usr/local/lib/python3.10/dist-packages/ipykernel/kernelbase.py\u001b[0m in \u001b[0;36m_input_request\u001b[0;34m(self, prompt, ident, parent, password)\u001b[0m\n\u001b[1;32m    893\u001b[0m             \u001b[0;32mexcept\u001b[0m \u001b[0mKeyboardInterrupt\u001b[0m\u001b[0;34m:\u001b[0m\u001b[0;34m\u001b[0m\u001b[0;34m\u001b[0m\u001b[0m\n\u001b[1;32m    894\u001b[0m                 \u001b[0;31m# re-raise KeyboardInterrupt, to truncate traceback\u001b[0m\u001b[0;34m\u001b[0m\u001b[0;34m\u001b[0m\u001b[0m\n\u001b[0;32m--> 895\u001b[0;31m                 \u001b[0;32mraise\u001b[0m \u001b[0mKeyboardInterrupt\u001b[0m\u001b[0;34m(\u001b[0m\u001b[0;34m\"Interrupted by user\"\u001b[0m\u001b[0;34m)\u001b[0m \u001b[0;32mfrom\u001b[0m \u001b[0;32mNone\u001b[0m\u001b[0;34m\u001b[0m\u001b[0;34m\u001b[0m\u001b[0m\n\u001b[0m\u001b[1;32m    896\u001b[0m             \u001b[0;32mexcept\u001b[0m \u001b[0mException\u001b[0m \u001b[0;32mas\u001b[0m \u001b[0me\u001b[0m\u001b[0;34m:\u001b[0m\u001b[0;34m\u001b[0m\u001b[0;34m\u001b[0m\u001b[0m\n\u001b[1;32m    897\u001b[0m                 \u001b[0mself\u001b[0m\u001b[0;34m.\u001b[0m\u001b[0mlog\u001b[0m\u001b[0;34m.\u001b[0m\u001b[0mwarning\u001b[0m\u001b[0;34m(\u001b[0m\u001b[0;34m\"Invalid Message:\"\u001b[0m\u001b[0;34m,\u001b[0m \u001b[0mexc_info\u001b[0m\u001b[0;34m=\u001b[0m\u001b[0;32mTrue\u001b[0m\u001b[0;34m)\u001b[0m\u001b[0;34m\u001b[0m\u001b[0;34m\u001b[0m\u001b[0m\n",
            "\u001b[0;31mKeyboardInterrupt\u001b[0m: Interrupted by user"
          ]
        }
      ]
    },
    {
      "cell_type": "code",
      "source": [
        "#map 함수  :콜렉션에 기본이 되는 함수\n",
        "def sqare(x):\n",
        "  return x * x   #정사각형 넓이의 의미\n",
        "\n",
        "numbers = [1,2,3,4,5]\n",
        "squared_num = map(sqare, numbers)\n",
        "print(squared_num)  #타입은 맵으로 나오는데\n",
        "\n",
        "\n"
      ],
      "metadata": {
        "colab": {
          "base_uri": "https://localhost:8080/"
        },
        "id": "IxyfkvYF11Ku",
        "outputId": "1d4268fb-ded5-421c-a2a6-0e27b85496ae"
      },
      "execution_count": null,
      "outputs": [
        {
          "output_type": "stream",
          "name": "stdout",
          "text": [
            "<map object at 0x7a4d931fc8e0>\n"
          ]
        }
      ]
    },
    {
      "cell_type": "code",
      "source": [
        "str_numbers = ['1', '2', '3', '4', '5']  #다 머시기\n",
        "int_numbers = list(map(int, str_numbers)) #\n",
        "print(list(int_numbers))"
      ],
      "metadata": {
        "colab": {
          "base_uri": "https://localhost:8080/"
        },
        "id": "ITya-gg73B3R",
        "outputId": "2430bea4-e354-444b-e874-8ae1a83ea585"
      },
      "execution_count": null,
      "outputs": [
        {
          "output_type": "stream",
          "name": "stdout",
          "text": [
            "[1, 2, 3, 4, 5]\n"
          ]
        }
      ]
    },
    {
      "cell_type": "code",
      "source": [
        "words = [\"hello\", \"world\", \"python\"]\n",
        "upper_words = map(str.upper, words)  #upper는 사실상 문자열이라는걸 알고 써주는함수다..?, 맵에 들어간 어퍼는\n",
        "#소문자를 대문자로 바꿔서 리스트에 다시 담아줌\n",
        "print(list(upper_words))"
      ],
      "metadata": {
        "colab": {
          "base_uri": "https://localhost:8080/"
        },
        "id": "KqoBIQ8N3TMM",
        "outputId": "5a35c561-a802-4649-dbbd-33edca64968f"
      },
      "execution_count": null,
      "outputs": [
        {
          "output_type": "stream",
          "name": "stdout",
          "text": [
            "['HELLO', 'WORLD', 'PYTHON']\n"
          ]
        }
      ]
    },
    {
      "cell_type": "code",
      "source": [
        "#삼향 연산자\n",
        "#다른 언어 = 조건 ? 참일 때 : 거짓일 때  ~구조이다?\n",
        "#파이썬 문법 = 참인경우 if조건 / else 거짓일 때 (이렇게묶임)\n",
        "\n",
        "x = 5\n",
        "result = \"postive\" if x > 0 else \"negative or 0\"\n",
        "print(result)\n",
        "y = -1\n",
        "result = \"postive\" if y > 0 else \"negative or 0\"\n",
        "print(result)\n",
        "\n",
        "if y>0:\n",
        "  result = \"postive\"\n",
        "else:\n",
        "  result = \"negative or 0\""
      ],
      "metadata": {
        "colab": {
          "base_uri": "https://localhost:8080/"
        },
        "id": "_g3HMI3gzBZ9",
        "outputId": "f69e9530-c8f3-408b-897d-e877d51e61f0"
      },
      "execution_count": null,
      "outputs": [
        {
          "output_type": "stream",
          "name": "stdout",
          "text": [
            "postive\n",
            "negative or 0\n"
          ]
        }
      ]
    },
    {
      "cell_type": "code",
      "source": [
        "#python 람다 함수\n",
        "#lamda 입력 파라미터들 : 리턴\n",
        "add = lamda x, y: x + y\n",
        "print(add(2,3))"
      ],
      "metadata": {
        "colab": {
          "base_uri": "https://localhost:8080/",
          "height": 110
        },
        "id": "mpkIgzH04r3o",
        "outputId": "9c796e62-4b61-4fed-ef27-b0678b0dc3d8"
      },
      "execution_count": null,
      "outputs": [
        {
          "output_type": "error",
          "ename": "SyntaxError",
          "evalue": "invalid syntax (<ipython-input-44-2464777b916a>, line 3)",
          "traceback": [
            "\u001b[0;36m  File \u001b[0;32m\"<ipython-input-44-2464777b916a>\"\u001b[0;36m, line \u001b[0;32m3\u001b[0m\n\u001b[0;31m    add = lamda x, y: x + y\u001b[0m\n\u001b[0m                ^\u001b[0m\n\u001b[0;31mSyntaxError\u001b[0m\u001b[0;31m:\u001b[0m invalid syntax\n"
          ]
        }
      ]
    },
    {
      "cell_type": "code",
      "source": [
        "numbers = [1,2,3,4,5]\n",
        "squared_numbers = list(map(lambda x: x * x, numbers))\n",
        "print(list(squared_numbers))\n",
        "#람다함수를 사용하며ㅛㄴ ~~~~"
      ],
      "metadata": {
        "colab": {
          "base_uri": "https://localhost:8080/"
        },
        "id": "hAXWYE7A5Jvg",
        "outputId": "f74f4584-2455-487b-8410-5ecbdafb0075"
      },
      "execution_count": null,
      "outputs": [
        {
          "output_type": "stream",
          "name": "stdout",
          "text": [
            "[1, 4, 9, 16, 25]\n"
          ]
        }
      ]
    },
    {
      "cell_type": "code",
      "source": [
        "x = [1,2,3]\n",
        "y = [4,5,6]\n",
        "points = map(lamda x:y : (x,y), xpoints,ypoints)  #리턴이 1개로 튜플로 묶은 것이다.\n",
        "result = list(map(lambda x,y: x+y, x,y))\n",
        "print(result)"
      ],
      "metadata": {
        "id": "-Sn0HnJi5mXe"
      },
      "execution_count": null,
      "outputs": []
    }
  ]
}