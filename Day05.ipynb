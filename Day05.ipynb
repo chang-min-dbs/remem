{
  "nbformat": 4,
  "nbformat_minor": 0,
  "metadata": {
    "colab": {
      "provenance": [],
      "include_colab_link": true
    },
    "kernelspec": {
      "name": "python3",
      "display_name": "Python 3"
    },
    "language_info": {
      "name": "python"
    }
  },
  "cells": [
    {
      "cell_type": "markdown",
      "metadata": {
        "id": "view-in-github",
        "colab_type": "text"
      },
      "source": [
        "<a href=\"https://colab.research.google.com/github/chang-min-dbs/remem/blob/python_summer_ZG/Day05.ipynb\" target=\"_parent\"><img src=\"https://colab.research.google.com/assets/colab-badge.svg\" alt=\"Open In Colab\"/></a>"
      ]
    },
    {
      "cell_type": "code",
      "execution_count": null,
      "metadata": {
        "colab": {
          "base_uri": "https://localhost:8080/"
        },
        "id": "w7xK0afMmP4Z",
        "outputId": "52d9a4b0-bc4f-4d6c-85dc-eec612cd63d2"
      },
      "outputs": [
        {
          "output_type": "stream",
          "name": "stdout",
          "text": [
            "Index 0 : [['apple', 10]]\n",
            "Index 1 : []\n",
            "Index 2 : []\n",
            "Index 3 : []\n",
            "Index 4 : []\n",
            "Index 5 : []\n",
            "Index 6 : []\n",
            "Index 7 : []\n",
            "Index 8 : []\n",
            "Index 9 : [['banana', 11]]\n",
            "==\n",
            "Index 0 : [['apple', 10]]\n",
            "Index 1 : []\n",
            "Index 2 : []\n",
            "Index 3 : []\n",
            "Index 4 : []\n",
            "Index 5 : []\n",
            "Index 6 : []\n",
            "Index 7 : []\n",
            "Index 8 : []\n",
            "Index 9 : [['banana', 13], ['iherry', 15]]\n"
          ]
        }
      ],
      "source": [
        "# 해시 테이블 : 데이터 사이즈가 정해져 있을 때의 저장 알고리즘\n",
        "# 충돌 방지 방법\n",
        "# - 체이닝 : 해시 키가 겹쳐도 연이어서 저장\n",
        "# - 개방 주소법 : 해시 키가 충돌하면 다른 빈 공간을 찾아 값을 저장\n",
        "\n",
        "# 체이닝\n",
        "class HashTable:\n",
        "    def __init__(self, size=10):\n",
        "        self.size = size\n",
        "        self.table = [[] for _ in range(size)]\n",
        "\n",
        "    def _hash_function(self, key):\n",
        "        return sum(ord(char) for char in key)   % self.size\n",
        "\n",
        "    def insert(self, key, value):\n",
        "        index = self._hash_function(key)\n",
        "        for k in self.table[index]:\n",
        "            if k[0] == key:\n",
        "                k[1] = value\n",
        "                return\n",
        "        self.table[index].append([key, value])\n",
        "\n",
        "    def display(self):\n",
        "        for i, bucket in enumerate(self.table):\n",
        "            print(f\"Index {i} : {bucket}\")\n",
        "\n",
        "hash_table = HashTable()\n",
        "hash_table.insert(\"apple\", 10)\n",
        "hash_table.insert(\"banana\", 11)\n",
        "hash_table.display()\n",
        "print(\"==\")\n",
        "hash_table.insert(\"banana\", 13)\n",
        "hash_table.insert(\"iherry\", 15)\n",
        "hash_table.display()"
      ]
    },
    {
      "cell_type": "code",
      "source": [
        "print(sum(ord(char) for char in \"apple\") % 10)"
      ],
      "metadata": {
        "colab": {
          "base_uri": "https://localhost:8080/"
        },
        "id": "9X2Z6VNnofHR",
        "outputId": "a7d7c790-e625-4dca-98c2-ab9d6f02b77e"
      },
      "execution_count": null,
      "outputs": [
        {
          "output_type": "stream",
          "name": "stdout",
          "text": [
            "0\n"
          ]
        }
      ]
    },
    {
      "cell_type": "code",
      "source": [
        "# 개방 주소법 : 충돌 발생 시 빈 공간을 찾아 이동\n",
        "# 선형 탐사법 : 충돌 발생 시 고정된 간격을 이용해 다른 슬롯을 탐사\n",
        "class LinearProbingHashTable:\n",
        "    def __init__(self, size=10):\n",
        "        self.size = size\n",
        "        self.table = [None] * size\n",
        "\n",
        "    def _hash_function(self, key):\n",
        "        return sum(ord(char) for char in key) % self.size\n",
        "\n",
        "    def insert(self, key, value):\n",
        "        index = self._hash_function(key)\n",
        "        original_index = index\n",
        "        while self.table[index] is not None and self.table[index][0] != key:\n",
        "            index = (index + 1) % self.size\n",
        "            if index == original_index:\n",
        "                raise Exception(\"Hash table is full\")\n",
        "        self.table[index] = (key, value)    # 튜플 : 리스트랑 방식이 비슷하지만 수정/삭제는 안 되는 자료구조\n",
        "\n",
        "    def display(self):\n",
        "        for i, kv in enumerate(self.table):\n",
        "            print(f\"Index {i} : {kv}\")\n",
        "\n",
        "lph = LinearProbingHashTable()\n",
        "lph.insert(\"apple\", 11)\n",
        "lph.display()\n",
        "print(\"==\")\n",
        "lph.insert(\"banana\", 12)\n",
        "lph.display()\n",
        "print(\"==\")\n",
        "lph.insert(\"iherry\", 13)\n",
        "lph.display()\n",
        "print(\"==\")"
      ],
      "metadata": {
        "colab": {
          "base_uri": "https://localhost:8080/"
        },
        "id": "zUl3HpxXqByR",
        "outputId": "7a959a17-a1cb-4d31-be51-59cc2ef25700"
      },
      "execution_count": null,
      "outputs": [
        {
          "output_type": "stream",
          "name": "stdout",
          "text": [
            "Index 0 : ('apple', 11)\n",
            "Index 1 : None\n",
            "Index 2 : None\n",
            "Index 3 : None\n",
            "Index 4 : None\n",
            "Index 5 : None\n",
            "Index 6 : None\n",
            "Index 7 : None\n",
            "Index 8 : None\n",
            "Index 9 : None\n",
            "==\n",
            "Index 0 : ('apple', 11)\n",
            "Index 1 : None\n",
            "Index 2 : None\n",
            "Index 3 : None\n",
            "Index 4 : None\n",
            "Index 5 : None\n",
            "Index 6 : None\n",
            "Index 7 : None\n",
            "Index 8 : None\n",
            "Index 9 : ('banana', 12)\n",
            "==\n",
            "Index 0 : ('apple', 11)\n",
            "Index 1 : ('iherry', 13)\n",
            "Index 2 : None\n",
            "Index 3 : None\n",
            "Index 4 : None\n",
            "Index 5 : None\n",
            "Index 6 : None\n",
            "Index 7 : None\n",
            "Index 8 : None\n",
            "Index 9 : ('banana', 12)\n",
            "==\n"
          ]
        }
      ]
    },
    {
      "cell_type": "code",
      "source": [
        "# 이차 탐사법 : 제곱된 간격을 이용해 다음 슬롯을 탐사\n",
        "class QuadraticProbingHashTable:\n",
        "    def __init__(self, size=10):\n",
        "        self.size = size\n",
        "        self.table = [None] * size\n",
        "\n",
        "    def _hash_function(self, key):\n",
        "        return sum(ord(char) for char in key) % self.size\n",
        "\n",
        "    def insert(self, key, value):\n",
        "        index = self._hash_function(key)\n",
        "        original_index = index\n",
        "        i = 1\n",
        "        while self.table[index] is not None and self.table[index][0] != key:\n",
        "            index = (original_index + i * i) % self.size\n",
        "            i += 1\n",
        "            if i== self.size:\n",
        "                raise Exception(\"Hash table is full\")\n",
        "        self.table[index] = (key, value)\n",
        "\n",
        "    def display(self):\n",
        "        for i, kv in enumerate(self.table):\n",
        "            print(f\"Index {i} : {kv}\")\n",
        "\n",
        "qph = QuadraticProbingHashTable()\n",
        "qph.insert(\"apple\", 10)\n",
        "qph.display()\n",
        "print(\"==\")\n",
        "qph.insert(\"banana\", 11)\n",
        "qph.display()\n",
        "print(\"==\")\n",
        "qph.insert(\"iherry\", 12)\n",
        "qph.display()\n",
        "print(\"==\")\n",
        "\n",
        "# 선형 탐사보다 이차 탐사가 더 나은 이유\n",
        "# - 보다 균일한 분포 : 충돌 가능성 감소"
      ],
      "metadata": {
        "colab": {
          "base_uri": "https://localhost:8080/"
        },
        "id": "Zw_jUUrIt31e",
        "outputId": "f5ae824f-152d-4359-97e4-f32fcb71d12e"
      },
      "execution_count": null,
      "outputs": [
        {
          "output_type": "stream",
          "name": "stdout",
          "text": [
            "Index 0 : ('apple', 10)\n",
            "Index 1 : None\n",
            "Index 2 : None\n",
            "Index 3 : None\n",
            "Index 4 : None\n",
            "Index 5 : None\n",
            "Index 6 : None\n",
            "Index 7 : None\n",
            "Index 8 : None\n",
            "Index 9 : None\n",
            "==\n",
            "Index 0 : ('apple', 10)\n",
            "Index 1 : None\n",
            "Index 2 : None\n",
            "Index 3 : None\n",
            "Index 4 : None\n",
            "Index 5 : None\n",
            "Index 6 : None\n",
            "Index 7 : None\n",
            "Index 8 : None\n",
            "Index 9 : ('banana', 11)\n",
            "==\n",
            "Index 0 : ('apple', 10)\n",
            "Index 1 : None\n",
            "Index 2 : None\n",
            "Index 3 : ('iherry', 12)\n",
            "Index 4 : None\n",
            "Index 5 : None\n",
            "Index 6 : None\n",
            "Index 7 : None\n",
            "Index 8 : None\n",
            "Index 9 : ('banana', 11)\n",
            "==\n"
          ]
        }
      ]
    },
    {
      "cell_type": "code",
      "source": [
        "table = [None] * 10\n",
        "print(table)\n",
        "print(bool(table[0]))"
      ],
      "metadata": {
        "colab": {
          "base_uri": "https://localhost:8080/"
        },
        "id": "Rjb5Y7NoqcAq",
        "outputId": "62a1402d-640e-4ba3-ee22-389529a00092"
      },
      "execution_count": null,
      "outputs": [
        {
          "output_type": "stream",
          "name": "stdout",
          "text": [
            "[None, None, None, None, None, None, None, None, None, None]\n",
            "False\n"
          ]
        }
      ]
    },
    {
      "cell_type": "code",
      "source": [
        "# Tree : 계층적인 구조를 가진 자료구조, 루트 노드에서 시작해 하위 노드로 연결됨\n",
        "'''\n",
        "    루트노드 : 트리의 최상위 노드\n",
        "    부모노드 : 특정 노드의 상위 노드\n",
        "    자식 노드 : 특정 노드의 하위 노드\n",
        "    형제 노드 : 같은 부모 노도를 공유하는 노드들\n",
        "    단말 노드(Leaf Node): 자식 노드가 없는 노드\n",
        "    차수 : 노드가 가진 자식 노드의 수\n",
        "    레벨 : 루트에서부터의 거리(루트 노드 레벨 = 0)\n",
        "'''"
      ],
      "metadata": {
        "id": "TC4GEt41xBPI"
      },
      "execution_count": null,
      "outputs": []
    },
    {
      "cell_type": "code",
      "source": [
        "# 이진트리 : 각 노드가 최대 두 개의 자식 노드를 가지는 트리\n",
        "# 이진탐색트리(Binary Search Tree) :\n",
        "#       왼쪽 서브트리 모든 값이 루트 값보다 작고, 오른쪽 서브트리 모든 값이 루트 값보다 큼\n",
        "\n",
        "# 트리노드 구현\n",
        "class TreeNode:\n",
        "    def __init__(self, key):\n",
        "        self.key = key\n",
        "        self.left = None\n",
        "        self.right = None"
      ],
      "metadata": {
        "id": "Vl8GJa9oy23u"
      },
      "execution_count": null,
      "outputs": []
    },
    {
      "cell_type": "code",
      "source": [
        "class BinaryTree:   # 이진트리\n",
        "    def __init__(self):\n",
        "        self.root = None\n",
        "\n",
        "    def insert(self, key):\n",
        "        if not self.root:\n",
        "            self.root = TreeNode(key)\n",
        "        else:\n",
        "            self.insert_recursive(self.root, key)\n",
        "\n",
        "    def insert_recursive(self, node, key):  # 새로 추가할 노드의 부모 노드, 새로 추가할 값\n",
        "        if key < node.key:          # 새로 추가할 자식노드 값이 부모노드보다 크면\n",
        "            if node.left is None:           # 왼쪽으로 추가한다.\n",
        "                node.left = TreeNode(key)\n",
        "            else:\n",
        "                self.insert_recursive(node.left, key)\n",
        "        else:                               # 자식노드 값이 부모노드보다 작으면\n",
        "            if node.right is None:          # 오른쪽으로 추가한다.\n",
        "                node.right = TreeNode(key)\n",
        "            else:\n",
        "                self.insert_recursive(node.right, key)\n",
        "\n",
        "    def display(self):\n",
        "        lines, *_ = self.display_recursive(self.root)\n",
        "        for line in lines:\n",
        "            print(line)\n",
        "\n",
        "    def display_recursive(self, node):\n",
        "        if node is None:\n",
        "            return [], 0, 0\n",
        "        left_lines, left_width, left_height = self.display_recursive(node.left)\n",
        "        right_lines, right_width, right_height = self.display_recursive(node.right)\n",
        "        node_key_width = len(str(node.key))\n",
        "        total_width = left_width + node_key_width + right_width\n",
        "        total_height = max(left_height, right_height) + 1\n",
        "        middle = node_key_width // 2\n",
        "\n",
        "        while len(left_lines) < total_height:\n",
        "            left_lines.append(\" \" * left_width)\n",
        "        while len(right_lines) < total_height:\n",
        "            right_lines.append(\" \" * right_width)\n",
        "\n",
        "        middle_line = ' ' * left_width + str(node.key) + ' ' * right_width\n",
        "        lines = [middle_line]\n",
        "        for i in range(total_height):\n",
        "            lines.append(left_lines[i] + ' ' * node_key_width + right_lines[i])\n",
        "        return lines, total_width, total_height\n",
        "\n",
        "binary_tree = BinaryTree()\n",
        "keys = [10, 5, 15, 3, 7, 12, 18]\n",
        "for key in keys:\n",
        "    binary_tree.insert(key)\n",
        "\n",
        "binary_tree.display()"
      ],
      "metadata": {
        "colab": {
          "base_uri": "https://localhost:8080/"
        },
        "id": "XOyMVz6N0G2c",
        "outputId": "f6f46645-1868-4fd8-dc95-92c1e4cb43b8"
      },
      "execution_count": null,
      "outputs": [
        {
          "output_type": "stream",
          "name": "stdout",
          "text": [
            "   10      \n",
            " 5     15  \n",
            "3 7  12  18\n",
            "           \n"
          ]
        }
      ]
    },
    {
      "cell_type": "code",
      "source": [
        "# 이진트리 순회\n",
        "# 전위 순회(Preorder Traversal) : 부모 노드 -> 왼쪽 자식 -> 오른쪽 자식\n",
        "# 중위 순회(Inorder Traversal) :  왼쪽 노드 -> 부모 노드 -> 오른쪽 노드\n",
        "# 후위 순회(Postordre Traversal) : 왼쪽 노드 -> 오른쪽 노드 -> 부모 노드\n",
        "class BinaryTreeTraversal(BinaryTree):\n",
        "    def __init__(self):\n",
        "        super().__init__()\n",
        "\n",
        "    def inorder_traversal(self, root):  # 중위 순회\n",
        "        if root:\n",
        "            self.inorder_traversal(root.left)   # 왼쪽 노드\n",
        "            print(root.key, end=\" \") # 부모 노드\n",
        "            self.inorder_traversal(root.right)  # 오른쪽 노드\n",
        "\n",
        "    def preorder_traversal(self, root): # 전위 순회\n",
        "        if root:\n",
        "            print(root.key, end=\" \")    # 부모 노드\n",
        "            self.preorder_traversal(root.left)   # 왼쪽 노드\n",
        "            self.preorder_traversal(root.right)     # 오른쪽 노드\n",
        "\n",
        "    def postorder_traversal(self, root):    # 후위 순회\n",
        "        if root:\n",
        "            self.preorder_traversal(root.left)  # 왼쪽 노드\n",
        "            self.preorder_traversal(root.right) # 오른쪽 노드\n",
        "            print(root.key, end = \" \")  # 부모 노드\n",
        "\n",
        "tree_to_traversal = BinaryTreeTraversal()\n",
        "keys = [10, 5, 15, 3, 7, 12, 18]\n",
        "for k in keys:\n",
        "    tree_to_traversal.insert(k)\n",
        "\n",
        "root = tree_to_traversal.root\n",
        "tree_to_traversal.preorder_traversal(root)\n",
        "print()\n",
        "tree_to_traversal.inorder_traversal(root)\n",
        "print()\n",
        "tree_to_traversal.postorder_traversal(root)\n",
        "print()"
      ],
      "metadata": {
        "colab": {
          "base_uri": "https://localhost:8080/"
        },
        "id": "58GRxmIb_sY0",
        "outputId": "871c1115-3c1a-4dff-a5bc-5ab01fd69a17"
      },
      "execution_count": null,
      "outputs": [
        {
          "output_type": "stream",
          "name": "stdout",
          "text": [
            "10 5 3 7 15 12 18 \n",
            "3 5 7 10 12 15 18 \n",
            "5 3 7 15 12 18 10 \n"
          ]
        }
      ]
    },
    {
      "cell_type": "code",
      "source": [
        "lines = ['3']\n",
        "for i in range(1):\n",
        "    lines.append('' + ' ' * len(str(3)) + '')\n",
        "print(lines)"
      ],
      "metadata": {
        "colab": {
          "base_uri": "https://localhost:8080/"
        },
        "id": "UdityXnp2Hsd",
        "outputId": "10201fbc-25b9-49ae-db34-bcbdfd43545d"
      },
      "execution_count": null,
      "outputs": [
        {
          "output_type": "stream",
          "name": "stdout",
          "text": [
            "['3', ' ']\n"
          ]
        }
      ]
    },
    {
      "cell_type": "code",
      "source": [
        "class BinarySearchTree(BinaryTree): # 이진탐색트리\n",
        "    def __init__(self):\n",
        "        super().__init__()\n",
        "\n",
        "    def search(self, key):\n",
        "        return self.search_recursive(self.root, key)\n",
        "\n",
        "    def search_recursive(self, node, key):\n",
        "        if node is None or node.key == key:\n",
        "            return node\n",
        "        elif key < node.key:\n",
        "            return self.search_recursive(node.left, key)\n",
        "        else:\n",
        "            return self.search_recursive(node.right, key)\n",
        "\n",
        "bst = BinarySearchTree()\n",
        "bst.insert(30)\n",
        "bst.insert(10)\n",
        "bst.insert(20)\n",
        "bst.insert(5)\n",
        "bst.insert(15)\n",
        "bst.display()\n",
        "\n",
        "node = bst.search(20)\n",
        "print(node.key)\n",
        "print(node.left.key)"
      ],
      "metadata": {
        "colab": {
          "base_uri": "https://localhost:8080/"
        },
        "id": "asQRBM9HD0Tn",
        "outputId": "b56122e6-7847-409a-fcea-b59b2a4b341e"
      },
      "execution_count": null,
      "outputs": [
        {
          "output_type": "stream",
          "name": "stdout",
          "text": [
            "       30\n",
            " 10      \n",
            "5    20  \n",
            "   15    \n",
            "         \n",
            "20\n",
            "15\n"
          ]
        }
      ]
    }
  ]
}