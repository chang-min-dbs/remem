{
  "nbformat": 4,
  "nbformat_minor": 0,
  "metadata": {
    "colab": {
      "provenance": [],
      "authorship_tag": "ABX9TyM6qPvc0Dg4b5MWxv4Tfm1M",
      "include_colab_link": true
    },
    "kernelspec": {
      "name": "python3",
      "display_name": "Python 3"
    },
    "language_info": {
      "name": "python"
    }
  },
  "cells": [
    {
      "cell_type": "markdown",
      "metadata": {
        "id": "view-in-github",
        "colab_type": "text"
      },
      "source": [
        "<a href=\"https://colab.research.google.com/github/chang-min-dbs/remem/blob/python_summer_ZG/Day04.ipynb\" target=\"_parent\"><img src=\"https://colab.research.google.com/assets/colab-badge.svg\" alt=\"Open In Colab\"/></a>"
      ]
    },
    {
      "cell_type": "code",
      "execution_count": null,
      "metadata": {
        "id": "1rCFJ9UPbWBI"
      },
      "outputs": [],
      "source": [
        "# 정렬\n",
        "# [1,23,4]숫자가 뒤죽박죽일 때\n",
        "# 데이터 검색 효율성 향상\n",
        "# 데이터 구조의 최적화, 분석\n",
        "# 중복 데이터 제거\n",
        "# 주요 정렬 5가지 - 버블, 선택, 삽입, 병합, 퀵 정렬"
      ]
    },
    {
      "cell_type": "code",
      "source": [
        "#버블 정렬 : 인접한 2개가 버블처럼 조금씩 변화가 있다고 해서\n",
        "#인접한 두 요소를 비교해서 잘못된 순서면 교환하는 방식으로 배열의 끝까지 반복해서 정렬\n",
        "#시간 복잡도는 0(n^2) 구현이 매우 간단하지만 효율성이 떨어져 작은 데이터 셋에만 적합\n",
        "class BubbleSort:\n",
        "  def sort(self, array):\n",
        "    n = len(array)\n",
        "    for i in range(n):    #두개씩 비교하면서 정렬한다\n",
        "      for j in range(0, n-i-1):                 #이중 포문으로 들어가 시간복잡도가 n^2이라 할 수 있다 # i =0~3, j=0~2까지 들어감\n",
        "        if array[j] > array[j+1]:\n",
        "          array[j], array[j+1] = array[j+1], array[j]  #교환# 파이썬에만 가능한 방식 양변 맨앞 뒤에것씩 +\n",
        "    return array\n",
        "\n",
        "array = [64, 34, 25, 12]\n",
        "sorted_array = BubbleSort().sort(array)   #()를 씀?\n",
        "print(\"sorted_array\", sorted_array)\n",
        "print( sorted_array)                    #위 두개의 차이점 : 문자열 sorted array라는 게 출력이 되면서 리스트가 출력된다.\n",
        "\n",
        "#j의 리스트 위치가 바뀌는거 다시보기 -- 교환인 것 같은데"
      ],
      "metadata": {
        "colab": {
          "base_uri": "https://localhost:8080/"
        },
        "id": "FVr1pS3LdVF9",
        "outputId": "4b108388-85f2-42d8-95c1-b11295fd7257"
      },
      "execution_count": null,
      "outputs": [
        {
          "output_type": "stream",
          "name": "stdout",
          "text": [
            "sorted_array [12, 25, 34, 64]\n",
            "[12, 25, 34, 64]\n"
          ]
        }
      ]
    },
    {
      "cell_type": "code",
      "source": [
        "#선택정렬 : selection sort\n",
        "#배영에서 가장 작은 요소를 찾아, 첫번째 요소와 교환하고\n",
        "#그 다음 작은 요소를 찾아 두번째 요소와 교환하는 방식이 계속 반복됨\n",
        "#시간 복잡도0(n^2), 구현이 단순하고 직관적이지만 효율성이 떨어짐\n",
        "\n",
        "class SelectionSort:\n",
        "  def sort(self, array):\n",
        "    n = len(array)  #배열의 길이\n",
        "    for i in range(n):\n",
        "      min_idx = i     #초기화\n",
        "      for j in range(i+1, n):  # i를 제외한 범위에서 가장 작은 숫자의 인덱스를 검색\n",
        "        if array[min_idx] > array[j]:\n",
        "          min_idx = j\n",
        "          #가장 작은 값과 i에 있는 요소 교환\n",
        "      array[i], array[min_idx] = array[min_idx], array[i]   #서로의 자리를 교환한다는 말 인 것 같다.\n",
        "    return array\n",
        "arrary = [64, 24, 12, 25]\n",
        "sorted_array = SelectionSort().sort(array)\n",
        "print( sorted_array)"
      ],
      "metadata": {
        "colab": {
          "base_uri": "https://localhost:8080/"
        },
        "id": "n_W6Sw9_gGAu",
        "outputId": "7b4a18a2-9f09-4519-9d74-5d56dfc90dfd"
      },
      "execution_count": null,
      "outputs": [
        {
          "output_type": "stream",
          "name": "stdout",
          "text": [
            "[3, 10, 15, 22, 28, 37]\n"
          ]
        }
      ]
    },
    {
      "cell_type": "code",
      "source": [
        "# 삽입 정렬 :\n",
        "#배열의 두 번째 요소부터 시작하여, 앞의 요소들과 비교하여 적절한 위치에 삽입\n",
        "#시간복잡도 최악의 경우0(n^2) 최선의 경우0(n)\n",
        "#부분적으로 정렬된 배열일 땐 효율적이나 , 최악의 경우 느린 편\n",
        "class InsertionSort:\n",
        "  def sort(self, array):\n",
        "    n = len(array)\n",
        "    for i in range(1,n):    #두번째 요소부터 시작 --1부터 시작하니까..?\n",
        "      key = array[i]  #현재요소를 담기\n",
        "      j = i - 1 #앞의 요소를 담기\n",
        "      while j >=0 and key < array[j]: #현재 요소가 앞의 요소들보다 작은 동안 반복\n",
        "        array[j+1] = array[j] #앞의 요소가 현재 요소보다 크면 오른쪽으로 이동\n",
        "        j-=1\n",
        "      array[j+1] = key  #빈자리에 현재 요소를 삽입\n",
        "      print(array)\n",
        "    return array\n",
        "\n",
        "array = [64, 34, 25, 12]\n",
        "sorted_array = InsertionSort().sort(array)\n",
        "print( \"sorted_array\", sorted_array)"
      ],
      "metadata": {
        "colab": {
          "base_uri": "https://localhost:8080/"
        },
        "id": "SNwI_2KfiZpx",
        "outputId": "7c779fd2-0ce0-4b4d-cefb-66ba5e148bb5"
      },
      "execution_count": null,
      "outputs": [
        {
          "output_type": "stream",
          "name": "stdout",
          "text": [
            "[34, 64, 25, 12]\n",
            "[25, 34, 64, 12]\n",
            "[12, 25, 34, 64]\n",
            "sorted_array [12, 25, 34, 64]\n"
          ]
        }
      ]
    },
    {
      "cell_type": "code",
      "source": [
        "#병합정렬\n",
        "#배열을 절반으로 나누고, 각각 재귀적으로 정렬한 뒤, 두개의 정렬된 배열을 하나로 합병\n",
        "#시간 복잡도0(n log n)      #n로그n : n2보단 천천히 증가한다. 그래서 n^2보단 효율이 더 좋다라 말할 수 있다.\n",
        "#안정적인 정렬 알고리즘으로 대규모 데이터셋에 적합\n",
        "#다만 추가적인 메모리 공간이 필요함\n",
        "class MergeSort:\n",
        "  def sort(self, array):\n",
        "    if len(array) > 1:\n",
        "      #리스트 분할\n",
        "      mid = len(array) // 2   #나눗셈이 실수니깐, 정수 나눗셈으로 한\n",
        "      left_half = array[:mid]\n",
        "      right_half = array[mid:]  #쪼갠 각 정렬이 새로운 리스트에 대입 : 추가적인 메모리 공간   #뭔말임?\n",
        "\n",
        "      #재귀적으로 하위 배열 정렬  #뭔말임?\n",
        "      self.sort(left_half)\n",
        "      self.sort(right_half)\n",
        "\n",
        "      i=j=k=0         #i = 왼쪽, j = 오른 쪽, k= 재조립되는 배열의 길이를 관장한다.\n",
        "      #병합 과정 : 정렬이 된 하위 배열을 대상으로\n",
        "      #더 작은 요소부터 왼쪽에 추가\n",
        "      while i < len(left_half) and j < len(right_half):\n",
        "        if left_half[i] < right_half[j]:\n",
        "          array[k] = left_half[i]\n",
        "          i+=1\n",
        "        else:\n",
        "          array[k] = right_half[j]\n",
        "          j+=1\n",
        "        k+=1\n",
        "        #남은 요소 처리\n",
        "        while i < len(left_half):\n",
        "          array[k] = left_half[i]\n",
        "          i+=1\n",
        "          k+=1\n",
        "        while j < len(right_half):\n",
        "          array[k] = right_half[j]\n",
        "          j+=1\n",
        "          k+=1\n",
        "    return array\n",
        "\n",
        "array = [38,27, 43, 3, 9]\n",
        "sorted_array = MergeSort().sort(array)\n",
        "print( \"sorted_array\", sorted_array)"
      ],
      "metadata": {
        "colab": {
          "base_uri": "https://localhost:8080/"
        },
        "id": "cvRw3oUzjUq7",
        "outputId": "eb07c1b9-9769-4380-d3c9-465818d152bd"
      },
      "execution_count": null,
      "outputs": [
        {
          "output_type": "stream",
          "name": "stdout",
          "text": [
            "sorted_array [3, 27, 38, 43, 9]\n"
          ]
        }
      ]
    },
    {
      "cell_type": "markdown",
      "source": [
        "메모리 공간이 전체적인 틀\n",
        "\n",
        "메모리 - 객체, 함수"
      ],
      "metadata": {
        "id": "deKqVS-sPsKp"
      }
    },
    {
      "cell_type": "code",
      "source": [
        "# 퀵 정렬(Quick Sort)\n",
        "# 배열에서 하나의 요소를 pivot(피벗)으로 선택\n",
        "# 피벗보다 작은 요소는 피벗 왼쪽, 피벗보다 큰 요소들은 피벗 오른쪽에 위치하도록 분할\n",
        "# 하위 배열에 대해 재귀적으로 퀵 정렬 수행, 피벗을 기준으로 결합\n",
        "# 퀵 정렬은 평균 시간 복잡도 O(n logn), 최악 시간 복잡도 O(n^2)\n",
        "# 대체적으로 빠른 성능을 자랑하며 추가적인 메모리 공간도 거의 필요하지 않음\n",
        "class QuickSort:\n",
        "    def sort(self, array):    #인스턴스 외부에서도 호출이 되는 메서드  ##def ~~가 선언이다.\n",
        "        self._quick_sort(array, 0, len(array)-1)      # 퀵 정렬 메서드 호출\n",
        "        return array\n",
        "\n",
        "    def _quick_sort(self, array, low, high): # 내부적으로 호출하는 메서드: 관습적으로 앞에_를 적는다.\n",
        "        if low < high:                            #low와 high가 뭐임? 왜 로우는 0이고 하이는5로 시작??\n",
        "            pi = self._partition(array, low, high)\n",
        "            self._quick_sort(array, low, pi-1)\n",
        "            self._quick_sort(array, pi+1, high)\n",
        "\n",
        "\n",
        "    def _partition(self, array, low, high):\n",
        "        pivot = array[high] # 배열의 마지막 요소를 피벗으로 설정\n",
        "        i = low - 1 # i는 피벗보다 작은 요소의 index 표시\n",
        "        for j in range(low, high):\n",
        "            if array[j] < pivot:    # 피벗보다 작은 요소 탐색\n",
        "                i+=1\n",
        "                array[i], array[j] = array[j], array[i]\n",
        "\n",
        "        array[i+1], array[high] = array[high], array[i+1]   # 피벗을 올바른 위치로 이동\n",
        "        return i+1      # 피벗의 인덱스 반환\n",
        "\n",
        "array = [22, 3, 37, 10, 28, 15]\n",
        "sorted_array = QuickSort().sort(array)\n",
        "print(\"sorted_array\", sorted_array)"
      ],
      "metadata": {
        "colab": {
          "base_uri": "https://localhost:8080/"
        },
        "id": "A4DcUf80upwO",
        "outputId": "080bb459-b0fd-4c62-9fb7-75ec3cbdeb23"
      },
      "execution_count": null,
      "outputs": [
        {
          "output_type": "stream",
          "name": "stdout",
          "text": [
            "sorted_array [3, 10, 15, 22, 28, 37]\n"
          ]
        }
      ]
    },
    {
      "cell_type": "code",
      "source": [
        "'''\n",
        "해쉬 테이블 : Key와 Value 쌍으로 데이터를 저장하는 자료구조\n",
        "매우 빠른 검색, 삽입, 삭제가 가능.\n",
        "해시 함수(Hash Function)를 사용해 key를 해시 값(hash value)으로 변환. 이 해시 값을 인덱스로 사용해 데이터를 저장\n",
        "\n",
        "해시 테이블은 해시 테이블의 크기가 한정되어 있음\n",
        "충돌 : 두 개 이상의 키가 같은 해시 값을 갖는 경우 충돌이 발생\n",
        "즉, 해시 함수의 반환값이 같을 때 충돌이 발생 가능\n",
        "\n",
        "[충돌 방지 방법]\n",
        "- 체이닝(chaining) : 해시 값을 갖는 모든 키-값 쌍을 연결 리스트로 저장\n",
        "- 오픈 어드레싱(Open Addressing) : 해시 테이블 내의 다른 빈 공간을 찾아 데이터를 저장\n",
        "'''"
      ],
      "metadata": {
        "colab": {
          "base_uri": "https://localhost:8080/",
          "height": 144
        },
        "id": "sxOr5BjKD-ev",
        "outputId": "d70de323-92c1-4568-864a-7c21ee8431f8"
      },
      "execution_count": null,
      "outputs": [
        {
          "output_type": "execute_result",
          "data": {
            "text/plain": [
              "'\\n해쉬 테이블 : Key와 Value 쌍으로 데이터를 저장하는 자료구조\\n매우 빠른 검색, 삽입, 삭제가 가능.\\n해시 함수(Hash Function)를 사용해 key를 해시 값(hash value)으로 변환. 이 해시 값을 인덱스로 사용해 데이터를 저장\\n\\n해시 테이블은 해시 테이블의 크기가 한정되어 있음\\n충돌 : 두 개 이상의 키가 같은 해시 값을 갖는 경우 충돌이 발생\\n즉, 해시 함수의 반환값이 같을 때 충돌이 발생 가능\\n\\n[충돌 방지 방법]\\n- 체이닝(chaining) : 해시 값을 갖는 모든 키-값 쌍을 연결 리스트로 저장\\n- 오픈 어드레싱(Open Addressing) : 해시 테이블 내의 다른 빈 공간을 찾아 데이터를 저장\\n'"
            ],
            "application/vnd.google.colaboratory.intrinsic+json": {
              "type": "string"
            }
          },
          "metadata": {},
          "execution_count": 3
        }
      ]
    },
    {
      "cell_type": "code",
      "source": [
        "# Chaining\n",
        "class HashTableWithChaining:\n",
        "    def __init__(self, size):\n",
        "        self.size = size\n",
        "        self.table = [[] for _ in range(size)]\n",
        "\n",
        "    def _hash_function(self, key):\n",
        "        return sum(ord(char) for char in key) % self.size\n",
        "\n",
        "    def insert(self, key, value):\n",
        "        index = self._hash_function(key)\n",
        "        for kv in self.table[index]:\n",
        "            if kv[0] == key:\n",
        "                kv[1] = value\n",
        "                return\n",
        "        self.table[index].append([key, value])\n",
        "\n",
        "hash_table = HashTableWithChaining(10)\n",
        "hash_table.insert(\"apple\", 5)\n",
        "hash_table.insert(\"banana\", 7)\n",
        "hash_table.insert(\"iherry\", 11)\n",
        "print(hash_table.table)"
      ],
      "metadata": {
        "colab": {
          "base_uri": "https://localhost:8080/"
        },
        "id": "T5_AGRoEEAnP",
        "outputId": "ad4b4783-cda5-4634-9de4-d398fa4832e5"
      },
      "execution_count": null,
      "outputs": [
        {
          "output_type": "stream",
          "name": "stdout",
          "text": [
            "[[['apple', 5]], [], [], [], [], [], [], [], [], [['banana', 7], ['iherry', 11]]]\n"
          ]
        }
      ]
    },
    {
      "cell_type": "code",
      "source": [
        "print(ord(\"A\"))    # 아스키 코드 = 문자 고유의 숫자값\n",
        "print(sum(ord(char) for char in \"apple\"))"
      ],
      "metadata": {
        "colab": {
          "base_uri": "https://localhost:8080/"
        },
        "id": "0J6UiYZmEDtH",
        "outputId": "1e85fe5e-6b03-44c1-b6dd-d3853254a0de"
      },
      "execution_count": null,
      "outputs": [
        {
          "output_type": "stream",
          "name": "stdout",
          "text": [
            "65\n",
            "530\n"
          ]
        }
      ]
    },
    {
      "cell_type": "code",
      "source": [
        "class HashTableLinearProbing:\n",
        "    def __init__(self, size=10):\n",
        "        self.size = size\n",
        "        self.table = [ [] for _ in range(size) ]\n",
        "\n",
        "    def _hash_function(self, key):\n",
        "        # 해시 함수 : 키의 각 문자열 아스키 값을 더하고, 그걸 size로 나눠서\n",
        "        # 해시 값으로 return\n",
        "        return sum(ord(char) for char in key) % self.size\n",
        "\n",
        "    def insert(self, key, value):\n",
        "        index = self._hash_function(key)\n",
        "        while self.table[index]:\n",
        "            if self.table[index][0] == key:\n",
        "                self.table[index] = (key, value)\n",
        "                return\n",
        "            index = (index + 1) % self.size\n",
        "            if index == self._hash_function(key):\n",
        "                raise Exception(\"Hash table is full\")\n",
        "        self.table[index] = (key, value)\n",
        "\n",
        "hash_table = HashTableLinearProbing()\n",
        "hash_table.insert(\"apple\", 5)\n",
        "hash_table.insert(\"banana\", 7)\n",
        "hash_table.insert(\"iherry\", 10)\n",
        "print(hash_table.table)"
      ],
      "metadata": {
        "id": "v1JRdcoKEHr_"
      },
      "execution_count": null,
      "outputs": []
    }
  ]
}