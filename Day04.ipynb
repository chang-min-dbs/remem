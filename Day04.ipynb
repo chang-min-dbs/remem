{
  "nbformat": 4,
  "nbformat_minor": 0,
  "metadata": {
    "colab": {
      "provenance": [],
      "authorship_tag": "ABX9TyMIvp7tHX48XXcm84CKccpO",
      "include_colab_link": true
    },
    "kernelspec": {
      "name": "python3",
      "display_name": "Python 3"
    },
    "language_info": {
      "name": "python"
    }
  },
  "cells": [
    {
      "cell_type": "markdown",
      "metadata": {
        "id": "view-in-github",
        "colab_type": "text"
      },
      "source": [
        "<a href=\"https://colab.research.google.com/github/chang-min-dbs/remem/blob/python_summer/Day04.ipynb\" target=\"_parent\"><img src=\"https://colab.research.google.com/assets/colab-badge.svg\" alt=\"Open In Colab\"/></a>"
      ]
    },
    {
      "cell_type": "code",
      "execution_count": null,
      "metadata": {
        "colab": {
          "base_uri": "https://localhost:8080/"
        },
        "id": "H9cHLxHlV60v",
        "outputId": "a4d75d38-2bc8-4e77-910d-5825885be9a0"
      },
      "outputs": [
        {
          "output_type": "stream",
          "name": "stdout",
          "text": [
            "True\n"
          ]
        }
      ],
      "source": [
        "# 유효한 괄호 문자열인지 확인하는 프로그램\n",
        "# 딕셔너리를 사용하는 코딩 테스트\n",
        "# s = \"()[]{}\" : True\n",
        "# s = \"([)]\" : False\n",
        "# s = \"{[]}\" : True     //// Q1. 여기서 말한input string?은 무엇인가?\n",
        "\n",
        "s = \"{[]}\"\n",
        "\n",
        "lst = []\n",
        "mapping = {\")\":\"(\", \"]\":\"[\", \"}\":\"{\"  }   #여는 괄호 일때 리스트에 순차적으로 넣었다, 닫는 괄호일때 짝이 맞다면 넘어가는것,\n",
        "\n",
        "for char in s:                     #char라는 변수가딕셔너리에 in을 쓰는건 키가 있는지를 보는 것 벨류를 ???\n",
        "    if char in mapping:\n",
        "       if lst:                     # if lst의 뜻은 lst가 트루인지 물어본 것, lst는 리스트인 자료형으로 비어있으면 false 비어있지 않으면 true다\n",
        "        top = lst.pop()\n",
        "       else:\n",
        "          top = \"#\"                # Q2. \"#\"의 뜻은 뭐임?\n",
        "       if mapping[char] !=top:     # Q3. 이 !는 어디서 튀어나온 문자임, 먼지 모르겠다.\n",
        "            print(False)\n",
        "            break\n",
        "    else:\n",
        "      lst.append(char)\n",
        "else:                              #for문과 동등하게 쓰인 else문--> 브레이크 실행 안됐을 시 else문 타게한다.\n",
        "  print(not lst)                   #조건문상에서 비어있는 lst = []는 폴스이다, not구문은 조건문에 쓰이는 구문, not을 붙여주면 false를 바꿔주는 역학을 해서 true가 나온다.\n",
        "\n",
        "'''\n",
        " 1.문자 하나하나가 char라는 변수에 들어간다. 2.'{'는 벨류이기 때문에 if가 아닌else를 탄다.(왜? --> in은 key만 추출하기 때문에 else로 간 듯하다.)\n",
        " 3.lst에 추가가 된다. 4.]}는 if문으로 간다. 5. lst는 비어있지 않은상태-> top으로 간다\n",
        " 6.lst.pop()은 현재lst = [{[ ]상태 중 가장 바깥인 \"[\" 을 먼저 top에 담아준다.그리고 pop 특성 상 lst에서 제거 된다.\n",
        " 7.if mapping[char] !=top 또다른 if문으로 내려와서 보면 현재 char = ],top=[이다.키를넣으면 char가 해당되는 벨류 \"[\"로 바뀐다. 그래서 false가 아니다.\n",
        " Q4. key를 넣으면 해당되는 벨류가 왜 바뀌는지 모르겠고, 바뀌어서 [ = [라면 false가 출력이 되어야 하는 것이 맞지 않나?\n",
        " 8. 마지막도 6~7 반복\n",
        "'''"
      ]
    },
    {
      "cell_type": "code",
      "source": [
        "#문자열 조작 함수\n",
        "str1 = '사과-참외-딸기-메론-수박'\n",
        "#split : 구분자를 기준으로 문자열을 잘라 리스트로 반환\n",
        "arr1 = str1.split('-')\n",
        "print(arr1)"
      ],
      "metadata": {
        "colab": {
          "base_uri": "https://localhost:8080/"
        },
        "id": "6leIx5egatL2",
        "outputId": "b2523b99-e77f-4c7b-dfb3-27a77ad34a44"
      },
      "execution_count": null,
      "outputs": [
        {
          "output_type": "stream",
          "name": "stdout",
          "text": [
            "['사과', '참외', '딸기', '메론', '수박']\n"
          ]
        }
      ]
    },
    {
      "cell_type": "code",
      "source": [
        "str2 = \"Hello My Name is...\"\n",
        "arr2 = str2.split()#구분자가 없을 경우 기본은 공백!\n",
        "print(arr2)"
      ],
      "metadata": {
        "colab": {
          "base_uri": "https://localhost:8080/"
        },
        "id": "0cnFpooTbatr",
        "outputId": "7e81a985-253d-42ee-9657-118e63fc54b3"
      },
      "execution_count": null,
      "outputs": [
        {
          "output_type": "stream",
          "name": "stdout",
          "text": [
            "['Hello', 'My', 'Name', 'is...']\n"
          ]
        }
      ]
    },
    {
      "cell_type": "code",
      "source": [
        "#조각낸거 다시 합쳐보기\n",
        "str3 = \"\".join(arr2)\n",
        "print(str3)\n",
        "#join함수는 리스트에 있는 것들을 하나로 합쳐준다."
      ],
      "metadata": {
        "colab": {
          "base_uri": "https://localhost:8080/"
        },
        "id": "elmrS2uObs05",
        "outputId": "6121d2eb-e94b-4c7b-9d81-9000411dcc73"
      },
      "execution_count": null,
      "outputs": [
        {
          "output_type": "stream",
          "name": "stdout",
          "text": [
            "HelloMyNameis...\n"
          ]
        }
      ]
    },
    {
      "cell_type": "code",
      "source": [
        "str3 = \"\\n\".join(arr2)\n",
        "print(str3)"
      ],
      "metadata": {
        "colab": {
          "base_uri": "https://localhost:8080/"
        },
        "id": "JzK2Bu9PcP-v",
        "outputId": "99e31f1a-c75c-4d0f-a858-56dfea6bbc86"
      },
      "execution_count": null,
      "outputs": [
        {
          "output_type": "stream",
          "name": "stdout",
          "text": [
            "Hello\n",
            "My\n",
            "Name\n",
            "is...\n"
          ]
        }
      ]
    },
    {
      "cell_type": "code",
      "source": [
        "str3 = \"/\".join(arr2)\n",
        "print(str3)\n",
        "#join은 구분자를 이용해서 구분하면서 합쳐지게 만든다."
      ],
      "metadata": {
        "colab": {
          "base_uri": "https://localhost:8080/"
        },
        "id": "o_IPnHxmcEg2",
        "outputId": "09952714-78e1-4b9d-b000-01d043aa1e40"
      },
      "execution_count": null,
      "outputs": [
        {
          "output_type": "stream",
          "name": "stdout",
          "text": [
            "Hello/My/Name/is...\n"
          ]
        }
      ]
    },
    {
      "cell_type": "code",
      "source": [
        "text = \"Hello, world!\"\n",
        "result = text.replace(\"Hello\", \"python\")         #replace함수  (기존, 바꿀)\n",
        "print(result)"
      ],
      "metadata": {
        "colab": {
          "base_uri": "https://localhost:8080/"
        },
        "id": "UJAAFDUscX3P",
        "outputId": "c9732ae2-0a09-4c09-a802-53179951ef08"
      },
      "execution_count": null,
      "outputs": [
        {
          "output_type": "stream",
          "name": "stdout",
          "text": [
            "python, world!\n"
          ]
        }
      ]
    },
    {
      "cell_type": "code",
      "source": [
        "result = text.replace(\"o\",\"ee\")\n",
        "print(result)"
      ],
      "metadata": {
        "colab": {
          "base_uri": "https://localhost:8080/"
        },
        "id": "Zzkk0Aa3cqCu",
        "outputId": "adb2db26-7c12-4422-cead-6db4b861b092"
      },
      "execution_count": null,
      "outputs": [
        {
          "output_type": "stream",
          "name": "stdout",
          "text": [
            "Hellee, weerld!\n"
          ]
        }
      ]
    },
    {
      "cell_type": "code",
      "source": [
        "#모두 바뀌는걸 방지하기 위해 인덱스를 넣어줄 수 있다\n",
        "result = text.replace(\"l\",\"t\",2)\n",
        "print(result)"
      ],
      "metadata": {
        "colab": {
          "base_uri": "https://localhost:8080/"
        },
        "id": "FZEU9HYAc9A6",
        "outputId": "3d4fa844-1792-411f-8a33-834250700f3e"
      },
      "execution_count": null,
      "outputs": [
        {
          "output_type": "stream",
          "name": "stdout",
          "text": [
            "Hetto, world!\n"
          ]
        }
      ]
    },
    {
      "cell_type": "code",
      "source": [
        "#strip함수 = 좌우에 다른 문자가 나오기 전까지 공백을 제거 해 준다.\n",
        "text = \"   Hello, world   !!!  \"#좌 우에 공백이 사라지고==가 생\n",
        "result = text.strip()\n",
        "print(\"=\" + result + \"=\")  # 다른 text문자에서 긁어올 때 잘못 인식하면 공백이 무한정으로 들어가는 것을 막아"
      ],
      "metadata": {
        "colab": {
          "base_uri": "https://localhost:8080/"
        },
        "id": "b9zivFq3dKRG",
        "outputId": "f78785f8-9a91-45f8-ab42-b4a0d434b534"
      },
      "execution_count": null,
      "outputs": [
        {
          "output_type": "stream",
          "name": "stdout",
          "text": [
            "=Hello, world   !!!=\n"
          ]
        }
      ]
    },
    {
      "cell_type": "code",
      "source": [
        "text = \"Hello, world\"\n",
        "Index = text.find(\"world\")  #부분 문자열을 찾아 인덱스를 리턴\n",
        "print(Index)"
      ],
      "metadata": {
        "colab": {
          "base_uri": "https://localhost:8080/"
        },
        "id": "SC9rUfp_dlnP",
        "outputId": "0ce1a2e8-eb00-45ec-9813-88080248b4ed"
      },
      "execution_count": null,
      "outputs": [
        {
          "output_type": "stream",
          "name": "stdout",
          "text": [
            "7\n"
          ]
        }
      ]
    },
    {
      "cell_type": "code",
      "source": [],
      "metadata": {
        "id": "YA7dmbgqzHOn"
      },
      "execution_count": null,
      "outputs": []
    },
    {
      "cell_type": "code",
      "source": [
        "index = text.find(\"l\",5)\n",
        "print(index)\n",
        "#5는 뭐냐 --> 인덱스의 5 이후의 인덱스값을 찾으라는 뜻임"
      ],
      "metadata": {
        "colab": {
          "base_uri": "https://localhost:8080/"
        },
        "id": "Be2n4exkd195",
        "outputId": "35efdb79-1f24-4ebc-f972-53c93ea9111b"
      },
      "execution_count": null,
      "outputs": [
        {
          "output_type": "stream",
          "name": "stdout",
          "text": [
            "5\n"
          ]
        }
      ]
    },
    {
      "cell_type": "code",
      "source": [
        "print(text.startswith(\"He\")) #이 문자열이 이거로 시작 되느냐\n",
        "print(text.endswith(\"rld\"))# 이 문자열이 이거로 끝나느냐"
      ],
      "metadata": {
        "colab": {
          "base_uri": "https://localhost:8080/"
        },
        "id": "jd4aj8DfeJmR",
        "outputId": "8431f6f0-2156-4ec5-9c4a-2bb371a48467"
      },
      "execution_count": null,
      "outputs": [
        {
          "output_type": "stream",
          "name": "stdout",
          "text": [
            "True\n",
            "True\n"
          ]
        }
      ]
    },
    {
      "cell_type": "code",
      "source": [
        "text = \"python\"\n",
        "upperstr = text.upper()        # 어퍼는 문자 전체를 대문자\n",
        "print(upperstr)\n",
        "lowerstr = upperstr.lower()    #문자 전체를 소문자\n",
        "print(lowerstr)\n",
        "capstr = text.capitalize()     #첫글자만 대문자\n",
        "print(capstr)"
      ],
      "metadata": {
        "colab": {
          "base_uri": "https://localhost:8080/"
        },
        "id": "BVZ3g--BefY3",
        "outputId": "20b87b18-b5d5-4dae-9e55-086973159b98"
      },
      "execution_count": null,
      "outputs": [
        {
          "output_type": "stream",
          "name": "stdout",
          "text": [
            "PYTHON\n",
            "python\n",
            "Python\n"
          ]
        }
      ]
    },
    {
      "cell_type": "code",
      "source": [
        "text = \"Hello\"\n",
        "print(text.isalpha())#isalpha: 문자열이 다 알파벳인지\n",
        "print(text.isdigit())#문자열이 다 숫자인지\n",
        "text = \"12345\"\n",
        "print(text.isdigit())"
      ],
      "metadata": {
        "colab": {
          "base_uri": "https://localhost:8080/"
        },
        "id": "GDyenn4RfF7I",
        "outputId": "ab24e577-ce8a-4b37-d598-e1f0e529b642"
      },
      "execution_count": null,
      "outputs": [
        {
          "output_type": "stream",
          "name": "stdout",
          "text": [
            "True\n",
            "False\n",
            "True\n"
          ]
        }
      ]
    },
    {
      "cell_type": "code",
      "source": [
        "#함수\n",
        "'''\n",
        "def 함수명(매개변수):\n",
        "    실행할 문장\n",
        "    return 반환값  #리턴 할게 없으면 안써도 된다.\n",
        "'''\n",
        "def hello():            #매개변수 없어도 ():쓰기\n",
        "  print(\"안녕~\")\n",
        "  print(\"반가워~\")      # 함수 내부는 탭으로 연결 --> 여기까지가 함\n",
        "print(\"함수 끝 직후!\")  # 함수가 먼저 정의 되고 나서 메모리가 hello라는 함수가 있구나 라고 기억만 하고 있다.\n",
        "hello()                 #호출 #함수 끝 직후가 출력되고 hello함수가 다시 호출되면 메모리 속 함수 영역으로 가서 함수가 정의된 곳에서부터 다시 실행된다."
      ],
      "metadata": {
        "colab": {
          "base_uri": "https://localhost:8080/"
        },
        "id": "nobCe6M-fi-Y",
        "outputId": "5fe4ba62-740e-4895-8daa-4b3457c87727"
      },
      "execution_count": null,
      "outputs": [
        {
          "output_type": "stream",
          "name": "stdout",
          "text": [
            "함수 끝 직후!\n",
            "안녕~\n",
            "반가워~\n"
          ]
        }
      ]
    },
    {
      "cell_type": "code",
      "source": [
        "bye()\n",
        "#호출과 선언문을 바꿔주면 정상적 작동 할 것이다.\n",
        "def bye():\n",
        "  print(\"함수 선언 전에 호출하면 에러 발생\")  #여기까지만 하면 에러 발생, 호출을 안했기 때문\n"
      ],
      "metadata": {
        "colab": {
          "base_uri": "https://localhost:8080/",
          "height": 200
        },
        "id": "QAiuCFRagWSV",
        "outputId": "48915eb2-4e10-4338-b99c-e3aca81a0740"
      },
      "execution_count": null,
      "outputs": [
        {
          "output_type": "error",
          "ename": "NameError",
          "evalue": "name 'bye' is not defined",
          "traceback": [
            "\u001b[0;31m---------------------------------------------------------------------------\u001b[0m",
            "\u001b[0;31mNameError\u001b[0m                                 Traceback (most recent call last)",
            "\u001b[0;32m<ipython-input-47-fb292ded71f6>\u001b[0m in \u001b[0;36m<cell line: 1>\u001b[0;34m()\u001b[0m\n\u001b[0;32m----> 1\u001b[0;31m \u001b[0mbye\u001b[0m\u001b[0;34m(\u001b[0m\u001b[0;34m)\u001b[0m\u001b[0;34m\u001b[0m\u001b[0;34m\u001b[0m\u001b[0m\n\u001b[0m\u001b[1;32m      2\u001b[0m \u001b[0;31m#다시듣기\u001b[0m\u001b[0;34m\u001b[0m\u001b[0;34m\u001b[0m\u001b[0m\n\u001b[1;32m      3\u001b[0m \u001b[0;32mdef\u001b[0m \u001b[0mbye\u001b[0m\u001b[0;34m(\u001b[0m\u001b[0;34m)\u001b[0m\u001b[0;34m:\u001b[0m\u001b[0;34m\u001b[0m\u001b[0;34m\u001b[0m\u001b[0m\n\u001b[1;32m      4\u001b[0m   \u001b[0mprint\u001b[0m\u001b[0;34m(\u001b[0m\u001b[0;34m\"함수 선언 전에 호출하면 에러 발생\"\u001b[0m\u001b[0;34m)\u001b[0m  \u001b[0;31m#여기까지만 하면 에러 발생, 호출을 안했기 때문\u001b[0m\u001b[0;34m\u001b[0m\u001b[0;34m\u001b[0m\u001b[0m\n",
            "\u001b[0;31mNameError\u001b[0m: name 'bye' is not defined"
          ]
        }
      ]
    },
    {
      "cell_type": "code",
      "source": [
        "def self_input(num): #num이--> 매개변수 =  인풋(input=입력) = 파라미터\n",
        "  print(f\"입력받은 숫자는{num}입니다.\")\n",
        "\n",
        "for i in range(1,6):\n",
        "     self_input(i)\n",
        "#매개변수를 이용"
      ],
      "metadata": {
        "colab": {
          "base_uri": "https://localhost:8080/"
        },
        "id": "o8RPSOWcgpFa",
        "outputId": "0c3f9f37-8815-459f-c800-c202b75451fa"
      },
      "execution_count": null,
      "outputs": [
        {
          "output_type": "stream",
          "name": "stdout",
          "text": [
            "입력받은 숫자는1입니다.\n",
            "입력받은 숫자는2입니다.\n",
            "입력받은 숫자는3입니다.\n",
            "입력받은 숫자는4입니다.\n",
            "입력받은 숫자는5입니다.\n"
          ]
        }
      ]
    },
    {
      "cell_type": "code",
      "source": [
        "#함수 활용  = 미.리 기능을 정해두고 얼마든지 원하는 값을 넣어주면서 계속 재사용 할 때 사용된다\n",
        "def gugudan(m):\n",
        "  for i in range(1,10):\n",
        "    print(f\"{m}*{i}={m*i:2d}\")  #2d: 포멧스트링 안에서 출력할 변수 지정 후 바로 옆에 포멧을 지정한다. d = dight = 십진수를 의미  = 자리를 두자리로 지정하겠단 의미가 된다.\n",
        "gugudan(2) #그래서 예쁘게 자리가 나온다.\n",
        "gugudan(9)"
      ],
      "metadata": {
        "colab": {
          "base_uri": "https://localhost:8080/"
        },
        "id": "WvPtahS9hCZz",
        "outputId": "1abadcc6-9b66-462a-a2e0-a0fe51ffa871"
      },
      "execution_count": null,
      "outputs": [
        {
          "output_type": "stream",
          "name": "stdout",
          "text": [
            "2*1= 2\n",
            "2*2= 4\n",
            "2*3= 6\n",
            "2*4= 8\n",
            "2*5=10\n",
            "2*6=12\n",
            "2*7=14\n",
            "2*8=16\n",
            "2*9=18\n",
            "9*1= 9\n",
            "9*2=18\n",
            "9*3=27\n",
            "9*4=36\n",
            "9*5=45\n",
            "9*6=54\n",
            "9*7=63\n",
            "9*8=72\n",
            "9*9=81\n"
          ]
        }
      ]
    },
    {
      "cell_type": "code",
      "source": [
        "#사칙연산\n",
        "def add(a, b):\n",
        "  print(f\"{a:2d}와 {b:2d}의 합은 {a+b:4d}입니다.\")\n",
        "\n",
        "def sub(a, b):\n",
        "  print(f\"{a:2d}와 {b:2d}의 차는 {a-b:4d}입니다.\")\n",
        "\n",
        "def mul(a, b):\n",
        "  print(f\"{a:2d}와 {b:2d}의 곱은 {a*b:4d}입니다.\")\n",
        "\n",
        "add(2, 3)\n",
        "add(10,20)\n",
        "sub(2, 3)\n",
        "mul(2, 3)"
      ],
      "metadata": {
        "colab": {
          "base_uri": "https://localhost:8080/"
        },
        "id": "SJR7R3athxOd",
        "outputId": "35ca98ac-ce09-4f06-91b8-aca57d228d16"
      },
      "execution_count": null,
      "outputs": [
        {
          "output_type": "stream",
          "name": "stdout",
          "text": [
            " 2와  3의 합은    5입니다.\n",
            "10와 20의 합은   30입니다.\n",
            " 2와  3의 차는   -1입니다.\n",
            " 2와  3의 곱은    6입니다.\n"
          ]
        }
      ]
    },
    {
      "cell_type": "code",
      "source": [
        "def something():\n",
        "  return 2\n",
        "\n",
        "r = something()  #return이라 하는 것은 함수를 실행시킨 우변에서 좌변으로 무언갈 반환할 때 반환값이 r이라는 변수에 담긴다는 뜻이다.\n",
        "print(r)         #그래서 2라는 값을 r이라는 변수에 담겨서 2가 출력이 된 것이다."
      ],
      "metadata": {
        "colab": {
          "base_uri": "https://localhost:8080/"
        },
        "id": "RXYTuVIyiY8R",
        "outputId": "7d3c2c86-7a69-42b0-ad79-13444cf3ea46"
      },
      "execution_count": null,
      "outputs": [
        {
          "output_type": "stream",
          "name": "stdout",
          "text": [
            "2\n"
          ]
        }
      ]
    },
    {
      "cell_type": "code",
      "source": [
        "def add_sub(a, b):\n",
        "  return a+b, a-b\n",
        "\n",
        "x, y = add_sub(10, 20)\n",
        "print(x, y)\n",
        "  #이거 실행 안됨 --> 탭때문에 그럼"
      ],
      "metadata": {
        "id": "y6AgDgPeilxM",
        "colab": {
          "base_uri": "https://localhost:8080/"
        },
        "outputId": "74c054e8-9486-4588-ddff-e0b4ee6a9d76"
      },
      "execution_count": null,
      "outputs": [
        {
          "output_type": "stream",
          "name": "stdout",
          "text": [
            "30 -10\n"
          ]
        }
      ]
    },
    {
      "cell_type": "code",
      "source": [
        "#가변 매개변수 : 변수가 몇 개 들어올지 모를 때 사용\n",
        "def showNum(*args):  #args관습적임 --> 가변 파라미터/ 가변파라미터는 맨 뒤에 써야한다.\n",
        "  print(\"args\",args)\n",
        "  print(\"args type\",type(args))\n",
        "  print(args)\n",
        "  for i in args:\n",
        "    print(i)\n",
        "showNum(1,2,3,4,5)         ##가변 파라미터와 호출을 사용할 때 호출(여기에 변수)를 넣어 사용하면 되겠다.\n",
        "#args로 들어가는 애들은 기본적으로 튜플이 된다.\n",
        "#튜플은 리스트긴한데 수정이 안되는 리스트"
      ],
      "metadata": {
        "colab": {
          "base_uri": "https://localhost:8080/"
        },
        "id": "HXgbTiwOiqGT",
        "outputId": "21813d37-ee4d-4867-a629-5b9346c1a505"
      },
      "execution_count": null,
      "outputs": [
        {
          "output_type": "stream",
          "name": "stdout",
          "text": [
            "args (1, 2, 3, 4, 5)\n",
            "args type <class 'tuple'>\n",
            "(1, 2, 3, 4, 5)\n",
            "1\n",
            "2\n",
            "3\n",
            "4\n",
            "5\n"
          ]
        }
      ]
    },
    {
      "cell_type": "code",
      "source": [
        "#greet :\n",
        "def greet (greeting, *args):   #이때 가변파라미터는 일반 파라미터와 썼을 때 맨 뒤에 배치해라\n",
        "  for name in args:\n",
        "    print(f\"{greeting}, {name}\")\n",
        "greet(\"Hello\", \"길동\", \"둘리\", \"또치\")  #greeting자리는 hello, args자리는 길동 둘리 또치로 튜플로 들어간다."
      ],
      "metadata": {
        "colab": {
          "base_uri": "https://localhost:8080/"
        },
        "id": "aYOb1lKIjj1O",
        "outputId": "04f1c68b-b75b-4a7c-c9e3-5a2a5c6e08ec"
      },
      "execution_count": null,
      "outputs": [
        {
          "output_type": "stream",
          "name": "stdout",
          "text": [
            "길동, Hello\n",
            "둘리, Hello\n",
            "또치, Hello\n"
          ]
        }
      ]
    },
    {
      "cell_type": "code",
      "source": [
        "#가변 파라미터 활용\n",
        "def get_mx(*num):  #최댓값을 반환 ---> 초깃값을 작은 거로 주는게 좋다.\n",
        "  max = -1\n",
        "  for i in num:    #\n",
        "    if max < i:\n",
        "       max = i\n",
        "  return max\n",
        "\n",
        "def get_mn(*num):  #최솟값을 반환\n",
        "  min = 999999\n",
        "  for i in num:\n",
        "    if i <min:\n",
        "      min = i\n",
        "    return min\n",
        "\n",
        "print(get_mx(1, 11, 41, 55, 34))\n",
        "print(get_mn(1, 11, 41, 55, 34))"
      ],
      "metadata": {
        "colab": {
          "base_uri": "https://localhost:8080/"
        },
        "id": "TTgUEyydkLM_",
        "outputId": "401c9c78-2ffa-4e27-f245-4667cf47bbdb"
      },
      "execution_count": null,
      "outputs": [
        {
          "output_type": "stream",
          "name": "stdout",
          "text": [
            "55\n",
            "1\n"
          ]
        }
      ]
    },
    {
      "cell_type": "code",
      "source": [
        "#입력받은 숫자들의 합과 평균을 동시에 리턴하는 함수\n",
        "#len(tuple) <--- 이거로 콜렉션 요소가 몇개인지 알 수 있었다, 이용하기\n",
        "def sum_avg(*num):\n",
        "  sum = 0                      #변수 초기화 먼저 해주기\n",
        "  for i in num:                #누적합 먼저 해준 것\n",
        "    sum += i\n",
        "    return sum, sum/len(num)   # 누적합에서 튜플의 요소개수 센 것을 나눈다.== 평\n",
        "\n",
        "print(sum_avg(1,2,3,4,5,6,7))"
      ],
      "metadata": {
        "colab": {
          "base_uri": "https://localhost:8080/"
        },
        "id": "2BcsiKA-lb5x",
        "outputId": "b8d4eee9-7ad1-4734-9403-c078732e3f41"
      },
      "execution_count": null,
      "outputs": [
        {
          "output_type": "stream",
          "name": "stdout",
          "text": [
            "(1, 0.14285714285714285)\n"
          ]
        }
      ]
    },
    {
      "cell_type": "code",
      "source": [
        "#모듈\n",
        "#언제든지 사용할 수 있는 외부의 변수, 함수 모음집 # import를 써야지 외부에서 기능을 갖고온다.\n",
        "import random   #random이라는 외부기능 모음집 사용하겠다는 의미  #random모듈 : 임의의 난수을 만들어주는 기능을한다\n",
        "\n",
        "print(random.randint(1,4))  #임의의 수를 출력하는 것"
      ],
      "metadata": {
        "colab": {
          "base_uri": "https://localhost:8080/"
        },
        "id": "NtdRyQO0oVfa",
        "outputId": "3d7be254-dd9a-486d-d0e9-802760574736"
      },
      "execution_count": null,
      "outputs": [
        {
          "output_type": "stream",
          "name": "stdout",
          "text": [
            "2\n"
          ]
        }
      ]
    },
    {
      "cell_type": "code",
      "source": [
        "lucky = ['당첨','꽝','꽝','꽝','한번 더']\n",
        "\n",
        "while True:\n",
        "  input()   # 원랜 a = 이렇게 사용됐는데, 이번처럼 쓰면 사용자 키도브를 입력받은 것처럼 사용가능\n",
        "  result = random.choice(lucky)  #random.choice는 랜덤 모듈안에 있는 메소드이다. #콜렉션 자료구조에서 랜덤으로 하나를 선택한다\n",
        "  if result == '당첨':\n",
        "    print('당첨입니다!')\n",
        "    break\n",
        "  else:\n",
        "    print(f\"{result}입니다, 다시 시도해보세요\")"
      ],
      "metadata": {
        "colab": {
          "base_uri": "https://localhost:8080/"
        },
        "id": "PsOXP3g4o4_C",
        "outputId": "93ccac08-a606-4333-da13-dc59706b7141"
      },
      "execution_count": null,
      "outputs": [
        {
          "output_type": "stream",
          "name": "stdout",
          "text": [
            "ㅇ\n",
            "꽝입니다, 다시 시도해보세요\n",
            "2\n",
            "꽝입니다, 다시 시도해보세요\n",
            "1\n",
            "꽝입니다, 다시 시도해보세요\n",
            "10\n",
            "꽝입니다, 다시 시도해보세요\n",
            "20\n",
            "당첨입니다!\n"
          ]
        }
      ]
    },
    {
      "cell_type": "code",
      "source": [
        "import time\n",
        "\n",
        "time.sleep(3)\n",
        "print('3초 뒤 실행')"
      ],
      "metadata": {
        "colab": {
          "base_uri": "https://localhost:8080/"
        },
        "id": "KLxS0_b7p_mg",
        "outputId": "6a3f6900-11e1-4fd9-e0a4-0ae77b8596f8"
      },
      "execution_count": null,
      "outputs": [
        {
          "output_type": "stream",
          "name": "stdout",
          "text": [
            "3초 뒤 실행\n"
          ]
        }
      ]
    },
    {
      "cell_type": "code",
      "source": [
        "import matplotlib.pyplot as plt  #그래프 그리는 모듈이다. 해주는건데 줄여서 plt라 쓴다\n",
        "#as : 별칭 = alias 이렇게 별칭으로 지정해주면 짧게 타이핑이 가능하다  matplotlib.pyplot.plot(~~)\n",
        "plt.plot([1,2,3,4])\n",
        "plt.show()"
      ],
      "metadata": {
        "colab": {
          "base_uri": "https://localhost:8080/",
          "height": 430
        },
        "id": "wrAD0f8eqIzk",
        "outputId": "7cd5ed40-e9b1-4011-ae34-ff958c7817b4"
      },
      "execution_count": null,
      "outputs": [
        {
          "output_type": "display_data",
          "data": {
            "text/plain": [
              "<Figure size 640x480 with 1 Axes>"
            ],
            "image/png": "[encoded data removed]"
          },
          "metadata": {}
        }
      ]
    },
    {
      "cell_type": "code",
      "source": [
        "#유튜브 모듈\n",
        "#유튜브의 v다음 링크를 가져오기\n",
        "#WXJgoBxMKVU\n",
        "from IPython.display import YouTubeVideo\n",
        "\n",
        "YouTubeVideo('WXJgoBxMKVU',width=500, height=400)"
      ],
      "metadata": {
        "colab": {
          "base_uri": "https://localhost:8080/",
          "height": 421
        },
        "id": "1AcwFcEbqvVp",
        "outputId": "e6bcc27a-9b50-472b-f5c9-973897f6e434"
      },
      "execution_count": null,
      "outputs": [
        {
          "output_type": "execute_result",
          "data": {
            "text/plain": [
              "<IPython.lib.display.YouTubeVideo at 0x7f10bdb2cd00>"
            ],
            "text/html": [
              "\n",
              "        <iframe\n",
              "            width=\"500\"\n",
              "            height=\"400\"\n",
              "            src=\"https://www.youtube.com/embed/WXJgoBxMKVU\"\n",
              "            frameborder=\"0\"\n",
              "            allowfullscreen\n",
              "            \n",
              "        ></iframe>\n",
              "        "
            ],
            "image/jpeg": "[encoded data removed]"
          },
          "metadata": {},
          "execution_count": 85
        }
      ]
    },
    {
      "cell_type": "code",
      "source": [
        "#class = 객체지향 프로그램의 핵심 = 내가 사용할 기능들이 비슷하다 할 때 미리 틀을 만들어놔 이 틀을 이용해 기능들을 빠르게 생성할 수 있게끔 도와주는 문\n",
        "#클래스란 틀을 이용해 실제로 작동하는 것들(기능) = 객체 = instance\n",
        "#"
      ],
      "metadata": {
        "id": "5AdnZNsXrUJM"
      },
      "execution_count": null,
      "outputs": []
    },
    {
      "cell_type": "code",
      "source": [
        "#from inspect import ArgSpec\n",
        "#from typing_extensions import AsyncGenerator\n",
        "# class의 틀에 __init__(=생성자라는 뜻) 속에 name,age라는 것이 들어감\n",
        "\n",
        "class Person:                     #이렇게 클래스 정의한다.\n",
        "  def __init__(self, name, age):  #생성자라고 하는 class 내부 함수 #파이썬에선 첫번째 키워드에서 self는 무조건 들어가야함 // 변수선언 편하게 쓰려고 쓰는 함수이다.\n",
        "      self.name = name            #self는 instance 하나하나를 가르키는 것이라 보면 된다.\n",
        "      self.age = age              # <-- 이렇게 하면 클래스 내부에 또다른 변수로 들어간다.\n",
        "\n",
        "p1 = Person(\"Alice\",30)\n",
        "p2 = Person(\"Bob\",25)\n",
        "print(f\"{p1.name}의 나이는 {p1.age}이다\")\n",
        "print(f\"{p2.name}의 나이는 {p2.age}이다\")\n",
        "\n",
        "#즉, 클래스가 틀이라고 하면 클래스 이름으로 생성한 객체가 실제 쓰이는 instance라는 개념이다.\n",
        "'''\n",
        "클래스 이름으로 p1,p1를 준다.그럼 class를 프레임으로 하는 새로운 객체가 만들어지게 되는 것이다.\n",
        "그래서 p1,p2 모두 각각의 instance로 생성 되서 name,age를 갖게 된다.\n",
        "변수에 어떤 instance를 할당 할 때 제일 먼저  실행되는 함수(메서드)가 생성자라고 한다.    --->????\n",
        "\n",
        "'''\n"
      ],
      "metadata": {
        "colab": {
          "base_uri": "https://localhost:8080/"
        },
        "id": "F2YwcBjXrdA6",
        "outputId": "75720258-2ffc-4c3c-af89-8fcd7b5876c5"
      },
      "execution_count": null,
      "outputs": [
        {
          "output_type": "stream",
          "name": "stdout",
          "text": [
            "Alice의 나이는 30이다\n",
            "Bob의 나이는 25이다\n"
          ]
        }
      ]
    },
    {
      "cell_type": "code",
      "source": [
        "class Person:\n",
        "  def __init__(self, name, age): #생성자라는 함수 #self는 무조건 들어가야함 #생성자라고 하는 class 내부 함수 /\n",
        "    self.name = name\n",
        "    self.age = age\n",
        "  def greet(self):  #또다른 함수 #클래스 내부에 그릿 함수는 마치 매개변수 하나 가지고 있는것과 마찬가지인 형태다.\n",
        "    print(f\"Hello,my name is {self.name} and my age is {self.age}\")\n",
        "    #하지만 self매개변수는 바깥에 쓰이지 않기 때문에 그릿 메소드를 인스턴스에서 호출했을 땐 매개변수가 없는 것처럼 보이는 호출이 일어날 것이다.\n",
        "\n",
        "p1 = Person(\"Alice\",30)    #p1 = 변수\n",
        "p2 = Person(\"Bob\",25)\n",
        "print(f\"{p1.name}의 나이는 {p1.age}이다\")\n",
        "print(f\"{p2.name}의 나이는 {p2.age}이다\")\n",
        "p1.greet() #인스턴스에서 호출에서 했을  하나도 없는것??처럼\n",
        "p2.greet()"
      ],
      "metadata": {
        "colab": {
          "base_uri": "https://localhost:8080/"
        },
        "id": "3kyxf77BuC2r",
        "outputId": "3f40df25-d755-4c5c-b6c9-f2fd7a35c63a"
      },
      "execution_count": null,
      "outputs": [
        {
          "output_type": "stream",
          "name": "stdout",
          "text": [
            "Alice의 나이는 30이다\n",
            "Bob의 나이는 25이다\n",
            "Hello,my name is Alice and my age is 30\n",
            "Hello,my name is Bob and my age is 25\n"
          ]
        }
      ]
    },
    {
      "cell_type": "code",
      "source": [
        "#다른 언어들은 클래스 내부 변수들이 def __init_ 밑에 정의가 안된다.\n",
        "#파이썬은 생성자 밑에 변수를 정의한다. -->p1\n",
        "#모든 instance에서 똑같은 변수에 접근하고 싶을 때\n",
        "class Person:\n",
        "  species = \"Homo sapiens\"       #class변수 : 모든 객체가 동일하게 공유\n",
        "  def __init__(self, name, age): #생성자라고 하는  class 내부함수\n",
        "    self.name = name #instance 변수\n",
        "    self.age = age  #객체를 생성할 때마다 달라지는 변수\n",
        "  def greet(self):\n",
        "    print(f\"Hello,my name is {self.name} and my age is {self.age}\")\n",
        "\n",
        "p1 = Person(\"Alice\",30)\n",
        "p2 = Person(\"Bob\",25)\n",
        "print(p1.species)  #그래서 (instance. 변수이름)하면 접근이 가능하다.\n",
        "print(p2.species)\n",
        "\n",
        "#person내부에 species,name,age라는 변수가 있다.p1에서 클래스 이름인 species값을 참조하게 된다면 instance변수인 name과age는 따로 받게된다..?"
      ],
      "metadata": {
        "colab": {
          "base_uri": "https://localhost:8080/",
          "height": 200
        },
        "id": "Pi00vdoDu0Y1",
        "outputId": "f01dca00-7afe-4378-cf7c-861197cf761b"
      },
      "execution_count": null,
      "outputs": [
        {
          "output_type": "error",
          "ename": "AttributeError",
          "evalue": "'Person' object has no attribute 'species'",
          "traceback": [
            "\u001b[0;31m---------------------------------------------------------------------------\u001b[0m",
            "\u001b[0;31mAttributeError\u001b[0m                            Traceback (most recent call last)",
            "\u001b[0;32m<ipython-input-99-e3c022d6ccaf>\u001b[0m in \u001b[0;36m<cell line: 11>\u001b[0;34m()\u001b[0m\n\u001b[1;32m      9\u001b[0m \u001b[0mp1\u001b[0m \u001b[0;34m=\u001b[0m \u001b[0mPerson\u001b[0m\u001b[0;34m(\u001b[0m\u001b[0;34m\"Alice\"\u001b[0m\u001b[0;34m,\u001b[0m\u001b[0;36m30\u001b[0m\u001b[0;34m)\u001b[0m\u001b[0;34m\u001b[0m\u001b[0;34m\u001b[0m\u001b[0m\n\u001b[1;32m     10\u001b[0m \u001b[0mp2\u001b[0m \u001b[0;34m=\u001b[0m \u001b[0mPerson\u001b[0m\u001b[0;34m(\u001b[0m\u001b[0;34m\"Bob\"\u001b[0m\u001b[0;34m,\u001b[0m\u001b[0;36m25\u001b[0m\u001b[0;34m)\u001b[0m\u001b[0;34m\u001b[0m\u001b[0;34m\u001b[0m\u001b[0m\n\u001b[0;32m---> 11\u001b[0;31m \u001b[0mprint\u001b[0m\u001b[0;34m(\u001b[0m\u001b[0mp1\u001b[0m\u001b[0;34m.\u001b[0m\u001b[0mspecies\u001b[0m\u001b[0;34m)\u001b[0m\u001b[0;34m\u001b[0m\u001b[0;34m\u001b[0m\u001b[0m\n\u001b[0m\u001b[1;32m     12\u001b[0m \u001b[0mprint\u001b[0m\u001b[0;34m(\u001b[0m\u001b[0mp2\u001b[0m\u001b[0;34m.\u001b[0m\u001b[0mspecies\u001b[0m\u001b[0;34m)\u001b[0m\u001b[0;34m\u001b[0m\u001b[0;34m\u001b[0m\u001b[0m\n",
            "\u001b[0;31mAttributeError\u001b[0m: 'Person' object has no attribute 'species'"
          ]
        }
      ]
    },
    {
      "cell_type": "code",
      "source": [
        "print(p1)\n",
        "# 어떤 프로그램이 실행이 될 때 빠른 실행을 위해 프로그램 내에 여러개의 process나 thread라는 것들이 겉보기엔 동시에 실행하는 것처럼 실행해준다. --> 그 중 하나가 __main__이다.\n",
        "#person : class, object : 객체"
      ],
      "metadata": {
        "colab": {
          "base_uri": "https://localhost:8080/"
        },
        "id": "KnrXVDDNvhon",
        "outputId": "b49925cd-0c31-418b-a22a-3a9602d9ccc3"
      },
      "execution_count": null,
      "outputs": [
        {
          "output_type": "stream",
          "name": "stdout",
          "text": [
            "<__main__.Person object at 0x7f10bdb2c1c0>\n"
          ]
        }
      ]
    },
    {
      "cell_type": "code",
      "source": [
        "print(p1.__dict__)  #instance변수들을 딕셔너리 형태로 출력해준다.\n",
        "#class는 틀을 만들어주는 기능, 틀에 넣지 않아도 기본적으로 사용할 수 있는 변수들이 있다."
      ],
      "metadata": {
        "colab": {
          "base_uri": "https://localhost:8080/"
        },
        "id": "fBuyFqlavvqj",
        "outputId": "d89e8cf0-52b3-47ff-9273-365446d9a441"
      },
      "execution_count": null,
      "outputs": [
        {
          "output_type": "stream",
          "name": "stdout",
          "text": [
            "{'name': 'Alice', 'age': 30}\n"
          ]
        }
      ]
    },
    {
      "cell_type": "code",
      "source": [
        "class WareHouse:               #클래스 이름은 대문자로 시작이 관습\n",
        "  stock_num = 0\n",
        "  def __init__(self, name):    # 생성자는 클래스에 인스턴스를 할당 시키는 역할도 같이 한다.\n",
        "    self.name = name                #인스탠스 변수로 네임을 갖고 있다.\n",
        "    WareHouse.stock_num += 1         #클래스 변수에 접근\n",
        "  def __del__(self):           #소멸자 # __del__은 생성자와 동일하게 클래스 내부에서 선언하기 위해 특수한 규칙를 갖고있다.그냥 생성자처럼해라.\n",
        "    WareHouse.stock_num -= 1\n",
        "\n",
        "w1 = WareHouse(\"Incheon\")      #생성자는 인잇으로 설정했어도 함수이름을 인스턴스로 할당 할 때 최초로 실행된다.\n",
        "w2 = WareHouse(\"seoul\")\n",
        "print(WareHouse.stock_num)     #클래스도 어딘가에 미리 저장이 되는 함수이기 때문에 클래스 이름으로 바로 클래스변수에 접근\n",
        "print(w1.stock_num)\n",
        "print(w1.name)\n",
        "del w1                         #이건 규칙적인 모양 #이런 특수한 문법을 통해서만 실행이 가능하다. +소멸자는 w1이라는 인스턴스를 메모리에서 제거하는 역할도 한다.\n",
        "print(WareHouse.stock_num)     #소멸자 호출\n",
        "\n",
        "#클래스 변수는 class.~~ +=1 (클래스 이름으로 접근해 수정했을 때) 모든 클래스로 만들어진 인스턴스가 그 값을 모두 공유할 수 있다.\n",
        "#클래스 내부엔 생성자 소멸자가 기본으로 있지만 쓰는 이유는 재정의해서 내 입맛대로 기능하기 위함"
      ],
      "metadata": {
        "colab": {
          "base_uri": "https://localhost:8080/"
        },
        "id": "L60tZtntwAJL",
        "outputId": "6023f928-ffa3-492d-a3b1-3e9382b9bbe9"
      },
      "execution_count": null,
      "outputs": [
        {
          "output_type": "stream",
          "name": "stdout",
          "text": [
            "2\n",
            "2\n",
            "Incheon\n",
            "1\n"
          ]
        }
      ]
    },
    {
      "cell_type": "code",
      "source": [
        "class Korean:\n",
        "  country = '한국'                    #클래스변수 = 모든 인스턴스가 공유를 할수 있기 때문에 클래스 이름으로도 접근이 가능\n",
        "  def __init__(self, name, age):      #생성자라고 하는  클래스 내부 함수\n",
        "    self.name = name                  #인스탠스 변수로 네임과 에이지가 있다.\n",
        "    self.age = age\n",
        "  def __del__(self):\n",
        "    print(\"destroy the object\")\n",
        "  def yell(self):\n",
        "    print(f\"{self.name}이 외쳤다!\")\n",
        "\n",
        "k1 = Korean(\"민수\", 20)\n",
        "print(k1.name)\n",
        "print(k1.country)      # 인스탠스 이름으로 접근\n",
        "print(Korean.country)  #클래스 이름으로 접근\n",
        "k1.yell()              #?\n",
        "del k1                 #소멸자를 불렀더니 destroy the object 출력"
      ],
      "metadata": {
        "colab": {
          "base_uri": "https://localhost:8080/"
        },
        "id": "tzM0CbV5xzfX",
        "outputId": "3e7a937b-83da-4309-f959-ce742c527c8f"
      },
      "execution_count": null,
      "outputs": [
        {
          "output_type": "stream",
          "name": "stdout",
          "text": [
            "민수\n",
            "한국\n",
            "한국\n",
            "민수이 외쳤다!\n",
            "destroy the object\n"
          ]
        }
      ]
    },
    {
      "cell_type": "code",
      "source": [
        "#상속 :  기존 클래스에서 다른 클래스를 만들고 싶을 때 다시 쓰지 않고 클래스2에 물려주도록하는 것\n",
        "class Person:\n",
        "  def __init__(self, name, age):\n",
        "    self.name = name\n",
        "    self.age = age\n",
        "  def greet(self):\n",
        "   print(f\"Hello, my name is {self.name}\")\n",
        "\n",
        "class Student(Person):\n",
        "  def __init__(self, name, age, subject):\n",
        "    super().__init__(name, age)  #super클래스는 부모 클래스에 접근할수 있는 접근자이다. 즉, 부모클래스의 생성자에 접근을 해서 먼저 name, age초기화 하고 부모 클래스에 없던 subject까지 초기화 하는걸 볼 수 있다.--> Q. 초기화??를한다고?\n",
        "    self.subject = subject       #greet을 써주지 않더라도 person에 있는 기능을 이미 갖고 있기 때문에 인스탠스s를 greet,student 함수 둘다 사용 가능하다.\n",
        "  def study(self):\n",
        "    print(f\"{self.name}이 {self.subject}를 공부한다\")\n",
        "\n",
        "s = Student(\"Alice\", 20, \"math\")\n",
        "s.greet()\n",
        "s.study()\n",
        "    #person클래스-->student클래스로 상속받고 있는 과정이다\n",
        "    #super클래스를 왜 해주냐--> 이왕 상속받은거 이미 있는 name,age 사용하자는 의미이다. 관습적임."
      ],
      "metadata": {
        "colab": {
          "base_uri": "https://localhost:8080/"
        },
        "id": "Agg0kOlKyuqU",
        "outputId": "6b35232d-ed67-49e0-ffad-31a9d4a710be"
      },
      "execution_count": null,
      "outputs": [
        {
          "output_type": "stream",
          "name": "stdout",
          "text": [
            "Hello, my name is Alice\n",
            "Alice이 math를 공부한다\n"
          ]
        }
      ]
    },
    {
      "cell_type": "code",
      "source": [
        "#오버라이딩 :상위 클래스가 가지고 있는 메서드를 하위 클래스가 재정의해서 사용하는 것을 의미한다.\n",
        "#animal이란 기초 클래스를 만듬 - sound라는 함수 구현 - 상속받는 클래스에는 sound 함수를 다시 정의 해야한다 라는 규칙 만들어내는 것\n",
        "#오버로딩 : 함수를 이름을 똑같이 한 다음 파라미터 개수로 다른함수 취급하는 것 --> print(num1), print(num1, num2) --> 근데 파이썬엔 이 기능 없다.\n",
        "class Animal:\n",
        "  def sound(self):\n",
        "   raise NotImplementedError(\"상속받은 클래스는 이걸 구현하세요!\") # 이거 어디감?  - 지웠음\n",
        "    #print(\"동물이 우는 소리\")\n",
        "\n",
        "class Dog(Animal):\n",
        "  def sound(self):      #함수 재정의  = 오버라이딩\n",
        "    #super().sound()\n",
        "      print(\"멍멍\")\n",
        "\n",
        "class Cat(Animal):\n",
        "  def sound(self):\n",
        "      print(\"야옹\")\n",
        "\n",
        "d = Dog()\n",
        "d = Cat()\n",
        "Dog.sound()\n",
        "Cat.sound()\n",
        "# 상속을 받으면 정의 없이도 sound 함수를 불러올 수 있지만\n",
        "#오버라이딩이란 개념은 기초 클래스에 이미 정의 되어 있던 함수를 상속받는 클래스들에서 각기 다른 형태로 똑같이 구현해서 써야한다 이렇게 강제할 때도 쓸 수 있다.\n",
        "#"
      ],
      "metadata": {
        "colab": {
          "base_uri": "https://localhost:8080/",
          "height": 219
        },
        "id": "ZHyPAz4r0thC",
        "outputId": "15cb4e3d-8955-487c-9499-276c993fa503"
      },
      "execution_count": null,
      "outputs": [
        {
          "output_type": "error",
          "ename": "TypeError",
          "evalue": "Dog.sound() missing 1 required positional argument: 'self'",
          "traceback": [
            "\u001b[0;31m---------------------------------------------------------------------------\u001b[0m",
            "\u001b[0;31mTypeError\u001b[0m                                 Traceback (most recent call last)",
            "\u001b[0;32m<ipython-input-18-617718567a1f>\u001b[0m in \u001b[0;36m<cell line: 20>\u001b[0;34m()\u001b[0m\n\u001b[1;32m     18\u001b[0m \u001b[0md\u001b[0m \u001b[0;34m=\u001b[0m \u001b[0mDog\u001b[0m\u001b[0;34m(\u001b[0m\u001b[0;34m)\u001b[0m\u001b[0;34m\u001b[0m\u001b[0;34m\u001b[0m\u001b[0m\n\u001b[1;32m     19\u001b[0m \u001b[0md\u001b[0m \u001b[0;34m=\u001b[0m \u001b[0mCat\u001b[0m\u001b[0;34m(\u001b[0m\u001b[0;34m)\u001b[0m\u001b[0;34m\u001b[0m\u001b[0;34m\u001b[0m\u001b[0m\n\u001b[0;32m---> 20\u001b[0;31m \u001b[0mDog\u001b[0m\u001b[0;34m.\u001b[0m\u001b[0msound\u001b[0m\u001b[0;34m(\u001b[0m\u001b[0;34m)\u001b[0m\u001b[0;34m\u001b[0m\u001b[0;34m\u001b[0m\u001b[0m\n\u001b[0m\u001b[1;32m     21\u001b[0m \u001b[0mCat\u001b[0m\u001b[0;34m.\u001b[0m\u001b[0msound\u001b[0m\u001b[0;34m(\u001b[0m\u001b[0;34m)\u001b[0m\u001b[0;34m\u001b[0m\u001b[0;34m\u001b[0m\u001b[0m\n\u001b[1;32m     22\u001b[0m \u001b[0;31m# 상속을 받으면 정의 없이도 sound 함수를 불러올 수 있지만\u001b[0m\u001b[0;34m\u001b[0m\u001b[0;34m\u001b[0m\u001b[0m\n",
            "\u001b[0;31mTypeError\u001b[0m: Dog.sound() missing 1 required positional argument: 'self'"
          ]
        }
      ]
    }
  ]
}