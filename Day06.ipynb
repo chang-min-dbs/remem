{
  "nbformat": 4,
  "nbformat_minor": 0,
  "metadata": {
    "colab": {
      "provenance": [],
      "include_colab_link": true
    },
    "kernelspec": {
      "name": "python3",
      "display_name": "Python 3"
    },
    "language_info": {
      "name": "python"
    }
  },
  "cells": [
    {
      "cell_type": "markdown",
      "metadata": {
        "id": "view-in-github",
        "colab_type": "text"
      },
      "source": [
        "<a href=\"https://colab.research.google.com/github/chang-min-dbs/remem/blob/python_summer_ZG/Day06.ipynb\" target=\"_parent\"><img src=\"https://colab.research.google.com/assets/colab-badge.svg\" alt=\"Open In Colab\"/></a>"
      ]
    },
    {
      "cell_type": "code",
      "execution_count": null,
      "metadata": {
        "colab": {
          "base_uri": "https://localhost:8080/"
        },
        "id": "4mcKMmoTvj77",
        "outputId": "d4d47bfc-33ae-41c7-e463-ff6c60b680e3"
      },
      "outputs": [
        {
          "output_type": "stream",
          "name": "stdout",
          "text": [
            "Index of 7 : 4\n",
            "없는 경우 : -1\n"
          ]
        }
      ],
      "source": [
        "# 순차검색 : 가장 기본적인 검색 알고리즘\n",
        "# 배열이나 리스트의 첫 번째 요소부터 마지막 요소까지 순차적으로 탐색\n",
        "def sequential_search(arr, target):\n",
        "    for index, value in enumerate(arr):\n",
        "        if value == target:\n",
        "            return index\n",
        "    return -1\n",
        "\n",
        "arr = [1, 2, 3, 4, 7, 9]\n",
        "target = 7\n",
        "result = sequential_search(arr, target)\n",
        "print(f\"Index of {target} : {result}\")\n",
        "print(f\"없는 경우 : {sequential_search(arr, 10)}\")"
      ]
    },
    {
      "cell_type": "code",
      "source": [
        "arr = [4, 2, 7, 1, 9, 3]\n",
        "for i, v in enumerate(arr):\n",
        "    print(f\"i = {i}, v = {v}\")"
      ],
      "metadata": {
        "colab": {
          "base_uri": "https://localhost:8080/"
        },
        "id": "ZeBeNxkpwnEF",
        "outputId": "9f2fc78f-b18a-4304-9351-4f4fec95c67c"
      },
      "execution_count": null,
      "outputs": [
        {
          "output_type": "stream",
          "name": "stdout",
          "text": [
            "i = 0, v = 4\n",
            "i = 1, v = 2\n",
            "i = 2, v = 7\n",
            "i = 3, v = 1\n",
            "i = 4, v = 9\n",
            "i = 5, v = 3\n"
          ]
        }
      ]
    },
    {
      "cell_type": "code",
      "source": [
        "# 이진검색\n",
        "# 이진탐색트리 알고리즘, 검색 범위를 절반으로 줄여가며 원하는 값을 찾음\n",
        "def binary_search(arr, target):\n",
        "    left, right = 0, len(arr) - 1\n",
        "    while left <= right:\n",
        "        mid = (left + right) // 2\n",
        "        if arr[mid] == target:\n",
        "            return mid\n",
        "        elif arr[mid] < target:\n",
        "            left = mid + 1\n",
        "        else:\n",
        "            right = mid - 1\n",
        "    return -1\n",
        "\n",
        "arr = [1, 2, 3, 4, 7, 9]\n",
        "target = 7\n",
        "result = binary_search(arr, target)\n",
        "print(f\"Index of {target}: {result}\")\n",
        "\n",
        "# 순차검색의 시간복잡도 O(n)\n",
        "# 이진검색의 시간복잡도 O(logn)"
      ],
      "metadata": {
        "colab": {
          "base_uri": "https://localhost:8080/"
        },
        "id": "juyLmuxxxTtV",
        "outputId": "c2629ccd-e865-4c3a-fe1c-2faa590b14ea"
      },
      "execution_count": null,
      "outputs": [
        {
          "output_type": "stream",
          "name": "stdout",
          "text": [
            "Index of 7: 4\n"
          ]
        }
      ]
    },
    {
      "cell_type": "code",
      "source": [
        "class TreeNode:\n",
        "    def __init__(self, key):\n",
        "        self.key = key  # data\n",
        "        self.left = None    # 왼쪽 자식\n",
        "        self.right = None   # 오른쪽 자식"
      ],
      "metadata": {
        "id": "M20s_cL0zngj"
      },
      "execution_count": null,
      "outputs": []
    },
    {
      "cell_type": "code",
      "source": [
        "class BinarySearchTree:\n",
        "    def __init__(self):\n",
        "        self.root = None\n",
        "\n",
        "    def display(self):\n",
        "        lines, *_ = self.display_recursive(self.root)\n",
        "        for line in lines:\n",
        "            print(line)\n",
        "\n",
        "    def display_recursive(self, node):\n",
        "        if node is None:\n",
        "            return [], 0, 0\n",
        "        left, left_width, left_height = self.display_recursive(node.left)\n",
        "        right, right_width, right_height = self.display_recursive(node.right)\n",
        "        key_width = len(str(node.key))\n",
        "        width = left_width + key_width + right_width\n",
        "        height = max(left_height, right_height) + 1\n",
        "        middle = key_width // 2\n",
        "\n",
        "        while len(left) < height:\n",
        "            left.append(\" \" * left_width)\n",
        "        while len(right) < height:\n",
        "            right.append(\" \" * right_width)\n",
        "\n",
        "        middle_line = ' ' * left_width + str(node.key) + ' ' * right_width\n",
        "        lines = [middle_line]\n",
        "        for i in range(height):\n",
        "            lines.append(left[i] + ' ' * key_width + right[i])\n",
        "        return lines, width, height\n",
        "\n",
        "    def insert(self, key):\n",
        "        if not self.root:\n",
        "            self.root = TreeNode(key)\n",
        "        else:\n",
        "            self.insert_recursive(self.root, key)\n",
        "\n",
        "    def insert_recursive(self, node, key):\n",
        "        if key < node.key:\n",
        "            if node.left is None:\n",
        "                node.left = TreeNode(key)\n",
        "            else:\n",
        "                self.insert_recursive(node.left, key)\n",
        "        elif key > node.key:\n",
        "            if node.right is None:\n",
        "                node.right = TreeNode(key)\n",
        "            else:\n",
        "                self.insert_recursive(node.right, key)\n",
        "        else:\n",
        "            pass\n",
        "\n",
        "    def delete(self, key):\n",
        "        self.root = self.delete_recursive(self.root, key)\n",
        "\n",
        "    def delete_recursive(self, node, key):\n",
        "        if node is None:\n",
        "            return node\n",
        "\n",
        "        if key < node.key:\n",
        "            node.left = self.delete_recursive(node.left, key)\n",
        "        elif key > node.key:\n",
        "            node.right = self.delete_recursive(node.right, key)\n",
        "        else:\n",
        "            if node.left is None:\n",
        "                return node.right\n",
        "            elif node.right is None:\n",
        "                return node.left\n",
        "            min_node = self.find_min(node.right)    # 왼쪽, 오른쪽 자식이 둘 다 있을 경우\n",
        "            node.key = min_node.key\n",
        "            node.right = self.delete_recursive(node.right, min_node.key)\n",
        "        return node\n",
        "    def find_min(self, node):\n",
        "        current = node\n",
        "        while current.left is not None:\n",
        "            current = current.left\n",
        "        return current\n",
        "\n",
        "bst = BinarySearchTree()\n",
        "bst.insert(30)\n",
        "bst.insert(10)\n",
        "bst.insert(50)\n",
        "bst.insert(40)\n",
        "bst.insert(60)\n",
        "bst.insert(55)\n",
        "bst.display()\n",
        "bst.delete(50)\n",
        "bst.display()"
      ],
      "metadata": {
        "colab": {
          "base_uri": "https://localhost:8080/"
        },
        "id": "9Jai0uLc0Oi7",
        "outputId": "93fa2c0e-ceab-4268-a04b-6f12ac9d277e"
      },
      "execution_count": null,
      "outputs": [
        {
          "output_type": "stream",
          "name": "stdout",
          "text": [
            "  30        \n",
            "10    50    \n",
            "    40    60\n",
            "        55  \n",
            "            \n",
            "  30      \n",
            "10    55  \n",
            "    40  60\n",
            "          \n"
          ]
        }
      ]
    },
    {
      "cell_type": "code",
      "source": [
        "# 그래프 : 정점(Vertex)과 간선(Edge) 요소로 이루어진 데이터 구조\n",
        "'''\n",
        "- 무방향 그래프 : 간선의 방향이 없는 그래프\n",
        "- 방향 그래프 : 간선의 방향이 있는 그래프, A->B 이면 B에서 A로는 향할 수 없는 그래프\n",
        "- 가중치 그래프 : 간선에 가중치가 부여된 그래프\n",
        "'''"
      ],
      "metadata": {
        "id": "gosbMGbDA4VW"
      },
      "execution_count": null,
      "outputs": []
    },
    {
      "cell_type": "code",
      "source": [
        "# 간단한 무방향, 가중치 그래프\n",
        "class Graph:\n",
        "    def __init__(self):\n",
        "        self.graph = {}\n",
        "\n",
        "    def add_vertex(self, vertex):\n",
        "        if vertex not in self.graph:\n",
        "            self.graph[vertex] = []\n",
        "\n",
        "    def add_edge(self, vertex1, vertex2, weight):\n",
        "        if vertex1 in self.graph and vertex2 in self.graph:\n",
        "            self.graph[vertex1].append((vertex2, weight))\n",
        "            self.graph[vertex2].append((vertex1, weight))\n",
        "\n",
        "    def display_graph(self):\n",
        "        for vertex in self.graph:\n",
        "            print(f\"{vertex} : {self.graph[vertex]}\")\n",
        "\n",
        "g = Graph()\n",
        "\n",
        "g.add_vertex('A')\n",
        "g.add_vertex('B')\n",
        "g.add_vertex('C')\n",
        "g.add_vertex('D')\n",
        "\n",
        "print(g.graph)\n",
        "\n",
        "g.add_edge('A', 'B', 3)\n",
        "g.add_edge('A', 'C', 1)\n",
        "g.add_edge('B', 'C', 7)\n",
        "g.add_edge('C', 'D', 2)\n",
        "\n",
        "g.display_graph()"
      ],
      "metadata": {
        "colab": {
          "base_uri": "https://localhost:8080/"
        },
        "id": "8Z6Ndds_BsrF",
        "outputId": "e565511a-7f36-43d6-f132-9720a988df9f"
      },
      "execution_count": null,
      "outputs": [
        {
          "output_type": "stream",
          "name": "stdout",
          "text": [
            "{'A': [], 'B': [], 'C': [], 'D': []}\n",
            "A : [('B', 3), ('C', 1)]\n",
            "B : [('A', 3), ('C', 7)]\n",
            "C : [('A', 1), ('B', 7), ('D', 2)]\n",
            "D : [('C', 2)]\n"
          ]
        }
      ]
    },
    {
      "cell_type": "code",
      "source": [
        "from collections import defaultdict, deque\n",
        "class Graph:    # 무방향 그래프\n",
        "    def __init__(self):\n",
        "        self.adj_list = defaultdict(list)\n",
        "        # key가 없으면 key를 insert해주는 dict\n",
        "\n",
        "    def add_edge(self, vertex1, vertex2):\n",
        "        self.adj_list[vertex1].append(vertex2)\n",
        "        self.adj_list[vertex2].append(vertex1)\n",
        "\n",
        "    def print_adj(self):\n",
        "        for node in self.adj_list:\n",
        "            print(f\"인접한 nodes of {node} : {self.adj_list[node]}\")\n",
        "\n",
        "    def bfs(self, start_node):  # 너비우선탐색 : 동등한 형제 노드들 먼저 탐색\n",
        "        visited = set()\n",
        "        queue = deque([start_node])\n",
        "        print(queue)\n",
        "        traversal_order = []\n",
        "\n",
        "        while queue:\n",
        "            node = queue.popleft()\n",
        "            if node not in visited:\n",
        "                traversal_order.append(node)\n",
        "                visited.add(node)\n",
        "                for neighbor in self.adj_list[node]:\n",
        "                    if neighbor not in visited:\n",
        "                        queue.append(neighbor)\n",
        "        return traversal_order\n",
        "\n",
        "    def dfs(self, start_node): # 깊이우선탐색 : 형제 노드를 타고 타고 들어가서 먼 거리서부터 탐색\n",
        "        visited = set()\n",
        "        stack = [start_node]\n",
        "        traversal_order = []\n",
        "\n",
        "        while stack:\n",
        "            node = stack.pop()\n",
        "            if node not in visited:\n",
        "                traversal_order.append(node)\n",
        "                visited.add(node)\n",
        "                for neighbor in self.adj_list[node]:\n",
        "                    if neighbor not in visited:\n",
        "                        stack.append(neighbor)\n",
        "        return traversal_order\n",
        "\n",
        "graph = Graph()\n",
        "graph.add_edge(0, 1)\n",
        "graph.add_edge(0, 2)\n",
        "graph.add_edge(1, 4)\n",
        "graph.add_edge(2, 5)\n",
        "graph.print_adj()\n",
        "\n",
        "print(\"BFS 순회 : \", graph.bfs(0))\n",
        "print(\"DFS 순회 : \", graph.dfs(0))"
      ],
      "metadata": {
        "colab": {
          "base_uri": "https://localhost:8080/"
        },
        "id": "XWt8QojJGTfO",
        "outputId": "c2df8e9d-cd10-4d5b-a496-6ba35d3ffa16"
      },
      "execution_count": null,
      "outputs": [
        {
          "output_type": "stream",
          "name": "stdout",
          "text": [
            "인접한 nodes of 0 : [1, 2]\n",
            "인접한 nodes of 1 : [0, 4]\n",
            "인접한 nodes of 2 : [0, 5]\n",
            "인접한 nodes of 4 : [1]\n",
            "인접한 nodes of 5 : [2]\n",
            "deque([0])\n",
            "BFS 순회 :  [0, 1, 2, 4, 5]\n",
            "DFS 순회 :  [0, 2, 5, 1, 4]\n"
          ]
        }
      ]
    },
    {
      "cell_type": "code",
      "source": [
        "from collections import defaultdict, deque\n",
        "def shortest_path(graph, start_node, end_node):\n",
        "    queue = deque([(start_node, [start_node])])\n",
        "    visited = set([start_node])\n",
        "    while queue:\n",
        "        node, dist = queue.popleft()\n",
        "        if node == end_node:\n",
        "            return dist\n",
        "        for neighbor in graph[node]:\n",
        "            if neighbor not in visited:\n",
        "                visited.add(neighbor)\n",
        "                queue.append((neighbor, dist+[neighbor]))\n",
        "    return -1\n",
        "\n",
        "graph = Graph()\n",
        "graph.add_edge('A', 'B')\n",
        "graph.add_edge('A', 'C')\n",
        "graph.add_edge('B', 'D')\n",
        "graph.add_edge('B', 'E')\n",
        "graph.add_edge('C', 'F')\n",
        "graph.add_edge('E', 'F')\n",
        "shortest_path(graph.adj_list, 'E', 'C')"
      ],
      "metadata": {
        "colab": {
          "base_uri": "https://localhost:8080/"
        },
        "id": "x2-MBPTaNJsV",
        "outputId": "3b970560-62e3-4be6-b5bb-bae0b96cedd8"
      },
      "execution_count": null,
      "outputs": [
        {
          "output_type": "execute_result",
          "data": {
            "text/plain": [
              "['E', 'F', 'C']"
            ]
          },
          "metadata": {},
          "execution_count": 24
        }
      ]
    }
  ]
}